{
  "nbformat": 4,
  "nbformat_minor": 5,
  "metadata": {
    "colab": {
      "name": "santa-2021-tsp-baseline-2500.ipynb のコピー",
      "provenance": [],
      "collapsed_sections": [],
      "include_colab_link": true
    },
    "kernelspec": {
      "display_name": "Python 3",
      "language": "python",
      "name": "python3"
    },
    "language_info": {
      "codemirror_mode": {
        "name": "ipython",
        "version": 3
      },
      "file_extension": ".py",
      "mimetype": "text/x-python",
      "name": "python",
      "nbconvert_exporter": "python",
      "pygments_lexer": "ipython3",
      "version": "3.8.8"
    },
    "papermill": {
      "default_parameters": {},
      "duration": 549.690288,
      "end_time": "2021-11-18T20:50:43.042691",
      "environment_variables": {},
      "exception": null,
      "input_path": "__notebook__.ipynb",
      "output_path": "__notebook__.ipynb",
      "parameters": {},
      "start_time": "2021-11-18T20:41:33.352403",
      "version": "2.3.3"
    }
  },
  "cells": [
    {
      "cell_type": "markdown",
      "metadata": {
        "id": "view-in-github",
        "colab_type": "text"
      },
      "source": [
        "<a href=\"https://colab.research.google.com/github/aruaru0/colab_notebook/blob/main/santa_2021_tsp_baseline_2500_ipynb_%E3%81%AE%E3%82%B3%E3%83%94%E3%83%BC.ipynb\" target=\"_parent\"><img src=\"https://colab.research.google.com/assets/colab-badge.svg\" alt=\"Open In Colab\"/></a>"
      ]
    },
    {
      "cell_type": "code",
      "metadata": {
        "id": "gY37VcISGZr_"
      },
      "source": [
        ""
      ],
      "id": "gY37VcISGZr_",
      "execution_count": null,
      "outputs": []
    },
    {
      "cell_type": "code",
      "metadata": {
        "colab": {
          "base_uri": "https://localhost:8080/"
        },
        "id": "7kAMuLtJGbjz",
        "outputId": "555dc707-3335-42f4-9f2f-bf11fdefa6c4"
      },
      "source": [
        "from google.colab import drive\n",
        "drive.mount('/content/drive')"
      ],
      "id": "7kAMuLtJGbjz",
      "execution_count": null,
      "outputs": [
        {
          "output_type": "stream",
          "name": "stdout",
          "text": [
            "Drive already mounted at /content/drive; to attempt to forcibly remount, call drive.mount(\"/content/drive\", force_remount=True).\n"
          ]
        }
      ]
    },
    {
      "cell_type": "markdown",
      "metadata": {
        "id": "5eb63ebb"
      },
      "source": [
        "# Santa Movie Challenge as Traveling Salesman Problem \n",
        "This notebook is a starter notebook for solving Kaggle's 2021 Santa movie challenge as a traveling salesman problem. To solve TSP, we will use Lin-Kernighan heuristic aka LKH. Their homepage is [here][1] and user guide is [here][2]\n",
        "\n",
        "[1]: http://webhotel4.ruc.dk/~keld/research/LKH-3/\n",
        "[2]: http://akira.ruc.dk/~keld/research/LKH/LKH-2.0/DOC/LKH-2.0_USER_GUIDE.pdf"
      ],
      "id": "5eb63ebb"
    },
    {
      "cell_type": "code",
      "metadata": {
        "colab": {
          "base_uri": "https://localhost:8080/"
        },
        "id": "ff7a3b96",
        "outputId": "1505cd5e-f4d8-4c03-c6c0-5e477d35f111"
      },
      "source": [
        "import itertools\n",
        "import pandas as pd\n",
        "import numpy as np\n",
        "\n",
        "!wget http://webhotel4.ruc.dk/~keld/research/LKH-3/LKH-3.0.7.tgz\n",
        "!tar xvfz LKH-3.0.7.tgz\n",
        "!cd LKH-3.0.7; make"
      ],
      "id": "ff7a3b96",
      "execution_count": null,
      "outputs": [
        {
          "output_type": "stream",
          "name": "stdout",
          "text": [
            "--2021-11-21 22:16:25--  http://webhotel4.ruc.dk/~keld/research/LKH-3/LKH-3.0.7.tgz\n",
            "Resolving webhotel4.ruc.dk (webhotel4.ruc.dk)... 130.225.220.230\n",
            "Connecting to webhotel4.ruc.dk (webhotel4.ruc.dk)|130.225.220.230|:80... connected.\n",
            "HTTP request sent, awaiting response... 200 OK\n",
            "Length: 2316546 (2.2M) [application/x-gzip]\n",
            "Saving to: ‘LKH-3.0.7.tgz.1’\n",
            "\n",
            "LKH-3.0.7.tgz.1     100%[===================>]   2.21M  2.41MB/s    in 0.9s    \n",
            "\n",
            "2021-11-21 22:16:26 (2.41 MB/s) - ‘LKH-3.0.7.tgz.1’ saved [2316546/2316546]\n",
            "\n",
            "LKH-3.0.7/\n",
            "LKH-3.0.7/pr2392.par\n",
            "LKH-3.0.7/whizzkids96.atsp\n",
            "LKH-3.0.7/Makefile\n",
            "LKH-3.0.7/whizzkids96.par\n",
            "LKH-3.0.7/pr2392.tsp\n",
            "LKH-3.0.7/DOC/\n",
            "LKH-3.0.7/README.txt\n",
            "LKH-3.0.7/SRC/\n",
            "LKH-3.0.7/SRC/Penalty_CVRPTW.c\n",
            "LKH-3.0.7/SRC/RestoreTour.c\n",
            "LKH-3.0.7/SRC/SolveKMeansSubproblems.c\n",
            "LKH-3.0.7/SRC/IsCommonEdge.c\n",
            "LKH-3.0.7/SRC/Penalty_TSPPD.c\n",
            "LKH-3.0.7/SRC/ReadProblem.c\n",
            "LKH-3.0.7/SRC/BestKOptMove.c\n",
            "LKH-3.0.7/SRC/Distance_SPECIAL.c\n",
            "LKH-3.0.7/SRC/Penalty_TSPDL.c\n",
            "LKH-3.0.7/SRC/Penalty_PDPTW.c\n",
            "LKH-3.0.7/SRC/Penalty_ACVRP.c\n",
            "LKH-3.0.7/SRC/CreateCandidateSet.c\n",
            "LKH-3.0.7/SRC/OBJ/\n",
            "LKH-3.0.7/SRC/Forbidden.c\n",
            "LKH-3.0.7/SRC/Penalty_CCVRP.c\n",
            "LKH-3.0.7/SRC/Penalty_M_PDTSP.c\n",
            "LKH-3.0.7/SRC/Best5OptMove.c\n",
            "LKH-3.0.7/SRC/RecordBetterTour.c\n",
            "LKH-3.0.7/SRC/Best4OptMove.c\n",
            "LKH-3.0.7/SRC/Exclude.c\n",
            "LKH-3.0.7/SRC/C.c\n",
            "LKH-3.0.7/SRC/IsCandidate.c\n",
            "LKH-3.0.7/SRC/Make3OptMove.c\n",
            "LKH-3.0.7/SRC/Make2OptMove.c\n",
            "LKH-3.0.7/SRC/ResetCandidateSet.c\n",
            "LKH-3.0.7/SRC/LKHmain.c\n",
            "LKH-3.0.7/SRC/SolveSFCSubproblems.c\n",
            "LKH-3.0.7/SRC/ERXT.c\n",
            "LKH-3.0.7/SRC/fscanint.c\n",
            "LKH-3.0.7/SRC/eprintf.c\n",
            "LKH-3.0.7/SRC/Distance_SOP.c\n",
            "LKH-3.0.7/SRC/Distance_MTSP.c\n",
            "LKH-3.0.7/SRC/.DS_Store\n",
            "LKH-3.0.7/SRC/Penalty_VRPPD.c\n",
            "LKH-3.0.7/SRC/SINTEF_WriteSolution.c\n",
            "LKH-3.0.7/SRC/Gain23.c\n",
            "LKH-3.0.7/SRC/Heap.c\n",
            "LKH-3.0.7/SRC/GetTime.c\n",
            "LKH-3.0.7/SRC/SolveRoheSubproblems.c\n",
            "LKH-3.0.7/SRC/ReadPenalties.c\n",
            "LKH-3.0.7/SRC/Excludable.c\n",
            "LKH-3.0.7/SRC/SolveCompressedSubproblem.c\n",
            "LKH-3.0.7/SRC/Statistics.c\n",
            "LKH-3.0.7/SRC/PatchCycles.c\n",
            "LKH-3.0.7/SRC/MergeWithTourGPX2.c\n",
            "LKH-3.0.7/SRC/Sequence.c\n",
            "LKH-3.0.7/SRC/SolveDelaunaySubproblems.c\n",
            "LKH-3.0.7/SRC/WritePenalties.c\n",
            "LKH-3.0.7/SRC/NormalizeNodeList.c\n",
            "LKH-3.0.7/SRC/FreeStructures.c\n",
            "LKH-3.0.7/SRC/SolveKarpSubproblems.c\n",
            "LKH-3.0.7/SRC/Makefile\n",
            "LKH-3.0.7/SRC/CVRP_InitialTour.c\n",
            "LKH-3.0.7/SRC/Between_SL.c\n",
            "LKH-3.0.7/SRC/Penalty_OVRP.c\n",
            "LKH-3.0.7/SRC/SOP_InitialTour.c\n",
            "LKH-3.0.7/SRC/INCLUDE/\n",
            "LKH-3.0.7/SRC/Penalty_MLP.c\n",
            "LKH-3.0.7/SRC/IsPossibleCandidate.c\n",
            "LKH-3.0.7/SRC/Penalty_VRPBTW.c\n",
            "LKH-3.0.7/SRC/NormalizeSegmentList.c\n",
            "LKH-3.0.7/SRC/Penalty_BWTSP.c\n",
            "LKH-3.0.7/SRC/STTSP2TSP.c\n",
            "LKH-3.0.7/SRC/Hashing.c\n",
            "LKH-3.0.7/SRC/LinKernighan.c\n",
            "LKH-3.0.7/SRC/Penalty_CVRP.c\n",
            "LKH-3.0.7/SRC/gpx.c\n",
            "LKH-3.0.7/SRC/AdjustCandidateSet.c\n",
            "LKH-3.0.7/SRC/AllocateStructures.c\n",
            "LKH-3.0.7/SRC/Flip_SSL.c\n",
            "LKH-3.0.7/SRC/MakeKOptMove.c\n",
            "LKH-3.0.7/SRC/BuildKDTree.c\n",
            "LKH-3.0.7/SRC/SolveTourSegmentSubproblems.c\n",
            "LKH-3.0.7/SRC/Random.c\n",
            "LKH-3.0.7/SRC/CreateDelaunayCandidateSet.c\n",
            "LKH-3.0.7/SRC/MTSP_WriteSolution.c\n",
            "LKH-3.0.7/SRC/Penalty_PDTSPF.c\n",
            "LKH-3.0.7/SRC/SolveSubproblemBorderProblems.c\n",
            "LKH-3.0.7/SRC/Penalty_PDTSPL.c\n",
            "LKH-3.0.7/SRC/ReadParameters.c\n",
            "LKH-3.0.7/SRC/MTSP_Report.c\n",
            "LKH-3.0.7/SRC/Penalty_TRP.c\n",
            "LKH-3.0.7/SRC/FixedOrCommonCandidates.c\n",
            "LKH-3.0.7/SRC/Penalty_CTSP.c\n",
            "LKH-3.0.7/SRC/Penalty_SOP.c\n",
            "LKH-3.0.7/SRC/Best2OptMove.c\n",
            "LKH-3.0.7/SRC/Best3OptMove.c\n",
            "LKH-3.0.7/SRC/ReadCandidates.c\n",
            "LKH-3.0.7/SRC/Make4OptMove.c\n",
            "LKH-3.0.7/SRC/Make5OptMove.c\n",
            "LKH-3.0.7/SRC/CreateNNCandidateSet.c\n",
            "LKH-3.0.7/SRC/GenerateCandidates.c\n",
            "LKH-3.0.7/SRC/Between.c\n",
            "LKH-3.0.7/SRC/Flip_SL.c\n",
            "LKH-3.0.7/SRC/SOP_RepairTour.c\n",
            "LKH-3.0.7/SRC/Activate.c\n",
            "LKH-3.0.7/SRC/SegmentSize.c\n",
            "LKH-3.0.7/SRC/SolveSubproblem.c\n",
            "LKH-3.0.7/SRC/MergeWithTourIPT.c\n",
            "LKH-3.0.7/SRC/StoreTour.c\n",
            "LKH-3.0.7/SRC/GreedyTour.c\n",
            "LKH-3.0.7/SRC/PrintParameters.c\n",
            "LKH-3.0.7/SRC/Penalty_M1_PDTSP.c\n",
            "LKH-3.0.7/SRC/SFCTour.c\n",
            "LKH-3.0.7/SRC/Penalty_PDTSP.c\n",
            "LKH-3.0.7/SRC/Penalty_VRPB.c\n",
            "LKH-3.0.7/SRC/Minimum1TreeCost.c\n",
            "LKH-3.0.7/SRC/MTSP2TSP.c\n",
            "LKH-3.0.7/SRC/MergeTourWithBestTour.c\n",
            "LKH-3.0.7/SRC/ReadEdges.c\n",
            "LKH-3.0.7/SRC/BridgeGain.c\n",
            "LKH-3.0.7/SRC/WriteCandidates.c\n",
            "LKH-3.0.7/SRC/PDPTW_Reduce.c\n",
            "LKH-3.0.7/SRC/Flip.c\n",
            "LKH-3.0.7/SRC/WriteTour.c\n",
            "LKH-3.0.7/SRC/Delaunay.c\n",
            "LKH-3.0.7/SRC/TSPDL_InitialTour.c\n",
            "LKH-3.0.7/SRC/VRPB_Reduce.c\n",
            "LKH-3.0.7/SRC/CreateQuadrantCandidateSet.c\n",
            "LKH-3.0.7/SRC/IsBackboneCandidate.c\n",
            "LKH-3.0.7/SRC/Penalty_MTSP.c\n",
            "LKH-3.0.7/SRC/ReadLine.c\n",
            "LKH-3.0.7/SRC/RecordBestTour.c\n",
            "LKH-3.0.7/SRC/CandidateReport.c\n",
            "LKH-3.0.7/SRC/OrderCandidateSet.c\n",
            "LKH-3.0.7/SRC/CTSP_InitialTour.c\n",
            "LKH-3.0.7/SRC/AddExtraCandidates.c\n",
            "LKH-3.0.7/SRC/Distance.c\n",
            "LKH-3.0.7/SRC/Genetic.c\n",
            "LKH-3.0.7/SRC/AdjustClusters.c\n",
            "LKH-3.0.7/SRC/AddTourCandidates.c\n",
            "LKH-3.0.7/SRC/BIT.c\n",
            "LKH-3.0.7/SRC/KSwapKick.c\n",
            "LKH-3.0.7/SRC/Connect.c\n",
            "LKH-3.0.7/SRC/RemoveFirstActive.c\n",
            "LKH-3.0.7/SRC/Ascent.c\n",
            "LKH-3.0.7/SRC/TrimCandidateSet.c\n",
            "LKH-3.0.7/SRC/StatusReport.c\n",
            "LKH-3.0.7/SRC/LKH.c\n",
            "LKH-3.0.7/SRC/TSPTW_Reduce.c\n",
            "LKH-3.0.7/SRC/printff.c\n",
            "LKH-3.0.7/SRC/Between_SSL.c\n",
            "LKH-3.0.7/SRC/SOP_Report.c\n",
            "LKH-3.0.7/SRC/Create_POPMUSIC_CandidateSet.c\n",
            "LKH-3.0.7/SRC/MTSP_InitialTour.c\n",
            "LKH-3.0.7/SRC/Improvement.c\n",
            "LKH-3.0.7/SRC/GeoConversion.c\n",
            "LKH-3.0.7/SRC/FindTour.c\n",
            "LKH-3.0.7/SRC/TSPTW_MakespanCost.c\n",
            "LKH-3.0.7/SRC/SymmetrizeCandidateSet.c\n",
            "LKH-3.0.7/SRC/ChooseInitialTour.c\n",
            "LKH-3.0.7/SRC/SolveKCenterSubproblems.c\n",
            "LKH-3.0.7/SRC/Penalty_1_PDTSP.c\n",
            "LKH-3.0.7/SRC/AddCandidate.c\n",
            "LKH-3.0.7/SRC/Penalty_TSPTW.c\n",
            "LKH-3.0.7/SRC/Penalty_RCTVRP.c\n",
            "LKH-3.0.7/SRC/MinimumSpanningTree.c\n",
            "LKH-3.0.7/SRC/BestSpecialOptMove.c\n",
            "LKH-3.0.7/SRC/INCLUDE/Genetic.h\n",
            "LKH-3.0.7/SRC/INCLUDE/.DS_Store\n",
            "LKH-3.0.7/SRC/INCLUDE/Segment.h\n",
            "LKH-3.0.7/SRC/INCLUDE/Delaunay.h\n",
            "LKH-3.0.7/SRC/INCLUDE/GeoConversion.h\n",
            "LKH-3.0.7/SRC/INCLUDE/LKH.h\n",
            "LKH-3.0.7/SRC/INCLUDE/BIT.h\n",
            "LKH-3.0.7/SRC/INCLUDE/Sequence.h\n",
            "LKH-3.0.7/SRC/INCLUDE/GainType.h\n",
            "LKH-3.0.7/SRC/INCLUDE/Heap.h\n",
            "LKH-3.0.7/SRC/INCLUDE/Hashing.h\n",
            "LKH-3.0.7/SRC/INCLUDE/gpx.h\n",
            "LKH-3.0.7/DOC/POPMUSIC_REPORT.pdf\n",
            "LKH-3.0.7/DOC/LKH_Genetic.pdf\n",
            "LKH-3.0.7/DOC/LKH_REPORT.pdf\n",
            "LKH-3.0.7/DOC/LKH-2_USER_GUIDE.pdf\n",
            "LKH-3.0.7/DOC/TSPLIB_DOC.pdf\n",
            "LKH-3.0.7/DOC/LKH-3_PARAMETERS.pdf\n",
            "LKH-3.0.7/DOC/LKH-3_REPORT.pdf\n",
            "make -C SRC\n",
            "make[1]: Entering directory '/content/LKH-3.0.7/SRC'\n",
            "make LKH\n",
            "make[2]: Entering directory '/content/LKH-3.0.7/SRC'\n",
            "cc -o ../LKH OBJ/Activate.o OBJ/AddCandidate.o OBJ/AddExtraCandidates.o OBJ/AddTourCandidates.o OBJ/AdjustCandidateSet.o OBJ/AdjustClusters.o OBJ/AllocateStructures.o OBJ/Ascent.o OBJ/Best2OptMove.o OBJ/Best3OptMove.o OBJ/Best4OptMove.o OBJ/Best5OptMove.o OBJ/BestKOptMove.o OBJ/BestSpecialOptMove.o OBJ/Between.o OBJ/Between_SL.o OBJ/Between_SSL.o OBJ/BridgeGain.o OBJ/BuildKDTree.o OBJ/C.o OBJ/CandidateReport.o OBJ/ChooseInitialTour.o OBJ/Connect.o OBJ/CreateCandidateSet.o OBJ/CreateDelaunayCandidateSet.o OBJ/CreateNNCandidateSet.o OBJ/Create_POPMUSIC_CandidateSet.o OBJ/CreateQuadrantCandidateSet.o OBJ/CTSP_InitialTour.o OBJ/CVRP_InitialTour.o OBJ/Delaunay.o OBJ/Distance.o OBJ/Distance_MTSP.o OBJ/Distance_SOP.o OBJ/Distance_SPECIAL.o OBJ/eprintf.o OBJ/ERXT.o OBJ/Excludable.o OBJ/Exclude.o OBJ/FindTour.o OBJ/FixedOrCommonCandidates.o OBJ/Flip.o OBJ/Flip_SL.o OBJ/Flip_SSL.o OBJ/Forbidden.o OBJ/FreeStructures.o OBJ/fscanint.o OBJ/Gain23.o OBJ/GenerateCandidates.o OBJ/Genetic.o OBJ/GeoConversion.o OBJ/GetTime.o OBJ/GreedyTour.o OBJ/Hashing.o OBJ/Heap.o OBJ/Improvement.o OBJ/IsBackboneCandidate.o OBJ/IsCandidate.o OBJ/IsCommonEdge.o OBJ/IsPossibleCandidate.o OBJ/KSwapKick.o OBJ/LinKernighan.o OBJ/LKHmain.o OBJ/Make2OptMove.o OBJ/Make3OptMove.o OBJ/Make4OptMove.o OBJ/Make5OptMove.o OBJ/MakeKOptMove.o OBJ/MergeTourWithBestTour.o OBJ/MergeWithTourIPT.o OBJ/Minimum1TreeCost.o OBJ/MinimumSpanningTree.o OBJ/MTSP2TSP.o OBJ/MTSP_InitialTour.o OBJ/MTSP_Report.o OBJ/MTSP_WriteSolution.o OBJ/NormalizeNodeList.o OBJ/NormalizeSegmentList.o OBJ/OrderCandidateSet.o OBJ/PatchCycles.o OBJ/Penalty_ACVRP.o OBJ/Penalty_BWTSP.o OBJ/Penalty_CCVRP.o OBJ/Penalty_CVRP.o OBJ/Penalty_CVRPTW.o OBJ/Penalty_CTSP.o OBJ/Penalty_1_PDTSP.o OBJ/Penalty_MLP.o OBJ/Penalty_M_PDTSP.o OBJ/Penalty_M1_PDTSP.o OBJ/Penalty_MTSP.o OBJ/Penalty_OVRP.o OBJ/Penalty_PDPTW.o OBJ/Penalty_PDTSP.o OBJ/Penalty_PDTSPF.o OBJ/Penalty_PDTSPL.o OBJ/Penalty_RCTVRP.o OBJ/Penalty_SOP.o OBJ/Penalty_TRP.o OBJ/Penalty_TSPDL.o OBJ/Penalty_TSPPD.o OBJ/Penalty_TSPTW.o OBJ/Penalty_VRPB.o OBJ/Penalty_VRPBTW.o OBJ/Penalty_VRPPD.o OBJ/PDPTW_Reduce.o OBJ/printff.o OBJ/PrintParameters.o OBJ/Random.o OBJ/ReadCandidates.o OBJ/ReadEdges.o OBJ/ReadLine.o OBJ/ReadParameters.o OBJ/ReadPenalties.o OBJ/ReadProblem.o OBJ/RecordBestTour.o OBJ/RecordBetterTour.o OBJ/RemoveFirstActive.o OBJ/ResetCandidateSet.o OBJ/RestoreTour.o OBJ/SegmentSize.o OBJ/Sequence.o OBJ/SFCTour.o OBJ/SolveCompressedSubproblem.o OBJ/SINTEF_WriteSolution.o OBJ/SOP_RepairTour.o OBJ/STTSP2TSP.o OBJ/SolveDelaunaySubproblems.o OBJ/SolveKarpSubproblems.o OBJ/SolveKCenterSubproblems.o OBJ/SolveKMeansSubproblems.o OBJ/SolveRoheSubproblems.o OBJ/SolveSFCSubproblems.o OBJ/SolveSubproblem.o OBJ/SolveSubproblemBorderProblems.o OBJ/SolveTourSegmentSubproblems.o OBJ/SOP_InitialTour.o OBJ/SOP_Report.o OBJ/StatusReport.o OBJ/Statistics.o OBJ/StoreTour.o OBJ/SymmetrizeCandidateSet.o OBJ/TrimCandidateSet.o OBJ/TSPDL_InitialTour.o OBJ/TSPTW_MakespanCost.o OBJ/TSPTW_Reduce.o OBJ/VRPB_Reduce.o OBJ/BIT.o OBJ/WriteCandidates.o OBJ/WritePenalties.o OBJ/WriteTour.o OBJ/MergeWithTourGPX2.o OBJ/gpx.o OBJ/LKH.o -O3 -Wall -IINCLUDE -DTWO_LEVEL_TREE -g -flto -lm\n",
            "make[2]: Leaving directory '/content/LKH-3.0.7/SRC'\n",
            "make[1]: Leaving directory '/content/LKH-3.0.7/SRC'\n"
          ]
        }
      ]
    },
    {
      "cell_type": "markdown",
      "metadata": {
        "id": "ffce44fd"
      },
      "source": [
        "# Begin With Best n=7 Solution\n",
        "We begin with the best published superpermutation for n=7 [here][1]\n",
        "\n",
        "[1]: https://www.gregegan.net/SCIENCE/Superpermutations/Superpermutations.html"
      ],
      "id": "ffce44fd"
    },
    {
      "cell_type": "code",
      "metadata": {
        "id": "LVWws2rxOG9B"
      },
      "source": [
        "def merge_shift(s,t) :\n",
        "    for k in range(len(s)) :\n",
        "        ss = s[k:]\n",
        "        tt = t[:len(ss)]\n",
        "        if ss == tt :\n",
        "            return s[:k+len(ss)] + t[len(ss):]\n",
        "    return s+t\n",
        "\n",
        "def is_perm(s,n):\n",
        "    y = True\n",
        "    for k in range(1,n+1):\n",
        "        y = y&(str(k) in s)\n",
        "        if not y: break\n",
        "    return y\n",
        "\n",
        "def supermutation(x, ns, ms):\n",
        "    n = int(ns)\n",
        "    p = []\n",
        "    for k in range(len(x)-n+1) :\n",
        "        t = x[k:k+n]\n",
        "        if is_perm(t, n) :\n",
        "            p.append(t+ms+t)\n",
        "            #print(t)\n",
        "    ret = \"\"\n",
        "    print(p)\n",
        "    for e in p:\n",
        "        ret = merge_shift(ret, e)\n",
        "    return ret    "
      ],
      "id": "LVWws2rxOG9B",
      "execution_count": null,
      "outputs": []
    },
    {
      "cell_type": "code",
      "metadata": {
        "colab": {
          "base_uri": "https://localhost:8080/"
        },
        "id": "vO5y3f80OG_a",
        "outputId": "c50bcbd2-2b95-43dd-8966-5ee722cc5d08"
      },
      "source": [
        "a = supermutation('121','2','3')\n",
        "a = supermutation(a,'3','4')\n",
        "a = supermutation(a,'4','5')\n",
        "a = supermutation(a,'5','6')\n",
        "a = supermutation(a,'6','7')"
      ],
      "id": "vO5y3f80OG_a",
      "execution_count": null,
      "outputs": [
        {
          "output_type": "stream",
          "name": "stdout",
          "text": [
            "['12312', '21321']\n",
            "['1234123', '2314231', '3124312', '2134213', '1324132', '3214321']\n",
            "['123451234', '234152341', '341253412', '412354123', '231452314', '314253142', '142351423', '423154231', '312453124', '124351243', '243152431', '431254312', '213452134', '134251342', '342153421', '421354213', '132451324', '324153241', '241352413', '413254132', '321453214', '214352143', '143251432', '432154321']\n",
            "['12345612345', '23451623451', '34512634512', '45123645123', '51234651234', '23415623415', '34152634152', '41523641523', '15234615234', '52341652341', '34125634125', '41253641253', '12534612534', '25341625341', '53412653412', '41235641235', '12354612354', '23541623541', '35412635412', '54123654123', '23145623145', '31452631452', '14523614523', '45231645231', '52314652314', '31425631425', '14253614253', '42531642531', '25314625314', '53142653142', '14235614235', '42351642351', '23514623514', '35142635142', '51423651423', '42315642315', '23154623154', '31542631542', '15423615423', '54231654231', '31245631245', '12453612453', '24531624531', '45312645312', '53124653124', '12435612435', '24351624351', '43512643512', '35124635124', '51243651243', '24315624315', '43152643152', '31524631524', '15243615243', '52431652431', '43125643125', '31254631254', '12543612543', '25431625431', '54312654312', '21345621345', '13452613452', '34521634521', '45213645213', '52134652134', '13425613425', '34251634251', '42513642513', '25134625134', '51342651342', '34215634215', '42153642153', '21534621534', '15342615342', '53421653421', '42135642135', '21354621354', '13542613542', '35421635421', '54213654213', '13245613245', '32451632451', '24513624513', '45132645132', '51324651324', '32415632415', '24153624153', '41532641532', '15324615324', '53241653241', '24135624135', '41352641352', '13524613524', '35241635241', '52413652413', '41325641325', '13254613254', '32541632541', '25413625413', '54132654132', '32145632145', '21453621453', '14532614532', '45321645321', '53214653214', '21435621435', '14352614352', '43521643521', '35214635214', '52143652143', '14325614325', '43251643251', '32514632514', '25143625143', '51432651432', '43215643215', '32154632154', '21543621543', '15432615432', '54321654321']\n",
            "['1234567123456', '2345617234561', '3456127345612', '4561237456123', '5612347561234', '6123457612345', '2345167234516', '3451627345162', '4516237451623', '5162347516234', '1623457162345', '6234517623451', '3451267345126', '4512637451263', '5126347512634', '1263457126345', '2634517263451', '6345127634512', '4512367451236', '5123647512364', '1236457123645', '2364517236451', '3645127364512', '6451237645123', '5123467512346', '1234657123465', '2346517234651', '3465127346512', '4651237465123', '6512347651234', '2341567234156', '3415627341562', '4156237415623', '1562347156234', '5623417562341', '6234157623415', '3415267341526', '4152637415263', '1526347152634', '5263417526341', '2634157263415', '6341527634152', '4152367415236', '1523647152364', '5236417523641', '2364157236415', '3641527364152', '6415237641523', '1523467152346', '5234617523461', '2346157234615', '3461527346152', '4615237461523', '6152347615234', '5234167523416', '2341657234165', '3416527341652', '4165237416523', '1652347165234', '6523417652341', '3412567341256', '4125637412563', '1256347125634', '2563417256341', '5634127563412', '6341257634125', '4125367412536', '1253647125364', '2536417253641', '5364127536412', '3641257364125', '6412537641253', '1253467125346', '2534617253461', '5346127534612', '3461257346125', '4612537461253', '6125347612534', '2534167253416', '5341627534162', '3416257341625', '4162537416253', '1625347162534', '6253417625341', '5341267534126', '3412657341265', '4126537412653', '1265347126534', '2653417265341', '6534127653412', '4123567412356', '1235647123564', '2356417235641', '3564127356412', '5641237564123', '6412357641235', '1235467123546', '2354617235461', '3546127354612', '5461237546123', '4612357461235', '6123547612354', '2354167235416', '3541627354162', '5416237541623', '4162357416235', '1623547162354', '6235417623541', '3541267354126', '5412637541263', '4126357412635', '1263547126354', '2635417263541', '6354127635412', '5412367541236', '4123657412365', '1236547123654', '2365417236541', '3654127365412', '6541237654123', '2314567231456', '3145627314562', '1456237145623', '4562317456231', '5623147562314', '6231457623145', '3145267314526', '1452637145263', '4526317452631', '5263147526314', '2631457263145', '6314527631452', '1452367145236', '4523617452361', '5236147523614', '2361457236145', '3614527361452', '6145237614523', '4523167452316', '5231647523164', '2316457231645', '3164527316452', '1645237164523', '6452317645231', '5231467523146', '2314657231465', '3146527314652', '1465237146523', '4652317465231', '6523147652314', '3142567314256', '1425637142563', '4256317425631', '2563147256314', '5631427563142', '6314257631425', '1425367142536', '4253617425361', '2536147253614', '5361427536142', '3614257361425', '6142537614253', '4253167425316', '2531647253164', '5316427531642', '3164257316425', '1642537164253', '6425317642531', '2531467253146', '5314627531462', '3146257314625', '1462537146253', '4625317462531', '6253147625314', '5314267531426', '3142657314265', '1426537142653', '4265317426531', '2653147265314', '6531427653142', '1423567142356', '4235617423561', '2356147235614', '3561427356142', '5614237561423', '6142357614235', '4235167423516', '2351647235164', '3516427351642', '5164237516423', '1642357164235', '6423517642351', '2351467235146', '3514627351462', '5146237514623', '1462357146235', '4623517462351', '6235147623514', '3514267351426', '5142637514263', '1426357142635', '4263517426351', '2635147263514', '6351427635142', '5142367514236', '1423657142365', '4236517423651', '2365147236514', '3651427365142', '6514237651423', '4231567423156', '2315647231564', '3156427315642', '1564237156423', '5642317564231', '6423157642315', '2315467231546', '3154627315462', '1546237154623', '5462317546231', '4623157462315', '6231547623154', '3154267315426', '1542637154263', '5426317542631', '4263157426315', '2631547263154', '6315427631542', '1542367154236', '5423617542361', '4236157423615', '2361547236154', '3615427361542', '6154237615423', '5423167542316', '4231657423165', '2316547231654', '3165427316542', '1654237165423', '6542317654231', '3124567312456', '1245637124563', '2456317245631', '4563127456312', '5631247563124', '6312457631245', '1245367124536', '2453617245361', '4536127453612', '5361247536124', '3612457361245', '6124537612453', '2453167245316', '4531627453162', '5316247531624', '3162457316245', '1624537162453', '6245317624531', '4531267453126', '5312647531264', '3126457312645', '1264537126453', '2645317264531', '6453127645312', '5312467531246', '3124657312465', '1246537124653', '2465317246531', '4653127465312', '6531247653124', '1243567124356', '2435617243561', '4356127435612', '3561247356124', '5612437561243', '6124357612435', '2435167243516', '4351627435162', '3516247351624', '5162437516243', '1624357162435', '6243517624351', '4351267435126', '3512647351264', '5126437512643', '1264357126435', '2643517264351', '6435127643512', '3512467351246', '5124637512463', '1246357124635', '2463517246351', '4635127463512', '6351247635124', '5124367512436', '1243657124365', '2436517243651', '4365127436512', '3651247365124', '6512437651243', '2431567243156', '4315627431562', '3156247315624', '1562437156243', '5624317562431', '6243157624315', '4315267431526', '3152647315264', '1526437152643', '5264317526431', '2643157264315', '6431527643152', '3152467315246', '1524637152463', '5246317524631', '2463157246315', '4631527463152', '6315247631524', '1524367152436', '5243617524361', '2436157243615', '4361527436152', '3615247361524', '6152437615243', '5243167524316', '2431657243165', '4316527431652', '3165247316524', '1652437165243', '6524317652431', '4312567431256', '3125647312564', '1256437125643', '2564317256431', '5643127564312', '6431257643125', '3125467312546', '1254637125463', '2546317254631', '5463127546312', '4631257463125', '6312547631254', '1254367125436', '2543617254361', '5436127543612', '4361257436125', '3612547361254', '6125437612543', '2543167254316', '5431627543162', '4316257431625', '3162547316254', '1625437162543', '6254317625431', '5431267543126', '4312657431265', '3126547312654', '1265437126543', '2654317265431', '6543127654312', '2134567213456', '1345627134562', '3456217345621', '4562137456213', '5621347562134', '6213457621345', '1345267134526', '3452617345261', '4526137452613', '5261347526134', '2613457261345', '6134527613452', '3452167345216', '4521637452163', '5216347521634', '2163457216345', '1634527163452', '6345217634521', '4521367452136', '5213647521364', '2136457213645', '1364527136452', '3645217364521', '6452137645213', '5213467521346', '2134657213465', '1346527134652', '3465217346521', '4652137465213', '6521347652134', '1342567134256', '3425617342561', '4256137425613', '2561347256134', '5613427561342', '6134257613425', '3425167342516', '4251637425163', '2516347251634', '5163427516342', '1634257163425', '6342517634251', '4251367425136', '2513647251364', '5136427513642', '1364257136425', '3642517364251', '6425137642513', '2513467251346', '5134627513462', '1346257134625', '3462517346251', '4625137462513', '6251347625134', '5134267513426', '1342657134265', '3426517342651', '4265137426513', '2651347265134', '6513427651342', '3421567342156', '4215637421563', '2156347215634', '1563427156342', '5634217563421', '6342157634215', '4215367421536', '2153647215364', '1536427153642', '5364217536421', '3642157364215', '6421537642153', '2153467215346', '1534627153462', '5346217534621', '3462157346215', '4621537462153', '6215347621534', '1534267153426', '5342617534261', '3426157342615', '4261537426153', '2615347261534', '6153427615342', '5342167534216', '3421657342165', '4216537421653', '2165347216534', '1653427165342', '6534217653421', '4213567421356', '2135647213564', '1356427135642', '3564217356421', '5642137564213', '6421357642135', '2135467213546', '1354627135462', '3546217354621', '5462137546213', '4621357462135', '6213547621354', '1354267135426', '3542617354261', '5426137542613', '4261357426135', '2613547261354', '6135427613542', '3542167354216', '5421637542163', '4216357421635', '2163547216354', '1635427163542', '6354217635421', '5421367542136', '4213657421365', '2136547213654', '1365427136542', '3654217365421', '6542137654213', '1324567132456', '3245617324561', '2456137245613', '4561327456132', '5613247561324', '6132457613245', '3245167324516', '2451637245163', '4516327451632', '5163247516324', '1632457163245', '6324517632451', '2451367245136', '4513627451362', '5136247513624', '1362457136245', '3624517362451', '6245137624513', '4513267451326', '5132647513264', '1326457132645', '3264517326451', '2645137264513', '6451327645132', '5132467513246', '1324657132465', '3246517324651', '2465137246513', '4651327465132', '6513247651324', '3241567324156', '2415637241563', '4156327415632', '1563247156324', '5632417563241', '6324157632415', '2415367241536', '4153627415362', '1536247153624', '5362417536241', '3624157362415', '6241537624153', '4153267415326', '1532647153264', '5326417532641', '3264157326415', '2641537264153', '6415327641532', '1532467153246', '5324617532461', '3246157324615', '2461537246153', '4615327461532', '6153247615324', '5324167532416', '3241657324165', '2416537241653', '4165327416532', '1653247165324', '6532417653241', '2413567241356', '4135627413562', '1356247135624', '3562417356241', '5624137562413', '6241357624135', '4135267413526', '1352647135264', '3526417352641', '5264137526413', '2641357264135', '6413527641352', '1352467135246', '3524617352461', '5246137524613', '2461357246135', '4613527461352', '6135247613524', '3524167352416', '5241637524163', '2416357241635', '4163527416352', '1635247163524', '6352417635241', '5241367524136', '2413657241365', '4136527413652', '1365247136524', '3652417365241', '6524137652413', '4132567413256', '1325647132564', '3256417325641', '2564137256413', '5641327564132', '6413257641325', '1325467132546', '3254617325461', '2546137254613', '5461327546132', '4613257461325', '6132547613254', '3254167325416', '2541637254163', '5416327541632', '4163257416325', '1632547163254', '6325417632541', '2541367254136', '5413627541362', '4136257413625', '1362547136254', '3625417362541', '6254137625413', '5413267541326', '4132657413265', '1326547132654', '3265417326541', '2654137265413', '6541327654132', '3214567321456', '2145637214563', '1456327145632', '4563217456321', '5632147563214', '6321457632145', '2145367214536', '1453627145362', '4536217453621', '5362147536214', '3621457362145', '6214537621453', '1453267145326', '4532617453261', '5326147532614', '3261457326145', '2614537261453', '6145327614532', '4532167453216', '5321647532164', '3216457321645', '2164537216453', '1645327164532', '6453217645321', '5321467532146', '3214657321465', '2146537214653', '1465327146532', '4653217465321', '6532147653214', '2143567214356', '1435627143562', '4356217435621', '3562147356214', '5621437562143', '6214357621435', '1435267143526', '4352617435261', '3526147352614', '5261437526143', '2614357261435', '6143527614352', '4352167435216', '3521647352164', '5216437521643', '2164357216435', '1643527164352', '6435217643521', '3521467352146', '5214637521463', '2146357214635', '1463527146352', '4635217463521', '6352147635214', '5214367521436', '2143657214365', '1436527143652', '4365217436521', '3652147365214', '6521437652143', '1432567143256', '4325617432561', '3256147325614', '2561437256143', '5614327561432', '6143257614325', '4325167432516', '3251647325164', '2516437251643', '5164327516432', '1643257164325', '6432517643251', '3251467325146', '2514637251463', '5146327514632', '1463257146325', '4632517463251', '6325147632514', '2514367251436', '5143627514362', '1436257143625', '4362517436251', '3625147362514', '6251437625143', '5143267514326', '1432657143265', '4326517432651', '3265147326514', '2651437265143', '6514327651432', '4321567432156', '3215647321564', '2156437215643', '1564327156432', '5643217564321', '6432157643215', '3215467321546', '2154637215463', '1546327154632', '5463217546321', '4632157463215', '6321547632154', '2154367215436', '1543627154362', '5436217543621', '4362157436215', '3621547362154', '6215437621543', '1543267154326', '5432617543261', '4326157432615', '3261547326154', '2615437261543', '6154327615432', '5432167543216', '4321657432165', '3216547321654', '2165437216543', '1654327165432', '6543217654321']\n"
          ]
        }
      ]
    },
    {
      "cell_type": "code",
      "metadata": {
        "id": "4JwbtvlUOHBn"
      },
      "source": [
        "ch = dict({\n",
        "    '1':'7',\n",
        "    '2':'6',\n",
        "    '3':'5',\n",
        "    '4':'4',\n",
        "    '5':'3',\n",
        "    '6':'2',\n",
        "    '7':'1',\n",
        "})\n",
        "\n",
        "sub = ''\n",
        "for e in a :\n",
        "    sub+=ch[e]"
      ],
      "id": "4JwbtvlUOHBn",
      "execution_count": null,
      "outputs": []
    },
    {
      "cell_type": "code",
      "metadata": {
        "id": "dQy9OitoOHDt"
      },
      "source": [
        "required_permutaions = ['12' + ''.join(x) for x in itertools.permutations(['3','4','5','6','7'], 5)]"
      ],
      "id": "dQy9OitoOHDt",
      "execution_count": null,
      "outputs": []
    },
    {
      "cell_type": "code",
      "metadata": {
        "colab": {
          "base_uri": "https://localhost:8080/"
        },
        "id": "iZLonL3JOHKF",
        "outputId": "45e63eca-1c25-4949-d631-5edcaceacbd6"
      },
      "source": [
        "len(sub)"
      ],
      "id": "iZLonL3JOHKF",
      "execution_count": null,
      "outputs": [
        {
          "output_type": "execute_result",
          "data": {
            "text/plain": [
              "5913"
            ]
          },
          "metadata": {},
          "execution_count": 69
        }
      ]
    },
    {
      "cell_type": "code",
      "metadata": {
        "id": "JdHm8qk3OHMS"
      },
      "source": [
        "solution = sub\n",
        "all = []\n",
        "for k in range(len(solution)-7+1) :\n",
        "    s = solution[k:k+7]\n",
        "    if is_perm(s, 7) and s not in required_permutaions:\n",
        "        all.append(s)"
      ],
      "id": "JdHm8qk3OHMS",
      "execution_count": null,
      "outputs": []
    },
    {
      "cell_type": "code",
      "metadata": {
        "colab": {
          "base_uri": "https://localhost:8080/"
        },
        "id": "Eok7gNq6OvSP",
        "outputId": "53f712f0-cae4-4fdc-b261-33e70255391f"
      },
      "source": [
        "len(all)"
      ],
      "id": "Eok7gNq6OvSP",
      "execution_count": null,
      "outputs": [
        {
          "output_type": "execute_result",
          "data": {
            "text/plain": [
              "4920"
            ]
          },
          "metadata": {},
          "execution_count": 71
        }
      ]
    },
    {
      "cell_type": "code",
      "metadata": {
        "id": "OPbXRhx9Hil7"
      },
      "source": [
        ""
      ],
      "id": "OPbXRhx9Hil7",
      "execution_count": 95,
      "outputs": []
    },
    {
      "cell_type": "code",
      "metadata": {
        "id": "xcAY_rcVOvdH"
      },
      "source": [
        "permutations = all\n",
        "mandatory = required_permutaions"
      ],
      "id": "xcAY_rcVOvdH",
      "execution_count": null,
      "outputs": []
    },
    {
      "cell_type": "code",
      "metadata": {
        "id": "4rI9_IqBOvfd"
      },
      "source": [
        ""
      ],
      "id": "4rI9_IqBOvfd",
      "execution_count": null,
      "outputs": []
    },
    {
      "cell_type": "code",
      "metadata": {
        "colab": {
          "base_uri": "https://localhost:8080/"
        },
        "id": "78cbb0d9",
        "outputId": "5740ad73-0591-4756-93df-8ccedbf3ea67"
      },
      "source": [
        "adjust1 = 0\n",
        "adjust2 = 0\n",
        "x =  len(all)//3\n",
        "group1 = permutations[:x-adjust1] # + mandatory\n",
        "group2 = permutations[x-adjust1:2*x+adjust2] # + mandatory\n",
        "group3 = permutations[2*x+adjust2:] #+ mandatory\n",
        "\n",
        "\n",
        "print(len(group1), len(group2), len(group3))\n",
        "print(group1[:10],\"...\")\n",
        "print(group2[:10],\"...\")\n",
        "print(group3[:10],\"...\")"
      ],
      "id": "78cbb0d9",
      "execution_count": null,
      "outputs": [
        {
          "output_type": "stream",
          "name": "stdout",
          "text": [
            "1640 1640 1640\n",
            "['7654321', '6543217', '5432176', '4321765', '3217654', '2176543', '1765432', '6543271', '5432716', '4327165'] ...\n",
            "['5764321', '7643215', '6432157', '4321576', '3215764', '2157643', '1576432', '7643251', '6432517', '4325176'] ...\n",
            "['7564321', '5643217', '6432175', '4321756', '3217564', '2175643', '1756432', '5643271', '6432715', '4327156'] ...\n"
          ]
        }
      ]
    },
    {
      "cell_type": "code",
      "metadata": {
        "id": "atAOyb-LriZa"
      },
      "source": [
        "def count(g) :\n",
        "  cnt = 0\n",
        "  for e in mandatory :\n",
        "    if e in g :\n",
        "      cnt+=1\n",
        "  print(cnt)\n"
      ],
      "id": "atAOyb-LriZa",
      "execution_count": null,
      "outputs": []
    },
    {
      "cell_type": "markdown",
      "metadata": {
        "id": "990f6b8a"
      },
      "source": [
        "# Helper Functions"
      ],
      "id": "990f6b8a"
    },
    {
      "cell_type": "code",
      "metadata": {
        "id": "1bc02adc"
      },
      "source": [
        "def hamming_distance(str1, str2):\n",
        "    return sum( (c1!=c2) for c1, c2 in zip(str1, str2))\n",
        "\n",
        "def offset(s1, s2):\n",
        "    assert(len(s1)==len(s2))\n",
        "    ln = len(s1)\n",
        "    j = ln\n",
        "    for k in range(0,ln):\n",
        "        if hamming_distance(s1[k:],s2[:7-k])==0:\n",
        "            j=k\n",
        "            break\n",
        "    return j\n",
        "\n",
        "def calc_dist(s, t) :\n",
        "    for k in range(len(s)) :\n",
        "      ss = s[k:]\n",
        "      tt = t[:len(ss)]\n",
        "      if ss == tt :\n",
        "            res = s[:k+len(ss)] + t[len(ss):]\n",
        "            return len(res) - len(s)\n",
        "    return len(t)"
      ],
      "id": "1bc02adc",
      "execution_count": null,
      "outputs": []
    },
    {
      "cell_type": "code",
      "metadata": {
        "id": "5yV8ntBWN0aE"
      },
      "source": [
        "def merge_shift(s,t) :\n",
        "    for k in range(len(s)) :\n",
        "        ss = s[k:]\n",
        "        tt = t[:len(ss)]\n",
        "        if ss == tt :\n",
        "            return s[:k+len(ss)] + t[len(ss):]\n",
        "    return s+t"
      ],
      "id": "5yV8ntBWN0aE",
      "execution_count": null,
      "outputs": []
    },
    {
      "cell_type": "code",
      "metadata": {
        "id": "83a93aa5"
      },
      "source": [
        "def get_tsp_solution(group):\n",
        "    # CREATE DISTANCE MATRIX\n",
        "    inf = 10**4\n",
        "    SIZE = len(group)\n",
        "    M = np.zeros((SIZE, SIZE), dtype='int8')\n",
        "    for j in range(SIZE):\n",
        "        #if j%25==0: print(j,', ',end='')\n",
        "        for k in range(SIZE):\n",
        "          if j == k : continue\n",
        "          if k == 0 :\n",
        "            M[j,k] = inf\n",
        "          else:\n",
        "            M[j,k] = calc_dist(group[j],group[k])\n",
        "            \n",
        "    # WRITE PROBLEM FILE\n",
        "    f = open(f'group.par','w')\n",
        "    f.write(\"PROBLEM_FILE = ../distances.atsp\\n\")\n",
        "    f.write(\"TOUR_FILE = ../output.txt\\n\")\n",
        "    f.write(f\"OPTIMUM = {SIZE}\\n\")\n",
        "    f.write(\"MOVE_TYPE = 5\\n\")\n",
        "    f.write(\"PATCHING_C = 3\\n\")\n",
        "    f.write(\"PATCHING_A = 2\\n\")\n",
        "    f.write(\"RUNS = 1\\n\")\n",
        "    f.write(\"TIME_LIMIT = 300\\n\") #seconds\n",
        "    f.close()\n",
        "    \n",
        "    # WRITE PARAMETER FILE\n",
        "    f = open(f'distances.atsp','w')\n",
        "    f.write(\"NAME: distances\\n\")\n",
        "    f.write(\"TYPE: ATSP\\n\")\n",
        "    f.write(\"COMMENT: Asymmetric TSP\\n\")\n",
        "    f.write(f\"DIMENSION: {SIZE}\\n\")\n",
        "    f.write(\"EDGE_WEIGHT_TYPE: EXPLICIT\\n\")\n",
        "    f.write(\"EDGE_WEIGHT_FORMAT: FULL_MATRIX\\n\")\n",
        "    f.write(\"EDGE_WEIGHT_SECTION\\n\")\n",
        "    for j in range(SIZE):\n",
        "        #if j%25==0: print(j,', ',end='')\n",
        "        for k in range(SIZE):\n",
        "            f.write(f\"{M[j,k]:2d} \") \n",
        "        f.write(\"\\n\")\n",
        "    f.close()\n",
        "    \n",
        "    # EXECUTE TSP SOLVER\n",
        "    !cd LKH-3.0.7; ./LKH ../group.par\n",
        "    \n",
        "    # READ RESULTING ORDER\n",
        "    with open('output.txt') as f:\n",
        "        lines = f.readlines()\n",
        "    for i,ln in enumerate(lines):\n",
        "        if 'TOUR_SECTION' in ln: break\n",
        "    perms = [int(x[:-1]) for x in lines[i+1:-2] ]\n",
        "    \n",
        "    # CREATE STRING\n",
        "    # result = group[ perms[0]-1 ]\n",
        "    # for k in range(1,len(perms)):\n",
        "    #     s1 = group[ perms[k-1]-1 ]\n",
        "    #     s2 = group[ perms[k]-1 ]\n",
        "    #     d = offset(s1,s2)\n",
        "    #     assert(d!=0)\n",
        "    #     result += s2[-d:]\n",
        "    result = \"\"\n",
        "    for k in range(len(perms)) :\n",
        "      result = merge_shift(result, group[ perms[k]-1 ])\n",
        "\n",
        "    return result"
      ],
      "id": "83a93aa5",
      "execution_count": null,
      "outputs": []
    },
    {
      "cell_type": "markdown",
      "metadata": {
        "id": "5c13ebe7"
      },
      "source": [
        "# Solve with LKH-3 TSP Solver\n",
        "We will solve the traveling salesman problem with Lin-Kernighan heuristic aka LKH. Their homepage is [here][1] and user guide is [here][2]. We can improve this notebook's LB score by adjusting the following parameters. Currently to make this notebook run quickly, we limit the solver to only 1 run of 120 seconds. We can also improve LB by using wildcards.\n",
        "\n",
        "* adjust1 = 18\n",
        "* adjust2 = 12\n",
        "* RUNS = 1\n",
        "* TIME_LIMIT = 120\n",
        "\n",
        "[1]: http://webhotel4.ruc.dk/~keld/research/LKH-3/\n",
        "[2]: http://akira.ruc.dk/~keld/research/LKH/LKH-2.0/DOC/LKH-2.0_USER_GUIDE.pdf"
      ],
      "id": "5c13ebe7"
    },
    {
      "cell_type": "code",
      "metadata": {
        "colab": {
          "base_uri": "https://localhost:8080/"
        },
        "id": "p7Gq8MJH8Ecy",
        "outputId": "5520d356-2154-41b9-fe7f-d850dfb4725b"
      },
      "source": [
        "len(all)/6"
      ],
      "id": "p7Gq8MJH8Ecy",
      "execution_count": null,
      "outputs": [
        {
          "output_type": "execute_result",
          "data": {
            "text/plain": [
              "820.0"
            ]
          },
          "metadata": {},
          "execution_count": 78
        }
      ]
    },
    {
      "cell_type": "code",
      "metadata": {
        "colab": {
          "base_uri": "https://localhost:8080/"
        },
        "id": "682cb7be",
        "outputId": "ba7b3fe9-bd0b-4fc4-846a-d4dec85b5e59"
      },
      "source": [
        "def print_header(x):\n",
        "    print(); print()\n",
        "    print('#'*25)\n",
        "    print('### Computing String',x)\n",
        "    print('#'*25); print()\n",
        "\n",
        "\n",
        "def do(adjust1, adjust2) :\n",
        "  # x =  len(all)//6\n",
        "  # group1 = permutations[:x] + permutations[5*x:] + mandatory\n",
        "  # group2 = permutations[x:2*x] + permutations[4*x:5*x]  + mandatory\n",
        "  # group3 = permutations[2*x:3*x] + permutations[3*x:4*x] + mandatory\n",
        "  x =  len(all)//3\n",
        "  group1 = permutations[:x+adjust1] + mandatory\n",
        "  group2 = permutations[x+adjust1:2*x+adjust2] + mandatory\n",
        "  group3 = permutations[2*x+adjust2:] + mandatory\n",
        " \n",
        "  print(\"group = \", len(group1), len(group2), len(group3))\n",
        "\n",
        "  print_header(1)\n",
        "  string1 = get_tsp_solution(group1) \n",
        "  print_header(2)\n",
        "  string2 = get_tsp_solution(group2) \n",
        "  print_header(3)\n",
        "  string3 = get_tsp_solution(group3) \n",
        "\n",
        "  print(\"RESULT: strings=\", len(string1), len(string2), len(string3))\n",
        "  return string1, string2, string3\n",
        "\n",
        "\n",
        "maxstr = 100000\n",
        "string1, string2, string3 = do(0, 0)\n",
        "# string1, string2, string3 = do(240, 195)\n"
      ],
      "id": "682cb7be",
      "execution_count": null,
      "outputs": [
        {
          "output_type": "stream",
          "name": "stdout",
          "text": [
            "group =  1760 1760 1760\n",
            "\n",
            "\n",
            "#########################\n",
            "### Computing String 1\n",
            "#########################\n",
            "\n",
            "PARAMETER_FILE = ../group.par\n",
            "Reading PROBLEM_FILE: \"../distances.atsp\" ... done\n",
            "ASCENT_CANDIDATES = 50\n",
            "BACKBONE_TRIALS = 0\n",
            "BACKTRACKING = NO\n",
            "# BWTSP =\n",
            "# CANDIDATE_FILE =\n",
            "CANDIDATE_SET_TYPE = ALPHA\n",
            "# DISTANCE =\n",
            "# DEPOT =\n",
            "# EDGE_FILE =\n",
            "EXCESS = 0.000568182\n",
            "EXTERNAL_SALESMEN = 0\n",
            "EXTRA_CANDIDATES = 0 \n",
            "EXTRA_CANDIDATE_SET_TYPE = QUADRANT\n",
            "GAIN23 = YES\n",
            "GAIN_CRITERION = YES\n",
            "INITIAL_PERIOD = 1760\n",
            "INITIAL_STEP_SIZE = 1\n",
            "INITIAL_TOUR_ALGORITHM = WALK\n",
            "# INITIAL_TOUR_FILE = \n",
            "INITIAL_TOUR_FRACTION = 1.000\n",
            "# INPUT_TOUR_FILE = \n",
            "KICK_TYPE = 0\n",
            "KICKS = 1\n",
            "# MAX_BREADTH =\n",
            "MAKESPAN = NO\n",
            "MAX_CANDIDATES = 5 \n",
            "MAX_SWAPS = 3520\n",
            "MAX_TRIALS = 3520\n",
            "# MERGE_TOUR_FILE =\n",
            "MOVE_TYPE = 5 \n",
            "# MTSP_MIN_SIZE =\n",
            "# MTSP_MAX_SIZE =\n",
            "# MTSP_OBJECTIVE =\n",
            "# MTSP_SOLUTION_FILE = \n",
            "NONSEQUENTIAL_MOVE_TYPE = 9\n",
            "OPTIMUM = 1760\n",
            "# OUTPUT_TOUR_FILE = \n",
            "PATCHING_A = 2 \n",
            "PATCHING_C = 3 \n",
            "# PI_FILE = \n",
            "POPMUSIC_INITIAL_TOUR = NO\n",
            "POPMUSIC_MAX_NEIGHBORS = 5\n",
            "POPMUSIC_SAMPLE_SIZE = 10\n",
            "POPMUSIC_SOLUTIONS = 50\n",
            "POPMUSIC_TRIALS = 1\n",
            "# POPULATION_SIZE = 0\n",
            "PRECISION = 100\n",
            "PROBLEM_FILE = ../distances.atsp\n",
            "RECOMBINATION = IPT\n",
            "RESTRICTED_SEARCH = YES\n",
            "RUNS = 1\n",
            "SALESMEN = 1\n",
            "SCALE = 1\n",
            "SEED = 1\n",
            "STOP_AT_OPTIMUM = YES\n",
            "SUBGRADIENT = YES\n",
            "# SUBPROBLEM_SIZE =\n",
            "# SUBPROBLEM_TOUR_FILE = \n",
            "SUBSEQUENT_MOVE_TYPE = 5 \n",
            "SUBSEQUENT_PATCHING = YES\n",
            "TIME_LIMIT = 300.0\n",
            "TOUR_FILE = ../output.txt\n",
            "TRACE_LEVEL = 1\n",
            "VEHICLES = 1\n",
            "\n",
            "Lower bound = 2230.9, Gap = -26.76%, Ascent time = 12.70 sec.\n",
            "Cand.min = 1, Cand.avg = 4.7, Cand.max = 5\n",
            "Edges.fixed = 1760 [Cost = 0]\n",
            "Preprocessing time = 13.20 sec.\n",
            "* 1: Cost = 2593, Gap = 47.3295%, Time = 0.14 sec.\n",
            "* 2: Cost = 2550, Gap = 44.8864%, Time = 0.23 sec.\n",
            "* 3: Cost = 2525, Gap = 43.4659%, Time = 0.50 sec.\n",
            "* 6: Cost = 2516, Gap = 42.9545%, Time = 0.68 sec.\n",
            "* 9: Cost = 2510, Gap = 42.6136%, Time = 0.99 sec.\n",
            "* 98: Cost = 2508, Gap = 42.5000%, Time = 23.09 sec.\n",
            "* 109: Cost = 2507, Gap = 42.4432%, Time = 24.63 sec.\n",
            "* 110: Cost = 2504, Gap = 42.2727%, Time = 24.72 sec.\n",
            "* 111: Cost = 2502, Gap = 42.1591%, Time = 24.81 sec.\n",
            "* 115: Cost = 2497, Gap = 41.8750%, Time = 25.44 sec.\n",
            "* 128: Cost = 2496, Gap = 41.8182%, Time = 27.38 sec.\n",
            "* 577: Cost = 2495, Gap = 41.7614%, Time = 68.87 sec.\n",
            "* 626: Cost = 2494, Gap = 41.7045%, Time = 73.18 sec.\n",
            "* 1003: Cost = 2493, Gap = 41.6477%, Time = 110.13 sec.\n",
            "*** Time limit exceeded ***\n",
            "Writing TOUR_FILE: \"../output.txt\" ... done\n",
            "Run 1: Cost = 2493, Gap = 41.6477%, Time = 286.62 sec.\n",
            "\n",
            "Successes/Runs = 0/1 \n",
            "Cost.min = 2493, Cost.avg = 2493.00, Cost.max = 2493\n",
            "Gap.min = 41.6477%, Gap.avg = 41.6477%, Gap.max = 41.6477%\n",
            "Trials.min = 3267, Trials.avg = 3267.0, Trials.max = 3267\n",
            "Time.min = 286.62 sec., Time.avg = 286.62 sec., Time.max = 286.62 sec.\n",
            "Time.total = 300.22 sec.\n",
            "\n",
            "\n",
            "\n",
            "#########################\n",
            "### Computing String 2\n",
            "#########################\n",
            "\n",
            "PARAMETER_FILE = ../group.par\n",
            "Reading PROBLEM_FILE: \"../distances.atsp\" ... done\n",
            "ASCENT_CANDIDATES = 50\n",
            "BACKBONE_TRIALS = 0\n",
            "BACKTRACKING = NO\n",
            "# BWTSP =\n",
            "# CANDIDATE_FILE =\n",
            "CANDIDATE_SET_TYPE = ALPHA\n",
            "# DISTANCE =\n",
            "# DEPOT =\n",
            "# EDGE_FILE =\n",
            "EXCESS = 0.000568182\n",
            "EXTERNAL_SALESMEN = 0\n",
            "EXTRA_CANDIDATES = 0 \n",
            "EXTRA_CANDIDATE_SET_TYPE = QUADRANT\n",
            "GAIN23 = YES\n",
            "GAIN_CRITERION = YES\n",
            "INITIAL_PERIOD = 1760\n",
            "INITIAL_STEP_SIZE = 1\n",
            "INITIAL_TOUR_ALGORITHM = WALK\n",
            "# INITIAL_TOUR_FILE = \n",
            "INITIAL_TOUR_FRACTION = 1.000\n",
            "# INPUT_TOUR_FILE = \n",
            "KICK_TYPE = 0\n",
            "KICKS = 1\n",
            "# MAX_BREADTH =\n",
            "MAKESPAN = NO\n",
            "MAX_CANDIDATES = 5 \n",
            "MAX_SWAPS = 3520\n",
            "MAX_TRIALS = 3520\n",
            "# MERGE_TOUR_FILE =\n",
            "MOVE_TYPE = 5 \n",
            "# MTSP_MIN_SIZE =\n",
            "# MTSP_MAX_SIZE =\n",
            "# MTSP_OBJECTIVE =\n",
            "# MTSP_SOLUTION_FILE = \n",
            "NONSEQUENTIAL_MOVE_TYPE = 9\n",
            "OPTIMUM = 1760\n",
            "# OUTPUT_TOUR_FILE = \n",
            "PATCHING_A = 2 \n",
            "PATCHING_C = 3 \n",
            "# PI_FILE = \n",
            "POPMUSIC_INITIAL_TOUR = NO\n",
            "POPMUSIC_MAX_NEIGHBORS = 5\n",
            "POPMUSIC_SAMPLE_SIZE = 10\n",
            "POPMUSIC_SOLUTIONS = 50\n",
            "POPMUSIC_TRIALS = 1\n",
            "# POPULATION_SIZE = 0\n",
            "PRECISION = 100\n",
            "PROBLEM_FILE = ../distances.atsp\n",
            "RECOMBINATION = IPT\n",
            "RESTRICTED_SEARCH = YES\n",
            "RUNS = 1\n",
            "SALESMEN = 1\n",
            "SCALE = 1\n",
            "SEED = 1\n",
            "STOP_AT_OPTIMUM = YES\n",
            "SUBGRADIENT = YES\n",
            "# SUBPROBLEM_SIZE =\n",
            "# SUBPROBLEM_TOUR_FILE = \n",
            "SUBSEQUENT_MOVE_TYPE = 5 \n",
            "SUBSEQUENT_PATCHING = YES\n",
            "TIME_LIMIT = 300.0\n",
            "TOUR_FILE = ../output.txt\n",
            "TRACE_LEVEL = 1\n",
            "VEHICLES = 1\n",
            "\n",
            "Lower bound = 2214.7, Gap = -25.83%, Ascent time = 12.32 sec.\n",
            "Cand.min = 1, Cand.avg = 4.7, Cand.max = 5\n",
            "Edges.fixed = 1760 [Cost = 0]\n",
            "Preprocessing time = 12.83 sec.\n",
            "* 1: Cost = 2568, Gap = 45.9091%, Time = 0.18 sec.\n",
            "* 2: Cost = 2548, Gap = 44.7727%, Time = 0.37 sec.\n",
            "* 3: Cost = 2533, Gap = 43.9205%, Time = 0.56 sec.\n",
            "* 4: Cost = 2523, Gap = 43.3523%, Time = 0.65 sec.\n",
            "* 5: Cost = 2514, Gap = 42.8409%, Time = 0.72 sec.\n",
            "* 9: Cost = 2513, Gap = 42.7841%, Time = 1.28 sec.\n",
            "* 10: Cost = 2507, Gap = 42.4432%, Time = 1.45 sec.\n",
            "* 11: Cost = 2506, Gap = 42.3864%, Time = 1.50 sec.\n",
            "* 12: Cost = 2500, Gap = 42.0455%, Time = 1.63 sec.\n",
            "* 16: Cost = 2499, Gap = 41.9886%, Time = 2.03 sec.\n",
            "* 19: Cost = 2498, Gap = 41.9318%, Time = 2.14 sec.\n",
            "* 20: Cost = 2493, Gap = 41.6477%, Time = 2.19 sec.\n",
            "*** Time limit exceeded ***\n",
            "Writing TOUR_FILE: \"../output.txt\" ... done\n",
            "Run 1: Cost = 2493, Gap = 41.6477%, Time = 286.78 sec.\n",
            "\n",
            "Successes/Runs = 0/1 \n",
            "Cost.min = 2493, Cost.avg = 2493.00, Cost.max = 2493\n",
            "Gap.min = 41.6477%, Gap.avg = 41.6477%, Gap.max = 41.6477%\n",
            "Trials.min = 3375, Trials.avg = 3375.0, Trials.max = 3375\n",
            "Time.min = 286.78 sec., Time.avg = 286.78 sec., Time.max = 286.78 sec.\n",
            "Time.total = 300.01 sec.\n",
            "\n",
            "\n",
            "\n",
            "#########################\n",
            "### Computing String 3\n",
            "#########################\n",
            "\n",
            "PARAMETER_FILE = ../group.par\n",
            "Reading PROBLEM_FILE: \"../distances.atsp\" ... done\n",
            "ASCENT_CANDIDATES = 50\n",
            "BACKBONE_TRIALS = 0\n",
            "BACKTRACKING = NO\n",
            "# BWTSP =\n",
            "# CANDIDATE_FILE =\n",
            "CANDIDATE_SET_TYPE = ALPHA\n",
            "# DISTANCE =\n",
            "# DEPOT =\n",
            "# EDGE_FILE =\n",
            "EXCESS = 0.000568182\n",
            "EXTERNAL_SALESMEN = 0\n",
            "EXTRA_CANDIDATES = 0 \n",
            "EXTRA_CANDIDATE_SET_TYPE = QUADRANT\n",
            "GAIN23 = YES\n",
            "GAIN_CRITERION = YES\n",
            "INITIAL_PERIOD = 1760\n",
            "INITIAL_STEP_SIZE = 1\n",
            "INITIAL_TOUR_ALGORITHM = WALK\n",
            "# INITIAL_TOUR_FILE = \n",
            "INITIAL_TOUR_FRACTION = 1.000\n",
            "# INPUT_TOUR_FILE = \n",
            "KICK_TYPE = 0\n",
            "KICKS = 1\n",
            "# MAX_BREADTH =\n",
            "MAKESPAN = NO\n",
            "MAX_CANDIDATES = 5 \n",
            "MAX_SWAPS = 3520\n",
            "MAX_TRIALS = 3520\n",
            "# MERGE_TOUR_FILE =\n",
            "MOVE_TYPE = 5 \n",
            "# MTSP_MIN_SIZE =\n",
            "# MTSP_MAX_SIZE =\n",
            "# MTSP_OBJECTIVE =\n",
            "# MTSP_SOLUTION_FILE = \n",
            "NONSEQUENTIAL_MOVE_TYPE = 9\n",
            "OPTIMUM = 1760\n",
            "# OUTPUT_TOUR_FILE = \n",
            "PATCHING_A = 2 \n",
            "PATCHING_C = 3 \n",
            "# PI_FILE = \n",
            "POPMUSIC_INITIAL_TOUR = NO\n",
            "POPMUSIC_MAX_NEIGHBORS = 5\n",
            "POPMUSIC_SAMPLE_SIZE = 10\n",
            "POPMUSIC_SOLUTIONS = 50\n",
            "POPMUSIC_TRIALS = 1\n",
            "# POPULATION_SIZE = 0\n",
            "PRECISION = 100\n",
            "PROBLEM_FILE = ../distances.atsp\n",
            "RECOMBINATION = IPT\n",
            "RESTRICTED_SEARCH = YES\n",
            "RUNS = 1\n",
            "SALESMEN = 1\n",
            "SCALE = 1\n",
            "SEED = 1\n",
            "STOP_AT_OPTIMUM = YES\n",
            "SUBGRADIENT = YES\n",
            "# SUBPROBLEM_SIZE =\n",
            "# SUBPROBLEM_TOUR_FILE = \n",
            "SUBSEQUENT_MOVE_TYPE = 5 \n",
            "SUBSEQUENT_PATCHING = YES\n",
            "TIME_LIMIT = 300.0\n",
            "TOUR_FILE = ../output.txt\n",
            "TRACE_LEVEL = 1\n",
            "VEHICLES = 1\n",
            "\n",
            "Lower bound = 2226.3, Gap = -26.49%, Ascent time = 12.72 sec.\n",
            "Cand.min = 1, Cand.avg = 4.7, Cand.max = 5\n",
            "Edges.fixed = 1760 [Cost = 0]\n",
            "Preprocessing time = 13.24 sec.\n",
            "* 1: Cost = 2569, Gap = 45.9659%, Time = 0.12 sec.\n",
            "* 2: Cost = 2538, Gap = 44.2045%, Time = 0.18 sec.\n",
            "* 3: Cost = 2529, Gap = 43.6932%, Time = 0.28 sec.\n",
            "* 5: Cost = 2524, Gap = 43.4091%, Time = 0.63 sec.\n",
            "* 13: Cost = 2523, Gap = 43.3523%, Time = 1.81 sec.\n",
            "* 19: Cost = 2522, Gap = 43.2955%, Time = 2.80 sec.\n",
            "* 21: Cost = 2521, Gap = 43.2386%, Time = 3.68 sec.\n",
            "* 25: Cost = 2517, Gap = 43.0114%, Time = 4.64 sec.\n",
            "* 27: Cost = 2512, Gap = 42.7273%, Time = 5.03 sec.\n",
            "* 76: Cost = 2511, Gap = 42.6705%, Time = 27.10 sec.\n",
            "* 79: Cost = 2510, Gap = 42.6136%, Time = 27.83 sec.\n",
            "* 81: Cost = 2508, Gap = 42.5000%, Time = 28.26 sec.\n",
            "* 97: Cost = 2506, Gap = 42.3864%, Time = 33.02 sec.\n",
            "* 99: Cost = 2503, Gap = 42.2159%, Time = 33.49 sec.\n",
            "* 124: Cost = 2502, Gap = 42.1591%, Time = 39.81 sec.\n",
            "* 135: Cost = 2500, Gap = 42.0455%, Time = 42.39 sec.\n",
            "* 139: Cost = 2498, Gap = 41.9318%, Time = 42.84 sec.\n",
            "* 140: Cost = 2495, Gap = 41.7614%, Time = 43.33 sec.\n",
            "* 166: Cost = 2493, Gap = 41.6477%, Time = 53.31 sec.\n",
            "*** Time limit exceeded ***\n",
            "Writing TOUR_FILE: \"../output.txt\" ... done\n",
            "Run 1: Cost = 2493, Gap = 41.6477%, Time = 286.38 sec.\n",
            "\n",
            "Successes/Runs = 0/1 \n",
            "Cost.min = 2493, Cost.avg = 2493.00, Cost.max = 2493\n",
            "Gap.min = 41.6477%, Gap.avg = 41.6477%, Gap.max = 41.6477%\n",
            "Trials.min = 798, Trials.avg = 798.0, Trials.max = 798\n",
            "Time.min = 286.38 sec., Time.avg = 286.38 sec., Time.max = 286.38 sec.\n",
            "Time.total = 300.01 sec.\n",
            "\n",
            "RESULT: strings= 2484 2484 2484\n"
          ]
        }
      ]
    },
    {
      "cell_type": "code",
      "metadata": {
        "colab": {
          "base_uri": "https://localhost:8080/"
        },
        "id": "DCRSsvQAZs5d",
        "outputId": "c1d4671f-9ad6-4324-abb2-a781d8d04291"
      },
      "source": [
        "# # READ RESULTING ORDER\n",
        "# group = group3\n",
        "# with open('output.txt') as f:\n",
        "#     lines = f.readlines()\n",
        "# for i,ln in enumerate(lines):\n",
        "#     if 'TOUR_SECTION' in ln: break\n",
        "# perms = [int(x[:-1]) for x in lines[i+1:-2] ]\n",
        "\n",
        "# # CREATE STRING\n",
        "# result = group[ perms[0]-1 ]\n",
        "# for k in range(1,len(perms)):\n",
        "#     s1 = group[ perms[k-1]-1 ]\n",
        "#     s2 = group[ perms[k]-1 ]\n",
        "#     d = offset(s1,s2)\n",
        "#     assert(d!=0)\n",
        "#     result += s2[-d:]\n",
        "\n",
        "# print(group[perms[0]-1], group[perms[1]-1], group[perms[2]-1])\n",
        "# len(result)\n",
        "print(string1[:7],string1[-7:])\n",
        "print(string2[:7],string2[-7:])\n",
        "print(string3[:7],string3[-7:])\n",
        "group1[0],group2[0], group3[0]\n",
        "len(group1)"
      ],
      "id": "DCRSsvQAZs5d",
      "execution_count": 94,
      "outputs": [
        {
          "output_type": "stream",
          "name": "stdout",
          "text": [
            "7654321 1243756\n",
            "5764321 1247365\n",
            "7564321 1263457\n"
          ]
        },
        {
          "output_type": "execute_result",
          "data": {
            "text/plain": [
              "1640"
            ]
          },
          "metadata": {},
          "execution_count": 94
        }
      ]
    },
    {
      "cell_type": "markdown",
      "metadata": {
        "id": "bf596087"
      },
      "source": [
        "# Verify\n",
        "Let's verify that all permutations are contained in at least one string. And let's verify that the mandatory sequences are contained in every string."
      ],
      "id": "bf596087"
    },
    {
      "cell_type": "code",
      "metadata": {
        "id": "3898750d"
      },
      "source": [
        "all_permutations = [''.join(x) for x in itertools.permutations(['1','2','3','4','5','6','7'], 7)]\n",
        "\n",
        "for p in all_permutations:\n",
        "    if p not in string1 and p not in string2 and p not in string3:\n",
        "        print(p)"
      ],
      "id": "3898750d",
      "execution_count": null,
      "outputs": []
    },
    {
      "cell_type": "code",
      "metadata": {
        "id": "a01cf13e"
      },
      "source": [
        "for p in mandatory:\n",
        "    if p not in string1:\n",
        "        print(p)\n",
        "    if p not in string2:\n",
        "        print(p)\n",
        "    if p not in string3:\n",
        "        print(p)"
      ],
      "id": "a01cf13e",
      "execution_count": null,
      "outputs": []
    },
    {
      "cell_type": "markdown",
      "metadata": {
        "id": "i9eYlmvsbnsA"
      },
      "source": [
        "## try Wild"
      ],
      "id": "i9eYlmvsbnsA"
    },
    {
      "cell_type": "code",
      "metadata": {
        "colab": {
          "base_uri": "https://localhost:8080/"
        },
        "id": "P_nPYHcgbmbw",
        "outputId": "eed4343e-39fb-436b-815f-6f19dc851594"
      },
      "source": [
        "import re\n",
        "ss = string2\n",
        "tr = string2[:7]\n",
        "print(\"target\", tr)\n",
        "\n",
        "for k in range(7) :\n",
        "  x = tr[:k] + '.' + tr[k+1:]\n",
        "  f = [m.span() for m in re.finditer(x, ss[7:])]\n",
        "  if len(f) != 0 :\n",
        "    start,end = f[0][0],f[0][1]\n",
        "    print(f, x, ss[start-6:end+6])\n"
      ],
      "id": "P_nPYHcgbmbw",
      "execution_count": null,
      "outputs": [
        {
          "output_type": "stream",
          "name": "stdout",
          "text": [
            "target 5764321\n",
            "[(41, 48)] 576432. 7364215763421576432\n"
          ]
        }
      ]
    },
    {
      "cell_type": "code",
      "metadata": {
        "id": "fbGBwdtvfDeA"
      },
      "source": [
        ""
      ],
      "id": "fbGBwdtvfDeA",
      "execution_count": null,
      "outputs": []
    },
    {
      "cell_type": "markdown",
      "metadata": {
        "id": "90dd6301"
      },
      "source": [
        "# Write Submission CSV"
      ],
      "id": "90dd6301"
    },
    {
      "cell_type": "code",
      "metadata": {
        "id": "afc6a078"
      },
      "source": [
        "# CONVERT NUMBERS TO EMOJIS\n",
        "replace_dict = {\n",
        " '1': '🎅',\n",
        " '2': '🤶',\n",
        " '8': '🌟',\n",
        " '3': '🦌',\n",
        " '4': '🧝',\n",
        " '5': '🎄',\n",
        " '6': '🎁',\n",
        " '7': '🎀'}\n",
        "\n",
        "for k,v in replace_dict.items():\n",
        "    string1 = string1.replace(k, v)\n",
        "    string2 = string2.replace(k, v)\n",
        "    string3 = string3.replace(k, v)"
      ],
      "id": "afc6a078",
      "execution_count": null,
      "outputs": []
    },
    {
      "cell_type": "code",
      "metadata": {
        "colab": {
          "base_uri": "https://localhost:8080/",
          "height": 141
        },
        "id": "b0032626",
        "outputId": "dbf7e1f5-0e3a-41bd-fe16-e9b756e3651b"
      },
      "source": [
        "# WRITE SUBMISSION CSV\n",
        "sub = pd.DataFrame()\n",
        "sub['schedule'] = [string1, string2, string3]\n",
        "sub.to_csv('submission.csv',index=False)\n",
        "sub.head()"
      ],
      "id": "b0032626",
      "execution_count": null,
      "outputs": [
        {
          "output_type": "execute_result",
          "data": {
            "text/html": [
              "<div>\n",
              "<style scoped>\n",
              "    .dataframe tbody tr th:only-of-type {\n",
              "        vertical-align: middle;\n",
              "    }\n",
              "\n",
              "    .dataframe tbody tr th {\n",
              "        vertical-align: top;\n",
              "    }\n",
              "\n",
              "    .dataframe thead th {\n",
              "        text-align: right;\n",
              "    }\n",
              "</style>\n",
              "<table border=\"1\" class=\"dataframe\">\n",
              "  <thead>\n",
              "    <tr style=\"text-align: right;\">\n",
              "      <th></th>\n",
              "      <th>schedule</th>\n",
              "    </tr>\n",
              "  </thead>\n",
              "  <tbody>\n",
              "    <tr>\n",
              "      <th>0</th>\n",
              "      <td>🎀🎁🎄🧝🦌🤶🎅🎀🎁🎄🧝🤶🦌🎅🎀🎁🎄🧝🤶🎅🦌🎀🎁🎄🧝🤶🎅🎀🦌🎁🎄🧝🤶🎅🎀🎁🦌🎄🧝🤶🎅🎀🎁🎄🦌🧝...</td>\n",
              "    </tr>\n",
              "    <tr>\n",
              "      <th>1</th>\n",
              "      <td>🎄🎀🎁🧝🦌🤶🎅🎄🎀🎁🧝🤶🦌🎅🎄🎀🎁🧝🤶🎅🦌🎄🎀🎁🧝🤶🎅🎄🦌🎀🎁🧝🤶🎅🎄🎀🦌🎁🧝🤶🎅🎄🎀🎁🦌🧝...</td>\n",
              "    </tr>\n",
              "    <tr>\n",
              "      <th>2</th>\n",
              "      <td>🎀🎄🎁🧝🦌🤶🎅🎀🎄🎁🧝🤶🦌🎅🎀🎄🎁🧝🤶🎅🦌🎀🎄🎁🧝🤶🎅🎀🦌🎄🎁🧝🤶🎅🎀🎄🦌🎁🧝🤶🎅🎀🎄🎁🦌🧝...</td>\n",
              "    </tr>\n",
              "  </tbody>\n",
              "</table>\n",
              "</div>"
            ],
            "text/plain": [
              "                                            schedule\n",
              "0  🎀🎁🎄🧝🦌🤶🎅🎀🎁🎄🧝🤶🦌🎅🎀🎁🎄🧝🤶🎅🦌🎀🎁🎄🧝🤶🎅🎀🦌🎁🎄🧝🤶🎅🎀🎁🦌🎄🧝🤶🎅🎀🎁🎄🦌🧝...\n",
              "1  🎄🎀🎁🧝🦌🤶🎅🎄🎀🎁🧝🤶🦌🎅🎄🎀🎁🧝🤶🎅🦌🎄🎀🎁🧝🤶🎅🎄🦌🎀🎁🧝🤶🎅🎄🎀🦌🎁🧝🤶🎅🎄🎀🎁🦌🧝...\n",
              "2  🎀🎄🎁🧝🦌🤶🎅🎀🎄🎁🧝🤶🦌🎅🎀🎄🎁🧝🤶🎅🦌🎀🎄🎁🧝🤶🎅🎀🦌🎄🎁🧝🤶🎅🎀🎄🦌🎁🧝🤶🎅🎀🎄🎁🦌🧝..."
            ]
          },
          "metadata": {},
          "execution_count": 45
        }
      ]
    },
    {
      "cell_type": "code",
      "metadata": {
        "colab": {
          "base_uri": "https://localhost:8080/"
        },
        "id": "q3Vq_MbhGyIx",
        "outputId": "70f1c465-50c3-42e5-8609-5868a51f8a4d"
      },
      "source": [
        "print(len(string1))\n",
        "print(len(string2))\n",
        "print(len(string3))"
      ],
      "id": "q3Vq_MbhGyIx",
      "execution_count": null,
      "outputs": [
        {
          "output_type": "stream",
          "name": "stdout",
          "text": [
            "2484\n",
            "2484\n",
            "2484\n"
          ]
        }
      ]
    },
    {
      "cell_type": "code",
      "metadata": {
        "id": "tlMfL9OLG4Vy"
      },
      "source": [
        "!cp submission.csv /content/drive/MyDrive/datas/submission.csv"
      ],
      "id": "tlMfL9OLG4Vy",
      "execution_count": null,
      "outputs": []
    },
    {
      "cell_type": "code",
      "metadata": {
        "id": "E4BBUTNrHFOk"
      },
      "source": [
        "        "
      ],
      "id": "E4BBUTNrHFOk",
      "execution_count": null,
      "outputs": []
    }
  ]
}