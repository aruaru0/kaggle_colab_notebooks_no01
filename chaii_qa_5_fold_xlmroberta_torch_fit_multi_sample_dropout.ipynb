{
  "nbformat": 4,
  "nbformat_minor": 5,
  "metadata": {
    "accelerator": "GPU",
    "colab": {
      "name": "chaii-qa-5-fold-xlmroberta-torch-fit-multi-sample-dropout",
      "provenance": [],
      "collapsed_sections": [],
      "toc_visible": true,
      "machine_shape": "hm",
      "include_colab_link": true
    },
    "kernelspec": {
      "display_name": "Python 3",
      "language": "python",
      "name": "python3"
    },
    "language_info": {
      "codemirror_mode": {
        "name": "ipython",
        "version": 3
      },
      "file_extension": ".py",
      "mimetype": "text/x-python",
      "name": "python",
      "nbconvert_exporter": "python",
      "pygments_lexer": "ipython3",
      "version": "3.7.10"
    },
    "papermill": {
      "default_parameters": {},
      "duration": 3134.482195,
      "end_time": "2021-09-26T00:57:33.514736",
      "environment_variables": {},
      "exception": null,
      "input_path": "__notebook__.ipynb",
      "output_path": "__notebook__.ipynb",
      "parameters": {},
      "start_time": "2021-09-26T00:05:19.032541",
      "version": "2.3.3"
    }
  },
  "cells": [
    {
      "cell_type": "markdown",
      "metadata": {
        "id": "view-in-github",
        "colab_type": "text"
      },
      "source": [
        "<a href=\"https://colab.research.google.com/github/aruaru0/colab_notebook/blob/main/chaii_qa_5_fold_xlmroberta_torch_fit_multi_sample_dropout.ipynb\" target=\"_parent\"><img src=\"https://colab.research.google.com/assets/colab-badge.svg\" alt=\"Open In Colab\"/></a>"
      ]
    },
    {
      "cell_type": "markdown",
      "metadata": {
        "id": "Gf20wKLVQUYg"
      },
      "source": [
        "# Add Multi sample dropout"
      ],
      "id": "Gf20wKLVQUYg"
    },
    {
      "cell_type": "markdown",
      "metadata": {
        "id": "shE3S33KxTch"
      },
      "source": [
        "# for colab"
      ],
      "id": "shE3S33KxTch"
    },
    {
      "cell_type": "code",
      "metadata": {
        "colab": {
          "base_uri": "https://localhost:8080/"
        },
        "id": "BZJxbaQFyRMb",
        "outputId": "44e8fe37-868c-444d-fc44-74d12af0ef29"
      },
      "source": [
        "!nvidia-smi"
      ],
      "id": "BZJxbaQFyRMb",
      "execution_count": null,
      "outputs": [
        {
          "name": "stdout",
          "output_type": "stream",
          "text": [
            "Fri Nov  5 12:24:52 2021       \n",
            "+-----------------------------------------------------------------------------+\n",
            "| NVIDIA-SMI 495.44       Driver Version: 460.32.03    CUDA Version: 11.2     |\n",
            "|-------------------------------+----------------------+----------------------+\n",
            "| GPU  Name        Persistence-M| Bus-Id        Disp.A | Volatile Uncorr. ECC |\n",
            "| Fan  Temp  Perf  Pwr:Usage/Cap|         Memory-Usage | GPU-Util  Compute M. |\n",
            "|                               |                      |               MIG M. |\n",
            "|===============================+======================+======================|\n",
            "|   0  Tesla P100-PCIE...  Off  | 00000000:00:04.0 Off |                    0 |\n",
            "| N/A   40C    P0    27W / 250W |      0MiB / 16280MiB |      0%      Default |\n",
            "|                               |                      |                  N/A |\n",
            "+-------------------------------+----------------------+----------------------+\n",
            "                                                                               \n",
            "+-----------------------------------------------------------------------------+\n",
            "| Processes:                                                                  |\n",
            "|  GPU   GI   CI        PID   Type   Process name                  GPU Memory |\n",
            "|        ID   ID                                                   Usage      |\n",
            "|=============================================================================|\n",
            "|  No running processes found                                                 |\n",
            "+-----------------------------------------------------------------------------+\n"
          ]
        }
      ]
    },
    {
      "cell_type": "code",
      "metadata": {
        "colab": {
          "base_uri": "https://localhost:8080/"
        },
        "id": "KnzNG_0jxW_6",
        "outputId": "de006b08-5dbb-4d9e-ffff-a2f9b4e24b44"
      },
      "source": [
        "from google.colab import drive\n",
        "drive.mount('/content/drive')"
      ],
      "id": "KnzNG_0jxW_6",
      "execution_count": null,
      "outputs": [
        {
          "name": "stdout",
          "output_type": "stream",
          "text": [
            "Mounted at /content/drive\n"
          ]
        }
      ]
    },
    {
      "cell_type": "code",
      "metadata": {
        "id": "CTgjav_xxW7p"
      },
      "source": [
        "! pip install --upgrade --force-reinstall --no-deps  kaggle > /dev/null\n",
        "! mkdir /root/.kaggle\n",
        "! cp \"/content/drive/My Drive/Kaggle/kaggle.json\" /root/.kaggle/\n",
        "! chmod 600 /root/.kaggle/kaggle.json"
      ],
      "id": "CTgjav_xxW7p",
      "execution_count": null,
      "outputs": []
    },
    {
      "cell_type": "code",
      "metadata": {
        "colab": {
          "base_uri": "https://localhost:8080/"
        },
        "id": "MO_GIjVFxW4G",
        "outputId": "2f7b7580-0947-41b0-9e78-d8dac15e3ece"
      },
      "source": [
        "!kaggle competitions download -c chaii-hindi-and-tamil-question-answering\n",
        "!kaggle datasets download -d rhtsingh/mlqa-hindi-processed\n",
        "!kaggle datasets download -d nbroad/xlm-roberta-squad2\n",
        "!kaggle datasets download -d msafi04/squad-qa-tamil-dataset\n",
        "!kaggle datasets download -d kishalmandal/cleaned-data-for-chaii\n",
        "!kaggle datasets download -d harshwalia/chaiiextended-and-cleaned-datasetready-to-train\n",
        "!kaggle datasets download -d tkm2261/google-translated-squad20-to-hindi-and-tamil"
      ],
      "id": "MO_GIjVFxW4G",
      "execution_count": null,
      "outputs": [
        {
          "name": "stdout",
          "output_type": "stream",
          "text": [
            "Downloading chaii-hindi-and-tamil-question-answering.zip to /content\n",
            " 73% 5.00M/6.81M [00:00<00:00, 28.9MB/s]\n",
            "100% 6.81M/6.81M [00:00<00:00, 38.1MB/s]\n",
            "Downloading mlqa-hindi-processed.zip to /content\n",
            "  0% 0.00/2.49M [00:00<?, ?B/s]\n",
            "100% 2.49M/2.49M [00:00<00:00, 142MB/s]\n",
            "Downloading xlm-roberta-squad2.zip to /content\n",
            " 99% 2.51G/2.53G [00:19<00:00, 143MB/s]\n",
            "100% 2.53G/2.53G [00:19<00:00, 140MB/s]\n",
            "Downloading squad-qa-tamil-dataset.zip to /content\n",
            "  0% 0.00/564k [00:00<?, ?B/s]\n",
            "100% 564k/564k [00:00<00:00, 117MB/s]\n",
            "Downloading cleaned-data-for-chaii.zip to /content\n",
            "  0% 0.00/6.71M [00:00<?, ?B/s]\n",
            "100% 6.71M/6.71M [00:00<00:00, 86.9MB/s]\n",
            "Downloading chaiiextended-and-cleaned-datasetready-to-train.zip to /content\n",
            "  0% 0.00/9.29M [00:00<?, ?B/s]\n",
            "100% 9.29M/9.29M [00:00<00:00, 123MB/s]\n",
            "Downloading google-translated-squad20-to-hindi-and-tamil.zip to /content\n",
            " 31% 9.00M/29.0M [00:00<00:00, 75.0MB/s]\n",
            "100% 29.0M/29.0M [00:00<00:00, 150MB/s] \n"
          ]
        }
      ]
    },
    {
      "cell_type": "code",
      "metadata": {
        "colab": {
          "base_uri": "https://localhost:8080/"
        },
        "id": "PObJQR5XxWrD",
        "outputId": "42dfb520-6d81-4043-c93b-35adb158bfb4"
      },
      "source": [
        "!apt install unzip"
      ],
      "id": "PObJQR5XxWrD",
      "execution_count": null,
      "outputs": [
        {
          "name": "stdout",
          "output_type": "stream",
          "text": [
            "Reading package lists... Done\n",
            "Building dependency tree       \n",
            "Reading state information... Done\n",
            "unzip is already the newest version (6.0-21ubuntu1.1).\n",
            "0 upgraded, 0 newly installed, 0 to remove and 37 not upgraded.\n"
          ]
        }
      ]
    },
    {
      "cell_type": "code",
      "metadata": {
        "id": "wyQVYuBDxxBn"
      },
      "source": [
        "!mkdir -p input output"
      ],
      "id": "wyQVYuBDxxBn",
      "execution_count": null,
      "outputs": []
    },
    {
      "cell_type": "code",
      "metadata": {
        "colab": {
          "base_uri": "https://localhost:8080/"
        },
        "id": "_3uTTHsFxw2D",
        "outputId": "605b5465-9af0-47c9-992c-051ee48933b1"
      },
      "source": [
        "!mkdir input/chaii-hindi-and-tamil-question-answering\n",
        "!unzip /content/chaii-hindi-and-tamil-question-answering.zip -d input/chaii-hindi-and-tamil-question-answering\n",
        "!mkdir input/mlqa-hindi-processed\n",
        "!unzip /content/mlqa-hindi-processed.zip -d input/mlqa-hindi-processed\n",
        "!mkdir input/xlm-roberta-squad2\n",
        "!unzip /content/xlm-roberta-squad2.zip -d input/xlm-roberta-squad2/\n",
        "!mkdir input/squad-qa-tamil-dataset\n",
        "!unzip /content/squad-qa-tamil-dataset.zip -d input/squad-qa-tamil-dataset\n",
        "!mkdir input/cleaned-data-for-chaii\n",
        "!unzip /content/cleaned-data-for-chaii.zip -d input/cleaned-data-for-chaii\n",
        "!mkdir input/chaiiextended-and-cleaned-datasetready-to-train\n",
        "!unzip /content/chaiiextended-and-cleaned-datasetready-to-train.zip -d input/chaiiextended-and-cleaned-datasetready-to-train\n",
        "!mkdir input/google-translated-squad20-to-hindi-and-tamil\n",
        "!unzip /content/google-translated-squad20-to-hindi-and-tamil.zip -d input/google-translated-squad20-to-hindi-and-tamil"
      ],
      "id": "_3uTTHsFxw2D",
      "execution_count": null,
      "outputs": [
        {
          "name": "stdout",
          "output_type": "stream",
          "text": [
            "Archive:  /content/chaii-hindi-and-tamil-question-answering.zip\n",
            "  inflating: input/chaii-hindi-and-tamil-question-answering/sample_submission.csv  \n",
            "  inflating: input/chaii-hindi-and-tamil-question-answering/test.csv  \n",
            "  inflating: input/chaii-hindi-and-tamil-question-answering/train.csv  \n",
            "Archive:  /content/mlqa-hindi-processed.zip\n",
            "  inflating: input/mlqa-hindi-processed/mlqa_hindi.csv  \n",
            "  inflating: input/mlqa-hindi-processed/xquad.csv  \n",
            "Archive:  /content/xlm-roberta-squad2.zip\n",
            "  inflating: input/xlm-roberta-squad2/deepset/xlm-roberta-base-squad2/config.json  \n",
            "  inflating: input/xlm-roberta-squad2/deepset/xlm-roberta-base-squad2/pytorch_model.bin  \n",
            "  inflating: input/xlm-roberta-squad2/deepset/xlm-roberta-base-squad2/sentencepiece.bpe.model  \n",
            "  inflating: input/xlm-roberta-squad2/deepset/xlm-roberta-base-squad2/special_tokens_map.json  \n",
            "  inflating: input/xlm-roberta-squad2/deepset/xlm-roberta-base-squad2/tokenizer.json  \n",
            "  inflating: input/xlm-roberta-squad2/deepset/xlm-roberta-base-squad2/tokenizer_config.json  \n",
            "  inflating: input/xlm-roberta-squad2/deepset/xlm-roberta-large-squad2/config.json  \n",
            "  inflating: input/xlm-roberta-squad2/deepset/xlm-roberta-large-squad2/pytorch_model.bin  \n",
            "  inflating: input/xlm-roberta-squad2/deepset/xlm-roberta-large-squad2/sentencepiece.bpe.model  \n",
            "  inflating: input/xlm-roberta-squad2/deepset/xlm-roberta-large-squad2/special_tokens_map.json  \n",
            "  inflating: input/xlm-roberta-squad2/deepset/xlm-roberta-large-squad2/tokenizer.json  \n",
            "  inflating: input/xlm-roberta-squad2/deepset/xlm-roberta-large-squad2/tokenizer_config.json  \n",
            "Archive:  /content/squad-qa-tamil-dataset.zip\n",
            "  inflating: input/squad-qa-tamil-dataset/squad_tamilQA.csv  \n",
            "Archive:  /content/cleaned-data-for-chaii.zip\n",
            "  inflating: input/cleaned-data-for-chaii/cleaned_train.csv  \n",
            "Archive:  /content/chaiiextended-and-cleaned-datasetready-to-train.zip\n",
            "  inflating: input/chaiiextended-and-cleaned-datasetready-to-train/ChaiiExtended.csv  \n",
            "Archive:  /content/google-translated-squad20-to-hindi-and-tamil.zip\n",
            "  inflating: input/google-translated-squad20-to-hindi-and-tamil/squad_hi.csv  \n",
            "  inflating: input/google-translated-squad20-to-hindi-and-tamil/squad_ta.csv  \n"
          ]
        }
      ]
    },
    {
      "cell_type": "code",
      "metadata": {
        "id": "mOWu9n5ueeIE"
      },
      "source": [
        "# !mkdir input/chaii\n",
        "# !kaggle datasets download -d aruaru0/chaii-no006\n",
        "#!unzip /content/chaii-no006.zip -d input/chaii\n",
        "#!kaggle datasets download -d nguyenduongthanh/chaii-xlmr-5-fold\n",
        "#!unzip /content/chaii-xlmr-5-fold.zip -d input/chaii"
      ],
      "id": "mOWu9n5ueeIE",
      "execution_count": null,
      "outputs": []
    },
    {
      "cell_type": "markdown",
      "metadata": {
        "id": "SCRudbllx9Be"
      },
      "source": [
        "# restart here.."
      ],
      "id": "SCRudbllx9Be"
    },
    {
      "cell_type": "code",
      "metadata": {
        "colab": {
          "base_uri": "https://localhost:8080/"
        },
        "id": "IrhwRDxfx6fa",
        "outputId": "2fec924a-bf5e-4b86-a356-29b4b0f8aed5"
      },
      "source": [
        "%cd output"
      ],
      "id": "IrhwRDxfx6fa",
      "execution_count": null,
      "outputs": [
        {
          "name": "stdout",
          "output_type": "stream",
          "text": [
            "/content/output\n"
          ]
        }
      ]
    },
    {
      "cell_type": "code",
      "metadata": {
        "colab": {
          "base_uri": "https://localhost:8080/"
        },
        "id": "wPXOqpvbyBky",
        "outputId": "351cf1d1-661a-4e93-8672-41b630d4c7cf"
      },
      "source": [
        "!pip install transformers"
      ],
      "id": "wPXOqpvbyBky",
      "execution_count": null,
      "outputs": [
        {
          "name": "stdout",
          "output_type": "stream",
          "text": [
            "Requirement already satisfied: transformers in /usr/local/lib/python3.7/dist-packages (4.12.3)\n",
            "Requirement already satisfied: tokenizers<0.11,>=0.10.1 in /usr/local/lib/python3.7/dist-packages (from transformers) (0.10.3)\n",
            "Requirement already satisfied: numpy>=1.17 in /usr/local/lib/python3.7/dist-packages (from transformers) (1.19.5)\n",
            "Requirement already satisfied: tqdm>=4.27 in /usr/local/lib/python3.7/dist-packages (from transformers) (4.62.3)\n",
            "Requirement already satisfied: pyyaml>=5.1 in /usr/local/lib/python3.7/dist-packages (from transformers) (6.0)\n",
            "Requirement already satisfied: sacremoses in /usr/local/lib/python3.7/dist-packages (from transformers) (0.0.46)\n",
            "Requirement already satisfied: requests in /usr/local/lib/python3.7/dist-packages (from transformers) (2.23.0)\n",
            "Requirement already satisfied: importlib-metadata in /usr/local/lib/python3.7/dist-packages (from transformers) (4.8.1)\n",
            "Requirement already satisfied: filelock in /usr/local/lib/python3.7/dist-packages (from transformers) (3.3.0)\n",
            "Requirement already satisfied: regex!=2019.12.17 in /usr/local/lib/python3.7/dist-packages (from transformers) (2019.12.20)\n",
            "Requirement already satisfied: huggingface-hub<1.0,>=0.1.0 in /usr/local/lib/python3.7/dist-packages (from transformers) (0.1.0)\n",
            "Requirement already satisfied: packaging>=20.0 in /usr/local/lib/python3.7/dist-packages (from transformers) (21.0)\n",
            "Requirement already satisfied: typing-extensions in /usr/local/lib/python3.7/dist-packages (from huggingface-hub<1.0,>=0.1.0->transformers) (3.7.4.3)\n",
            "Requirement already satisfied: pyparsing>=2.0.2 in /usr/local/lib/python3.7/dist-packages (from packaging>=20.0->transformers) (2.4.7)\n",
            "Requirement already satisfied: zipp>=0.5 in /usr/local/lib/python3.7/dist-packages (from importlib-metadata->transformers) (3.6.0)\n",
            "Requirement already satisfied: chardet<4,>=3.0.2 in /usr/local/lib/python3.7/dist-packages (from requests->transformers) (3.0.4)\n",
            "Requirement already satisfied: certifi>=2017.4.17 in /usr/local/lib/python3.7/dist-packages (from requests->transformers) (2021.5.30)\n",
            "Requirement already satisfied: idna<3,>=2.5 in /usr/local/lib/python3.7/dist-packages (from requests->transformers) (2.10)\n",
            "Requirement already satisfied: urllib3!=1.25.0,!=1.25.1,<1.26,>=1.21.1 in /usr/local/lib/python3.7/dist-packages (from requests->transformers) (1.24.3)\n",
            "Requirement already satisfied: joblib in /usr/local/lib/python3.7/dist-packages (from sacremoses->transformers) (1.0.1)\n",
            "Requirement already satisfied: click in /usr/local/lib/python3.7/dist-packages (from sacremoses->transformers) (7.1.2)\n",
            "Requirement already satisfied: six in /usr/local/lib/python3.7/dist-packages (from sacremoses->transformers) (1.15.0)\n"
          ]
        }
      ]
    },
    {
      "cell_type": "markdown",
      "metadata": {
        "id": "c47c9139"
      },
      "source": [
        "<h2>chaii QA - 5 Fold XLMRoberta Finetuning in Torch w/o Trainer API</h2>\n",
        "    \n",
        "<h3><span \"style: color=#444\">Introduction</span></h3>\n",
        "\n",
        "The kernel implements 5-Fold XLMRoberta QA Model without using the Trainer API from HuggingFace.\n",
        "\n",
        "This is a three part kernel,\n",
        "\n",
        "- [External Data - MLQA, XQUAD Preprocessing](https://www.kaggle.com/rhtsingh/external-data-mlqa-xquad-preprocessing) which preprocesses the Hindi Corpus of MLQA and XQUAD. I have used these data for training.\n",
        "\n",
        "- [chaii QA - 5 Fold XLMRoberta Torch | FIT](https://www.kaggle.com/rhtsingh/chaii-qa-5-fold-xlmroberta-torch-fit/edit) This kernel is the current kernel and used for Finetuning (FIT) on competition + external data.\n",
        "\n",
        "- [chaii QA - 5 Fold XLMRoberta Torch | Infer](https://www.kaggle.com/rhtsingh/chaii-qa-5-fold-xlmroberta-torch-infer) The Inference kernel where we ensemble our 5 Fold XLMRoberta Models and do the submission.\n",
        "\n",
        "<h3><span \"style: color=#444\">Techniques</span></h3>\n",
        "\n",
        "The kernel has implementation for below techniques, click on the links to learn more -\n",
        "\n",
        " - [External Data Preprocessing + Training](https://www.kaggle.com/rhtsingh/external-data-mlqa-xquad-preprocessing)\n",
        " \n",
        " - [Mixed Precision Training using APEX](https://www.kaggle.com/rhtsingh/swa-apex-amp-interpreting-transformers-in-torch)\n",
        " \n",
        " - [Gradient Accumulation](https://www.kaggle.com/rhtsingh/speeding-up-transformer-w-optimization-strategies)\n",
        " \n",
        " - [Gradient Clipping](https://www.kaggle.com/rhtsingh/swa-apex-amp-interpreting-transformers-in-torch)\n",
        " \n",
        " - [Grouped Layerwise Learning Rate Decay](https://www.kaggle.com/rhtsingh/guide-to-huggingface-schedulers-differential-lrs)\n",
        " \n",
        " - [Utilizing Intermediate Transformer Representations](https://www.kaggle.com/rhtsingh/utilizing-transformer-representations-efficiently)\n",
        " \n",
        " - [Layer Initialization](https://www.kaggle.com/rhtsingh/on-stability-of-few-sample-transformer-fine-tuning)\n",
        " \n",
        " - [5-Fold Training](https://www.kaggle.com/rhtsingh/commonlit-readability-prize-roberta-torch-fit)\n",
        " \n",
        " - etc.\n",
        " \n",
        "<h3><span \"style: color=#444\">References</span></h3>\n",
        "I would like to acknowledge below kagglers work and resources without whom this kernel wouldn't have been possible,  \n",
        "\n",
        "- [roberta inference 5 folds by Abhishek](https://www.kaggle.com/abhishek/roberta-inference-5-folds)\n",
        "\n",
        "- [ChAII - EDA & Baseline by Darek](https://www.kaggle.com/thedrcat/chaii-eda-baseline) due to whom i found the great notebook below from HuggingFace,\n",
        "\n",
        "- [How to fine-tune a model on question answering](https://github.com/huggingface/notebooks/blob/master/examples/question_answering.ipynb)\n",
        "\n",
        "- [HuggingFace QA Examples](https://github.com/huggingface/transformers/tree/master/examples/pytorch/question-answering)\n",
        "\n",
        "- [TensorFlow 2.0 Question Answering - Collections of gold solutions](https://www.kaggle.com/c/tensorflow2-question-answering/discussion/127409) these solutions are gold and highly recommend everyone to give a detailed read."
      ],
      "id": "c47c9139"
    },
    {
      "cell_type": "markdown",
      "metadata": {
        "id": "43955668"
      },
      "source": [
        "<h3><span style=\"color=#444\">Note</span></h3>\n",
        "\n",
        "The below points are worth noting,\n",
        "\n",
        " - I haven't used FP16 because due to some reason this fails and model never starts training.\n",
        " - These are the original hyperparamters and setting that I have used for training my models.\n",
        " - I tried few pooling layers but none of them performed better than simple one.\n",
        " - Gradient clipping reduces model performance.\n",
        " - <span style=\"color:#2E86C1\">Training 5 Folds at once will give OOM issue on Kaggle and Colab. I have trained one fold at a time i.e. After 1st fold is completed I save the model as a dataset then train second fold. Repeat this process until all 5 folds are completed. Training each fold takes around 50 minuts on Kaggle.</span>\n",
        " - <span style=\"color:#2E86C1\">I have modified the preprocessing code a lot from original used in HuggingFace notebook since I am not using HuggingFace Datasets API as well. So I had to handle the sequence-ids specially since they contain None values which torch doesn't support.</span>"
      ],
      "id": "43955668"
    },
    {
      "cell_type": "markdown",
      "metadata": {
        "id": "8f09433b"
      },
      "source": [
        "### Install APEX"
      ],
      "id": "8f09433b"
    },
    {
      "cell_type": "code",
      "metadata": {
        "id": "f4bb901a"
      },
      "source": [
        "# %%writefile setup.sh\n",
        "# export CUDA_HOME=/usr/local/cuda-10.1\n",
        "# git clone https://github.com/NVIDIA/apex\n",
        "# cd apex\n",
        "# pip install -v --disable-pip-version-check --no-cache-dir ./"
      ],
      "id": "f4bb901a",
      "execution_count": null,
      "outputs": []
    },
    {
      "cell_type": "code",
      "metadata": {
        "id": "ef5e2a11"
      },
      "source": [
        "# %%capture\n",
        "# !sh setup.sh"
      ],
      "id": "ef5e2a11",
      "execution_count": null,
      "outputs": []
    },
    {
      "cell_type": "markdown",
      "metadata": {
        "id": "55059f9a"
      },
      "source": [
        "### Import Dependencies"
      ],
      "id": "55059f9a"
    },
    {
      "cell_type": "code",
      "metadata": {
        "colab": {
          "base_uri": "https://localhost:8080/"
        },
        "id": "8a92ad27",
        "outputId": "6373e9ec-da8a-4e61-d2b8-092a96f5d82f"
      },
      "source": [
        "import os\n",
        "import gc\n",
        "gc.enable()\n",
        "import math\n",
        "import json\n",
        "import time\n",
        "import random\n",
        "import multiprocessing\n",
        "import warnings\n",
        "warnings.filterwarnings(\"ignore\", category=UserWarning)\n",
        "\n",
        "import numpy as np\n",
        "import pandas as pd\n",
        "from tqdm import tqdm, trange\n",
        "from sklearn import model_selection\n",
        "\n",
        "import torch\n",
        "import torch.nn as nn\n",
        "import torch.nn.functional as F\n",
        "from torch.nn import Parameter\n",
        "import torch.optim as optim\n",
        "from torch.utils.data import (\n",
        "    Dataset, DataLoader,\n",
        "    SequentialSampler, RandomSampler\n",
        ")\n",
        "from torch.utils.data.distributed import DistributedSampler\n",
        "\n",
        "try:\n",
        "    from apex import amp\n",
        "    APEX_INSTALLED = True\n",
        "except ImportError:\n",
        "    APEX_INSTALLED = False\n",
        "\n",
        "import transformers\n",
        "from transformers import (\n",
        "    WEIGHTS_NAME,\n",
        "    AdamW,\n",
        "    AutoConfig,\n",
        "    AutoModel,\n",
        "    AutoTokenizer,\n",
        "    get_cosine_schedule_with_warmup,\n",
        "    get_linear_schedule_with_warmup,\n",
        "    get_constant_schedule_with_warmup,\n",
        "    logging,\n",
        "    MODEL_FOR_QUESTION_ANSWERING_MAPPING,\n",
        ")\n",
        "logging.set_verbosity_warning()\n",
        "logging.set_verbosity_error()\n",
        "\n",
        "def fix_all_seeds(seed):\n",
        "    np.random.seed(seed)\n",
        "    random.seed(seed)\n",
        "    os.environ['PYTHONHASHSEED'] = str(seed)\n",
        "    torch.manual_seed(seed)\n",
        "    torch.cuda.manual_seed(seed)\n",
        "    torch.cuda.manual_seed_all(seed)\n",
        "\n",
        "def optimal_num_of_loader_workers():\n",
        "    num_cpus = multiprocessing.cpu_count()\n",
        "    num_gpus = torch.cuda.device_count()\n",
        "    optimal_value = min(num_cpus, num_gpus*4) if num_gpus else num_cpus - 1\n",
        "    return optimal_value\n",
        "\n",
        "print(f\"Apex AMP Installed :: {APEX_INSTALLED}\")\n",
        "MODEL_CONFIG_CLASSES = list(MODEL_FOR_QUESTION_ANSWERING_MAPPING.keys())\n",
        "MODEL_TYPES = tuple(conf.model_type for conf in MODEL_CONFIG_CLASSES)"
      ],
      "id": "8a92ad27",
      "execution_count": null,
      "outputs": [
        {
          "name": "stdout",
          "output_type": "stream",
          "text": [
            "Apex AMP Installed :: False\n"
          ]
        }
      ]
    },
    {
      "cell_type": "markdown",
      "metadata": {
        "id": "ab75148d"
      },
      "source": [
        "### Training Configuration"
      ],
      "id": "ab75148d"
    },
    {
      "cell_type": "markdown",
      "metadata": {
        "id": "FMU6cmG6Y7s0"
      },
      "source": [
        "tamil & hindi xsquad"
      ],
      "id": "FMU6cmG6Y7s0"
    },
    {
      "cell_type": "code",
      "metadata": {
        "colab": {
          "base_uri": "https://localhost:8080/"
        },
        "id": "5934fe6a",
        "outputId": "6ba5a48a-afd6-4e25-a50b-46e9e97f7c0e"
      },
      "source": [
        "class Config:\n",
        "    # model\n",
        "    model_type = 'xlm_roberta'\n",
        "    #model_name_or_path = \"deepset/xlm-roberta-large-squad2\"\n",
        "    model_name_or_path = \"../input/xlm-roberta-squad2/deepset/xlm-roberta-large-squad2\"\n",
        "    #config_name = \"deepset/xlm-roberta-large-squad2\"\n",
        "    config_name = \"../input/xlm-roberta-squad2/deepset/xlm-roberta-large-squad2\"\n",
        "    fp16 = True if APEX_INSTALLED else False\n",
        "    fp16_opt_level = \"O1\"\n",
        "    \n",
        "    gradient_accumulation_steps =  8#@param {type:\"integer\"}\n",
        "\n",
        "    # tokenizer\n",
        "    tokenizer_name = \"../input/xlm-roberta-squad2/deepset/xlm-roberta-large-squad2\"\n",
        "#    max_seq_length = 384\n",
        "#    doc_stride = 128\n",
        "    max_seq_length =  400#@param {type:\"integer\"}\n",
        "    doc_stride =  135#@param {type:\"integer\"}\n",
        "\n",
        "    # train\n",
        "    epochs =  1#@param {type:\"integer\"}\n",
        "    train_batch_size = 4\n",
        "    eval_batch_size = 8\n",
        "\n",
        "    # optimizer\n",
        "    optimizer_type = 'AdamW'\n",
        "    learning_rate =  2e-5#@param {type:\"number\"}\n",
        "    weight_decay =   1e-3#@param {type:\"number\"}\n",
        "    epsilon = 1e-10 #@param {type:\"number\"}\n",
        "    max_grad_norm = 1.0 #@param {type:\"number\"}\n",
        "\n",
        "    # scheduler\n",
        "    decay_name = 'linear-warmup'\n",
        "    warmup_ratio = 0.1\n",
        "    scheduler_step = 2#@param {type:\"integer\"}\n",
        "\n",
        "    # logging\n",
        "    ####logging_steps = 10\n",
        "    logging_steps = 1000\n",
        "\n",
        "    # evaluate\n",
        "    output_dir = 'output'\n",
        "    seed =  42#@param {type:\"integer\"}\n",
        "\n",
        "print(\"acc_step\", Config.gradient_accumulation_steps,\n",
        "      \"lr\", Config.learning_rate, \"wd\", Config.weight_decay,\n",
        "      \"{}-{}\".format(Config.max_seq_length, Config.doc_stride),\n",
        "      \"seed\", Config.seed)"
      ],
      "id": "5934fe6a",
      "execution_count": null,
      "outputs": [
        {
          "name": "stdout",
          "output_type": "stream",
          "text": [
            "acc_step 8 lr 2e-05 wd 0.001 400-135 seed 42\n"
          ]
        }
      ]
    },
    {
      "cell_type": "markdown",
      "metadata": {
        "id": "a97366e5"
      },
      "source": [
        "### Data Factory"
      ],
      "id": "a97366e5"
    },
    {
      "cell_type": "code",
      "metadata": {
        "id": "U7neglrAWwgj"
      },
      "source": [
        "#external_tamil_xquad = pd.read_csv('/content/input/squad-qa-tamil-dataset/squad_tamilQA.csv')\n",
        "#external_xquad = pd.read_csv('../input/mlqa-hindi-processed/xquad.csv')\n"
      ],
      "id": "U7neglrAWwgj",
      "execution_count": null,
      "outputs": []
    },
    {
      "cell_type": "code",
      "metadata": {
        "id": "EV7PZDwBXGkm"
      },
      "source": [
        "#external_tamil_xquad['language'] = \"tamil\"\n",
        "#external_tamil_xquad.head()"
      ],
      "id": "EV7PZDwBXGkm",
      "execution_count": null,
      "outputs": []
    },
    {
      "cell_type": "code",
      "metadata": {
        "colab": {
          "base_uri": "https://localhost:8080/",
          "height": 202
        },
        "id": "E4GOW8CXdNFm",
        "outputId": "6d81efd7-1009-4d0a-8aa9-ed5097048105"
      },
      "source": [
        "import ast\n",
        "external_hindi_xquad2 = pd.read_csv('/content/input/google-translated-squad20-to-hindi-and-tamil/squad_hi.csv')\n",
        "\n",
        "text, start = [], []\n",
        "for i in range(len(external_hindi_xquad2)):\n",
        "  ans = external_hindi_xquad2['answers'][i]\n",
        "  dic = ast.literal_eval(ans)[0]\n",
        "  text.append(dic['text'])\n",
        "  start.append(dic['answer_start'])\n",
        "\n",
        "external_hindi_xquad2['answer_text'] = text\n",
        "external_hindi_xquad2['answer_start'] = start\n",
        "external_hindi_xquad2['language'] = \"hindi\"\n",
        "\n",
        "external_hindi_xquad2 = external_hindi_xquad2.drop(['id', 'answers','c_id','is_in'], axis=1)\n",
        "external_hindi_xquad2 = external_hindi_xquad2.sample(frac=1, random_state=42)[:20000]\n",
        "\n",
        "external_hindi_xquad2.head()"
      ],
      "id": "E4GOW8CXdNFm",
      "execution_count": null,
      "outputs": [
        {
          "data": {
            "text/html": [
              "<div>\n",
              "<style scoped>\n",
              "    .dataframe tbody tr th:only-of-type {\n",
              "        vertical-align: middle;\n",
              "    }\n",
              "\n",
              "    .dataframe tbody tr th {\n",
              "        vertical-align: top;\n",
              "    }\n",
              "\n",
              "    .dataframe thead th {\n",
              "        text-align: right;\n",
              "    }\n",
              "</style>\n",
              "<table border=\"1\" class=\"dataframe\">\n",
              "  <thead>\n",
              "    <tr style=\"text-align: right;\">\n",
              "      <th></th>\n",
              "      <th>question</th>\n",
              "      <th>context</th>\n",
              "      <th>answer_text</th>\n",
              "      <th>answer_start</th>\n",
              "      <th>language</th>\n",
              "    </tr>\n",
              "  </thead>\n",
              "  <tbody>\n",
              "    <tr>\n",
              "      <th>46160</th>\n",
              "      <td>चर्चों की विश्व परिषद ने किस प्रकार के धर्मशास...</td>\n",
              "      <td>1965 में, पॉल VI ने विश्व चर्च परिषद के साथ एक...</td>\n",
              "      <td>कैथोलिक</td>\n",
              "      <td>868</td>\n",
              "      <td>hindi</td>\n",
              "    </tr>\n",
              "    <tr>\n",
              "      <th>55825</th>\n",
              "      <td>थाईलैंड में संविधान के पालन को क्या नुकसान पहु...</td>\n",
              "      <td>थाईलैंड में, एक ऐसा राज्य जिसके पास १९३२ में प...</td>\n",
              "      <td>प्राचीन पूर्वाग्रह और राजनीतिक पूर्वाग्रह</td>\n",
              "      <td>220</td>\n",
              "      <td>hindi</td>\n",
              "    </tr>\n",
              "    <tr>\n",
              "      <th>13361</th>\n",
              "      <td>एमसीए ने यूनिवर्सल का अधिग्रहण किस वर्ष किया था?</td>\n",
              "      <td>एमसीए, इंक. द्वारा यूनिवर्सल पिक्चर्स का लंबे ...</td>\n",
              "      <td>1962</td>\n",
              "      <td>73</td>\n",
              "      <td>hindi</td>\n",
              "    </tr>\n",
              "    <tr>\n",
              "      <th>15969</th>\n",
              "      <td>अन्ना लेल्केस ने कौन सा वाद्य यंत्र बजाया?</td>\n",
              "      <td>1997 में, विएना फिलहारमोनिक को राष्ट्रीय महिला...</td>\n",
              "      <td>वीणा</td>\n",
              "      <td>385</td>\n",
              "      <td>hindi</td>\n",
              "    </tr>\n",
              "    <tr>\n",
              "      <th>10658</th>\n",
              "      <td>हैलिफ़ैक्स विस्फोट किस दिन हुआ था?</td>\n",
              "      <td>अपने जीवन के अंत तक, बेल और उनका परिवार दो घरो...</td>\n",
              "      <td>6 दिसंबर, 1917</td>\n",
              "      <td>394</td>\n",
              "      <td>hindi</td>\n",
              "    </tr>\n",
              "  </tbody>\n",
              "</table>\n",
              "</div>"
            ],
            "text/plain": [
              "                                                question  ... language\n",
              "46160  चर्चों की विश्व परिषद ने किस प्रकार के धर्मशास...  ...    hindi\n",
              "55825  थाईलैंड में संविधान के पालन को क्या नुकसान पहु...  ...    hindi\n",
              "13361   एमसीए ने यूनिवर्सल का अधिग्रहण किस वर्ष किया था?  ...    hindi\n",
              "15969         अन्ना लेल्केस ने कौन सा वाद्य यंत्र बजाया?  ...    hindi\n",
              "10658                 हैलिफ़ैक्स विस्फोट किस दिन हुआ था?  ...    hindi\n",
              "\n",
              "[5 rows x 5 columns]"
            ]
          },
          "execution_count": 9,
          "metadata": {},
          "output_type": "execute_result"
        }
      ]
    },
    {
      "cell_type": "code",
      "metadata": {
        "colab": {
          "base_uri": "https://localhost:8080/",
          "height": 285
        },
        "id": "mM4548dsf0DT",
        "outputId": "0f67fea9-3ad5-446f-aa76-7386f92cc6d8"
      },
      "source": [
        "external_tamil_xquad2 = pd.read_csv('/content/input/google-translated-squad20-to-hindi-and-tamil/squad_ta.csv')\n",
        "\n",
        "text, start = [], []\n",
        "for i in range(len(external_tamil_xquad2)):\n",
        "  ans = external_tamil_xquad2['answers'][i]\n",
        "  dic = ast.literal_eval(ans)[0]\n",
        "  text.append(dic['text'])\n",
        "  start.append(dic['answer_start'])\n",
        "\n",
        "external_tamil_xquad2['answer_text'] = text\n",
        "external_tamil_xquad2['answer_start'] = start\n",
        "external_tamil_xquad2['language'] = \"tamil\"\n",
        "\n",
        "external_tamil_xquad2 = external_tamil_xquad2.drop(['id', 'answers','c_id','is_in'], axis=1)\n",
        "external_tamil_xquad2 = external_tamil_xquad2.sample(frac=1, random_state=123)[:10000]\n",
        "external_tamil_xquad2.head()"
      ],
      "id": "mM4548dsf0DT",
      "execution_count": null,
      "outputs": [
        {
          "data": {
            "text/html": [
              "<div>\n",
              "<style scoped>\n",
              "    .dataframe tbody tr th:only-of-type {\n",
              "        vertical-align: middle;\n",
              "    }\n",
              "\n",
              "    .dataframe tbody tr th {\n",
              "        vertical-align: top;\n",
              "    }\n",
              "\n",
              "    .dataframe thead th {\n",
              "        text-align: right;\n",
              "    }\n",
              "</style>\n",
              "<table border=\"1\" class=\"dataframe\">\n",
              "  <thead>\n",
              "    <tr style=\"text-align: right;\">\n",
              "      <th></th>\n",
              "      <th>question</th>\n",
              "      <th>context</th>\n",
              "      <th>answer_text</th>\n",
              "      <th>answer_start</th>\n",
              "      <th>language</th>\n",
              "    </tr>\n",
              "  </thead>\n",
              "  <tbody>\n",
              "    <tr>\n",
              "      <th>3148</th>\n",
              "      <td>மன்ஹாட்டன் ஜெனரல் பீட்டர் மினூட்டால் வாங்கப்பட...</td>\n",
              "      <td>நியூ நெதர்லாந்தில் ஒரு நிரந்தர ஐரோப்பிய இருப்ப...</td>\n",
              "      <td>கண்ணாடி மணிகள்</td>\n",
              "      <td>-1</td>\n",
              "      <td>tamil</td>\n",
              "    </tr>\n",
              "    <tr>\n",
              "      <th>25303</th>\n",
              "      <td>2014 இல் சராசரி இம்பீரியல் பட்டதாரி எந்த புள்ள...</td>\n",
              "      <td>மேலும், வேலை வாய்ப்புகளைப் பொறுத்தவரை, 2014 ஆம...</td>\n",
              "      <td>சராசரி தொடக்க சம்பளம்</td>\n",
              "      <td>89</td>\n",
              "      <td>tamil</td>\n",
              "    </tr>\n",
              "    <tr>\n",
              "      <th>54729</th>\n",
              "      <td>CETDZ இன் முதலீட்டாளர்கள் மற்றும் டெவலப்பர்களா...</td>\n",
              "      <td>செங்டு பொருளாதார மற்றும் தொழில்நுட்ப மேம்பாட்ட...</td>\n",
              "      <td>20</td>\n",
              "      <td>123</td>\n",
              "      <td>tamil</td>\n",
              "    </tr>\n",
              "    <tr>\n",
              "      <th>42221</th>\n",
              "      <td>காமன்வெல்த் மன்னர் யார்?</td>\n",
              "      <td>20 ஆம் நூற்றாண்டின் தொடக்கத்தில், ஜெர்மனியும் ...</td>\n",
              "      <td>ராணி இரண்டாம் எலிசபெத்</td>\n",
              "      <td>-1</td>\n",
              "      <td>tamil</td>\n",
              "    </tr>\n",
              "    <tr>\n",
              "      <th>31696</th>\n",
              "      <td>கின்ஸி வேலை சரியில்லை என்று மக்கள் ஏன் சொல்கிற...</td>\n",
              "      <td>ஆல்ஃபிரட் சி. கின்சி மற்றும் பலர், மனித ஆண் (1...</td>\n",
              "      <td>அவரது மாதிரி மக்கள்தொகையின் சீரற்ற தன்மை,</td>\n",
              "      <td>-1</td>\n",
              "      <td>tamil</td>\n",
              "    </tr>\n",
              "  </tbody>\n",
              "</table>\n",
              "</div>"
            ],
            "text/plain": [
              "                                                question  ... language\n",
              "3148   மன்ஹாட்டன் ஜெனரல் பீட்டர் மினூட்டால் வாங்கப்பட...  ...    tamil\n",
              "25303  2014 இல் சராசரி இம்பீரியல் பட்டதாரி எந்த புள்ள...  ...    tamil\n",
              "54729  CETDZ இன் முதலீட்டாளர்கள் மற்றும் டெவலப்பர்களா...  ...    tamil\n",
              "42221                           காமன்வெல்த் மன்னர் யார்?  ...    tamil\n",
              "31696  கின்ஸி வேலை சரியில்லை என்று மக்கள் ஏன் சொல்கிற...  ...    tamil\n",
              "\n",
              "[5 rows x 5 columns]"
            ]
          },
          "execution_count": 10,
          "metadata": {},
          "output_type": "execute_result"
        }
      ]
    },
    {
      "cell_type": "code",
      "metadata": {
        "id": "clbXSiD3esR3"
      },
      "source": [
        "train = pd.read_csv('../input/chaii-hindi-and-tamil-question-answering/train.csv')\n",
        "external_mlqa = pd.read_csv('../input/mlqa-hindi-processed/mlqa_hindi.csv')\n",
        "external_train = pd.concat([external_mlqa, external_hindi_xquad2, external_tamil_xquad2]).reset_index(drop=True)\n",
        "\n",
        "def create_folds(data, num_splits):\n",
        "    data[\"kfold\"] = -1\n",
        "    kf = model_selection.StratifiedKFold(n_splits=num_splits, shuffle=True, random_state=2021) # 2021)\n",
        "    for f, (t_, v_) in enumerate(kf.split(X=data, y=data['language'])):\n",
        "        data.loc[v_, 'kfold'] = f\n",
        "    return data\n",
        "\n",
        "train = create_folds(train, num_splits=5)\n",
        "external_train[\"kfold\"] = -1\n",
        "external_train['id'] = list(np.arange(1, len(external_train)+1))\n",
        "\n",
        "train = pd.concat([train, external_train]).reset_index(drop=True)\n",
        "\n",
        "def convert_answers(row):\n",
        "    return {'answer_start': [row[0]], 'text': [row[1]]}\n",
        "\n",
        "train['answers'] = train[['answer_start', 'answer_text']].apply(convert_answers, axis=1)"
      ],
      "id": "clbXSiD3esR3",
      "execution_count": null,
      "outputs": []
    },
    {
      "cell_type": "code",
      "metadata": {
        "colab": {
          "base_uri": "https://localhost:8080/"
        },
        "id": "6JyXbPmpiskD",
        "outputId": "9cb279bc-c2c6-434c-b000-b1b7c166e170"
      },
      "source": [
        "print(len(train),len(train['id'].unique()))"
      ],
      "id": "6JyXbPmpiskD",
      "execution_count": null,
      "outputs": [
        {
          "name": "stdout",
          "output_type": "stream",
          "text": [
            "36539 36539\n"
          ]
        }
      ]
    },
    {
      "cell_type": "code",
      "metadata": {
        "id": "8DvLqQYPovst"
      },
      "source": [
        "# train = pd.read_csv('../input/chaii-hindi-and-tamil-question-answering/train.csv')\n",
        "# # train = pd.read_csv('../input/cleaned-data-for-chaii/cleaned_train.csv')\n",
        "# # train = train[train['language']=='tamil'].reset_index(drop=True)\n",
        "# #train = pd.read_csv('/content/input/chaiiextended-and-cleaned-datasetready-to-train/ChaiiExtended.csv')\n",
        "# #train['language'] = \"xxxx\"\n",
        "\n",
        "# test = pd.read_csv('../input/chaii-hindi-and-tamil-question-answering/test.csv')\n",
        "# external_mlqa = pd.read_csv('../input/mlqa-hindi-processed/mlqa_hindi.csv')\n",
        "# external_hindi_xquad = pd.read_csv('../input/mlqa-hindi-processed/xquad.csv')\n",
        "# external_tamil_xquad = pd.read_csv('/content/input/squad-qa-tamil-dataset/squad_tamilQA.csv')\n",
        "# external_tamil_xquad['language'] = \"tamil\"\n",
        "# external_xquad = pd.concat([external_hindi_xquad, external_tamil_xquad])\n",
        "# external_train = external_hindi_xquad #pd.concat([external_mlqa, external_xquad]).reset_index(drop=True)\n",
        "\n",
        "# def create_folds(data, num_splits):\n",
        "#     data[\"kfold\"] = -1\n",
        "#     kf = model_selection.StratifiedKFold(n_splits=num_splits, shuffle=True, random_state=6654) # 2021)\n",
        "#     for f, (t_, v_) in enumerate(kf.split(X=data, y=data['language'])):\n",
        "#         data.loc[v_, 'kfold'] = f\n",
        "#     return data\n",
        "\n",
        "# #####train = create_folds(train, num_splits=5)\n",
        "# train = create_folds(train, num_splits=2)\n",
        "# external_train[\"kfold\"] = -1\n",
        "# external_train['id'] = list(np.arange(1, len(external_train)+1))\n",
        "# #external_train = create_folds(external_train, num_splits=3) # foldに分割（2021.10.09変更）\n",
        "# #external_train[\"kfold\"] = external_train[\"kfold\"] + 10\n",
        "\n",
        "# train = pd.concat([train, external_train]).reset_index(drop=True)\n",
        "\n",
        "# def convert_answers(row):\n",
        "#     return {'answer_start': [row[0]], 'text': [row[1]]}\n",
        "\n",
        "# train['answers'] = train[['answer_start', 'answer_text']].apply(convert_answers, axis=1)"
      ],
      "id": "8DvLqQYPovst",
      "execution_count": null,
      "outputs": []
    },
    {
      "cell_type": "code",
      "metadata": {
        "colab": {
          "base_uri": "https://localhost:8080/",
          "height": 335
        },
        "id": "g1jBlfhBLqxc",
        "outputId": "026e964d-2f61-4974-99d8-f9110b877f02"
      },
      "source": [
        "train.head()"
      ],
      "id": "g1jBlfhBLqxc",
      "execution_count": null,
      "outputs": [
        {
          "data": {
            "text/html": [
              "<div>\n",
              "<style scoped>\n",
              "    .dataframe tbody tr th:only-of-type {\n",
              "        vertical-align: middle;\n",
              "    }\n",
              "\n",
              "    .dataframe tbody tr th {\n",
              "        vertical-align: top;\n",
              "    }\n",
              "\n",
              "    .dataframe thead th {\n",
              "        text-align: right;\n",
              "    }\n",
              "</style>\n",
              "<table border=\"1\" class=\"dataframe\">\n",
              "  <thead>\n",
              "    <tr style=\"text-align: right;\">\n",
              "      <th></th>\n",
              "      <th>id</th>\n",
              "      <th>context</th>\n",
              "      <th>question</th>\n",
              "      <th>answer_text</th>\n",
              "      <th>answer_start</th>\n",
              "      <th>language</th>\n",
              "      <th>kfold</th>\n",
              "      <th>answers</th>\n",
              "    </tr>\n",
              "  </thead>\n",
              "  <tbody>\n",
              "    <tr>\n",
              "      <th>0</th>\n",
              "      <td>903deec17</td>\n",
              "      <td>ஒரு சாதாரண வளர்ந்த மனிதனுடைய எலும்புக்கூடு பின...</td>\n",
              "      <td>மனித உடலில் எத்தனை எலும்புகள் உள்ளன?</td>\n",
              "      <td>206</td>\n",
              "      <td>53</td>\n",
              "      <td>tamil</td>\n",
              "      <td>3</td>\n",
              "      <td>{'answer_start': [53], 'text': ['206']}</td>\n",
              "    </tr>\n",
              "    <tr>\n",
              "      <th>1</th>\n",
              "      <td>d9841668c</td>\n",
              "      <td>காளிதாசன் (தேவநாகரி: कालिदास) சமஸ்கிருத இலக்கி...</td>\n",
              "      <td>காளிதாசன் எங்கு பிறந்தார்?</td>\n",
              "      <td>காசுமீரில்</td>\n",
              "      <td>2358</td>\n",
              "      <td>tamil</td>\n",
              "      <td>0</td>\n",
              "      <td>{'answer_start': [2358], 'text': ['காசுமீரில்']}</td>\n",
              "    </tr>\n",
              "    <tr>\n",
              "      <th>2</th>\n",
              "      <td>29d154b56</td>\n",
              "      <td>சர் அலெக்ஸாண்டர் ஃபிளெமிங் (Sir Alexander Flem...</td>\n",
              "      <td>பென்சிலின் கண்டுபிடித்தவர் யார்?</td>\n",
              "      <td>சர் அலெக்ஸாண்டர் ஃபிளெமிங்</td>\n",
              "      <td>0</td>\n",
              "      <td>tamil</td>\n",
              "      <td>4</td>\n",
              "      <td>{'answer_start': [0], 'text': ['சர் அலெக்ஸாண்ட...</td>\n",
              "    </tr>\n",
              "    <tr>\n",
              "      <th>3</th>\n",
              "      <td>41660850a</td>\n",
              "      <td>குழந்தையின் அழுகையை  நிறுத்தவும், தூங்க வைக்கவ...</td>\n",
              "      <td>தமிழ்நாட்டில் குழந்தைகளை தூங்க வைக்க பாடும் பா...</td>\n",
              "      <td>தாலாட்டு</td>\n",
              "      <td>68</td>\n",
              "      <td>tamil</td>\n",
              "      <td>4</td>\n",
              "      <td>{'answer_start': [68], 'text': ['தாலாட்டு']}</td>\n",
              "    </tr>\n",
              "    <tr>\n",
              "      <th>4</th>\n",
              "      <td>b29c82c22</td>\n",
              "      <td>சூரியக் குடும்பம் \\nசூரியக் குடும்பம் (Solar S...</td>\n",
              "      <td>பூமியின் அருகில் உள்ள விண்மீன் எது?</td>\n",
              "      <td>சூரியனும்</td>\n",
              "      <td>585</td>\n",
              "      <td>tamil</td>\n",
              "      <td>4</td>\n",
              "      <td>{'answer_start': [585], 'text': ['சூரியனும்']}</td>\n",
              "    </tr>\n",
              "  </tbody>\n",
              "</table>\n",
              "</div>"
            ],
            "text/plain": [
              "          id  ...                                            answers\n",
              "0  903deec17  ...            {'answer_start': [53], 'text': ['206']}\n",
              "1  d9841668c  ...   {'answer_start': [2358], 'text': ['காசுமீரில்']}\n",
              "2  29d154b56  ...  {'answer_start': [0], 'text': ['சர் அலெக்ஸாண்ட...\n",
              "3  41660850a  ...       {'answer_start': [68], 'text': ['தாலாட்டு']}\n",
              "4  b29c82c22  ...     {'answer_start': [585], 'text': ['சூரியனும்']}\n",
              "\n",
              "[5 rows x 8 columns]"
            ]
          },
          "execution_count": 14,
          "metadata": {},
          "output_type": "execute_result"
        }
      ]
    },
    {
      "cell_type": "code",
      "metadata": {
        "id": "eb636dc6"
      },
      "source": [
        "if 0:\n",
        "    train = pd.read_csv('../input/chaii-hindi-and-tamil-question-answering/train.csv')\n",
        "    test = pd.read_csv('../input/chaii-hindi-and-tamil-question-answering/test.csv')\n",
        "    external_mlqa = pd.read_csv('../input/mlqa-hindi-processed/mlqa_hindi.csv')\n",
        "    external_hindi_xquad = pd.read_csv('../input/mlqa-hindi-processed/xquad.csv')\n",
        "    external_tamil_xquad = pd.read_csv('/content/input/squad-qa-tamil-dataset/squad_tamilQA.csv')\n",
        "    external_tamil_xquad['language'] = \"tamil\"\n",
        "    external_xquad = pd.concat([external_hindi_xquad, external_tamil_xquad])\n",
        "    external_train = external_hindi_xquad # pd.concat([external_mlqa, external_xquad])\n",
        "\n",
        "    def create_folds(data, num_splits):\n",
        "        data[\"kfold\"] = -1\n",
        "        kf = model_selection.StratifiedKFold(n_splits=num_splits, shuffle=True, random_state=2021)\n",
        "        for f, (t_, v_) in enumerate(kf.split(X=data, y=data['language'])):\n",
        "            data.loc[v_, 'kfold'] = f\n",
        "        return data\n",
        "\n",
        "    train = create_folds(train, num_splits=5)\n",
        "    external_train[\"kfold\"] = -1\n",
        "    external_train['id'] = list(np.arange(1, len(external_train)+1))\n",
        "    train = pd.concat([train, external_train]).reset_index(drop=True)\n",
        "\n",
        "    def convert_answers(row):\n",
        "        return {'answer_start': [row[0]], 'text': [row[1]]}\n",
        "\n",
        "    train['answers'] = train[['answer_start', 'answer_text']].apply(convert_answers, axis=1)"
      ],
      "id": "eb636dc6",
      "execution_count": null,
      "outputs": []
    },
    {
      "cell_type": "markdown",
      "metadata": {
        "id": "60781636"
      },
      "source": [
        "### Covert Examples to Features (Preprocess)"
      ],
      "id": "60781636"
    },
    {
      "cell_type": "code",
      "metadata": {
        "id": "63b399b9"
      },
      "source": [
        "def prepare_train_features(args, example, tokenizer):\n",
        "    example[\"question\"] = example[\"question\"].lstrip()\n",
        "    tokenized_example = tokenizer(\n",
        "        example[\"question\"],\n",
        "        example[\"context\"],\n",
        "        truncation=\"only_second\",\n",
        "        max_length=args.max_seq_length,\n",
        "        stride=args.doc_stride,\n",
        "        return_overflowing_tokens=True,\n",
        "        return_offsets_mapping=True,\n",
        "        padding=\"max_length\",\n",
        "    )\n",
        "\n",
        "    sample_mapping = tokenized_example.pop(\"overflow_to_sample_mapping\")\n",
        "    offset_mapping = tokenized_example.pop(\"offset_mapping\")\n",
        "\n",
        "    features = []\n",
        "    for i, offsets in enumerate(offset_mapping):\n",
        "        feature = {}\n",
        "\n",
        "        input_ids = tokenized_example[\"input_ids\"][i]\n",
        "        attention_mask = tokenized_example[\"attention_mask\"][i]\n",
        "\n",
        "        feature['input_ids'] = input_ids\n",
        "        feature['attention_mask'] = attention_mask\n",
        "        feature['offset_mapping'] = offsets\n",
        "\n",
        "        cls_index = input_ids.index(tokenizer.cls_token_id)\n",
        "        sequence_ids = tokenized_example.sequence_ids(i)\n",
        "\n",
        "        sample_index = sample_mapping[i]\n",
        "        answers = example[\"answers\"]\n",
        "\n",
        "        if len(answers[\"answer_start\"]) == 0:\n",
        "            feature[\"start_position\"] = cls_index\n",
        "            feature[\"end_position\"] = cls_index\n",
        "        else:\n",
        "            start_char = answers[\"answer_start\"][0]\n",
        "            end_char = start_char + len(answers[\"text\"][0])\n",
        "\n",
        "            token_start_index = 0\n",
        "            while sequence_ids[token_start_index] != 1:\n",
        "                token_start_index += 1\n",
        "\n",
        "            token_end_index = len(input_ids) - 1\n",
        "            while sequence_ids[token_end_index] != 1:\n",
        "                token_end_index -= 1\n",
        "\n",
        "            if not (offsets[token_start_index][0] <= start_char and offsets[token_end_index][1] >= end_char):\n",
        "                feature[\"start_position\"] = cls_index\n",
        "                feature[\"end_position\"] = cls_index\n",
        "            else:\n",
        "                while token_start_index < len(offsets) and offsets[token_start_index][0] <= start_char:\n",
        "                    token_start_index += 1\n",
        "                feature[\"start_position\"] = token_start_index - 1\n",
        "                while offsets[token_end_index][1] >= end_char:\n",
        "                    token_end_index -= 1\n",
        "                feature[\"end_position\"] = token_end_index + 1\n",
        "\n",
        "        features.append(feature)\n",
        "    return features"
      ],
      "id": "63b399b9",
      "execution_count": null,
      "outputs": []
    },
    {
      "cell_type": "markdown",
      "metadata": {
        "id": "55553f9f"
      },
      "source": [
        "### Dataset Retriever"
      ],
      "id": "55553f9f"
    },
    {
      "cell_type": "code",
      "metadata": {
        "id": "c78cee8c"
      },
      "source": [
        "class DatasetRetriever(Dataset):\n",
        "    def __init__(self, features, mode='train'):\n",
        "        super(DatasetRetriever, self).__init__()\n",
        "        self.features = features\n",
        "        self.mode = mode\n",
        "        \n",
        "    def __len__(self):\n",
        "        return len(self.features)\n",
        "    \n",
        "    def __getitem__(self, item):   \n",
        "        feature = self.features[item]\n",
        "        if self.mode == 'train':\n",
        "            return {\n",
        "                'input_ids':torch.tensor(feature['input_ids'], dtype=torch.long),\n",
        "                'attention_mask':torch.tensor(feature['attention_mask'], dtype=torch.long),\n",
        "                'offset_mapping':torch.tensor(feature['offset_mapping'], dtype=torch.long),\n",
        "                'start_position':torch.tensor(feature['start_position'], dtype=torch.long),\n",
        "                'end_position':torch.tensor(feature['end_position'], dtype=torch.long)\n",
        "            }\n",
        "        else:\n",
        "            return {\n",
        "                'input_ids':torch.tensor(feature['input_ids'], dtype=torch.long),\n",
        "                'attention_mask':torch.tensor(feature['attention_mask'], dtype=torch.long),\n",
        "                'offset_mapping':feature['offset_mapping'],\n",
        "                'sequence_ids':feature['sequence_ids'],\n",
        "                'id':feature['example_id'],\n",
        "                'context': feature['context'],\n",
        "                'question': feature['question']\n",
        "            }"
      ],
      "id": "c78cee8c",
      "execution_count": null,
      "outputs": []
    },
    {
      "cell_type": "markdown",
      "metadata": {
        "id": "b7e0677b"
      },
      "source": [
        "### Model"
      ],
      "id": "b7e0677b"
    },
    {
      "cell_type": "code",
      "metadata": {
        "id": "cd46e25e"
      },
      "source": [
        "class Model(nn.Module):\n",
        "    def __init__(self, modelname_or_path, config):\n",
        "        super(Model, self).__init__()\n",
        "        self.n_msd = 5\n",
        "        self.config = config\n",
        "        self.xlm_roberta = AutoModel.from_pretrained(modelname_or_path, config=config)\n",
        "        self.qa_outputs = nn.Linear(config.hidden_size, 2)\n",
        "        self.dropout = nn.Dropout(0.1)\n",
        "        # self.dropouts = nn.ModuleList([nn.Dropout(0.1) for _ in range(self.n_msd)])\n",
        "        self._init_weights(self.qa_outputs)\n",
        "        \n",
        "    def _init_weights(self, module):\n",
        "        if isinstance(module, nn.Linear):\n",
        "            module.weight.data.normal_(mean=0.0, std=self.config.initializer_range)\n",
        "            if module.bias is not None:\n",
        "                module.bias.data.zero_()\n",
        "\n",
        "    def forward(\n",
        "        self, \n",
        "        input_ids, \n",
        "        attention_mask=None, \n",
        "        # token_type_ids=None\n",
        "    ):\n",
        "        outputs = self.xlm_roberta(\n",
        "            input_ids,\n",
        "            attention_mask=attention_mask,\n",
        "        )\n",
        "\n",
        "        sequence_output = outputs[0]\n",
        "        pooled_output = outputs[1]\n",
        "        \n",
        "        sequence_output = self.dropout(sequence_output)\n",
        "        qa_logits = self.qa_outputs(sequence_output)\n",
        "        # qa_logits = sum([self.qa_outputs(dropout(sequence_output)) for dropout in self.dropouts])/self.n_msd\n",
        "        #print(qa_logits.size())\n",
        "        start_logits, end_logits = qa_logits.split(1, dim=-1)\n",
        "        start_logits = start_logits.squeeze(-1)\n",
        "        end_logits = end_logits.squeeze(-1)\n",
        "    \n",
        "        return start_logits, end_logits"
      ],
      "id": "cd46e25e",
      "execution_count": null,
      "outputs": []
    },
    {
      "cell_type": "markdown",
      "metadata": {
        "id": "b054f2e5"
      },
      "source": [
        "### Loss"
      ],
      "id": "b054f2e5"
    },
    {
      "cell_type": "code",
      "metadata": {
        "id": "JSq0_x7xecl0"
      },
      "source": [
        "def compute_kl_loss(p, q, pad_mask=None):\n",
        "    start_preds1, end_preds1 = p\n",
        "    start_preds2, end_preds2 = q\n",
        "\n",
        "    p_loss1 = F.kl_div(F.log_softmax(start_preds1, dim=-1), F.softmax(start_preds2, dim=-1), reduction='none')\n",
        "    q_loss1 = F.kl_div(F.log_softmax(start_preds2, dim=-1), F.softmax(start_preds1, dim=-1), reduction='none')\n",
        "    p_loss2 = F.kl_div(F.log_softmax(end_preds1, dim=-1), F.softmax(end_preds2, dim=-1), reduction='none')\n",
        "    q_loss2 = F.kl_div(F.log_softmax(end_preds2, dim=-1), F.softmax(end_preds1, dim=-1), reduction='none')\n",
        "\n",
        "    # You can choose whether to use function \"sum\" and \"mean\" depending on your task\n",
        "    p_loss = p_loss1.sum() + p_loss2.sum() \n",
        "    q_loss = q_loss1.sum() + q_loss2.sum()\n",
        "\n",
        "    loss = (p_loss + q_loss) / 2\n",
        "    return loss"
      ],
      "id": "JSq0_x7xecl0",
      "execution_count": null,
      "outputs": []
    },
    {
      "cell_type": "code",
      "metadata": {
        "id": "YCkwCpg0FtDa"
      },
      "source": [
        "def linear_combination(x, y, epsilon):\n",
        "    return (1 - epsilon) * x + epsilon * y\n",
        "\n",
        "def reduce_loss(loss, reduction='mean'):\n",
        "    return loss.mean() if reduction == 'mean' else loss.sum() if reduction == 'sum' else loss"
      ],
      "id": "YCkwCpg0FtDa",
      "execution_count": null,
      "outputs": []
    },
    {
      "cell_type": "code",
      "metadata": {
        "id": "vU1pWXuBF5TP"
      },
      "source": [
        "class LabelSmoothingCrossEntropy(nn.Module):\n",
        "    def __init__(self, epsilon=0.1, ignore_index = -1, reduction='mean'):\n",
        "        super().__init__()\n",
        "        self.epsilon = epsilon\n",
        "        self.reduction = reduction\n",
        "        self.ignore_index = ignore_index\n",
        "\n",
        "    def forward(self, preds, target):\n",
        "        n = preds.size()[-1]\n",
        "        log_preds = F.log_softmax(preds, dim=-1)\n",
        "        loss = reduce_loss(-log_preds.sum(dim=-1), self.reduction)\n",
        "        nll = F.nll_loss(log_preds, target, reduction=self.reduction, ignore_index=self.ignore_index)\n",
        "        return linear_combination(nll, loss/n, self.epsilon)"
      ],
      "id": "vU1pWXuBF5TP",
      "execution_count": null,
      "outputs": []
    },
    {
      "cell_type": "code",
      "metadata": {
        "id": "f490e487"
      },
      "source": [
        "def loss_fn(preds, labels):\n",
        "    start_preds, end_preds = preds\n",
        "    start_labels, end_labels = labels\n",
        "    \n",
        "    start_loss = nn.CrossEntropyLoss(ignore_index=-1)(start_preds, start_labels)\n",
        "    end_loss = nn.CrossEntropyLoss(ignore_index=-1)(end_preds, end_labels)\n",
        "    #start_loss = LabelSmoothingCrossEntropy(ignore_index=-1)(start_preds, start_labels)\n",
        "    #end_loss = LabelSmoothingCrossEntropy(ignore_index=-1)(end_preds, end_labels)\n",
        "    total_loss = (start_loss + end_loss) / 2\n",
        "    return total_loss"
      ],
      "id": "f490e487",
      "execution_count": null,
      "outputs": []
    },
    {
      "cell_type": "code",
      "metadata": {
        "id": "WVSFIJZ5eh-Z"
      },
      "source": [
        "def loss_fn2(pred1, pred2, label):\n",
        "    # RMSE loss\n",
        "    loss1 = loss_fn(pred1, label)\n",
        "    loss2 = loss_fn(pred2, label)\n",
        "\n",
        "    # R-Drop\n",
        "    kl_loss = compute_kl_loss(pred1, pred2)\n",
        "\n",
        "    RDROP_ALPHA = 0.1\n",
        "    total_loss = (loss1 + loss2) / 2 + RDROP_ALPHA * kl_loss\n",
        "    return total_loss\n"
      ],
      "id": "WVSFIJZ5eh-Z",
      "execution_count": null,
      "outputs": []
    },
    {
      "cell_type": "markdown",
      "metadata": {
        "id": "9138cc0e"
      },
      "source": [
        "### Grouped Layerwise Learning Rate Decay"
      ],
      "id": "9138cc0e"
    },
    {
      "cell_type": "code",
      "metadata": {
        "id": "l9NTXqa0Va7V"
      },
      "source": [
        "# def make_model(args):\n",
        "#     config = AutoConfig.from_pretrained(args.config_name)\n",
        "#     tokenizer = AutoTokenizer.from_pretrained(args.tokenizer_name)\n",
        "#     model = Model(args.model_name_or_path, config=config)\n",
        "#     return config, tokenizer, model\n",
        "\n",
        "# cfg, tk, m = make_model(Config)"
      ],
      "id": "l9NTXqa0Va7V",
      "execution_count": null,
      "outputs": []
    },
    {
      "cell_type": "code",
      "metadata": {
        "id": "5lKHzzPsV6Hl"
      },
      "source": [
        "# x  = get_optimizer_grouped_parameters(Config(), m)"
      ],
      "id": "5lKHzzPsV6Hl",
      "execution_count": null,
      "outputs": []
    },
    {
      "cell_type": "code",
      "metadata": {
        "id": "4e4bcde0"
      },
      "source": [
        "def get_optimizer_grouped_parameters(args, model):\n",
        "    model_type = 'xlm_roberta'\n",
        "    no_decay = [\"bias\", \"LayerNorm.weight\"]\n",
        "    optimizer_grouped_parameters = [\n",
        "        {\n",
        "            \"params\": [p for n, p in model.named_parameters()\n",
        "                       if 'qa_outputs' in n],\n",
        "            \"weight_decay\": 0.0,\n",
        "            \"lr\": 1e-4 ####### args.learning_rate*5\n",
        "        },\n",
        "    ]\n",
        "    # print(optimizer_grouped_parameters)\n",
        "    num_layers = model.config.num_hidden_layers\n",
        "    layers = [getattr(model, model_type).embeddings] + list(getattr(model, model_type).encoder.layer)\n",
        "    layers.reverse()\n",
        "    lr = args.learning_rate\n",
        "    LR_DECAY = 0.95\n",
        "    for layer in layers:\n",
        "        lr *= LR_DECAY\n",
        "        optimizer_grouped_parameters += [\n",
        "            {\n",
        "                \"params\": [p for n, p in layer.named_parameters() if not any(nd in n for nd in no_decay)],\n",
        "                \"weight_decay\": args.weight_decay,\n",
        "                \"lr\": lr,\n",
        "            },\n",
        "            {\n",
        "                \"params\": [p for n, p in layer.named_parameters() if any(nd in n for nd in no_decay)],\n",
        "                \"weight_decay\": 0.0,\n",
        "                \"lr\": lr,\n",
        "            },\n",
        "        ]\n",
        "    return optimizer_grouped_parameters\n",
        "\n",
        "\n",
        "# def get_optimizer_grouped_parameters(args, model):\n",
        "#     no_decay = [\"bias\", \"LayerNorm.weight\"]\n",
        "#     group1=['layer.0.','layer.1.','layer.2.','layer.3.']\n",
        "#     group2=['layer.4.','layer.5.','layer.6.','layer.7.']    \n",
        "#     group3=['layer.8.','layer.9.','layer.10.','layer.11.']\n",
        "#     group_all=['layer.0.','layer.1.','layer.2.','layer.3.','layer.4.','layer.5.','layer.6.','layer.7.','layer.8.','layer.9.','layer.10.','layer.11.']\n",
        "#     optimizer_grouped_parameters = [\n",
        "#         {'params': [p for n, p in model.xlm_roberta.named_parameters() if not any(nd in n for nd in no_decay) and not any(nd in n for nd in group_all)],'weight_decay': args.weight_decay},\n",
        "#         {'params': [p for n, p in model.xlm_roberta.named_parameters() if not any(nd in n for nd in no_decay) and any(nd in n for nd in group1)],'weight_decay': args.weight_decay, 'lr': args.learning_rate/8},\n",
        "#         {'params': [p for n, p in model.xlm_roberta.named_parameters() if not any(nd in n for nd in no_decay) and any(nd in n for nd in group2)],'weight_decay': args.weight_decay, 'lr': args.learning_rate/4},\n",
        "#         {'params': [p for n, p in model.xlm_roberta.named_parameters() if not any(nd in n for nd in no_decay) and any(nd in n for nd in group3)],'weight_decay': args.weight_decay, 'lr': args.learning_rate},\n",
        "#         {'params': [p for n, p in model.xlm_roberta.named_parameters() if any(nd in n for nd in no_decay) and not any(nd in n for nd in group_all)],'weight_decay': 0.0},\n",
        "#         {'params': [p for n, p in model.xlm_roberta.named_parameters() if any(nd in n for nd in no_decay) and any(nd in n for nd in group1)],'weight_decay': 0.0, 'lr': args.learning_rate/8},\n",
        "#         {'params': [p for n, p in model.xlm_roberta.named_parameters() if any(nd in n for nd in no_decay) and any(nd in n for nd in group2)],'weight_decay': 0.0, 'lr': args.learning_rate/4},\n",
        "#         {'params': [p for n, p in model.xlm_roberta.named_parameters() if any(nd in n for nd in no_decay) and any(nd in n for nd in group3)],'weight_decay': 0.0, 'lr': args.learning_rate},\n",
        "#         {'params': [p for n, p in model.named_parameters() if args.model_type not in n], 'lr':args.learning_rate*20, \"weight_decay\": 0.0},\n",
        "#     ]\n",
        "#     return optimizer_grouped_parameters"
      ],
      "id": "4e4bcde0",
      "execution_count": null,
      "outputs": []
    },
    {
      "cell_type": "code",
      "metadata": {
        "id": "VkWXuuwoQJM-"
      },
      "source": [
        "if 0:\n",
        "  def get_optimizer_grouped_parameters(args, model):\n",
        "    no_decay = [\"bias\", \"LayerNorm.weight\"]\n",
        "    group1=['layer.0.','layer.1.','layer.2.','layer.3.']\n",
        "    group2=['layer.4.','layer.5.','layer.6.','layer.7.']    \n",
        "    group3=['layer.8.','layer.9.','layer.10.','layer.11.']\n",
        "    group_all=['layer.0.','layer.1.','layer.2.','layer.3.','layer.4.','layer.5.','layer.6.','layer.7.','layer.8.','layer.9.','layer.10.','layer.11.']\n",
        "    optimizer_grouped_parameters = [\n",
        "        {'params': [p for n, p in model.xlm_roberta.named_parameters() if not any(nd in n for nd in no_decay) and not any(nd in n for nd in group_all)],'weight_decay': args.weight_decay},\n",
        "        {'params': [p for n, p in model.xlm_roberta.named_parameters() if not any(nd in n for nd in no_decay) and any(nd in n for nd in group1)],'weight_decay': args.weight_decay, 'lr': args.learning_rate/2.6},\n",
        "        {'params': [p for n, p in model.xlm_roberta.named_parameters() if not any(nd in n for nd in no_decay) and any(nd in n for nd in group2)],'weight_decay': args.weight_decay, 'lr': args.learning_rate},\n",
        "        {'params': [p for n, p in model.xlm_roberta.named_parameters() if not any(nd in n for nd in no_decay) and any(nd in n for nd in group3)],'weight_decay': args.weight_decay, 'lr': args.learning_rate*2.6},\n",
        "        {'params': [p for n, p in model.xlm_roberta.named_parameters() if any(nd in n for nd in no_decay) and not any(nd in n for nd in group_all)],'weight_decay': 0.0},\n",
        "        {'params': [p for n, p in model.xlm_roberta.named_parameters() if any(nd in n for nd in no_decay) and any(nd in n for nd in group1)],'weight_decay': 0.0, 'lr': args.learning_rate/2.6},\n",
        "        {'params': [p for n, p in model.xlm_roberta.named_parameters() if any(nd in n for nd in no_decay) and any(nd in n for nd in group2)],'weight_decay': 0.0, 'lr': args.learning_rate},\n",
        "        {'params': [p for n, p in model.xlm_roberta.named_parameters() if any(nd in n for nd in no_decay) and any(nd in n for nd in group3)],'weight_decay': 0.0, 'lr': args.learning_rate*2.6},\n",
        "        {'params': [p for n, p in model.named_parameters() if args.model_type not in n], 'lr':args.learning_rate*20, \"weight_decay\": 0.0},\n",
        "    ]\n",
        "    return optimizer_grouped_parameters"
      ],
      "id": "VkWXuuwoQJM-",
      "execution_count": null,
      "outputs": []
    },
    {
      "cell_type": "markdown",
      "metadata": {
        "id": "2d0ac100"
      },
      "source": [
        "### Metric Logger"
      ],
      "id": "2d0ac100"
    },
    {
      "cell_type": "code",
      "metadata": {
        "id": "65b3cd59"
      },
      "source": [
        "class AverageMeter(object):\n",
        "    def __init__(self):\n",
        "        self.reset()\n",
        "\n",
        "    def reset(self):\n",
        "        self.val = 0\n",
        "        self.avg = 0\n",
        "        self.sum = 0\n",
        "        self.count = 0\n",
        "        self.max = 0\n",
        "        self.min = 1e5\n",
        "\n",
        "    def update(self, val, n=1):\n",
        "        self.val = val\n",
        "        self.sum += val * n\n",
        "        self.count += n\n",
        "        self.avg = self.sum / self.count\n",
        "        if val > self.max:\n",
        "            self.max = val\n",
        "        if val < self.min:\n",
        "            self.min = val"
      ],
      "id": "65b3cd59",
      "execution_count": null,
      "outputs": []
    },
    {
      "cell_type": "markdown",
      "metadata": {
        "id": "03f659a2"
      },
      "source": [
        "### Utilities"
      ],
      "id": "03f659a2"
    },
    {
      "cell_type": "code",
      "metadata": {
        "id": "0a7d36df"
      },
      "source": [
        "def make_model(args):\n",
        "    config = AutoConfig.from_pretrained(args.config_name)\n",
        "    tokenizer = AutoTokenizer.from_pretrained(args.tokenizer_name)\n",
        "    model = Model(args.model_name_or_path, config=config)\n",
        "    return config, tokenizer, model\n",
        "\n",
        "def make_optimizer(args, model):\n",
        "    #################\n",
        "    optimizer_grouped_parameters = get_optimizer_grouped_parameters(args, model)\n",
        "    # no_decay = [\"bias\", \"LayerNorm.weight\"]\n",
        "    # optimizer_grouped_parameters = [\n",
        "    #     {\n",
        "    #         \"params\": [p for n, p in model.named_parameters() if not any(nd in n for nd in no_decay)],\n",
        "    #         \"weight_decay\": args.weight_decay,\n",
        "    #     },\n",
        "    #     {\n",
        "    #         \"params\": [p for n, p in model.named_parameters() if any(nd in n for nd in no_decay)],\n",
        "    #         \"weight_decay\": 0.0,\n",
        "    #     },\n",
        "    # ]\n",
        "    if args.optimizer_type == \"AdamW\":\n",
        "        optimizer = AdamW(\n",
        "            optimizer_grouped_parameters,\n",
        "            lr=args.learning_rate,\n",
        "            eps=args.epsilon,\n",
        "            correct_bias=True\n",
        "        )\n",
        "        return optimizer\n",
        "\n",
        "def make_scheduler(\n",
        "    args, optimizer, \n",
        "    num_warmup_steps, \n",
        "    num_training_steps\n",
        "):\n",
        "    if args.decay_name == \"cosine-warmup\":\n",
        "        scheduler = get_cosine_schedule_with_warmup(\n",
        "            optimizer,\n",
        "            num_warmup_steps=num_warmup_steps,\n",
        "            num_training_steps=num_training_steps\n",
        "        )\n",
        "    elif args.decay_name == \"liner-warmup\":\n",
        "        scheduler = get_linear_schedule_with_warmup(\n",
        "            optimizer,\n",
        "            num_warmup_steps=num_warmup_steps,\n",
        "            num_training_steps=num_training_steps\n",
        "        )\n",
        "    else:\n",
        "        scheduler = get_constant_schedule_with_warmup(\n",
        "            optimizer,\n",
        "            num_warmup_steps=num_warmup_steps,\n",
        "        )\n",
        "    return scheduler    \n",
        "\n",
        "def make_loader(\n",
        "    args, data, \n",
        "    tokenizer, fold\n",
        "):\n",
        "    train_set, valid_set = data[data['kfold']!=fold], data[data['kfold']==fold]\n",
        "    \n",
        "    train_features, valid_features = [[] for _ in range(2)]\n",
        "    for i, row in train_set.iterrows():\n",
        "        train_features += prepare_train_features(args, row, tokenizer)\n",
        "    for i, row in valid_set.iterrows():\n",
        "        valid_features += prepare_train_features(args, row, tokenizer)\n",
        "\n",
        "    train_dataset = DatasetRetriever(train_features)\n",
        "    valid_dataset = DatasetRetriever(valid_features)\n",
        "    print(f\"Num examples Train= {len(train_dataset)}, Num examples Valid={len(valid_dataset)}\")\n",
        "    \n",
        "    train_sampler = RandomSampler(train_dataset)\n",
        "    valid_sampler = SequentialSampler(valid_dataset)\n",
        "\n",
        "    train_dataloader = DataLoader(\n",
        "        train_dataset,\n",
        "        batch_size=args.train_batch_size,\n",
        "        sampler=train_sampler,\n",
        "        num_workers=optimal_num_of_loader_workers(),\n",
        "        pin_memory=True,\n",
        "        drop_last=False \n",
        "    )\n",
        "\n",
        "    valid_dataloader = DataLoader(\n",
        "        valid_dataset,\n",
        "        batch_size=args.eval_batch_size, \n",
        "        sampler=valid_sampler,\n",
        "        num_workers=optimal_num_of_loader_workers(),\n",
        "        pin_memory=True, \n",
        "        drop_last=False\n",
        "    )\n",
        "\n",
        "    return train_dataloader, valid_dataloader"
      ],
      "id": "0a7d36df",
      "execution_count": null,
      "outputs": []
    },
    {
      "cell_type": "markdown",
      "metadata": {
        "id": "47101630"
      },
      "source": [
        "### Trainer"
      ],
      "id": "47101630"
    },
    {
      "cell_type": "code",
      "metadata": {
        "id": "81b92c70"
      },
      "source": [
        "class Trainer:\n",
        "    def __init__(\n",
        "        self, model, tokenizer, \n",
        "        optimizer, scheduler\n",
        "    ):\n",
        "        self.model = model\n",
        "        self.tokenizer = tokenizer\n",
        "        self.optimizer = optimizer\n",
        "        self.scheduler = scheduler\n",
        "\n",
        "    def train(\n",
        "        self, args, \n",
        "        train_dataloader, \n",
        "        epoch, result_dict\n",
        "    ):\n",
        "        count = 0\n",
        "        losses = AverageMeter()\n",
        "        \n",
        "        self.model.zero_grad()\n",
        "        self.model.train()\n",
        "        \n",
        "        fix_all_seeds(args.seed)\n",
        "        \n",
        "        for batch_idx, batch_data in enumerate(train_dataloader):\n",
        "            input_ids, attention_mask, targets_start, targets_end = \\\n",
        "                batch_data['input_ids'], batch_data['attention_mask'], \\\n",
        "                    batch_data['start_position'], batch_data['end_position']\n",
        "            \n",
        "            input_ids, attention_mask, targets_start, targets_end = \\\n",
        "                input_ids.cuda(), attention_mask.cuda(), targets_start.cuda(), targets_end.cuda()\n",
        "\n",
        "            outputs_start, outputs_end = self.model(\n",
        "                input_ids=input_ids,\n",
        "                attention_mask=attention_mask,\n",
        "            )\n",
        "            \n",
        "            ########\n",
        "            # outputs_start2, outputs_end2 = self.model(\n",
        "            #     input_ids=input_ids,\n",
        "            #     attention_mask=attention_mask,\n",
        "            # )\n",
        "\n",
        "            #print(outputs_start.size())\n",
        "            loss = loss_fn((outputs_start, outputs_end), (targets_start, targets_end))\n",
        "            # loss = loss_fn2((outputs_start, outputs_end), (outputs_start2, outputs_end2), (targets_start, targets_end))\n",
        "            loss = loss / args.gradient_accumulation_steps\n",
        "\n",
        "            if args.fp16:\n",
        "                with amp.scale_loss(loss, self.optimizer) as scaled_loss:\n",
        "                    scaled_loss.backward()\n",
        "            else:\n",
        "                loss.backward()\n",
        "\n",
        "            count += input_ids.size(0)\n",
        "            losses.update(loss.item(), input_ids.size(0))\n",
        "\n",
        "            # if args.fp16:\n",
        "            #     torch.nn.utils.clip_grad_norm_(amp.master_params(self.optimizer), args.max_grad_norm)\n",
        "            # else:\n",
        "            #     torch.nn.utils.clip_grad_norm_(self.model.parameters(), args.max_grad_norm)\n",
        "\n",
        "            if batch_idx % args.gradient_accumulation_steps == 0 or batch_idx == len(train_dataloader) - 1:\n",
        "                self.optimizer.step()\n",
        "                self.scheduler.step()\n",
        "                self.optimizer.zero_grad()\n",
        "\n",
        "            if (batch_idx % args.logging_steps == 0) or (batch_idx+1)==len(train_dataloader):\n",
        "                _s = str(len(str(len(train_dataloader.sampler))))\n",
        "                ret = [\n",
        "                    ('Epoch: {:0>2} [{: >' + _s + '}/{} ({: >3.0f}%)]').format(epoch, count, len(train_dataloader.sampler), 100 * count / len(train_dataloader.sampler)),\n",
        "                    'Train Loss: {: >4.5f}'.format(losses.avg),\n",
        "                ]\n",
        "                print(', '.join(ret))\n",
        "\n",
        "        result_dict['train_loss'].append(losses.avg)\n",
        "        return result_dict"
      ],
      "id": "81b92c70",
      "execution_count": null,
      "outputs": []
    },
    {
      "cell_type": "markdown",
      "metadata": {
        "id": "468c7fad"
      },
      "source": [
        "### Evaluator"
      ],
      "id": "468c7fad"
    },
    {
      "cell_type": "code",
      "metadata": {
        "id": "c77328b3"
      },
      "source": [
        "class Evaluator:\n",
        "    def __init__(self, model):\n",
        "        self.model = model\n",
        "    \n",
        "    def save(self, result, output_dir):\n",
        "        with open(f'{output_dir}/result_dict.json', 'w') as f:\n",
        "            f.write(json.dumps(result, sort_keys=True, indent=4, ensure_ascii=False))\n",
        "\n",
        "    def evaluate(self, valid_dataloader, epoch, result_dict):\n",
        "        losses = AverageMeter()\n",
        "        for batch_idx, batch_data in enumerate(valid_dataloader):\n",
        "            self.model = self.model.eval()\n",
        "            input_ids, attention_mask, targets_start, targets_end = \\\n",
        "                batch_data['input_ids'], batch_data['attention_mask'], \\\n",
        "                    batch_data['start_position'], batch_data['end_position']\n",
        "            \n",
        "            input_ids, attention_mask, targets_start, targets_end = \\\n",
        "                input_ids.cuda(), attention_mask.cuda(), targets_start.cuda(), targets_end.cuda()\n",
        "            \n",
        "            with torch.no_grad():            \n",
        "                outputs_start, outputs_end = self.model(\n",
        "                    input_ids=input_ids,\n",
        "                    attention_mask=attention_mask,\n",
        "                )\n",
        "                \n",
        "                loss = loss_fn((outputs_start, outputs_end), (targets_start, targets_end))\n",
        "                losses.update(loss.item(), input_ids.size(0))\n",
        "                \n",
        "        print('----Validation Results Summary----')\n",
        "        print('Epoch: [{}] Valid Loss: {: >4.5f}'.format(epoch, losses.avg))\n",
        "        result_dict['val_loss'].append(losses.avg)        \n",
        "        return result_dict"
      ],
      "id": "c77328b3",
      "execution_count": null,
      "outputs": []
    },
    {
      "cell_type": "markdown",
      "metadata": {
        "id": "86c0ad8e"
      },
      "source": [
        "### Initialize Training"
      ],
      "id": "86c0ad8e"
    },
    {
      "cell_type": "code",
      "metadata": {
        "id": "edd188d2"
      },
      "source": [
        "def init_training(args, data, fold):\n",
        "    fix_all_seeds(args.seed)\n",
        "    \n",
        "    if not os.path.exists(args.output_dir):\n",
        "        os.makedirs(args.output_dir)\n",
        "    \n",
        "    # model\n",
        "    model_config, tokenizer, model = make_model(args)\n",
        "    if torch.cuda.device_count() >= 1:\n",
        "        print('Model pushed to {} GPU(s), type {}.'.format(\n",
        "            torch.cuda.device_count(), \n",
        "            torch.cuda.get_device_name(0))\n",
        "        )\n",
        "        model = model.cuda() \n",
        "    else:\n",
        "        raise ValueError('CPU training is not supported')\n",
        "    \n",
        "    # print(\"load dict...\")\n",
        "    # model.load_state_dict(\n",
        "    #     torch.load(\"/content/input/chaii/output/checkpoint-fold-{}/pytorch_model.bin\".format(fold))\n",
        "    #     #torch.load(\"/content/drive/MyDrive/datas/chaii/output/output/checkpoint-fold-{}/pytorch_model.bin\".format(fold))\n",
        "    # );\n",
        "\n",
        "    # data loaders\n",
        "    train_dataloader, valid_dataloader = make_loader(args, data, tokenizer, fold)\n",
        "\n",
        "    # optimizer\n",
        "    optimizer = make_optimizer(args, model)\n",
        "\n",
        "    # scheduler\n",
        "    num_training_steps = math.ceil(len(train_dataloader) / args.gradient_accumulation_steps) * args.epochs\n",
        "    if args.warmup_ratio > 0:\n",
        "        num_warmup_steps = int(args.warmup_ratio * num_training_steps)\n",
        "    else:\n",
        "        num_warmup_steps = 0\n",
        "    print(f\"Total Training Steps: {num_training_steps}, Total Warmup Steps: {num_warmup_steps}\")\n",
        "    scheduler = make_scheduler(args, optimizer, num_warmup_steps, num_training_steps)\n",
        "\n",
        "    # mixed precision training with NVIDIA Apex\n",
        "    if args.fp16:\n",
        "        model, optimizer = amp.initialize(model, optimizer, opt_level=args.fp16_opt_level)\n",
        "    \n",
        "    result_dict = {\n",
        "        'epoch':[], \n",
        "        'train_loss': [], \n",
        "        'val_loss' : [], \n",
        "        'best_val_loss': np.inf\n",
        "    }\n",
        "\n",
        "    return (\n",
        "        model, model_config, tokenizer, optimizer, scheduler, \n",
        "        train_dataloader, valid_dataloader, result_dict\n",
        "    )"
      ],
      "id": "edd188d2",
      "execution_count": null,
      "outputs": []
    },
    {
      "cell_type": "code",
      "metadata": {
        "id": "_N-PyfKI9mzm"
      },
      "source": [
        ""
      ],
      "id": "_N-PyfKI9mzm",
      "execution_count": null,
      "outputs": []
    },
    {
      "cell_type": "markdown",
      "metadata": {
        "id": "cb42970d"
      },
      "source": [
        "### Run"
      ],
      "id": "cb42970d"
    },
    {
      "cell_type": "code",
      "metadata": {
        "id": "915ef19d"
      },
      "source": [
        "def run(data, fold):\n",
        "    args = Config()\n",
        "    model, model_config, tokenizer, optimizer, scheduler, train_dataloader, \\\n",
        "        valid_dataloader, result_dict = init_training(args, data, fold)\n",
        "    \n",
        "    trainer = Trainer(model, tokenizer, optimizer, scheduler)\n",
        "    evaluator = Evaluator(model)\n",
        "\n",
        "    train_time_list = []\n",
        "    valid_time_list = []\n",
        "\n",
        "    for epoch in range(args.epochs):\n",
        "        result_dict['epoch'].append(epoch)\n",
        "\n",
        "        # Train\n",
        "        torch.cuda.synchronize()\n",
        "        tic1 = time.time()\n",
        "        result_dict = trainer.train(\n",
        "            args, train_dataloader, \n",
        "            epoch, result_dict\n",
        "        )\n",
        "        torch.cuda.synchronize()\n",
        "        tic2 = time.time() \n",
        "        train_time_list.append(tic2 - tic1)\n",
        "        \n",
        "        # Evaluate\n",
        "        torch.cuda.synchronize()\n",
        "        tic3 = time.time()\n",
        "        result_dict = evaluator.evaluate(\n",
        "            valid_dataloader, epoch, result_dict\n",
        "        )\n",
        "        torch.cuda.synchronize()\n",
        "        tic4 = time.time() \n",
        "        valid_time_list.append(tic4 - tic3)\n",
        "            \n",
        "        output_dir = os.path.join(args.output_dir, f\"checkpoint-fold-{fold}\")\n",
        "        if result_dict['val_loss'][-1] < result_dict['best_val_loss']:\n",
        "            print(\"{} Epoch, Best epoch was updated! Valid Loss: {: >4.5f}\".format(epoch, result_dict['val_loss'][-1]))\n",
        "            result_dict[\"best_val_loss\"] = result_dict['val_loss'][-1]        \n",
        "            \n",
        "            os.makedirs(output_dir, exist_ok=True)\n",
        "            torch.save(model.state_dict(), f\"{output_dir}/pytorch_model.bin\")\n",
        "            model_config.save_pretrained(output_dir)\n",
        "            tokenizer.save_pretrained(output_dir)\n",
        "            print(f\"Saving model checkpoint to {output_dir}.\")\n",
        "            \n",
        "        print()\n",
        "\n",
        "    evaluator.save(result_dict, output_dir)\n",
        "    \n",
        "    print(f\"Total Training Time: {np.sum(train_time_list)}secs, Average Training Time per Epoch: {np.mean(train_time_list)}secs.\")\n",
        "    print(f\"Total Validation Time: {np.sum(valid_time_list)}secs, Average Validation Time per Epoch: {np.mean(valid_time_list)}secs.\")\n",
        "    \n",
        "    best = result_dict[\"best_val_loss\"]\n",
        "\n",
        "    torch.cuda.empty_cache()\n",
        "    del trainer, evaluator\n",
        "    del model, model_config, tokenizer\n",
        "    del optimizer, scheduler\n",
        "    del train_dataloader, valid_dataloader, result_dict\n",
        "    gc.collect()\n",
        "\n",
        "    return best"
      ],
      "id": "915ef19d",
      "execution_count": null,
      "outputs": []
    },
    {
      "cell_type": "code",
      "metadata": {
        "colab": {
          "background_save": true,
          "base_uri": "https://localhost:8080/"
        },
        "id": "b7a66e0a",
        "outputId": "53419d47-a3d3-4790-8c54-e19291a05bab"
      },
      "source": [
        "best = []\n",
        "for fold in range(5):\n",
        "    # if fold >= 2 :\n",
        "    #   continue\n",
        "    print();print()\n",
        "    print('-'*50)\n",
        "    print(f'FOLD: {fold}')\n",
        "    print('-'*50)\n",
        "    ret = run(train, fold)\n",
        "    !cp -r ./output /content/drive/MyDrive/datas/chaii/output\n",
        "    best.append(ret)\n",
        "\n",
        "print(best)"
      ],
      "id": "b7a66e0a",
      "execution_count": null,
      "outputs": [
        {
          "name": "stdout",
          "output_type": "stream",
          "text": [
            "\n",
            "\n",
            "--------------------------------------------------\n",
            "FOLD: 0\n",
            "--------------------------------------------------\n",
            "Model pushed to 1 GPU(s), type Tesla P100-PCIE-16GB.\n",
            "Num examples Train= 50006, Num examples Valid=2972\n",
            "Total Training Steps: 1563, Total Warmup Steps: 156\n",
            "Epoch: 00 [    4/50006 (  0%)], Train Loss: 0.73960\n",
            "Epoch: 00 [ 4004/50006 (  8%)], Train Loss: 0.28606\n",
            "Epoch: 00 [ 8004/50006 ( 16%)], Train Loss: 0.21505\n",
            "Epoch: 00 [12004/50006 ( 24%)], Train Loss: 0.19141\n",
            "Epoch: 00 [16004/50006 ( 32%)], Train Loss: 0.17662\n",
            "Epoch: 00 [20004/50006 ( 40%)], Train Loss: 0.16821\n",
            "Epoch: 00 [24004/50006 ( 48%)], Train Loss: 0.16254\n",
            "Epoch: 00 [28004/50006 ( 56%)], Train Loss: 0.15789\n",
            "Epoch: 00 [32004/50006 ( 64%)], Train Loss: 0.15435\n",
            "Epoch: 00 [36004/50006 ( 72%)], Train Loss: 0.15159\n",
            "Epoch: 00 [40004/50006 ( 80%)], Train Loss: 0.14901\n",
            "Epoch: 00 [44004/50006 ( 88%)], Train Loss: 0.14709\n",
            "Epoch: 00 [48004/50006 ( 96%)], Train Loss: 0.14536\n",
            "Epoch: 00 [50006/50006 (100%)], Train Loss: 0.14457\n",
            "----Validation Results Summary----\n",
            "Epoch: [0] Valid Loss: 0.24483\n",
            "0 Epoch, Best epoch was updated! Valid Loss: 0.24483\n",
            "Saving model checkpoint to output/checkpoint-fold-0.\n",
            "\n",
            "Total Training Time: 6872.553062438965secs, Average Training Time per Epoch: 6872.553062438965secs.\n",
            "Total Validation Time: 132.61403059959412secs, Average Validation Time per Epoch: 132.61403059959412secs.\n",
            "\n",
            "\n",
            "--------------------------------------------------\n",
            "FOLD: 1\n",
            "--------------------------------------------------\n",
            "Model pushed to 1 GPU(s), type Tesla P100-PCIE-16GB.\n",
            "Num examples Train= 50310, Num examples Valid=2668\n",
            "Total Training Steps: 1573, Total Warmup Steps: 157\n",
            "Epoch: 00 [    4/50310 (  0%)], Train Loss: 0.70367\n",
            "Epoch: 00 [ 4004/50310 (  8%)], Train Loss: 0.28002\n",
            "Epoch: 00 [ 8004/50310 ( 16%)], Train Loss: 0.21345\n",
            "Epoch: 00 [12004/50310 ( 24%)], Train Loss: 0.18798\n",
            "Epoch: 00 [16004/50310 ( 32%)], Train Loss: 0.17494\n",
            "Epoch: 00 [20004/50310 ( 40%)], Train Loss: 0.16616\n",
            "Epoch: 00 [24004/50310 ( 48%)], Train Loss: 0.16082\n",
            "Epoch: 00 [28004/50310 ( 56%)], Train Loss: 0.15668\n",
            "Epoch: 00 [32004/50310 ( 64%)], Train Loss: 0.15305\n",
            "Epoch: 00 [36004/50310 ( 72%)], Train Loss: 0.14981\n",
            "Epoch: 00 [40004/50310 ( 80%)], Train Loss: 0.14780\n",
            "Epoch: 00 [44004/50310 ( 87%)], Train Loss: 0.14602\n",
            "Epoch: 00 [48004/50310 ( 95%)], Train Loss: 0.14429\n",
            "Epoch: 00 [50310/50310 (100%)], Train Loss: 0.14337\n",
            "----Validation Results Summary----\n",
            "Epoch: [0] Valid Loss: 0.26592\n",
            "0 Epoch, Best epoch was updated! Valid Loss: 0.26592\n",
            "Saving model checkpoint to output/checkpoint-fold-1.\n",
            "\n",
            "Total Training Time: 6915.088166952133secs, Average Training Time per Epoch: 6915.088166952133secs.\n",
            "Total Validation Time: 119.17434978485107secs, Average Validation Time per Epoch: 119.17434978485107secs.\n",
            "\n",
            "\n",
            "--------------------------------------------------\n",
            "FOLD: 2\n",
            "--------------------------------------------------\n",
            "Model pushed to 1 GPU(s), type Tesla P100-PCIE-16GB.\n",
            "Num examples Train= 49984, Num examples Valid=2994\n",
            "Total Training Steps: 1562, Total Warmup Steps: 156\n",
            "Epoch: 00 [    4/49984 (  0%)], Train Loss: 0.74017\n",
            "Epoch: 00 [ 4004/49984 (  8%)], Train Loss: 0.28607\n",
            "Epoch: 00 [ 8004/49984 ( 16%)], Train Loss: 0.21644\n",
            "Epoch: 00 [12004/49984 ( 24%)], Train Loss: 0.19259\n",
            "Epoch: 00 [16004/49984 ( 32%)], Train Loss: 0.17808\n",
            "Epoch: 00 [20004/49984 ( 40%)], Train Loss: 0.16970\n",
            "Epoch: 00 [24004/49984 ( 48%)], Train Loss: 0.16405\n",
            "Epoch: 00 [28004/49984 ( 56%)], Train Loss: 0.15966\n",
            "Epoch: 00 [32004/49984 ( 64%)], Train Loss: 0.15589\n",
            "Epoch: 00 [36004/49984 ( 72%)], Train Loss: 0.15270\n",
            "Epoch: 00 [40004/49984 ( 80%)], Train Loss: 0.15008\n",
            "Epoch: 00 [44004/49984 ( 88%)], Train Loss: 0.14833\n",
            "Epoch: 00 [48004/49984 ( 96%)], Train Loss: 0.14611\n",
            "Epoch: 00 [49984/49984 (100%)], Train Loss: 0.14523\n",
            "----Validation Results Summary----\n",
            "Epoch: [0] Valid Loss: 0.21486\n",
            "0 Epoch, Best epoch was updated! Valid Loss: 0.21486\n",
            "Saving model checkpoint to output/checkpoint-fold-2.\n",
            "\n",
            "Total Training Time: 6870.540603399277secs, Average Training Time per Epoch: 6870.540603399277secs.\n",
            "Total Validation Time: 133.86824011802673secs, Average Validation Time per Epoch: 133.86824011802673secs.\n",
            "\n",
            "\n",
            "--------------------------------------------------\n",
            "FOLD: 3\n",
            "--------------------------------------------------\n",
            "Model pushed to 1 GPU(s), type Tesla P100-PCIE-16GB.\n",
            "Num examples Train= 50181, Num examples Valid=2797\n",
            "Total Training Steps: 1569, Total Warmup Steps: 156\n",
            "Epoch: 00 [    4/50181 (  0%)], Train Loss: 0.73074\n",
            "Epoch: 00 [ 4004/50181 (  8%)], Train Loss: 0.28773\n",
            "Epoch: 00 [ 8004/50181 ( 16%)], Train Loss: 0.21871\n",
            "Epoch: 00 [12004/50181 ( 24%)], Train Loss: 0.19165\n",
            "Epoch: 00 [16004/50181 ( 32%)], Train Loss: 0.17698\n",
            "Epoch: 00 [20004/50181 ( 40%)], Train Loss: 0.16840\n",
            "Epoch: 00 [24004/50181 ( 48%)], Train Loss: 0.16239\n",
            "Epoch: 00 [28004/50181 ( 56%)], Train Loss: 0.15814\n",
            "Epoch: 00 [32004/50181 ( 64%)], Train Loss: 0.15487\n",
            "Epoch: 00 [36004/50181 ( 72%)], Train Loss: 0.15143\n",
            "Epoch: 00 [40004/50181 ( 80%)], Train Loss: 0.14878\n",
            "Epoch: 00 [44004/50181 ( 88%)], Train Loss: 0.14691\n",
            "Epoch: 00 [48004/50181 ( 96%)], Train Loss: 0.14519\n",
            "Epoch: 00 [50181/50181 (100%)], Train Loss: 0.14399\n",
            "----Validation Results Summary----\n",
            "Epoch: [0] Valid Loss: 0.29384\n",
            "0 Epoch, Best epoch was updated! Valid Loss: 0.29384\n",
            "Saving model checkpoint to output/checkpoint-fold-3.\n",
            "\n",
            "Total Training Time: 6897.469715118408secs, Average Training Time per Epoch: 6897.469715118408secs.\n",
            "Total Validation Time: 125.176340341568secs, Average Validation Time per Epoch: 125.176340341568secs.\n",
            "\n",
            "\n",
            "--------------------------------------------------\n",
            "FOLD: 4\n",
            "--------------------------------------------------\n",
            "Model pushed to 1 GPU(s), type Tesla P100-PCIE-16GB.\n",
            "Num examples Train= 50221, Num examples Valid=2757\n",
            "Total Training Steps: 1570, Total Warmup Steps: 157\n",
            "Epoch: 00 [    4/50221 (  0%)], Train Loss: 0.71757\n",
            "Epoch: 00 [ 4004/50221 (  8%)], Train Loss: 0.28681\n",
            "Epoch: 00 [ 8004/50221 ( 16%)], Train Loss: 0.21407\n",
            "Epoch: 00 [12004/50221 ( 24%)], Train Loss: 0.19000\n",
            "Epoch: 00 [16004/50221 ( 32%)], Train Loss: 0.17561\n",
            "Epoch: 00 [20004/50221 ( 40%)], Train Loss: 0.16708\n",
            "Epoch: 00 [24004/50221 ( 48%)], Train Loss: 0.16109\n",
            "Epoch: 00 [28004/50221 ( 56%)], Train Loss: 0.15702\n",
            "Epoch: 00 [32004/50221 ( 64%)], Train Loss: 0.15427\n",
            "Epoch: 00 [36004/50221 ( 72%)], Train Loss: 0.15186\n",
            "Epoch: 00 [40004/50221 ( 80%)], Train Loss: 0.14960\n",
            "Epoch: 00 [44004/50221 ( 88%)], Train Loss: 0.14756\n",
            "Epoch: 00 [48004/50221 ( 96%)], Train Loss: 0.14566\n",
            "Epoch: 00 [50221/50221 (100%)], Train Loss: 0.14480\n",
            "----Validation Results Summary----\n",
            "Epoch: [0] Valid Loss: 0.20145\n",
            "0 Epoch, Best epoch was updated! Valid Loss: 0.20145\n",
            "Saving model checkpoint to output/checkpoint-fold-4.\n",
            "\n",
            "Total Training Time: 6903.080304145813secs, Average Training Time per Epoch: 6903.080304145813secs.\n",
            "Total Validation Time: 123.46070075035095secs, Average Validation Time per Epoch: 123.46070075035095secs.\n",
            "[0.24483466881855664, 0.26592314719903876, 0.21485666461779165, 0.2938410691097166, 0.20144684297711807]\n"
          ]
        }
      ]
    },
    {
      "cell_type": "code",
      "metadata": {
        "colab": {
          "background_save": true
        },
        "id": "BaDr_pFZGOQY",
        "outputId": "a5ebcbc9-2758-4db6-dc19-311d3e5b7176"
      },
      "source": [
        "np.mean(np.array(best))"
      ],
      "id": "BaDr_pFZGOQY",
      "execution_count": null,
      "outputs": [
        {
          "data": {
            "text/plain": [
              "0.24418047854444436"
            ]
          },
          "execution_count": null,
          "metadata": {},
          "output_type": "execute_result"
        }
      ]
    },
    {
      "cell_type": "markdown",
      "metadata": {
        "id": "c600bffd"
      },
      "source": [
        "## ここをチェック"
      ],
      "id": "c600bffd"
    },
    {
      "cell_type": "code",
      "metadata": {
        "colab": {
          "background_save": true
        },
        "id": "2lVx1gGZrn-q"
      },
      "source": [
        "# trainデータなし学習 valideデータはtrain.csvではないので注意\n",
        "#[1.2976857284959564, 1.3881498964859058, 1.3087206599546626, 1.2901440256843426, 1.1679372001281267]\n",
        "#[0.24349995289113208, 0.2663524366251205, 0.19786230920665912, 0.2553937918101003, 0.18950824988041495]\n",
        "#[0.24366667471828746, 0.28473904721862214, 0.15692045553454106, 0.24553805843296678, 0.18429825624839946]\n",
        "#[0.24311262005966766, 0.284736886900765, 0.15840444342909, 0.24527732736873206, 0.18645570367727277]\n",
        "#[0.23844826735717128, 0.28548798921814356, 0.15855387426083375, 0.24254149177365683, 0.18242730208896807]\n",
        "#[0.23633872994702976, 0.2876898618870076]\n",
        "\n",
        "#[0.2399075371348521, 0.21504926022690454, 0.28804823179640204]\n",
        "\n",
        "#[0.2322873271281629, 0.2690950131782601, 0.20884554429639518, 0.25611597623857196, 0.2622648145021154]\n",
        "\n",
        "\n",
        "#tamil\n",
        "#[0.24800505987951157, 0.28482119431719183, 0.15574497073223997, 0.24578075964718757, 0.17901662780208277]\n",
        "\n",
        "\n",
        "\n",
        "# train & hindi xquad\n",
        "#[0.24965187649773146, 0.23444136391208764, 0.22017900116515676] 0.23475741385832527\n",
        "#[0.23096489540942408, 0.28216897352464915, 0.2203173596892458, 0.28736751974058533, 0.208414323353315] 0.2458466143434439\n",
        "#[0.22519750105769248, 0.25939778196668173, 0.20381177481000717, 0.2465142556059104, 0.17124023813670544] 0.22123231031539947\n",
        "#[0.2697170414320415, 0.3059851324188871, 0.2551263245063695, 0.3056244693620248, 0.21533218981467775] 0.2703570315068001\n",
        "#[0.22526602439154889, 0.26299701667625947, 0.20623224054625405, 0.26411216159941286, 0.182503771575793] 0.22822224295785362\n",
        "#[0.23691583103636119, 0.2686926209007856, 0.2075012739026476, 0.25571625346175986, 0.19657193895548936]\n",
        "#[0.23888897450804394, 0.26591575717939314, 0.19279731265472355, 0.275491834834653, 0.1854117791257561]\n",
        "#[0.2519814316728135, 0.26924624716331114, 0.19539388123118323, 0.27420934634778854, 0.184092709692541]\n",
        "#[0.2530554625445571, 0.27373010504284945, 0.20456079005861058, 0.28659096361988684, 0.20325152608371191]\n",
        "\n",
        "# ★★ここをベースに検討★★\n",
        "# hindi xsquid acc_step 2 lr 1e-05 wd 0.001 400-135 seed 42 msd 5\n",
        "# [0.2302274905697632, 0.27069914932622796, 0.21486875825171511, 0.2573498566401873, 0.18481068504706707] 0.23159118796699213 LB:0.768\n",
        "#-----------\n",
        "# hindi xsquid acc_step 2 lr 1e-05 wd 0.001 400-135 seed 42 msd 5 scheduler_step 2 FOLDデータが若干違う　10/12 chaii-1012\n",
        "#[0.24841012325690787, 0.26584840404003096, 0.2032461542127646, 0.2737542687907607, 0.22716575367217018] LB:0.776\n",
        "#-----------\n",
        "# hindi xsquid acc_step 2 lr 1.5e-05 wd 0.001 400-135 seed 42 msd 5 scheduler_step 2 FOLDデータが若干違う　10/13 chaii-1013\n",
        "# [0.24829580425794023, 0.2651147856025376, 0.21895726531102902, 5.991464610776605, 0.228712301645232] LB:0.778\n",
        "#      FOLD3 単独でやり直し（学習ミスのため）　1e-5 s-step3に変更 fold3=0.25424\n",
        "#-----------\n",
        "# hindi xsquid acc_step 2 lr 1e-05 wd 0.001 400-135 seed 42 msd 5 scheduler_step 3 FOLDデータが若干違う　※10/13が収束しなかったので変更\n",
        "# [0.23505390209724317, 0.2598879741057279, 0.20111809600251632, 0.2542404424046021, 0.18050300175809506] chaii-1014 LB:0.776\n",
        "\n",
        "# hindi xsquid acc_step 2 lr 9e-06 wd 0.001 400-135 seed 42 msd 5 scheduler_step 3 FOLDデータが若干違う　10/14\n",
        "# [0.23501111353810378, 0.2556940006469886, 0.19985474928692182, 0.256803787264871, 0.18670242301902526] chaii-2014-2 LB:0.765\n",
        "\n",
        "# hindi xsquid acc_step 2 lr 1.5e-05 wd 0.001 400-135 seed 923 msd 5 scheduler_step 2 FOLDデータが若干違う 10/14-2\n",
        "#[0.22942558399286914, 0.27648799994582035, 0.20045122814375774, 0.2518382845039409, 0.1895024780733636]\n",
        "\n",
        "\n",
        "\n"
      ],
      "id": "2lVx1gGZrn-q",
      "execution_count": null,
      "outputs": []
    },
    {
      "cell_type": "code",
      "metadata": {
        "colab": {
          "background_save": true
        },
        "id": "zlNTCqWhlCkv"
      },
      "source": [
        "# [0.2639688412511144, 0.23578763837464295, 0.2082770317994482] tamil & hindi xsquad  lr = 1.5e-5 LB:0.758\n",
        "# [0.2692653296424045, 0.23645380146391437, 0.21420694968205684] hindi xsquad only  lr = 1.5e-5 LB:0.761\n",
        "# [0.3102661463084304, 0.23890210809797524, 0.22127942127638148] tamil hindi xsquad + hindi mlpa lr = 1.5e-5 LB:0.775 \n",
        "# [0.2616716774835217, 0.2830840063208972,  0.22212529014537136] train data only  lr = 1.5e-5\n",
        "\n",
        "# lr = 1.5e-5\n",
        "# [0.2720036358349279, 0.32137186476052365, 0.22517818749821006, 0.27430064060954523, 0.2065113527196303] LB:764\n",
        "\n",
        "# all acc_step 4 lr 1e-05 wd 0.001 400-135 seed 42 msd 8\n",
        "#[0.2674649548349373, 0.30405822478353256, 0.22417820907238017, 0.27306132025548135, 0.19995228248329291] chaii3-1006\n",
        "# hindi xsquid acc_step 2 lr 1e-05 wd 0.001 400-135 seed 42 msd 8\n",
        "#[0.2717109649169748, 0.29633474438177754, 0.22632861237664936, 0.2791072048015778, 0.19286308680928477]  LB: 0.758 ?\n",
        "\n"
      ],
      "id": "zlNTCqWhlCkv",
      "execution_count": null,
      "outputs": []
    }
  ]
}