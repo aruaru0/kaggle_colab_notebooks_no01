{
  "nbformat": 4,
  "nbformat_minor": 5,
  "metadata": {
    "accelerator": "GPU",
    "colab": {
      "name": "chaii-qa-5-fold-xlmroberta-torch-fit-multi-sample-dropout",
      "provenance": [],
      "collapsed_sections": [],
      "toc_visible": true,
      "include_colab_link": true
    },
    "kernelspec": {
      "display_name": "Python 3",
      "language": "python",
      "name": "python3"
    },
    "language_info": {
      "codemirror_mode": {
        "name": "ipython",
        "version": 3
      },
      "file_extension": ".py",
      "mimetype": "text/x-python",
      "name": "python",
      "nbconvert_exporter": "python",
      "pygments_lexer": "ipython3",
      "version": "3.7.10"
    },
    "papermill": {
      "default_parameters": {},
      "duration": 3134.482195,
      "end_time": "2021-09-26T00:57:33.514736",
      "environment_variables": {},
      "exception": null,
      "input_path": "__notebook__.ipynb",
      "output_path": "__notebook__.ipynb",
      "parameters": {},
      "start_time": "2021-09-26T00:05:19.032541",
      "version": "2.3.3"
    }
  },
  "cells": [
    {
      "cell_type": "markdown",
      "metadata": {
        "id": "view-in-github",
        "colab_type": "text"
      },
      "source": [
        "<a href=\"https://colab.research.google.com/github/aruaru0/colab_notebook/blob/main/chaii_qa_5_fold_xlmroberta_torch_fit_multi_sample_dropout.ipynb\" target=\"_parent\"><img src=\"https://colab.research.google.com/assets/colab-badge.svg\" alt=\"Open In Colab\"/></a>"
      ]
    },
    {
      "cell_type": "markdown",
      "metadata": {
        "id": "Gf20wKLVQUYg"
      },
      "source": [
        "# Add Multi sample dropout"
      ],
      "id": "Gf20wKLVQUYg"
    },
    {
      "cell_type": "markdown",
      "metadata": {
        "id": "shE3S33KxTch"
      },
      "source": [
        "# for colab"
      ],
      "id": "shE3S33KxTch"
    },
    {
      "cell_type": "code",
      "metadata": {
        "colab": {
          "base_uri": "https://localhost:8080/"
        },
        "id": "BZJxbaQFyRMb",
        "outputId": "fad88e2f-eef2-4f48-dc0b-565d77326611"
      },
      "source": [
        "!nvidia-smi"
      ],
      "id": "BZJxbaQFyRMb",
      "execution_count": 1,
      "outputs": [
        {
          "output_type": "stream",
          "name": "stdout",
          "text": [
            "Sun Oct 24 14:35:44 2021       \n",
            "+-----------------------------------------------------------------------------+\n",
            "| NVIDIA-SMI 470.74       Driver Version: 460.32.03    CUDA Version: 11.2     |\n",
            "|-------------------------------+----------------------+----------------------+\n",
            "| GPU  Name        Persistence-M| Bus-Id        Disp.A | Volatile Uncorr. ECC |\n",
            "| Fan  Temp  Perf  Pwr:Usage/Cap|         Memory-Usage | GPU-Util  Compute M. |\n",
            "|                               |                      |               MIG M. |\n",
            "|===============================+======================+======================|\n",
            "|   0  Tesla P100-PCIE...  Off  | 00000000:00:04.0 Off |                    0 |\n",
            "| N/A   42C    P0    28W / 250W |      0MiB / 16280MiB |      0%      Default |\n",
            "|                               |                      |                  N/A |\n",
            "+-------------------------------+----------------------+----------------------+\n",
            "                                                                               \n",
            "+-----------------------------------------------------------------------------+\n",
            "| Processes:                                                                  |\n",
            "|  GPU   GI   CI        PID   Type   Process name                  GPU Memory |\n",
            "|        ID   ID                                                   Usage      |\n",
            "|=============================================================================|\n",
            "|  No running processes found                                                 |\n",
            "+-----------------------------------------------------------------------------+\n"
          ]
        }
      ]
    },
    {
      "cell_type": "code",
      "metadata": {
        "colab": {
          "base_uri": "https://localhost:8080/"
        },
        "id": "KnzNG_0jxW_6",
        "outputId": "e4f29a9d-438e-4143-c3bb-6a171756bc39"
      },
      "source": [
        "from google.colab import drive\n",
        "drive.mount('/content/drive')"
      ],
      "id": "KnzNG_0jxW_6",
      "execution_count": 2,
      "outputs": [
        {
          "output_type": "stream",
          "name": "stdout",
          "text": [
            "Mounted at /content/drive\n"
          ]
        }
      ]
    },
    {
      "cell_type": "code",
      "metadata": {
        "id": "CTgjav_xxW7p"
      },
      "source": [
        "! pip install --upgrade --force-reinstall --no-deps  kaggle > /dev/null\n",
        "! mkdir /root/.kaggle\n",
        "! cp \"/content/drive/My Drive/Kaggle/kaggle.json\" /root/.kaggle/\n",
        "! chmod 600 /root/.kaggle/kaggle.json"
      ],
      "id": "CTgjav_xxW7p",
      "execution_count": 3,
      "outputs": []
    },
    {
      "cell_type": "code",
      "metadata": {
        "colab": {
          "base_uri": "https://localhost:8080/"
        },
        "id": "MO_GIjVFxW4G",
        "outputId": "e4b72f1e-7b6b-4d6d-ebf2-b0c2ec89a36c"
      },
      "source": [
        "!kaggle competitions download -c chaii-hindi-and-tamil-question-answering\n",
        "!kaggle datasets download -d rhtsingh/mlqa-hindi-processed\n",
        "!kaggle datasets download -d nbroad/xlm-roberta-squad2\n",
        "!kaggle datasets download -d msafi04/squad-qa-tamil-dataset\n",
        "!kaggle datasets download -d kishalmandal/cleaned-data-for-chaii"
      ],
      "id": "MO_GIjVFxW4G",
      "execution_count": 4,
      "outputs": [
        {
          "output_type": "stream",
          "name": "stdout",
          "text": [
            "Downloading chaii-hindi-and-tamil-question-answering.zip to /content\n",
            " 73% 5.00M/6.81M [00:00<00:00, 19.9MB/s]\n",
            "100% 6.81M/6.81M [00:00<00:00, 26.4MB/s]\n",
            "Downloading mlqa-hindi-processed.zip to /content\n",
            "  0% 0.00/2.49M [00:00<?, ?B/s]\n",
            "100% 2.49M/2.49M [00:00<00:00, 161MB/s]\n",
            "Downloading xlm-roberta-squad2.zip to /content\n",
            " 99% 2.52G/2.53G [01:13<00:00, 49.7MB/s]\n",
            "100% 2.53G/2.53G [01:13<00:00, 37.0MB/s]\n",
            "Downloading squad-qa-tamil-dataset.zip to /content\n",
            "  0% 0.00/564k [00:00<?, ?B/s]\n",
            "100% 564k/564k [00:00<00:00, 51.9MB/s]\n",
            "Downloading cleaned-data-for-chaii.zip to /content\n",
            " 75% 5.00M/6.71M [00:00<00:00, 16.3MB/s]\n",
            "100% 6.71M/6.71M [00:00<00:00, 21.5MB/s]\n"
          ]
        }
      ]
    },
    {
      "cell_type": "code",
      "metadata": {
        "colab": {
          "base_uri": "https://localhost:8080/"
        },
        "id": "PObJQR5XxWrD",
        "outputId": "747028c8-926a-40e6-cea7-7d040102b381"
      },
      "source": [
        "!apt install unzip"
      ],
      "id": "PObJQR5XxWrD",
      "execution_count": 5,
      "outputs": [
        {
          "output_type": "stream",
          "name": "stdout",
          "text": [
            "Reading package lists... Done\n",
            "Building dependency tree       \n",
            "Reading state information... Done\n",
            "unzip is already the newest version (6.0-21ubuntu1.1).\n",
            "0 upgraded, 0 newly installed, 0 to remove and 37 not upgraded.\n"
          ]
        }
      ]
    },
    {
      "cell_type": "code",
      "metadata": {
        "id": "wyQVYuBDxxBn"
      },
      "source": [
        "!mkdir -p input output"
      ],
      "id": "wyQVYuBDxxBn",
      "execution_count": 6,
      "outputs": []
    },
    {
      "cell_type": "code",
      "metadata": {
        "colab": {
          "base_uri": "https://localhost:8080/"
        },
        "id": "_3uTTHsFxw2D",
        "outputId": "aef85bd1-2256-43e9-ff4c-abf78cc597a9"
      },
      "source": [
        "!mkdir input/chaii-hindi-and-tamil-question-answering\n",
        "!unzip /content/chaii-hindi-and-tamil-question-answering.zip -d input/chaii-hindi-and-tamil-question-answering\n",
        "!mkdir input/mlqa-hindi-processed\n",
        "!unzip /content/mlqa-hindi-processed.zip -d input/mlqa-hindi-processed\n",
        "!mkdir input/xlm-roberta-squad2\n",
        "!unzip /content/xlm-roberta-squad2.zip -d input/xlm-roberta-squad2/\n",
        "!mkdir input/squad-qa-tamil-dataset\n",
        "!unzip /content/squad-qa-tamil-dataset.zip -d input/squad-qa-tamil-dataset\n",
        "!mkdir input/cleaned-data-for-chaii\n",
        "!unzip /content/cleaned-data-for-chaii.zip -d input/cleaned-data-for-chaii"
      ],
      "id": "_3uTTHsFxw2D",
      "execution_count": 7,
      "outputs": [
        {
          "output_type": "stream",
          "name": "stdout",
          "text": [
            "Archive:  /content/chaii-hindi-and-tamil-question-answering.zip\n",
            "  inflating: input/chaii-hindi-and-tamil-question-answering/sample_submission.csv  \n",
            "  inflating: input/chaii-hindi-and-tamil-question-answering/test.csv  \n",
            "  inflating: input/chaii-hindi-and-tamil-question-answering/train.csv  \n",
            "Archive:  /content/mlqa-hindi-processed.zip\n",
            "  inflating: input/mlqa-hindi-processed/mlqa_hindi.csv  \n",
            "  inflating: input/mlqa-hindi-processed/xquad.csv  \n",
            "Archive:  /content/xlm-roberta-squad2.zip\n",
            "  inflating: input/xlm-roberta-squad2/deepset/xlm-roberta-base-squad2/config.json  \n",
            "  inflating: input/xlm-roberta-squad2/deepset/xlm-roberta-base-squad2/pytorch_model.bin  \n",
            "  inflating: input/xlm-roberta-squad2/deepset/xlm-roberta-base-squad2/sentencepiece.bpe.model  \n",
            "  inflating: input/xlm-roberta-squad2/deepset/xlm-roberta-base-squad2/special_tokens_map.json  \n",
            "  inflating: input/xlm-roberta-squad2/deepset/xlm-roberta-base-squad2/tokenizer.json  \n",
            "  inflating: input/xlm-roberta-squad2/deepset/xlm-roberta-base-squad2/tokenizer_config.json  \n",
            "  inflating: input/xlm-roberta-squad2/deepset/xlm-roberta-large-squad2/config.json  \n",
            "  inflating: input/xlm-roberta-squad2/deepset/xlm-roberta-large-squad2/pytorch_model.bin  \n",
            "  inflating: input/xlm-roberta-squad2/deepset/xlm-roberta-large-squad2/sentencepiece.bpe.model  \n",
            "  inflating: input/xlm-roberta-squad2/deepset/xlm-roberta-large-squad2/special_tokens_map.json  \n",
            "  inflating: input/xlm-roberta-squad2/deepset/xlm-roberta-large-squad2/tokenizer.json  \n",
            "  inflating: input/xlm-roberta-squad2/deepset/xlm-roberta-large-squad2/tokenizer_config.json  \n",
            "Archive:  /content/squad-qa-tamil-dataset.zip\n",
            "  inflating: input/squad-qa-tamil-dataset/squad_tamilQA.csv  \n",
            "Archive:  /content/cleaned-data-for-chaii.zip\n",
            "  inflating: input/cleaned-data-for-chaii/cleaned_train.csv  \n"
          ]
        }
      ]
    },
    {
      "cell_type": "code",
      "metadata": {
        "id": "mOWu9n5ueeIE"
      },
      "source": [
        "#!mkdir input/chaii\n",
        "#!kaggle datasets download -d aruaru0/chaii3-1002\n",
        "#!unzip /content/chaii3-1002.zip -d input/chaii\n",
        "#!kaggle datasets download -d nguyenduongthanh/chaii-xlmr-5-fold\n",
        "#!unzip /content/chaii-xlmr-5-fold.zip -d input/chaii"
      ],
      "id": "mOWu9n5ueeIE",
      "execution_count": 8,
      "outputs": []
    },
    {
      "cell_type": "markdown",
      "metadata": {
        "id": "SCRudbllx9Be"
      },
      "source": [
        "# restart here.."
      ],
      "id": "SCRudbllx9Be"
    },
    {
      "cell_type": "code",
      "metadata": {
        "colab": {
          "base_uri": "https://localhost:8080/"
        },
        "id": "IrhwRDxfx6fa",
        "outputId": "817043b4-e303-48ec-a58b-c945f6684404"
      },
      "source": [
        "%cd output"
      ],
      "id": "IrhwRDxfx6fa",
      "execution_count": 1,
      "outputs": [
        {
          "output_type": "stream",
          "name": "stdout",
          "text": [
            "/content/output\n"
          ]
        }
      ]
    },
    {
      "cell_type": "code",
      "metadata": {
        "colab": {
          "base_uri": "https://localhost:8080/"
        },
        "id": "wPXOqpvbyBky",
        "outputId": "95792994-df32-48a5-c294-fe8670280532"
      },
      "source": [
        "!pip install transformers"
      ],
      "id": "wPXOqpvbyBky",
      "execution_count": 2,
      "outputs": [
        {
          "output_type": "stream",
          "name": "stdout",
          "text": [
            "Requirement already satisfied: transformers in /usr/local/lib/python3.7/dist-packages (4.11.3)\n",
            "Requirement already satisfied: sacremoses in /usr/local/lib/python3.7/dist-packages (from transformers) (0.0.46)\n",
            "Requirement already satisfied: tqdm>=4.27 in /usr/local/lib/python3.7/dist-packages (from transformers) (4.62.3)\n",
            "Requirement already satisfied: requests in /usr/local/lib/python3.7/dist-packages (from transformers) (2.23.0)\n",
            "Requirement already satisfied: tokenizers<0.11,>=0.10.1 in /usr/local/lib/python3.7/dist-packages (from transformers) (0.10.3)\n",
            "Requirement already satisfied: numpy>=1.17 in /usr/local/lib/python3.7/dist-packages (from transformers) (1.19.5)\n",
            "Requirement already satisfied: filelock in /usr/local/lib/python3.7/dist-packages (from transformers) (3.3.0)\n",
            "Requirement already satisfied: regex!=2019.12.17 in /usr/local/lib/python3.7/dist-packages (from transformers) (2019.12.20)\n",
            "Requirement already satisfied: packaging>=20.0 in /usr/local/lib/python3.7/dist-packages (from transformers) (21.0)\n",
            "Requirement already satisfied: importlib-metadata in /usr/local/lib/python3.7/dist-packages (from transformers) (4.8.1)\n",
            "Requirement already satisfied: pyyaml>=5.1 in /usr/local/lib/python3.7/dist-packages (from transformers) (6.0)\n",
            "Requirement already satisfied: huggingface-hub>=0.0.17 in /usr/local/lib/python3.7/dist-packages (from transformers) (0.0.19)\n",
            "Requirement already satisfied: typing-extensions in /usr/local/lib/python3.7/dist-packages (from huggingface-hub>=0.0.17->transformers) (3.7.4.3)\n",
            "Requirement already satisfied: pyparsing>=2.0.2 in /usr/local/lib/python3.7/dist-packages (from packaging>=20.0->transformers) (2.4.7)\n",
            "Requirement already satisfied: zipp>=0.5 in /usr/local/lib/python3.7/dist-packages (from importlib-metadata->transformers) (3.6.0)\n",
            "Requirement already satisfied: urllib3!=1.25.0,!=1.25.1,<1.26,>=1.21.1 in /usr/local/lib/python3.7/dist-packages (from requests->transformers) (1.24.3)\n",
            "Requirement already satisfied: idna<3,>=2.5 in /usr/local/lib/python3.7/dist-packages (from requests->transformers) (2.10)\n",
            "Requirement already satisfied: certifi>=2017.4.17 in /usr/local/lib/python3.7/dist-packages (from requests->transformers) (2021.5.30)\n",
            "Requirement already satisfied: chardet<4,>=3.0.2 in /usr/local/lib/python3.7/dist-packages (from requests->transformers) (3.0.4)\n",
            "Requirement already satisfied: joblib in /usr/local/lib/python3.7/dist-packages (from sacremoses->transformers) (1.0.1)\n",
            "Requirement already satisfied: six in /usr/local/lib/python3.7/dist-packages (from sacremoses->transformers) (1.15.0)\n",
            "Requirement already satisfied: click in /usr/local/lib/python3.7/dist-packages (from sacremoses->transformers) (7.1.2)\n"
          ]
        }
      ]
    },
    {
      "cell_type": "markdown",
      "metadata": {
        "id": "c47c9139"
      },
      "source": [
        "<h2>chaii QA - 5 Fold XLMRoberta Finetuning in Torch w/o Trainer API</h2>\n",
        "    \n",
        "<h3><span \"style: color=#444\">Introduction</span></h3>\n",
        "\n",
        "The kernel implements 5-Fold XLMRoberta QA Model without using the Trainer API from HuggingFace.\n",
        "\n",
        "This is a three part kernel,\n",
        "\n",
        "- [External Data - MLQA, XQUAD Preprocessing](https://www.kaggle.com/rhtsingh/external-data-mlqa-xquad-preprocessing) which preprocesses the Hindi Corpus of MLQA and XQUAD. I have used these data for training.\n",
        "\n",
        "- [chaii QA - 5 Fold XLMRoberta Torch | FIT](https://www.kaggle.com/rhtsingh/chaii-qa-5-fold-xlmroberta-torch-fit/edit) This kernel is the current kernel and used for Finetuning (FIT) on competition + external data.\n",
        "\n",
        "- [chaii QA - 5 Fold XLMRoberta Torch | Infer](https://www.kaggle.com/rhtsingh/chaii-qa-5-fold-xlmroberta-torch-infer) The Inference kernel where we ensemble our 5 Fold XLMRoberta Models and do the submission.\n",
        "\n",
        "<h3><span \"style: color=#444\">Techniques</span></h3>\n",
        "\n",
        "The kernel has implementation for below techniques, click on the links to learn more -\n",
        "\n",
        " - [External Data Preprocessing + Training](https://www.kaggle.com/rhtsingh/external-data-mlqa-xquad-preprocessing)\n",
        " \n",
        " - [Mixed Precision Training using APEX](https://www.kaggle.com/rhtsingh/swa-apex-amp-interpreting-transformers-in-torch)\n",
        " \n",
        " - [Gradient Accumulation](https://www.kaggle.com/rhtsingh/speeding-up-transformer-w-optimization-strategies)\n",
        " \n",
        " - [Gradient Clipping](https://www.kaggle.com/rhtsingh/swa-apex-amp-interpreting-transformers-in-torch)\n",
        " \n",
        " - [Grouped Layerwise Learning Rate Decay](https://www.kaggle.com/rhtsingh/guide-to-huggingface-schedulers-differential-lrs)\n",
        " \n",
        " - [Utilizing Intermediate Transformer Representations](https://www.kaggle.com/rhtsingh/utilizing-transformer-representations-efficiently)\n",
        " \n",
        " - [Layer Initialization](https://www.kaggle.com/rhtsingh/on-stability-of-few-sample-transformer-fine-tuning)\n",
        " \n",
        " - [5-Fold Training](https://www.kaggle.com/rhtsingh/commonlit-readability-prize-roberta-torch-fit)\n",
        " \n",
        " - etc.\n",
        " \n",
        "<h3><span \"style: color=#444\">References</span></h3>\n",
        "I would like to acknowledge below kagglers work and resources without whom this kernel wouldn't have been possible,  \n",
        "\n",
        "- [roberta inference 5 folds by Abhishek](https://www.kaggle.com/abhishek/roberta-inference-5-folds)\n",
        "\n",
        "- [ChAII - EDA & Baseline by Darek](https://www.kaggle.com/thedrcat/chaii-eda-baseline) due to whom i found the great notebook below from HuggingFace,\n",
        "\n",
        "- [How to fine-tune a model on question answering](https://github.com/huggingface/notebooks/blob/master/examples/question_answering.ipynb)\n",
        "\n",
        "- [HuggingFace QA Examples](https://github.com/huggingface/transformers/tree/master/examples/pytorch/question-answering)\n",
        "\n",
        "- [TensorFlow 2.0 Question Answering - Collections of gold solutions](https://www.kaggle.com/c/tensorflow2-question-answering/discussion/127409) these solutions are gold and highly recommend everyone to give a detailed read."
      ],
      "id": "c47c9139"
    },
    {
      "cell_type": "markdown",
      "metadata": {
        "id": "43955668"
      },
      "source": [
        "<h3><span style=\"color=#444\">Note</span></h3>\n",
        "\n",
        "The below points are worth noting,\n",
        "\n",
        " - I haven't used FP16 because due to some reason this fails and model never starts training.\n",
        " - These are the original hyperparamters and setting that I have used for training my models.\n",
        " - I tried few pooling layers but none of them performed better than simple one.\n",
        " - Gradient clipping reduces model performance.\n",
        " - <span style=\"color:#2E86C1\">Training 5 Folds at once will give OOM issue on Kaggle and Colab. I have trained one fold at a time i.e. After 1st fold is completed I save the model as a dataset then train second fold. Repeat this process until all 5 folds are completed. Training each fold takes around 50 minuts on Kaggle.</span>\n",
        " - <span style=\"color:#2E86C1\">I have modified the preprocessing code a lot from original used in HuggingFace notebook since I am not using HuggingFace Datasets API as well. So I had to handle the sequence-ids specially since they contain None values which torch doesn't support.</span>"
      ],
      "id": "43955668"
    },
    {
      "cell_type": "markdown",
      "metadata": {
        "id": "8f09433b"
      },
      "source": [
        "### Install APEX"
      ],
      "id": "8f09433b"
    },
    {
      "cell_type": "code",
      "metadata": {
        "id": "f4bb901a"
      },
      "source": [
        "# %%writefile setup.sh\n",
        "# export CUDA_HOME=/usr/local/cuda-10.1\n",
        "# git clone https://github.com/NVIDIA/apex\n",
        "# cd apex\n",
        "# pip install -v --disable-pip-version-check --no-cache-dir ./"
      ],
      "id": "f4bb901a",
      "execution_count": 3,
      "outputs": []
    },
    {
      "cell_type": "code",
      "metadata": {
        "id": "ef5e2a11"
      },
      "source": [
        "# %%capture\n",
        "# !sh setup.sh"
      ],
      "id": "ef5e2a11",
      "execution_count": 4,
      "outputs": []
    },
    {
      "cell_type": "markdown",
      "metadata": {
        "id": "55059f9a"
      },
      "source": [
        "### Import Dependencies"
      ],
      "id": "55059f9a"
    },
    {
      "cell_type": "code",
      "metadata": {
        "colab": {
          "base_uri": "https://localhost:8080/"
        },
        "id": "8a92ad27",
        "outputId": "a5f86c9f-4aae-4798-fdbf-d1ca94f02dc0"
      },
      "source": [
        "import os\n",
        "import gc\n",
        "gc.enable()\n",
        "import math\n",
        "import json\n",
        "import time\n",
        "import random\n",
        "import multiprocessing\n",
        "import warnings\n",
        "warnings.filterwarnings(\"ignore\", category=UserWarning)\n",
        "\n",
        "import numpy as np\n",
        "import pandas as pd\n",
        "from tqdm import tqdm, trange\n",
        "from sklearn import model_selection\n",
        "\n",
        "import torch\n",
        "import torch.nn as nn\n",
        "import torch.nn.functional as F\n",
        "from torch.nn import Parameter\n",
        "import torch.optim as optim\n",
        "from torch.utils.data import (\n",
        "    Dataset, DataLoader,\n",
        "    SequentialSampler, RandomSampler\n",
        ")\n",
        "from torch.utils.data.distributed import DistributedSampler\n",
        "\n",
        "try:\n",
        "    from apex import amp\n",
        "    APEX_INSTALLED = True\n",
        "except ImportError:\n",
        "    APEX_INSTALLED = False\n",
        "\n",
        "import transformers\n",
        "from transformers import (\n",
        "    WEIGHTS_NAME,\n",
        "    AdamW,\n",
        "    AutoConfig,\n",
        "    AutoModel,\n",
        "    AutoTokenizer,\n",
        "    get_cosine_schedule_with_warmup,\n",
        "    get_linear_schedule_with_warmup,\n",
        "    get_constant_schedule_with_warmup,\n",
        "    logging,\n",
        "    MODEL_FOR_QUESTION_ANSWERING_MAPPING,\n",
        ")\n",
        "logging.set_verbosity_warning()\n",
        "logging.set_verbosity_error()\n",
        "\n",
        "def fix_all_seeds(seed):\n",
        "    np.random.seed(seed)\n",
        "    random.seed(seed)\n",
        "    os.environ['PYTHONHASHSEED'] = str(seed)\n",
        "    torch.manual_seed(seed)\n",
        "    torch.cuda.manual_seed(seed)\n",
        "    torch.cuda.manual_seed_all(seed)\n",
        "\n",
        "def optimal_num_of_loader_workers():\n",
        "    num_cpus = multiprocessing.cpu_count()\n",
        "    num_gpus = torch.cuda.device_count()\n",
        "    optimal_value = min(num_cpus, num_gpus*4) if num_gpus else num_cpus - 1\n",
        "    return optimal_value\n",
        "\n",
        "print(f\"Apex AMP Installed :: {APEX_INSTALLED}\")\n",
        "MODEL_CONFIG_CLASSES = list(MODEL_FOR_QUESTION_ANSWERING_MAPPING.keys())\n",
        "MODEL_TYPES = tuple(conf.model_type for conf in MODEL_CONFIG_CLASSES)"
      ],
      "id": "8a92ad27",
      "execution_count": 5,
      "outputs": [
        {
          "output_type": "stream",
          "name": "stdout",
          "text": [
            "Apex AMP Installed :: False\n"
          ]
        }
      ]
    },
    {
      "cell_type": "markdown",
      "metadata": {
        "id": "ab75148d"
      },
      "source": [
        "### Training Configuration"
      ],
      "id": "ab75148d"
    },
    {
      "cell_type": "markdown",
      "metadata": {
        "id": "FMU6cmG6Y7s0"
      },
      "source": [
        "tamil & hindi xsquad"
      ],
      "id": "FMU6cmG6Y7s0"
    },
    {
      "cell_type": "code",
      "metadata": {
        "colab": {
          "base_uri": "https://localhost:8080/"
        },
        "id": "5934fe6a",
        "cellView": "form",
        "outputId": "c463bc61-5900-4d94-f9b2-532a9d00ff9e"
      },
      "source": [
        "class Config:\n",
        "    # model\n",
        "    model_type = 'xlm_roberta'\n",
        "    #model_name_or_path = \"deepset/xlm-roberta-large-squad2\"\n",
        "    model_name_or_path = \"../input/xlm-roberta-squad2/deepset/xlm-roberta-large-squad2\"\n",
        "    #config_name = \"deepset/xlm-roberta-large-squad2\"\n",
        "    config_name = \"../input/xlm-roberta-squad2/deepset/xlm-roberta-large-squad2\"\n",
        "    fp16 = True if APEX_INSTALLED else False\n",
        "    fp16_opt_level = \"O1\"\n",
        "    \n",
        "    gradient_accumulation_steps =  4#@param {type:\"integer\"}\n",
        "\n",
        "    # tokenizer\n",
        "    tokenizer_name = \"../input/xlm-roberta-squad2/deepset/xlm-roberta-large-squad2\"\n",
        "#    max_seq_length = 384\n",
        "#    doc_stride = 128\n",
        "    max_seq_length =  400#@param {type:\"integer\"}\n",
        "    doc_stride =  136#@param {type:\"integer\"}\n",
        "\n",
        "    # train\n",
        "    epochs =  1#@param {type:\"integer\"}\n",
        "    train_batch_size = 1\n",
        "    eval_batch_size = 8\n",
        "\n",
        "    # optimizer\n",
        "    optimizer_type = 'AdamW'\n",
        "    learning_rate =  1e-5#@param {type:\"number\"}\n",
        "    weight_decay =   1e-3#@param {type:\"number\"}\n",
        "    epsilon = 1e-10 #@param {type:\"number\"}\n",
        "    max_grad_norm = 1.0 #@param {type:\"number\"}\n",
        "\n",
        "    # scheduler\n",
        "    decay_name = 'linear-warmup'\n",
        "    warmup_ratio = 0.1\n",
        "    scheduler_step = 1#@param {type:\"integer\"}\n",
        "\n",
        "    # logging\n",
        "    ####logging_steps = 10\n",
        "    logging_steps = 250\n",
        "\n",
        "    # evaluate\n",
        "    output_dir = 'output'\n",
        "    seed =  42#@param {type:\"integer\"}\n",
        "\n",
        "print(\"acc_step\", Config.gradient_accumulation_steps,\n",
        "      \"lr\", Config.learning_rate, \"wd\", Config.weight_decay,\n",
        "      \"{}-{}\".format(Config.max_seq_length, Config.doc_stride),\n",
        "      \"seed\", Config.seed)"
      ],
      "id": "5934fe6a",
      "execution_count": 6,
      "outputs": [
        {
          "output_type": "stream",
          "name": "stdout",
          "text": [
            "acc_step 4 lr 1e-05 wd 0.001 400-136 seed 42\n"
          ]
        }
      ]
    },
    {
      "cell_type": "markdown",
      "metadata": {
        "id": "a97366e5"
      },
      "source": [
        "### Data Factory"
      ],
      "id": "a97366e5"
    },
    {
      "cell_type": "code",
      "metadata": {
        "id": "U7neglrAWwgj"
      },
      "source": [
        "#external_tamil_xquad = pd.read_csv('/content/input/squad-qa-tamil-dataset/squad_tamilQA.csv')\n",
        "#external_xquad = pd.read_csv('../input/mlqa-hindi-processed/xquad.csv')\n"
      ],
      "id": "U7neglrAWwgj",
      "execution_count": 7,
      "outputs": []
    },
    {
      "cell_type": "code",
      "metadata": {
        "id": "EV7PZDwBXGkm"
      },
      "source": [
        "#external_tamil_xquad['language'] = \"tamil\"\n",
        "#external_tamil_xquad.head()"
      ],
      "id": "EV7PZDwBXGkm",
      "execution_count": 8,
      "outputs": []
    },
    {
      "cell_type": "code",
      "metadata": {
        "id": "8DvLqQYPovst"
      },
      "source": [
        "# train = pd.read_csv('../input/chaii-hindi-and-tamil-question-answering/train.csv')\n",
        "train = pd.read_csv('../input/cleaned-data-for-chaii/cleaned_train.csv')\n",
        "\n",
        "test = pd.read_csv('../input/chaii-hindi-and-tamil-question-answering/test.csv')\n",
        "external_mlqa = pd.read_csv('../input/mlqa-hindi-processed/mlqa_hindi.csv')\n",
        "external_hindi_xquad = pd.read_csv('../input/mlqa-hindi-processed/xquad.csv')\n",
        "external_tamil_xquad = pd.read_csv('/content/input/squad-qa-tamil-dataset/squad_tamilQA.csv')\n",
        "external_tamil_xquad['language'] = \"tamil\"\n",
        "external_xquad = pd.concat([external_hindi_xquad, external_tamil_xquad])\n",
        "external_train = pd.concat([external_mlqa, external_xquad]).reset_index(drop=True)\n",
        "\n",
        "def create_folds(data, num_splits):\n",
        "    data[\"kfold\"] = -1\n",
        "    kf = model_selection.StratifiedKFold(n_splits=num_splits, shuffle=True, random_state=2021)\n",
        "    for f, (t_, v_) in enumerate(kf.split(X=data, y=data['language'])):\n",
        "        data.loc[v_, 'kfold'] = f\n",
        "    return data\n",
        "\n",
        "#####train = create_folds(train, num_splits=5)\n",
        "train = create_folds(train, num_splits=5)\n",
        "external_train[\"kfold\"] = -1\n",
        "external_train['id'] = list(np.arange(1, len(external_train)+1))\n",
        "#external_train = create_folds(external_train, num_splits=3) # foldに分割（2021.10.09変更）\n",
        "#external_train[\"kfold\"] = external_train[\"kfold\"] + 10\n",
        "\n",
        "train = pd.concat([train, external_train]).reset_index(drop=True)\n",
        "\n",
        "def convert_answers(row):\n",
        "    return {'answer_start': [row[0]], 'text': [row[1]]}\n",
        "\n",
        "train['answers'] = train[['answer_start', 'answer_text']].apply(convert_answers, axis=1)"
      ],
      "id": "8DvLqQYPovst",
      "execution_count": 9,
      "outputs": []
    },
    {
      "cell_type": "code",
      "metadata": {
        "id": "eb636dc6"
      },
      "source": [
        "if 0:\n",
        "    train = pd.read_csv('../input/chaii-hindi-and-tamil-question-answering/train.csv')\n",
        "    test = pd.read_csv('../input/chaii-hindi-and-tamil-question-answering/test.csv')\n",
        "    external_mlqa = pd.read_csv('../input/mlqa-hindi-processed/mlqa_hindi.csv')\n",
        "    external_hindi_xquad = pd.read_csv('../input/mlqa-hindi-processed/xquad.csv')\n",
        "    external_tamil_xquad = pd.read_csv('/content/input/squad-qa-tamil-dataset/squad_tamilQA.csv')\n",
        "    external_tamil_xquad['language'] = \"tamil\"\n",
        "    external_xquad = pd.concat([external_hindi_xquad, external_tamil_xquad])\n",
        "    external_train = external_hindi_xquad # pd.concat([external_mlqa, external_xquad])\n",
        "\n",
        "    def create_folds(data, num_splits):\n",
        "        data[\"kfold\"] = -1\n",
        "        kf = model_selection.StratifiedKFold(n_splits=num_splits, shuffle=True, random_state=2021)\n",
        "        for f, (t_, v_) in enumerate(kf.split(X=data, y=data['language'])):\n",
        "            data.loc[v_, 'kfold'] = f\n",
        "        return data\n",
        "\n",
        "    train = create_folds(train, num_splits=5)\n",
        "    external_train[\"kfold\"] = -1\n",
        "    external_train['id'] = list(np.arange(1, len(external_train)+1))\n",
        "    train = pd.concat([train, external_train]).reset_index(drop=True)\n",
        "\n",
        "    def convert_answers(row):\n",
        "        return {'answer_start': [row[0]], 'text': [row[1]]}\n",
        "\n",
        "    train['answers'] = train[['answer_start', 'answer_text']].apply(convert_answers, axis=1)"
      ],
      "id": "eb636dc6",
      "execution_count": 10,
      "outputs": []
    },
    {
      "cell_type": "markdown",
      "metadata": {
        "id": "60781636"
      },
      "source": [
        "### Covert Examples to Features (Preprocess)"
      ],
      "id": "60781636"
    },
    {
      "cell_type": "code",
      "metadata": {
        "id": "63b399b9"
      },
      "source": [
        "def prepare_train_features(args, example, tokenizer):\n",
        "    example[\"question\"] = example[\"question\"].lstrip()\n",
        "    tokenized_example = tokenizer(\n",
        "        example[\"question\"],\n",
        "        example[\"context\"],\n",
        "        truncation=\"only_second\",\n",
        "        max_length=args.max_seq_length,\n",
        "        stride=args.doc_stride,\n",
        "        return_overflowing_tokens=True,\n",
        "        return_offsets_mapping=True,\n",
        "        padding=\"max_length\",\n",
        "    )\n",
        "\n",
        "    sample_mapping = tokenized_example.pop(\"overflow_to_sample_mapping\")\n",
        "    offset_mapping = tokenized_example.pop(\"offset_mapping\")\n",
        "\n",
        "    features = []\n",
        "    for i, offsets in enumerate(offset_mapping):\n",
        "        feature = {}\n",
        "\n",
        "        input_ids = tokenized_example[\"input_ids\"][i]\n",
        "        attention_mask = tokenized_example[\"attention_mask\"][i]\n",
        "\n",
        "        feature['input_ids'] = input_ids\n",
        "        feature['attention_mask'] = attention_mask\n",
        "        feature['offset_mapping'] = offsets\n",
        "\n",
        "        cls_index = input_ids.index(tokenizer.cls_token_id)\n",
        "        sequence_ids = tokenized_example.sequence_ids(i)\n",
        "\n",
        "        sample_index = sample_mapping[i]\n",
        "        answers = example[\"answers\"]\n",
        "\n",
        "        if len(answers[\"answer_start\"]) == 0:\n",
        "            feature[\"start_position\"] = cls_index\n",
        "            feature[\"end_position\"] = cls_index\n",
        "        else:\n",
        "            start_char = answers[\"answer_start\"][0]\n",
        "            end_char = start_char + len(answers[\"text\"][0])\n",
        "\n",
        "            token_start_index = 0\n",
        "            while sequence_ids[token_start_index] != 1:\n",
        "                token_start_index += 1\n",
        "\n",
        "            token_end_index = len(input_ids) - 1\n",
        "            while sequence_ids[token_end_index] != 1:\n",
        "                token_end_index -= 1\n",
        "\n",
        "            if not (offsets[token_start_index][0] <= start_char and offsets[token_end_index][1] >= end_char):\n",
        "                feature[\"start_position\"] = cls_index\n",
        "                feature[\"end_position\"] = cls_index\n",
        "            else:\n",
        "                while token_start_index < len(offsets) and offsets[token_start_index][0] <= start_char:\n",
        "                    token_start_index += 1\n",
        "                feature[\"start_position\"] = token_start_index - 1\n",
        "                while offsets[token_end_index][1] >= end_char:\n",
        "                    token_end_index -= 1\n",
        "                feature[\"end_position\"] = token_end_index + 1\n",
        "\n",
        "        features.append(feature)\n",
        "    return features"
      ],
      "id": "63b399b9",
      "execution_count": 11,
      "outputs": []
    },
    {
      "cell_type": "markdown",
      "metadata": {
        "id": "55553f9f"
      },
      "source": [
        "### Dataset Retriever"
      ],
      "id": "55553f9f"
    },
    {
      "cell_type": "code",
      "metadata": {
        "id": "c78cee8c"
      },
      "source": [
        "class DatasetRetriever(Dataset):\n",
        "    def __init__(self, features, mode='train'):\n",
        "        super(DatasetRetriever, self).__init__()\n",
        "        self.features = features\n",
        "        self.mode = mode\n",
        "        \n",
        "    def __len__(self):\n",
        "        return len(self.features)\n",
        "    \n",
        "    def __getitem__(self, item):   \n",
        "        feature = self.features[item]\n",
        "        if self.mode == 'train':\n",
        "            return {\n",
        "                'input_ids':torch.tensor(feature['input_ids'], dtype=torch.long),\n",
        "                'attention_mask':torch.tensor(feature['attention_mask'], dtype=torch.long),\n",
        "                'offset_mapping':torch.tensor(feature['offset_mapping'], dtype=torch.long),\n",
        "                'start_position':torch.tensor(feature['start_position'], dtype=torch.long),\n",
        "                'end_position':torch.tensor(feature['end_position'], dtype=torch.long)\n",
        "            }\n",
        "        else:\n",
        "            return {\n",
        "                'input_ids':torch.tensor(feature['input_ids'], dtype=torch.long),\n",
        "                'attention_mask':torch.tensor(feature['attention_mask'], dtype=torch.long),\n",
        "                'offset_mapping':feature['offset_mapping'],\n",
        "                'sequence_ids':feature['sequence_ids'],\n",
        "                'id':feature['example_id'],\n",
        "                'context': feature['context'],\n",
        "                'question': feature['question']\n",
        "            }"
      ],
      "id": "c78cee8c",
      "execution_count": 12,
      "outputs": []
    },
    {
      "cell_type": "markdown",
      "metadata": {
        "id": "b7e0677b"
      },
      "source": [
        "### Model"
      ],
      "id": "b7e0677b"
    },
    {
      "cell_type": "code",
      "metadata": {
        "id": "cd46e25e"
      },
      "source": [
        "class Model(nn.Module):\n",
        "    def __init__(self, modelname_or_path, config):\n",
        "        super(Model, self).__init__()\n",
        "        self.n_msd = 5\n",
        "        self.config = config\n",
        "        self.xlm_roberta = AutoModel.from_pretrained(modelname_or_path, config=config)\n",
        "        self.qa_outputs = nn.Linear(config.hidden_size, 2)\n",
        "        self.dropout = nn.Dropout(0.1)\n",
        "        # self.dropouts = nn.ModuleList([nn.Dropout(0.1) for _ in range(self.n_msd)])\n",
        "        self._init_weights(self.qa_outputs)\n",
        "        \n",
        "    def _init_weights(self, module):\n",
        "        if isinstance(module, nn.Linear):\n",
        "            module.weight.data.normal_(mean=0.0, std=self.config.initializer_range)\n",
        "            if module.bias is not None:\n",
        "                module.bias.data.zero_()\n",
        "\n",
        "    def forward(\n",
        "        self, \n",
        "        input_ids, \n",
        "        attention_mask=None, \n",
        "        # token_type_ids=None\n",
        "    ):\n",
        "        outputs = self.xlm_roberta(\n",
        "            input_ids,\n",
        "            attention_mask=attention_mask,\n",
        "        )\n",
        "\n",
        "        sequence_output = outputs[0]\n",
        "        pooled_output = outputs[1]\n",
        "        \n",
        "        sequence_output = self.dropout(sequence_output)\n",
        "        qa_logits = self.qa_outputs(sequence_output)\n",
        "        # qa_logits = sum([self.qa_outputs(dropout(sequence_output)) for dropout in self.dropouts])/self.n_msd\n",
        "        #print(qa_logits.size())\n",
        "        start_logits, end_logits = qa_logits.split(1, dim=-1)\n",
        "        start_logits = start_logits.squeeze(-1)\n",
        "        end_logits = end_logits.squeeze(-1)\n",
        "    \n",
        "        return start_logits, end_logits"
      ],
      "id": "cd46e25e",
      "execution_count": 13,
      "outputs": []
    },
    {
      "cell_type": "markdown",
      "metadata": {
        "id": "b054f2e5"
      },
      "source": [
        "### Loss"
      ],
      "id": "b054f2e5"
    },
    {
      "cell_type": "code",
      "metadata": {
        "id": "JSq0_x7xecl0"
      },
      "source": [
        "def compute_kl_loss(p, q, pad_mask=None):\n",
        "    start_preds1, end_preds1 = p\n",
        "    start_preds2, end_preds2 = q\n",
        "\n",
        "    p_loss1 = F.kl_div(F.log_softmax(start_preds1, dim=-1), F.softmax(start_preds2, dim=-1), reduction='none')\n",
        "    q_loss1 = F.kl_div(F.log_softmax(start_preds2, dim=-1), F.softmax(start_preds1, dim=-1), reduction='none')\n",
        "    p_loss2 = F.kl_div(F.log_softmax(end_preds1, dim=-1), F.softmax(end_preds2, dim=-1), reduction='none')\n",
        "    q_loss2 = F.kl_div(F.log_softmax(end_preds2, dim=-1), F.softmax(end_preds1, dim=-1), reduction='none')\n",
        "\n",
        "    # You can choose whether to use function \"sum\" and \"mean\" depending on your task\n",
        "    p_loss = p_loss1.sum() + p_loss2.sum() \n",
        "    q_loss = q_loss1.sum() + q_loss2.sum()\n",
        "\n",
        "    loss = (p_loss + q_loss) / 2\n",
        "    return loss"
      ],
      "id": "JSq0_x7xecl0",
      "execution_count": 14,
      "outputs": []
    },
    {
      "cell_type": "code",
      "metadata": {
        "id": "YCkwCpg0FtDa"
      },
      "source": [
        "def linear_combination(x, y, epsilon):\n",
        "    return (1 - epsilon) * x + epsilon * y\n",
        "\n",
        "def reduce_loss(loss, reduction='mean'):\n",
        "    return loss.mean() if reduction == 'mean' else loss.sum() if reduction == 'sum' else loss"
      ],
      "id": "YCkwCpg0FtDa",
      "execution_count": 15,
      "outputs": []
    },
    {
      "cell_type": "code",
      "metadata": {
        "id": "vU1pWXuBF5TP"
      },
      "source": [
        "class LabelSmoothingCrossEntropy(nn.Module):\n",
        "    def __init__(self, epsilon=0.1, ignore_index = -1, reduction='mean'):\n",
        "        super().__init__()\n",
        "        self.epsilon = epsilon\n",
        "        self.reduction = reduction\n",
        "        self.ignore_index = ignore_index\n",
        "\n",
        "    def forward(self, preds, target):\n",
        "        n = preds.size()[-1]\n",
        "        log_preds = F.log_softmax(preds, dim=-1)\n",
        "        loss = reduce_loss(-log_preds.sum(dim=-1), self.reduction)\n",
        "        nll = F.nll_loss(log_preds, target, reduction=self.reduction, ignore_index=self.ignore_index)\n",
        "        return linear_combination(nll, loss/n, self.epsilon)"
      ],
      "id": "vU1pWXuBF5TP",
      "execution_count": 16,
      "outputs": []
    },
    {
      "cell_type": "code",
      "metadata": {
        "id": "f490e487"
      },
      "source": [
        "def loss_fn(preds, labels):\n",
        "    start_preds, end_preds = preds\n",
        "    start_labels, end_labels = labels\n",
        "    \n",
        "    start_loss = nn.CrossEntropyLoss(ignore_index=-1)(start_preds, start_labels)\n",
        "    end_loss = nn.CrossEntropyLoss(ignore_index=-1)(end_preds, end_labels)\n",
        "    #start_loss = LabelSmoothingCrossEntropy(ignore_index=-1)(start_preds, start_labels)\n",
        "    #end_loss = LabelSmoothingCrossEntropy(ignore_index=-1)(end_preds, end_labels)\n",
        "    total_loss = (start_loss + end_loss) / 2\n",
        "    return total_loss"
      ],
      "id": "f490e487",
      "execution_count": 17,
      "outputs": []
    },
    {
      "cell_type": "code",
      "metadata": {
        "id": "WVSFIJZ5eh-Z"
      },
      "source": [
        "def loss_fn2(pred1, pred2, label):\n",
        "    # RMSE loss\n",
        "    loss1 = loss_fn(pred1, label)\n",
        "    loss2 = loss_fn(pred2, label)\n",
        "\n",
        "    # R-Drop\n",
        "    kl_loss = compute_kl_loss(pred1, pred2)\n",
        "\n",
        "    RDROP_ALPHA = 0.1\n",
        "    total_loss = (loss1 + loss2) / 2 + RDROP_ALPHA * kl_loss\n",
        "    return total_loss\n"
      ],
      "id": "WVSFIJZ5eh-Z",
      "execution_count": 18,
      "outputs": []
    },
    {
      "cell_type": "markdown",
      "metadata": {
        "id": "9138cc0e"
      },
      "source": [
        "### Grouped Layerwise Learning Rate Decay"
      ],
      "id": "9138cc0e"
    },
    {
      "cell_type": "code",
      "metadata": {
        "id": "4e4bcde0"
      },
      "source": [
        "def get_optimizer_grouped_parameters(args, model):\n",
        "    no_decay = [\"bias\", \"LayerNorm.weight\"]\n",
        "    group1=['layer.0.','layer.1.','layer.2.','layer.3.']\n",
        "    group2=['layer.4.','layer.5.','layer.6.','layer.7.']    \n",
        "    group3=['layer.8.','layer.9.','layer.10.','layer.11.']\n",
        "    group_all=['layer.0.','layer.1.','layer.2.','layer.3.','layer.4.','layer.5.','layer.6.','layer.7.','layer.8.','layer.9.','layer.10.','layer.11.']\n",
        "    optimizer_grouped_parameters = [\n",
        "        {'params': [p for n, p in model.xlm_roberta.named_parameters() if not any(nd in n for nd in no_decay) and not any(nd in n for nd in group_all)],'weight_decay': args.weight_decay},\n",
        "        {'params': [p for n, p in model.xlm_roberta.named_parameters() if not any(nd in n for nd in no_decay) and any(nd in n for nd in group1)],'weight_decay': args.weight_decay, 'lr': args.learning_rate/8},\n",
        "        {'params': [p for n, p in model.xlm_roberta.named_parameters() if not any(nd in n for nd in no_decay) and any(nd in n for nd in group2)],'weight_decay': args.weight_decay, 'lr': args.learning_rate/4},\n",
        "        {'params': [p for n, p in model.xlm_roberta.named_parameters() if not any(nd in n for nd in no_decay) and any(nd in n for nd in group3)],'weight_decay': args.weight_decay, 'lr': args.learning_rate},\n",
        "        {'params': [p for n, p in model.xlm_roberta.named_parameters() if any(nd in n for nd in no_decay) and not any(nd in n for nd in group_all)],'weight_decay': 0.0},\n",
        "        {'params': [p for n, p in model.xlm_roberta.named_parameters() if any(nd in n for nd in no_decay) and any(nd in n for nd in group1)],'weight_decay': 0.0, 'lr': args.learning_rate/8},\n",
        "        {'params': [p for n, p in model.xlm_roberta.named_parameters() if any(nd in n for nd in no_decay) and any(nd in n for nd in group2)],'weight_decay': 0.0, 'lr': args.learning_rate/4},\n",
        "        {'params': [p for n, p in model.xlm_roberta.named_parameters() if any(nd in n for nd in no_decay) and any(nd in n for nd in group3)],'weight_decay': 0.0, 'lr': args.learning_rate},\n",
        "        {'params': [p for n, p in model.named_parameters() if args.model_type not in n], 'lr':args.learning_rate*20, \"weight_decay\": 0.0},\n",
        "    ]\n",
        "    return optimizer_grouped_parameters"
      ],
      "id": "4e4bcde0",
      "execution_count": 19,
      "outputs": []
    },
    {
      "cell_type": "code",
      "metadata": {
        "id": "VkWXuuwoQJM-"
      },
      "source": [
        "if 0:\n",
        "  def get_optimizer_grouped_parameters(args, model):\n",
        "    no_decay = [\"bias\", \"LayerNorm.weight\"]\n",
        "    group1=['layer.0.','layer.1.','layer.2.','layer.3.']\n",
        "    group2=['layer.4.','layer.5.','layer.6.','layer.7.']    \n",
        "    group3=['layer.8.','layer.9.','layer.10.','layer.11.']\n",
        "    group_all=['layer.0.','layer.1.','layer.2.','layer.3.','layer.4.','layer.5.','layer.6.','layer.7.','layer.8.','layer.9.','layer.10.','layer.11.']\n",
        "    optimizer_grouped_parameters = [\n",
        "        {'params': [p for n, p in model.xlm_roberta.named_parameters() if not any(nd in n for nd in no_decay) and not any(nd in n for nd in group_all)],'weight_decay': args.weight_decay},\n",
        "        {'params': [p for n, p in model.xlm_roberta.named_parameters() if not any(nd in n for nd in no_decay) and any(nd in n for nd in group1)],'weight_decay': args.weight_decay, 'lr': args.learning_rate/2.6},\n",
        "        {'params': [p for n, p in model.xlm_roberta.named_parameters() if not any(nd in n for nd in no_decay) and any(nd in n for nd in group2)],'weight_decay': args.weight_decay, 'lr': args.learning_rate},\n",
        "        {'params': [p for n, p in model.xlm_roberta.named_parameters() if not any(nd in n for nd in no_decay) and any(nd in n for nd in group3)],'weight_decay': args.weight_decay, 'lr': args.learning_rate*2.6},\n",
        "        {'params': [p for n, p in model.xlm_roberta.named_parameters() if any(nd in n for nd in no_decay) and not any(nd in n for nd in group_all)],'weight_decay': 0.0},\n",
        "        {'params': [p for n, p in model.xlm_roberta.named_parameters() if any(nd in n for nd in no_decay) and any(nd in n for nd in group1)],'weight_decay': 0.0, 'lr': args.learning_rate/2.6},\n",
        "        {'params': [p for n, p in model.xlm_roberta.named_parameters() if any(nd in n for nd in no_decay) and any(nd in n for nd in group2)],'weight_decay': 0.0, 'lr': args.learning_rate},\n",
        "        {'params': [p for n, p in model.xlm_roberta.named_parameters() if any(nd in n for nd in no_decay) and any(nd in n for nd in group3)],'weight_decay': 0.0, 'lr': args.learning_rate*2.6},\n",
        "        {'params': [p for n, p in model.named_parameters() if args.model_type not in n], 'lr':args.learning_rate*20, \"weight_decay\": 0.0},\n",
        "    ]\n",
        "    return optimizer_grouped_parameters"
      ],
      "id": "VkWXuuwoQJM-",
      "execution_count": 20,
      "outputs": []
    },
    {
      "cell_type": "markdown",
      "metadata": {
        "id": "2d0ac100"
      },
      "source": [
        "### Metric Logger"
      ],
      "id": "2d0ac100"
    },
    {
      "cell_type": "code",
      "metadata": {
        "id": "65b3cd59"
      },
      "source": [
        "class AverageMeter(object):\n",
        "    def __init__(self):\n",
        "        self.reset()\n",
        "\n",
        "    def reset(self):\n",
        "        self.val = 0\n",
        "        self.avg = 0\n",
        "        self.sum = 0\n",
        "        self.count = 0\n",
        "        self.max = 0\n",
        "        self.min = 1e5\n",
        "\n",
        "    def update(self, val, n=1):\n",
        "        self.val = val\n",
        "        self.sum += val * n\n",
        "        self.count += n\n",
        "        self.avg = self.sum / self.count\n",
        "        if val > self.max:\n",
        "            self.max = val\n",
        "        if val < self.min:\n",
        "            self.min = val"
      ],
      "id": "65b3cd59",
      "execution_count": 21,
      "outputs": []
    },
    {
      "cell_type": "markdown",
      "metadata": {
        "id": "03f659a2"
      },
      "source": [
        "### Utilities"
      ],
      "id": "03f659a2"
    },
    {
      "cell_type": "code",
      "metadata": {
        "id": "0a7d36df"
      },
      "source": [
        "def make_model(args):\n",
        "    config = AutoConfig.from_pretrained(args.config_name)\n",
        "    tokenizer = AutoTokenizer.from_pretrained(args.tokenizer_name)\n",
        "    model = Model(args.model_name_or_path, config=config)\n",
        "    return config, tokenizer, model\n",
        "\n",
        "def make_optimizer(args, model):\n",
        "    #################\n",
        "    optimizer_grouped_parameters = get_optimizer_grouped_parameters(args, model)\n",
        "    # no_decay = [\"bias\", \"LayerNorm.weight\"]\n",
        "    # optimizer_grouped_parameters = [\n",
        "    #     {\n",
        "    #         \"params\": [p for n, p in model.named_parameters() if not any(nd in n for nd in no_decay)],\n",
        "    #         \"weight_decay\": args.weight_decay,\n",
        "    #     },\n",
        "    #     {\n",
        "    #         \"params\": [p for n, p in model.named_parameters() if any(nd in n for nd in no_decay)],\n",
        "    #         \"weight_decay\": 0.0,\n",
        "    #     },\n",
        "    # ]\n",
        "    if args.optimizer_type == \"AdamW\":\n",
        "        optimizer = AdamW(\n",
        "            optimizer_grouped_parameters,\n",
        "            lr=args.learning_rate,\n",
        "            eps=args.epsilon,\n",
        "            correct_bias=True\n",
        "        )\n",
        "        return optimizer\n",
        "\n",
        "def make_scheduler(\n",
        "    args, optimizer, \n",
        "    num_warmup_steps, \n",
        "    num_training_steps\n",
        "):\n",
        "    if args.decay_name == \"cosine-warmup\":\n",
        "        scheduler = get_cosine_schedule_with_warmup(\n",
        "            optimizer,\n",
        "            num_warmup_steps=num_warmup_steps,\n",
        "            num_training_steps=num_training_steps\n",
        "        )\n",
        "    elif args.decay_name == \"liner-warmup\":\n",
        "        scheduler = get_linear_schedule_with_warmup(\n",
        "            optimizer,\n",
        "            num_warmup_steps=num_warmup_steps,\n",
        "            num_training_steps=num_training_steps\n",
        "        )\n",
        "    else:\n",
        "        scheduler = get_constant_schedule_with_warmup(\n",
        "            optimizer,\n",
        "            num_warmup_steps=num_warmup_steps,\n",
        "        )\n",
        "    return scheduler    \n",
        "\n",
        "def make_loader(\n",
        "    args, data, \n",
        "    tokenizer, fold\n",
        "):\n",
        "    train_set, valid_set = data[data['kfold']!=fold], data[data['kfold']==fold]\n",
        "    \n",
        "    train_features, valid_features = [[] for _ in range(2)]\n",
        "    for i, row in train_set.iterrows():\n",
        "        train_features += prepare_train_features(args, row, tokenizer)\n",
        "    for i, row in valid_set.iterrows():\n",
        "        valid_features += prepare_train_features(args, row, tokenizer)\n",
        "\n",
        "    train_dataset = DatasetRetriever(train_features)\n",
        "    valid_dataset = DatasetRetriever(valid_features)\n",
        "    print(f\"Num examples Train= {len(train_dataset)}, Num examples Valid={len(valid_dataset)}\")\n",
        "    \n",
        "    train_sampler = RandomSampler(train_dataset)\n",
        "    valid_sampler = SequentialSampler(valid_dataset)\n",
        "\n",
        "    train_dataloader = DataLoader(\n",
        "        train_dataset,\n",
        "        batch_size=args.train_batch_size,\n",
        "        sampler=train_sampler,\n",
        "        num_workers=optimal_num_of_loader_workers(),\n",
        "        pin_memory=True,\n",
        "        drop_last=False \n",
        "    )\n",
        "\n",
        "    valid_dataloader = DataLoader(\n",
        "        valid_dataset,\n",
        "        batch_size=args.eval_batch_size, \n",
        "        sampler=valid_sampler,\n",
        "        num_workers=optimal_num_of_loader_workers(),\n",
        "        pin_memory=True, \n",
        "        drop_last=False\n",
        "    )\n",
        "\n",
        "    return train_dataloader, valid_dataloader"
      ],
      "id": "0a7d36df",
      "execution_count": 22,
      "outputs": []
    },
    {
      "cell_type": "markdown",
      "metadata": {
        "id": "47101630"
      },
      "source": [
        "### Trainer"
      ],
      "id": "47101630"
    },
    {
      "cell_type": "code",
      "metadata": {
        "id": "81b92c70"
      },
      "source": [
        "class Trainer:\n",
        "    def __init__(\n",
        "        self, model, tokenizer, \n",
        "        optimizer, scheduler\n",
        "    ):\n",
        "        self.model = model\n",
        "        self.tokenizer = tokenizer\n",
        "        self.optimizer = optimizer\n",
        "        self.scheduler = scheduler\n",
        "\n",
        "    def train(\n",
        "        self, args, \n",
        "        train_dataloader, \n",
        "        epoch, result_dict\n",
        "    ):\n",
        "        count = 0\n",
        "        losses = AverageMeter()\n",
        "        \n",
        "        self.model.zero_grad()\n",
        "        self.model.train()\n",
        "        \n",
        "        fix_all_seeds(args.seed)\n",
        "        \n",
        "        for batch_idx, batch_data in enumerate(train_dataloader):\n",
        "            input_ids, attention_mask, targets_start, targets_end = \\\n",
        "                batch_data['input_ids'], batch_data['attention_mask'], \\\n",
        "                    batch_data['start_position'], batch_data['end_position']\n",
        "            \n",
        "            input_ids, attention_mask, targets_start, targets_end = \\\n",
        "                input_ids.cuda(), attention_mask.cuda(), targets_start.cuda(), targets_end.cuda()\n",
        "\n",
        "            outputs_start, outputs_end = self.model(\n",
        "                input_ids=input_ids,\n",
        "                attention_mask=attention_mask,\n",
        "            )\n",
        "            \n",
        "            ########\n",
        "            outputs_start2, outputs_end2 = self.model(\n",
        "                input_ids=input_ids,\n",
        "                attention_mask=attention_mask,\n",
        "            )\n",
        "\n",
        "            #print(outputs_start.size())\n",
        "            #####loss = loss_fn((outputs_start, outputs_end), (targets_start, targets_end))\n",
        "            loss = loss_fn2((outputs_start, outputs_end), (outputs_start2, outputs_end2), (targets_start, targets_end))\n",
        "            loss = loss / args.gradient_accumulation_steps\n",
        "\n",
        "            if args.fp16:\n",
        "                with amp.scale_loss(loss, self.optimizer) as scaled_loss:\n",
        "                    scaled_loss.backward()\n",
        "            else:\n",
        "                loss.backward()\n",
        "\n",
        "            count += input_ids.size(0)\n",
        "            losses.update(loss.item(), input_ids.size(0))\n",
        "\n",
        "            # if args.fp16:\n",
        "            #     torch.nn.utils.clip_grad_norm_(amp.master_params(self.optimizer), args.max_grad_norm)\n",
        "            # else:\n",
        "            #     torch.nn.utils.clip_grad_norm_(self.model.parameters(), args.max_grad_norm)\n",
        "\n",
        "            if batch_idx % args.gradient_accumulation_steps == 0 or batch_idx == len(train_dataloader) - 1:\n",
        "                self.optimizer.step()\n",
        "                self.scheduler.step()\n",
        "                self.optimizer.zero_grad()\n",
        "\n",
        "            if (batch_idx % args.logging_steps == 0) or (batch_idx+1)==len(train_dataloader):\n",
        "                _s = str(len(str(len(train_dataloader.sampler))))\n",
        "                ret = [\n",
        "                    ('Epoch: {:0>2} [{: >' + _s + '}/{} ({: >3.0f}%)]').format(epoch, count, len(train_dataloader.sampler), 100 * count / len(train_dataloader.sampler)),\n",
        "                    'Train Loss: {: >4.5f}'.format(losses.avg),\n",
        "                ]\n",
        "                print(', '.join(ret))\n",
        "\n",
        "        result_dict['train_loss'].append(losses.avg)\n",
        "        return result_dict"
      ],
      "id": "81b92c70",
      "execution_count": 23,
      "outputs": []
    },
    {
      "cell_type": "markdown",
      "metadata": {
        "id": "468c7fad"
      },
      "source": [
        "### Evaluator"
      ],
      "id": "468c7fad"
    },
    {
      "cell_type": "code",
      "metadata": {
        "id": "c77328b3"
      },
      "source": [
        "class Evaluator:\n",
        "    def __init__(self, model):\n",
        "        self.model = model\n",
        "    \n",
        "    def save(self, result, output_dir):\n",
        "        with open(f'{output_dir}/result_dict.json', 'w') as f:\n",
        "            f.write(json.dumps(result, sort_keys=True, indent=4, ensure_ascii=False))\n",
        "\n",
        "    def evaluate(self, valid_dataloader, epoch, result_dict):\n",
        "        losses = AverageMeter()\n",
        "        for batch_idx, batch_data in enumerate(valid_dataloader):\n",
        "            self.model = self.model.eval()\n",
        "            input_ids, attention_mask, targets_start, targets_end = \\\n",
        "                batch_data['input_ids'], batch_data['attention_mask'], \\\n",
        "                    batch_data['start_position'], batch_data['end_position']\n",
        "            \n",
        "            input_ids, attention_mask, targets_start, targets_end = \\\n",
        "                input_ids.cuda(), attention_mask.cuda(), targets_start.cuda(), targets_end.cuda()\n",
        "            \n",
        "            with torch.no_grad():            \n",
        "                outputs_start, outputs_end = self.model(\n",
        "                    input_ids=input_ids,\n",
        "                    attention_mask=attention_mask,\n",
        "                )\n",
        "                \n",
        "                loss = loss_fn((outputs_start, outputs_end), (targets_start, targets_end))\n",
        "                losses.update(loss.item(), input_ids.size(0))\n",
        "                \n",
        "        print('----Validation Results Summary----')\n",
        "        print('Epoch: [{}] Valid Loss: {: >4.5f}'.format(epoch, losses.avg))\n",
        "        result_dict['val_loss'].append(losses.avg)        \n",
        "        return result_dict"
      ],
      "id": "c77328b3",
      "execution_count": 24,
      "outputs": []
    },
    {
      "cell_type": "markdown",
      "metadata": {
        "id": "86c0ad8e"
      },
      "source": [
        "### Initialize Training"
      ],
      "id": "86c0ad8e"
    },
    {
      "cell_type": "code",
      "metadata": {
        "id": "edd188d2"
      },
      "source": [
        "def init_training(args, data, fold):\n",
        "    fix_all_seeds(args.seed)\n",
        "    \n",
        "    if not os.path.exists(args.output_dir):\n",
        "        os.makedirs(args.output_dir)\n",
        "    \n",
        "    # model\n",
        "    model_config, tokenizer, model = make_model(args)\n",
        "    if torch.cuda.device_count() >= 1:\n",
        "        print('Model pushed to {} GPU(s), type {}.'.format(\n",
        "            torch.cuda.device_count(), \n",
        "            torch.cuda.get_device_name(0))\n",
        "        )\n",
        "        model = model.cuda() \n",
        "    else:\n",
        "        raise ValueError('CPU training is not supported')\n",
        "    \n",
        "    # print(\"load dict...\")\n",
        "    # model.load_state_dict(\n",
        "    #     torch.load(\"/content/input/chaii/output/checkpoint-fold-{}/pytorch_model.bin\".format(fold))\n",
        "    #     #torch.load(\"/content/drive/MyDrive/datas/chaii/output/output/checkpoint-fold-{}/pytorch_model.bin\".format(fold))\n",
        "    # );\n",
        "\n",
        "    # data loaders\n",
        "    train_dataloader, valid_dataloader = make_loader(args, data, tokenizer, fold)\n",
        "\n",
        "    # optimizer\n",
        "    optimizer = make_optimizer(args, model)\n",
        "\n",
        "    # scheduler\n",
        "    num_training_steps = math.ceil(len(train_dataloader) / args.gradient_accumulation_steps) * args.epochs\n",
        "    if args.warmup_ratio > 0:\n",
        "        num_warmup_steps = int(args.warmup_ratio * num_training_steps)\n",
        "    else:\n",
        "        num_warmup_steps = 0\n",
        "    print(f\"Total Training Steps: {num_training_steps}, Total Warmup Steps: {num_warmup_steps}\")\n",
        "    scheduler = make_scheduler(args, optimizer, num_warmup_steps, num_training_steps)\n",
        "\n",
        "    # mixed precision training with NVIDIA Apex\n",
        "    if args.fp16:\n",
        "        model, optimizer = amp.initialize(model, optimizer, opt_level=args.fp16_opt_level)\n",
        "    \n",
        "    result_dict = {\n",
        "        'epoch':[], \n",
        "        'train_loss': [], \n",
        "        'val_loss' : [], \n",
        "        'best_val_loss': np.inf\n",
        "    }\n",
        "\n",
        "    return (\n",
        "        model, model_config, tokenizer, optimizer, scheduler, \n",
        "        train_dataloader, valid_dataloader, result_dict\n",
        "    )"
      ],
      "id": "edd188d2",
      "execution_count": 25,
      "outputs": []
    },
    {
      "cell_type": "markdown",
      "metadata": {
        "id": "cb42970d"
      },
      "source": [
        "### Run"
      ],
      "id": "cb42970d"
    },
    {
      "cell_type": "code",
      "metadata": {
        "id": "915ef19d"
      },
      "source": [
        "def run(data, fold):\n",
        "    args = Config()\n",
        "    model, model_config, tokenizer, optimizer, scheduler, train_dataloader, \\\n",
        "        valid_dataloader, result_dict = init_training(args, data, fold)\n",
        "    \n",
        "    trainer = Trainer(model, tokenizer, optimizer, scheduler)\n",
        "    evaluator = Evaluator(model)\n",
        "\n",
        "    train_time_list = []\n",
        "    valid_time_list = []\n",
        "\n",
        "    for epoch in range(args.epochs):\n",
        "        result_dict['epoch'].append(epoch)\n",
        "\n",
        "        # Train\n",
        "        torch.cuda.synchronize()\n",
        "        tic1 = time.time()\n",
        "        result_dict = trainer.train(\n",
        "            args, train_dataloader, \n",
        "            epoch, result_dict\n",
        "        )\n",
        "        torch.cuda.synchronize()\n",
        "        tic2 = time.time() \n",
        "        train_time_list.append(tic2 - tic1)\n",
        "        \n",
        "        # Evaluate\n",
        "        torch.cuda.synchronize()\n",
        "        tic3 = time.time()\n",
        "        result_dict = evaluator.evaluate(\n",
        "            valid_dataloader, epoch, result_dict\n",
        "        )\n",
        "        torch.cuda.synchronize()\n",
        "        tic4 = time.time() \n",
        "        valid_time_list.append(tic4 - tic3)\n",
        "            \n",
        "        output_dir = os.path.join(args.output_dir, f\"checkpoint-fold-{fold}\")\n",
        "        if result_dict['val_loss'][-1] < result_dict['best_val_loss']:\n",
        "            print(\"{} Epoch, Best epoch was updated! Valid Loss: {: >4.5f}\".format(epoch, result_dict['val_loss'][-1]))\n",
        "            result_dict[\"best_val_loss\"] = result_dict['val_loss'][-1]        \n",
        "            \n",
        "            os.makedirs(output_dir, exist_ok=True)\n",
        "            torch.save(model.state_dict(), f\"{output_dir}/pytorch_model.bin\")\n",
        "            model_config.save_pretrained(output_dir)\n",
        "            tokenizer.save_pretrained(output_dir)\n",
        "            print(f\"Saving model checkpoint to {output_dir}.\")\n",
        "            \n",
        "        print()\n",
        "\n",
        "    evaluator.save(result_dict, output_dir)\n",
        "    \n",
        "    print(f\"Total Training Time: {np.sum(train_time_list)}secs, Average Training Time per Epoch: {np.mean(train_time_list)}secs.\")\n",
        "    print(f\"Total Validation Time: {np.sum(valid_time_list)}secs, Average Validation Time per Epoch: {np.mean(valid_time_list)}secs.\")\n",
        "    \n",
        "    best = result_dict[\"best_val_loss\"]\n",
        "\n",
        "    torch.cuda.empty_cache()\n",
        "    del trainer, evaluator\n",
        "    del model, model_config, tokenizer\n",
        "    del optimizer, scheduler\n",
        "    del train_dataloader, valid_dataloader, result_dict\n",
        "    gc.collect()\n",
        "\n",
        "    return best"
      ],
      "id": "915ef19d",
      "execution_count": 26,
      "outputs": []
    },
    {
      "cell_type": "code",
      "metadata": {
        "colab": {
          "base_uri": "https://localhost:8080/"
        },
        "id": "b7a66e0a",
        "outputId": "4315b8c7-4a6e-42f3-cf0e-b64db4fbd98c"
      },
      "source": [
        "best = []\n",
        "for fold in range(5):\n",
        "    # if fold < 3 :\n",
        "    #   continue\n",
        "    print();print()\n",
        "    print('-'*50)\n",
        "    print(f'FOLD: {fold}')\n",
        "    print('-'*50)\n",
        "    ret = run(train, fold)\n",
        "    !cp -r ./output /content/drive/MyDrive/datas/chaii/output\n",
        "    best.append(ret)\n",
        "\n",
        "print(best)"
      ],
      "id": "b7a66e0a",
      "execution_count": 27,
      "outputs": [
        {
          "output_type": "stream",
          "name": "stdout",
          "text": [
            "\n",
            "\n",
            "--------------------------------------------------\n",
            "FOLD: 0\n",
            "--------------------------------------------------\n",
            "Model pushed to 1 GPU(s), type Tesla P100-PCIE-16GB.\n",
            "Num examples Train= 20674, Num examples Valid=2983\n",
            "Total Training Steps: 5169, Total Warmup Steps: 516\n",
            "Epoch: 00 [    1/20674 (  0%)], Train Loss: 1.53591\n",
            "Epoch: 00 [  251/20674 (  1%)], Train Loss: 1.28386\n",
            "Epoch: 00 [  501/20674 (  2%)], Train Loss: 0.89980\n",
            "Epoch: 00 [  751/20674 (  4%)], Train Loss: 0.67896\n",
            "Epoch: 00 [ 1001/20674 (  5%)], Train Loss: 0.58225\n",
            "Epoch: 00 [ 1251/20674 (  6%)], Train Loss: 0.51443\n",
            "Epoch: 00 [ 1501/20674 (  7%)], Train Loss: 0.46835\n",
            "Epoch: 00 [ 1751/20674 (  8%)], Train Loss: 0.43402\n",
            "Epoch: 00 [ 2001/20674 ( 10%)], Train Loss: 0.40388\n",
            "Epoch: 00 [ 2251/20674 ( 11%)], Train Loss: 0.38610\n",
            "Epoch: 00 [ 2501/20674 ( 12%)], Train Loss: 0.36999\n",
            "Epoch: 00 [ 2751/20674 ( 13%)], Train Loss: 0.35792\n",
            "Epoch: 00 [ 3001/20674 ( 15%)], Train Loss: 0.34807\n",
            "Epoch: 00 [ 3251/20674 ( 16%)], Train Loss: 0.34097\n",
            "Epoch: 00 [ 3501/20674 ( 17%)], Train Loss: 0.33275\n",
            "Epoch: 00 [ 3751/20674 ( 18%)], Train Loss: 0.32773\n",
            "Epoch: 00 [ 4001/20674 ( 19%)], Train Loss: 0.31866\n",
            "Epoch: 00 [ 4251/20674 ( 21%)], Train Loss: 0.31390\n",
            "Epoch: 00 [ 4501/20674 ( 22%)], Train Loss: 0.31185\n",
            "Epoch: 00 [ 4751/20674 ( 23%)], Train Loss: 0.30751\n",
            "Epoch: 00 [ 5001/20674 ( 24%)], Train Loss: 0.30436\n",
            "Epoch: 00 [ 5251/20674 ( 25%)], Train Loss: 0.30136\n",
            "Epoch: 00 [ 5501/20674 ( 27%)], Train Loss: 0.29829\n",
            "Epoch: 00 [ 5751/20674 ( 28%)], Train Loss: 0.29528\n",
            "Epoch: 00 [ 6001/20674 ( 29%)], Train Loss: 0.29468\n",
            "Epoch: 00 [ 6251/20674 ( 30%)], Train Loss: 0.29184\n",
            "Epoch: 00 [ 6501/20674 ( 31%)], Train Loss: 0.28950\n",
            "Epoch: 00 [ 6751/20674 ( 33%)], Train Loss: 0.28687\n",
            "Epoch: 00 [ 7001/20674 ( 34%)], Train Loss: 0.28293\n",
            "Epoch: 00 [ 7251/20674 ( 35%)], Train Loss: 0.27858\n",
            "Epoch: 00 [ 7501/20674 ( 36%)], Train Loss: 0.27594\n",
            "Epoch: 00 [ 7751/20674 ( 37%)], Train Loss: 0.27458\n",
            "Epoch: 00 [ 8001/20674 ( 39%)], Train Loss: 0.27152\n",
            "Epoch: 00 [ 8251/20674 ( 40%)], Train Loss: 0.27012\n",
            "Epoch: 00 [ 8501/20674 ( 41%)], Train Loss: 0.26852\n",
            "Epoch: 00 [ 8751/20674 ( 42%)], Train Loss: 0.26723\n",
            "Epoch: 00 [ 9001/20674 ( 44%)], Train Loss: 0.26569\n",
            "Epoch: 00 [ 9251/20674 ( 45%)], Train Loss: 0.26295\n",
            "Epoch: 00 [ 9501/20674 ( 46%)], Train Loss: 0.26091\n",
            "Epoch: 00 [ 9751/20674 ( 47%)], Train Loss: 0.25993\n",
            "Epoch: 00 [10001/20674 ( 48%)], Train Loss: 0.25922\n",
            "Epoch: 00 [10251/20674 ( 50%)], Train Loss: 0.25825\n",
            "Epoch: 00 [10501/20674 ( 51%)], Train Loss: 0.25674\n",
            "Epoch: 00 [10751/20674 ( 52%)], Train Loss: 0.25548\n",
            "Epoch: 00 [11001/20674 ( 53%)], Train Loss: 0.25469\n",
            "Epoch: 00 [11251/20674 ( 54%)], Train Loss: 0.25432\n",
            "Epoch: 00 [11501/20674 ( 56%)], Train Loss: 0.25413\n",
            "Epoch: 00 [11751/20674 ( 57%)], Train Loss: 0.25347\n",
            "Epoch: 00 [12001/20674 ( 58%)], Train Loss: 0.25263\n",
            "Epoch: 00 [12251/20674 ( 59%)], Train Loss: 0.25094\n",
            "Epoch: 00 [12501/20674 ( 60%)], Train Loss: 0.25017\n",
            "Epoch: 00 [12751/20674 ( 62%)], Train Loss: 0.24941\n",
            "Epoch: 00 [13001/20674 ( 63%)], Train Loss: 0.24827\n",
            "Epoch: 00 [13251/20674 ( 64%)], Train Loss: 0.24697\n",
            "Epoch: 00 [13501/20674 ( 65%)], Train Loss: 0.24578\n",
            "Epoch: 00 [13751/20674 ( 67%)], Train Loss: 0.24479\n",
            "Epoch: 00 [14001/20674 ( 68%)], Train Loss: 0.24481\n",
            "Epoch: 00 [14251/20674 ( 69%)], Train Loss: 0.24457\n",
            "Epoch: 00 [14501/20674 ( 70%)], Train Loss: 0.24408\n",
            "Epoch: 00 [14751/20674 ( 71%)], Train Loss: 0.24332\n",
            "Epoch: 00 [15001/20674 ( 73%)], Train Loss: 0.24254\n",
            "Epoch: 00 [15251/20674 ( 74%)], Train Loss: 0.24184\n",
            "Epoch: 00 [15501/20674 ( 75%)], Train Loss: 0.24182\n",
            "Epoch: 00 [15751/20674 ( 76%)], Train Loss: 0.24147\n",
            "Epoch: 00 [16001/20674 ( 77%)], Train Loss: 0.24069\n",
            "Epoch: 00 [16251/20674 ( 79%)], Train Loss: 0.24007\n",
            "Epoch: 00 [16501/20674 ( 80%)], Train Loss: 0.23915\n",
            "Epoch: 00 [16751/20674 ( 81%)], Train Loss: 0.23827\n",
            "Epoch: 00 [17001/20674 ( 82%)], Train Loss: 0.23786\n",
            "Epoch: 00 [17251/20674 ( 83%)], Train Loss: 0.23726\n",
            "Epoch: 00 [17501/20674 ( 85%)], Train Loss: 0.23645\n",
            "Epoch: 00 [17751/20674 ( 86%)], Train Loss: 0.23556\n",
            "Epoch: 00 [18001/20674 ( 87%)], Train Loss: 0.23512\n",
            "Epoch: 00 [18251/20674 ( 88%)], Train Loss: 0.23479\n",
            "Epoch: 00 [18501/20674 ( 89%)], Train Loss: 0.23481\n",
            "Epoch: 00 [18751/20674 ( 91%)], Train Loss: 0.23421\n",
            "Epoch: 00 [19001/20674 ( 92%)], Train Loss: 0.23412\n",
            "Epoch: 00 [19251/20674 ( 93%)], Train Loss: 0.23370\n",
            "Epoch: 00 [19501/20674 ( 94%)], Train Loss: 0.23325\n",
            "Epoch: 00 [19751/20674 ( 96%)], Train Loss: 0.23263\n",
            "Epoch: 00 [20001/20674 ( 97%)], Train Loss: 0.23216\n",
            "Epoch: 00 [20251/20674 ( 98%)], Train Loss: 0.23173\n",
            "Epoch: 00 [20501/20674 ( 99%)], Train Loss: 0.23172\n",
            "Epoch: 00 [20674/20674 (100%)], Train Loss: 0.23156\n",
            "----Validation Results Summary----\n",
            "Epoch: [0] Valid Loss: 0.25306\n",
            "0 Epoch, Best epoch was updated! Valid Loss: 0.25306\n",
            "Saving model checkpoint to output/checkpoint-fold-0.\n",
            "\n",
            "Total Training Time: 7868.492759943008secs, Average Training Time per Epoch: 7868.492759943008secs.\n",
            "Total Validation Time: 132.9724736213684secs, Average Validation Time per Epoch: 132.9724736213684secs.\n",
            "\n",
            "\n",
            "--------------------------------------------------\n",
            "FOLD: 1\n",
            "--------------------------------------------------\n",
            "Model pushed to 1 GPU(s), type Tesla P100-PCIE-16GB.\n",
            "Num examples Train= 20983, Num examples Valid=2674\n",
            "Total Training Steps: 5246, Total Warmup Steps: 524\n",
            "Epoch: 00 [    1/20983 (  0%)], Train Loss: 1.43419\n",
            "Epoch: 00 [  251/20983 (  1%)], Train Loss: 1.28496\n",
            "Epoch: 00 [  501/20983 (  2%)], Train Loss: 0.91590\n",
            "Epoch: 00 [  751/20983 (  4%)], Train Loss: 0.72764\n",
            "Epoch: 00 [ 1001/20983 (  5%)], Train Loss: 0.61618\n",
            "Epoch: 00 [ 1251/20983 (  6%)], Train Loss: 0.54729\n",
            "Epoch: 00 [ 1501/20983 (  7%)], Train Loss: 0.49189\n",
            "Epoch: 00 [ 1751/20983 (  8%)], Train Loss: 0.45957\n",
            "Epoch: 00 [ 2001/20983 ( 10%)], Train Loss: 0.43563\n",
            "Epoch: 00 [ 2251/20983 ( 11%)], Train Loss: 0.41117\n",
            "Epoch: 00 [ 2501/20983 ( 12%)], Train Loss: 0.39435\n",
            "Epoch: 00 [ 2751/20983 ( 13%)], Train Loss: 0.37718\n",
            "Epoch: 00 [ 3001/20983 ( 14%)], Train Loss: 0.36437\n",
            "Epoch: 00 [ 3251/20983 ( 15%)], Train Loss: 0.35527\n",
            "Epoch: 00 [ 3501/20983 ( 17%)], Train Loss: 0.34403\n",
            "Epoch: 00 [ 3751/20983 ( 18%)], Train Loss: 0.33365\n",
            "Epoch: 00 [ 4001/20983 ( 19%)], Train Loss: 0.32376\n",
            "Epoch: 00 [ 4251/20983 ( 20%)], Train Loss: 0.31820\n",
            "Epoch: 00 [ 4501/20983 ( 21%)], Train Loss: 0.31058\n",
            "Epoch: 00 [ 4751/20983 ( 23%)], Train Loss: 0.30546\n",
            "Epoch: 00 [ 5001/20983 ( 24%)], Train Loss: 0.30015\n",
            "Epoch: 00 [ 5251/20983 ( 25%)], Train Loss: 0.29540\n",
            "Epoch: 00 [ 5501/20983 ( 26%)], Train Loss: 0.29363\n",
            "Epoch: 00 [ 5751/20983 ( 27%)], Train Loss: 0.29064\n",
            "Epoch: 00 [ 6001/20983 ( 29%)], Train Loss: 0.28823\n",
            "Epoch: 00 [ 6251/20983 ( 30%)], Train Loss: 0.28520\n",
            "Epoch: 00 [ 6501/20983 ( 31%)], Train Loss: 0.28271\n",
            "Epoch: 00 [ 6751/20983 ( 32%)], Train Loss: 0.27926\n",
            "Epoch: 00 [ 7001/20983 ( 33%)], Train Loss: 0.27663\n",
            "Epoch: 00 [ 7251/20983 ( 35%)], Train Loss: 0.27486\n",
            "Epoch: 00 [ 7501/20983 ( 36%)], Train Loss: 0.27313\n",
            "Epoch: 00 [ 7751/20983 ( 37%)], Train Loss: 0.27079\n",
            "Epoch: 00 [ 8001/20983 ( 38%)], Train Loss: 0.26739\n",
            "Epoch: 00 [ 8251/20983 ( 39%)], Train Loss: 0.26619\n",
            "Epoch: 00 [ 8501/20983 ( 41%)], Train Loss: 0.26537\n",
            "Epoch: 00 [ 8751/20983 ( 42%)], Train Loss: 0.26351\n",
            "Epoch: 00 [ 9001/20983 ( 43%)], Train Loss: 0.26213\n",
            "Epoch: 00 [ 9251/20983 ( 44%)], Train Loss: 0.25987\n",
            "Epoch: 00 [ 9501/20983 ( 45%)], Train Loss: 0.25802\n",
            "Epoch: 00 [ 9751/20983 ( 46%)], Train Loss: 0.25678\n",
            "Epoch: 00 [10001/20983 ( 48%)], Train Loss: 0.25546\n",
            "Epoch: 00 [10251/20983 ( 49%)], Train Loss: 0.25453\n",
            "Epoch: 00 [10501/20983 ( 50%)], Train Loss: 0.25332\n",
            "Epoch: 00 [10751/20983 ( 51%)], Train Loss: 0.25200\n",
            "Epoch: 00 [11001/20983 ( 52%)], Train Loss: 0.25179\n",
            "Epoch: 00 [11251/20983 ( 54%)], Train Loss: 0.25086\n",
            "Epoch: 00 [11501/20983 ( 55%)], Train Loss: 0.25046\n",
            "Epoch: 00 [11751/20983 ( 56%)], Train Loss: 0.25003\n",
            "Epoch: 00 [12001/20983 ( 57%)], Train Loss: 0.24921\n",
            "Epoch: 00 [12251/20983 ( 58%)], Train Loss: 0.24848\n",
            "Epoch: 00 [12501/20983 ( 60%)], Train Loss: 0.24757\n",
            "Epoch: 00 [12751/20983 ( 61%)], Train Loss: 0.24636\n",
            "Epoch: 00 [13001/20983 ( 62%)], Train Loss: 0.24582\n",
            "Epoch: 00 [13251/20983 ( 63%)], Train Loss: 0.24536\n",
            "Epoch: 00 [13501/20983 ( 64%)], Train Loss: 0.24448\n",
            "Epoch: 00 [13751/20983 ( 66%)], Train Loss: 0.24355\n",
            "Epoch: 00 [14001/20983 ( 67%)], Train Loss: 0.24279\n",
            "Epoch: 00 [14251/20983 ( 68%)], Train Loss: 0.24201\n",
            "Epoch: 00 [14501/20983 ( 69%)], Train Loss: 0.24152\n",
            "Epoch: 00 [14751/20983 ( 70%)], Train Loss: 0.24036\n",
            "Epoch: 00 [15001/20983 ( 71%)], Train Loss: 0.23987\n",
            "Epoch: 00 [15251/20983 ( 73%)], Train Loss: 0.23972\n",
            "Epoch: 00 [15501/20983 ( 74%)], Train Loss: 0.23910\n",
            "Epoch: 00 [15751/20983 ( 75%)], Train Loss: 0.23838\n",
            "Epoch: 00 [16001/20983 ( 76%)], Train Loss: 0.23804\n",
            "Epoch: 00 [16251/20983 ( 77%)], Train Loss: 0.23666\n",
            "Epoch: 00 [16501/20983 ( 79%)], Train Loss: 0.23600\n",
            "Epoch: 00 [16751/20983 ( 80%)], Train Loss: 0.23575\n",
            "Epoch: 00 [17001/20983 ( 81%)], Train Loss: 0.23474\n",
            "Epoch: 00 [17251/20983 ( 82%)], Train Loss: 0.23461\n",
            "Epoch: 00 [17501/20983 ( 83%)], Train Loss: 0.23442\n",
            "Epoch: 00 [17751/20983 ( 85%)], Train Loss: 0.23395\n",
            "Epoch: 00 [18001/20983 ( 86%)], Train Loss: 0.23340\n",
            "Epoch: 00 [18251/20983 ( 87%)], Train Loss: 0.23253\n",
            "Epoch: 00 [18501/20983 ( 88%)], Train Loss: 0.23243\n",
            "Epoch: 00 [18751/20983 ( 89%)], Train Loss: 0.23165\n",
            "Epoch: 00 [19001/20983 ( 91%)], Train Loss: 0.23119\n",
            "Epoch: 00 [19251/20983 ( 92%)], Train Loss: 0.23085\n",
            "Epoch: 00 [19501/20983 ( 93%)], Train Loss: 0.23081\n",
            "Epoch: 00 [19751/20983 ( 94%)], Train Loss: 0.23072\n",
            "Epoch: 00 [20001/20983 ( 95%)], Train Loss: 0.23061\n",
            "Epoch: 00 [20251/20983 ( 97%)], Train Loss: 0.23024\n",
            "Epoch: 00 [20501/20983 ( 98%)], Train Loss: 0.22960\n",
            "Epoch: 00 [20751/20983 ( 99%)], Train Loss: 0.22955\n",
            "Epoch: 00 [20983/20983 (100%)], Train Loss: 0.22877\n",
            "----Validation Results Summary----\n",
            "Epoch: [0] Valid Loss: 0.27373\n",
            "0 Epoch, Best epoch was updated! Valid Loss: 0.27373\n",
            "Saving model checkpoint to output/checkpoint-fold-1.\n",
            "\n",
            "Total Training Time: 7993.65571808815secs, Average Training Time per Epoch: 7993.65571808815secs.\n",
            "Total Validation Time: 119.48530626296997secs, Average Validation Time per Epoch: 119.48530626296997secs.\n",
            "\n",
            "\n",
            "--------------------------------------------------\n",
            "FOLD: 2\n",
            "--------------------------------------------------\n",
            "Model pushed to 1 GPU(s), type Tesla P100-PCIE-16GB.\n",
            "Num examples Train= 20654, Num examples Valid=3003\n",
            "Total Training Steps: 5164, Total Warmup Steps: 516\n",
            "Epoch: 00 [    1/20654 (  0%)], Train Loss: 1.41060\n",
            "Epoch: 00 [  251/20654 (  1%)], Train Loss: 1.28884\n",
            "Epoch: 00 [  501/20654 (  2%)], Train Loss: 0.90420\n",
            "Epoch: 00 [  751/20654 (  4%)], Train Loss: 0.70267\n",
            "Epoch: 00 [ 1001/20654 (  5%)], Train Loss: 0.59382\n",
            "Epoch: 00 [ 1251/20654 (  6%)], Train Loss: 0.51987\n",
            "Epoch: 00 [ 1501/20654 (  7%)], Train Loss: 0.47181\n",
            "Epoch: 00 [ 1751/20654 (  8%)], Train Loss: 0.43728\n",
            "Epoch: 00 [ 2001/20654 ( 10%)], Train Loss: 0.41519\n",
            "Epoch: 00 [ 2251/20654 ( 11%)], Train Loss: 0.39755\n",
            "Epoch: 00 [ 2501/20654 ( 12%)], Train Loss: 0.38133\n",
            "Epoch: 00 [ 2751/20654 ( 13%)], Train Loss: 0.36663\n",
            "Epoch: 00 [ 3001/20654 ( 15%)], Train Loss: 0.35599\n",
            "Epoch: 00 [ 3251/20654 ( 16%)], Train Loss: 0.34474\n",
            "Epoch: 00 [ 3501/20654 ( 17%)], Train Loss: 0.33640\n",
            "Epoch: 00 [ 3751/20654 ( 18%)], Train Loss: 0.32716\n",
            "Epoch: 00 [ 4001/20654 ( 19%)], Train Loss: 0.32136\n",
            "Epoch: 00 [ 4251/20654 ( 21%)], Train Loss: 0.31509\n",
            "Epoch: 00 [ 4501/20654 ( 22%)], Train Loss: 0.31211\n",
            "Epoch: 00 [ 4751/20654 ( 23%)], Train Loss: 0.30638\n",
            "Epoch: 00 [ 5001/20654 ( 24%)], Train Loss: 0.30125\n",
            "Epoch: 00 [ 5251/20654 ( 25%)], Train Loss: 0.29818\n",
            "Epoch: 00 [ 5501/20654 ( 27%)], Train Loss: 0.29481\n",
            "Epoch: 00 [ 5751/20654 ( 28%)], Train Loss: 0.29158\n",
            "Epoch: 00 [ 6001/20654 ( 29%)], Train Loss: 0.28972\n",
            "Epoch: 00 [ 6251/20654 ( 30%)], Train Loss: 0.28580\n",
            "Epoch: 00 [ 6501/20654 ( 31%)], Train Loss: 0.28484\n",
            "Epoch: 00 [ 6751/20654 ( 33%)], Train Loss: 0.28313\n",
            "Epoch: 00 [ 7001/20654 ( 34%)], Train Loss: 0.28200\n",
            "Epoch: 00 [ 7251/20654 ( 35%)], Train Loss: 0.28022\n",
            "Epoch: 00 [ 7501/20654 ( 36%)], Train Loss: 0.27991\n",
            "Epoch: 00 [ 7751/20654 ( 38%)], Train Loss: 0.27860\n",
            "Epoch: 00 [ 8001/20654 ( 39%)], Train Loss: 0.27646\n",
            "Epoch: 00 [ 8251/20654 ( 40%)], Train Loss: 0.27357\n",
            "Epoch: 00 [ 8501/20654 ( 41%)], Train Loss: 0.27235\n",
            "Epoch: 00 [ 8751/20654 ( 42%)], Train Loss: 0.27054\n",
            "Epoch: 00 [ 9001/20654 ( 44%)], Train Loss: 0.26864\n",
            "Epoch: 00 [ 9251/20654 ( 45%)], Train Loss: 0.26705\n",
            "Epoch: 00 [ 9501/20654 ( 46%)], Train Loss: 0.26441\n",
            "Epoch: 00 [ 9751/20654 ( 47%)], Train Loss: 0.26442\n",
            "Epoch: 00 [10001/20654 ( 48%)], Train Loss: 0.26326\n",
            "Epoch: 00 [10251/20654 ( 50%)], Train Loss: 0.26241\n",
            "Epoch: 00 [10501/20654 ( 51%)], Train Loss: 0.26075\n",
            "Epoch: 00 [10751/20654 ( 52%)], Train Loss: 0.25993\n",
            "Epoch: 00 [11001/20654 ( 53%)], Train Loss: 0.25879\n",
            "Epoch: 00 [11251/20654 ( 54%)], Train Loss: 0.25701\n",
            "Epoch: 00 [11501/20654 ( 56%)], Train Loss: 0.25595\n",
            "Epoch: 00 [11751/20654 ( 57%)], Train Loss: 0.25472\n",
            "Epoch: 00 [12001/20654 ( 58%)], Train Loss: 0.25397\n",
            "Epoch: 00 [12251/20654 ( 59%)], Train Loss: 0.25284\n",
            "Epoch: 00 [12501/20654 ( 61%)], Train Loss: 0.25207\n",
            "Epoch: 00 [12751/20654 ( 62%)], Train Loss: 0.25094\n",
            "Epoch: 00 [13001/20654 ( 63%)], Train Loss: 0.25006\n",
            "Epoch: 00 [13251/20654 ( 64%)], Train Loss: 0.24980\n",
            "Epoch: 00 [13501/20654 ( 65%)], Train Loss: 0.24857\n",
            "Epoch: 00 [13751/20654 ( 67%)], Train Loss: 0.24755\n",
            "Epoch: 00 [14001/20654 ( 68%)], Train Loss: 0.24732\n",
            "Epoch: 00 [14251/20654 ( 69%)], Train Loss: 0.24656\n",
            "Epoch: 00 [14501/20654 ( 70%)], Train Loss: 0.24612\n",
            "Epoch: 00 [14751/20654 ( 71%)], Train Loss: 0.24530\n",
            "Epoch: 00 [15001/20654 ( 73%)], Train Loss: 0.24446\n",
            "Epoch: 00 [15251/20654 ( 74%)], Train Loss: 0.24366\n",
            "Epoch: 00 [15501/20654 ( 75%)], Train Loss: 0.24308\n",
            "Epoch: 00 [15751/20654 ( 76%)], Train Loss: 0.24250\n",
            "Epoch: 00 [16001/20654 ( 77%)], Train Loss: 0.24220\n",
            "Epoch: 00 [16251/20654 ( 79%)], Train Loss: 0.24258\n",
            "Epoch: 00 [16501/20654 ( 80%)], Train Loss: 0.24243\n",
            "Epoch: 00 [16751/20654 ( 81%)], Train Loss: 0.24163\n",
            "Epoch: 00 [17001/20654 ( 82%)], Train Loss: 0.24055\n",
            "Epoch: 00 [17251/20654 ( 84%)], Train Loss: 0.24019\n",
            "Epoch: 00 [17501/20654 ( 85%)], Train Loss: 0.23995\n",
            "Epoch: 00 [17751/20654 ( 86%)], Train Loss: 0.24000\n",
            "Epoch: 00 [18001/20654 ( 87%)], Train Loss: 0.23895\n",
            "Epoch: 00 [18251/20654 ( 88%)], Train Loss: 0.23828\n",
            "Epoch: 00 [18501/20654 ( 90%)], Train Loss: 0.23806\n",
            "Epoch: 00 [18751/20654 ( 91%)], Train Loss: 0.23700\n",
            "Epoch: 00 [19001/20654 ( 92%)], Train Loss: 0.23620\n",
            "Epoch: 00 [19251/20654 ( 93%)], Train Loss: 0.23578\n",
            "Epoch: 00 [19501/20654 ( 94%)], Train Loss: 0.23533\n",
            "Epoch: 00 [19751/20654 ( 96%)], Train Loss: 0.23462\n",
            "Epoch: 00 [20001/20654 ( 97%)], Train Loss: 0.23403\n",
            "Epoch: 00 [20251/20654 ( 98%)], Train Loss: 0.23427\n",
            "Epoch: 00 [20501/20654 ( 99%)], Train Loss: 0.23412\n",
            "Epoch: 00 [20654/20654 (100%)], Train Loss: 0.23384\n",
            "----Validation Results Summary----\n",
            "Epoch: [0] Valid Loss: 0.20456\n",
            "0 Epoch, Best epoch was updated! Valid Loss: 0.20456\n",
            "Saving model checkpoint to output/checkpoint-fold-2.\n",
            "\n",
            "Total Training Time: 7878.281775474548secs, Average Training Time per Epoch: 7878.281775474548secs.\n",
            "Total Validation Time: 134.12330532073975secs, Average Validation Time per Epoch: 134.12330532073975secs.\n",
            "\n",
            "\n",
            "--------------------------------------------------\n",
            "FOLD: 3\n",
            "--------------------------------------------------\n",
            "Model pushed to 1 GPU(s), type Tesla P100-PCIE-16GB.\n",
            "Num examples Train= 20848, Num examples Valid=2809\n",
            "Total Training Steps: 5212, Total Warmup Steps: 521\n",
            "Epoch: 00 [    1/20848 (  0%)], Train Loss: 1.45930\n",
            "Epoch: 00 [  251/20848 (  1%)], Train Loss: 1.27922\n",
            "Epoch: 00 [  501/20848 (  2%)], Train Loss: 0.89883\n",
            "Epoch: 00 [  751/20848 (  4%)], Train Loss: 0.70696\n",
            "Epoch: 00 [ 1001/20848 (  5%)], Train Loss: 0.59838\n",
            "Epoch: 00 [ 1251/20848 (  6%)], Train Loss: 0.52945\n",
            "Epoch: 00 [ 1501/20848 (  7%)], Train Loss: 0.48306\n",
            "Epoch: 00 [ 1751/20848 (  8%)], Train Loss: 0.44374\n",
            "Epoch: 00 [ 2001/20848 ( 10%)], Train Loss: 0.41537\n",
            "Epoch: 00 [ 2251/20848 ( 11%)], Train Loss: 0.40014\n",
            "Epoch: 00 [ 2501/20848 ( 12%)], Train Loss: 0.38500\n",
            "Epoch: 00 [ 2751/20848 ( 13%)], Train Loss: 0.36864\n",
            "Epoch: 00 [ 3001/20848 ( 14%)], Train Loss: 0.35913\n",
            "Epoch: 00 [ 3251/20848 ( 16%)], Train Loss: 0.34630\n",
            "Epoch: 00 [ 3501/20848 ( 17%)], Train Loss: 0.33783\n",
            "Epoch: 00 [ 3751/20848 ( 18%)], Train Loss: 0.33034\n",
            "Epoch: 00 [ 4001/20848 ( 19%)], Train Loss: 0.32310\n",
            "Epoch: 00 [ 4251/20848 ( 20%)], Train Loss: 0.31817\n",
            "Epoch: 00 [ 4501/20848 ( 22%)], Train Loss: 0.31224\n",
            "Epoch: 00 [ 4751/20848 ( 23%)], Train Loss: 0.30786\n",
            "Epoch: 00 [ 5001/20848 ( 24%)], Train Loss: 0.30481\n",
            "Epoch: 00 [ 5251/20848 ( 25%)], Train Loss: 0.29856\n",
            "Epoch: 00 [ 5501/20848 ( 26%)], Train Loss: 0.29379\n",
            "Epoch: 00 [ 5751/20848 ( 28%)], Train Loss: 0.29027\n",
            "Epoch: 00 [ 6001/20848 ( 29%)], Train Loss: 0.28821\n",
            "Epoch: 00 [ 6251/20848 ( 30%)], Train Loss: 0.28479\n",
            "Epoch: 00 [ 6501/20848 ( 31%)], Train Loss: 0.28129\n",
            "Epoch: 00 [ 6751/20848 ( 32%)], Train Loss: 0.27820\n",
            "Epoch: 00 [ 7001/20848 ( 34%)], Train Loss: 0.27603\n",
            "Epoch: 00 [ 7251/20848 ( 35%)], Train Loss: 0.27184\n",
            "Epoch: 00 [ 7501/20848 ( 36%)], Train Loss: 0.27049\n",
            "Epoch: 00 [ 7751/20848 ( 37%)], Train Loss: 0.26940\n",
            "Epoch: 00 [ 8001/20848 ( 38%)], Train Loss: 0.26858\n",
            "Epoch: 00 [ 8251/20848 ( 40%)], Train Loss: 0.26678\n",
            "Epoch: 00 [ 8501/20848 ( 41%)], Train Loss: 0.26637\n",
            "Epoch: 00 [ 8751/20848 ( 42%)], Train Loss: 0.26495\n",
            "Epoch: 00 [ 9001/20848 ( 43%)], Train Loss: 0.26406\n",
            "Epoch: 00 [ 9251/20848 ( 44%)], Train Loss: 0.26190\n",
            "Epoch: 00 [ 9501/20848 ( 46%)], Train Loss: 0.26042\n",
            "Epoch: 00 [ 9751/20848 ( 47%)], Train Loss: 0.25962\n",
            "Epoch: 00 [10001/20848 ( 48%)], Train Loss: 0.25856\n",
            "Epoch: 00 [10251/20848 ( 49%)], Train Loss: 0.25619\n",
            "Epoch: 00 [10501/20848 ( 50%)], Train Loss: 0.25595\n",
            "Epoch: 00 [10751/20848 ( 52%)], Train Loss: 0.25539\n",
            "Epoch: 00 [11001/20848 ( 53%)], Train Loss: 0.25404\n",
            "Epoch: 00 [11251/20848 ( 54%)], Train Loss: 0.25287\n",
            "Epoch: 00 [11501/20848 ( 55%)], Train Loss: 0.25182\n",
            "Epoch: 00 [11751/20848 ( 56%)], Train Loss: 0.25136\n",
            "Epoch: 00 [12001/20848 ( 58%)], Train Loss: 0.25017\n",
            "Epoch: 00 [12251/20848 ( 59%)], Train Loss: 0.24920\n",
            "Epoch: 00 [12501/20848 ( 60%)], Train Loss: 0.24887\n",
            "Epoch: 00 [12751/20848 ( 61%)], Train Loss: 0.24744\n",
            "Epoch: 00 [13001/20848 ( 62%)], Train Loss: 0.24688\n",
            "Epoch: 00 [13251/20848 ( 64%)], Train Loss: 0.24607\n",
            "Epoch: 00 [13501/20848 ( 65%)], Train Loss: 0.24534\n",
            "Epoch: 00 [13751/20848 ( 66%)], Train Loss: 0.24455\n",
            "Epoch: 00 [14001/20848 ( 67%)], Train Loss: 0.24483\n",
            "Epoch: 00 [14251/20848 ( 68%)], Train Loss: 0.24379\n",
            "Epoch: 00 [14501/20848 ( 70%)], Train Loss: 0.24234\n",
            "Epoch: 00 [14751/20848 ( 71%)], Train Loss: 0.24196\n",
            "Epoch: 00 [15001/20848 ( 72%)], Train Loss: 0.24052\n",
            "Epoch: 00 [15251/20848 ( 73%)], Train Loss: 0.23968\n",
            "Epoch: 00 [15501/20848 ( 74%)], Train Loss: 0.23915\n",
            "Epoch: 00 [15751/20848 ( 76%)], Train Loss: 0.23831\n",
            "Epoch: 00 [16001/20848 ( 77%)], Train Loss: 0.23814\n",
            "Epoch: 00 [16251/20848 ( 78%)], Train Loss: 0.23769\n",
            "Epoch: 00 [16501/20848 ( 79%)], Train Loss: 0.23759\n",
            "Epoch: 00 [16751/20848 ( 80%)], Train Loss: 0.23701\n",
            "Epoch: 00 [17001/20848 ( 82%)], Train Loss: 0.23623\n",
            "Epoch: 00 [17251/20848 ( 83%)], Train Loss: 0.23604\n",
            "Epoch: 00 [17501/20848 ( 84%)], Train Loss: 0.23532\n",
            "Epoch: 00 [17751/20848 ( 85%)], Train Loss: 0.23537\n",
            "Epoch: 00 [18001/20848 ( 86%)], Train Loss: 0.23501\n",
            "Epoch: 00 [18251/20848 ( 88%)], Train Loss: 0.23389\n",
            "Epoch: 00 [18501/20848 ( 89%)], Train Loss: 0.23319\n",
            "Epoch: 00 [18751/20848 ( 90%)], Train Loss: 0.23269\n",
            "Epoch: 00 [19001/20848 ( 91%)], Train Loss: 0.23243\n",
            "Epoch: 00 [19251/20848 ( 92%)], Train Loss: 0.23217\n",
            "Epoch: 00 [19501/20848 ( 94%)], Train Loss: 0.23160\n",
            "Epoch: 00 [19751/20848 ( 95%)], Train Loss: 0.23106\n",
            "Epoch: 00 [20001/20848 ( 96%)], Train Loss: 0.23101\n",
            "Epoch: 00 [20251/20848 ( 97%)], Train Loss: 0.23062\n",
            "Epoch: 00 [20501/20848 ( 98%)], Train Loss: 0.23057\n",
            "Epoch: 00 [20751/20848 (100%)], Train Loss: 0.23020\n",
            "Epoch: 00 [20848/20848 (100%)], Train Loss: 0.22974\n",
            "----Validation Results Summary----\n",
            "Epoch: [0] Valid Loss: 0.28659\n",
            "0 Epoch, Best epoch was updated! Valid Loss: 0.28659\n",
            "Saving model checkpoint to output/checkpoint-fold-3.\n",
            "\n",
            "Total Training Time: 7950.545239448547secs, Average Training Time per Epoch: 7950.545239448547secs.\n",
            "Total Validation Time: 125.46815967559814secs, Average Validation Time per Epoch: 125.46815967559814secs.\n",
            "\n",
            "\n",
            "--------------------------------------------------\n",
            "FOLD: 4\n",
            "--------------------------------------------------\n",
            "Model pushed to 1 GPU(s), type Tesla P100-PCIE-16GB.\n",
            "Num examples Train= 20884, Num examples Valid=2773\n",
            "Total Training Steps: 5221, Total Warmup Steps: 522\n",
            "Epoch: 00 [    1/20884 (  0%)], Train Loss: 1.41165\n",
            "Epoch: 00 [  251/20884 (  1%)], Train Loss: 1.28765\n",
            "Epoch: 00 [  501/20884 (  2%)], Train Loss: 0.89408\n",
            "Epoch: 00 [  751/20884 (  4%)], Train Loss: 0.69448\n",
            "Epoch: 00 [ 1001/20884 (  5%)], Train Loss: 0.58726\n",
            "Epoch: 00 [ 1251/20884 (  6%)], Train Loss: 0.52854\n",
            "Epoch: 00 [ 1501/20884 (  7%)], Train Loss: 0.47721\n",
            "Epoch: 00 [ 1751/20884 (  8%)], Train Loss: 0.44278\n",
            "Epoch: 00 [ 2001/20884 ( 10%)], Train Loss: 0.41705\n",
            "Epoch: 00 [ 2251/20884 ( 11%)], Train Loss: 0.39824\n",
            "Epoch: 00 [ 2501/20884 ( 12%)], Train Loss: 0.38292\n",
            "Epoch: 00 [ 2751/20884 ( 13%)], Train Loss: 0.36861\n",
            "Epoch: 00 [ 3001/20884 ( 14%)], Train Loss: 0.35734\n",
            "Epoch: 00 [ 3251/20884 ( 16%)], Train Loss: 0.34642\n",
            "Epoch: 00 [ 3501/20884 ( 17%)], Train Loss: 0.34113\n",
            "Epoch: 00 [ 3751/20884 ( 18%)], Train Loss: 0.33196\n",
            "Epoch: 00 [ 4001/20884 ( 19%)], Train Loss: 0.32665\n",
            "Epoch: 00 [ 4251/20884 ( 20%)], Train Loss: 0.31891\n",
            "Epoch: 00 [ 4501/20884 ( 22%)], Train Loss: 0.31407\n",
            "Epoch: 00 [ 4751/20884 ( 23%)], Train Loss: 0.30778\n",
            "Epoch: 00 [ 5001/20884 ( 24%)], Train Loss: 0.30515\n",
            "Epoch: 00 [ 5251/20884 ( 25%)], Train Loss: 0.29899\n",
            "Epoch: 00 [ 5501/20884 ( 26%)], Train Loss: 0.29597\n",
            "Epoch: 00 [ 5751/20884 ( 28%)], Train Loss: 0.29310\n",
            "Epoch: 00 [ 6001/20884 ( 29%)], Train Loss: 0.29112\n",
            "Epoch: 00 [ 6251/20884 ( 30%)], Train Loss: 0.28876\n",
            "Epoch: 00 [ 6501/20884 ( 31%)], Train Loss: 0.28562\n",
            "Epoch: 00 [ 6751/20884 ( 32%)], Train Loss: 0.28261\n",
            "Epoch: 00 [ 7001/20884 ( 34%)], Train Loss: 0.27912\n",
            "Epoch: 00 [ 7251/20884 ( 35%)], Train Loss: 0.27624\n",
            "Epoch: 00 [ 7501/20884 ( 36%)], Train Loss: 0.27600\n",
            "Epoch: 00 [ 7751/20884 ( 37%)], Train Loss: 0.27332\n",
            "Epoch: 00 [ 8001/20884 ( 38%)], Train Loss: 0.27174\n",
            "Epoch: 00 [ 8251/20884 ( 40%)], Train Loss: 0.27078\n",
            "Epoch: 00 [ 8501/20884 ( 41%)], Train Loss: 0.26854\n",
            "Epoch: 00 [ 8751/20884 ( 42%)], Train Loss: 0.26711\n",
            "Epoch: 00 [ 9001/20884 ( 43%)], Train Loss: 0.26521\n",
            "Epoch: 00 [ 9251/20884 ( 44%)], Train Loss: 0.26423\n",
            "Epoch: 00 [ 9501/20884 ( 45%)], Train Loss: 0.26277\n",
            "Epoch: 00 [ 9751/20884 ( 47%)], Train Loss: 0.26154\n",
            "Epoch: 00 [10001/20884 ( 48%)], Train Loss: 0.26035\n",
            "Epoch: 00 [10251/20884 ( 49%)], Train Loss: 0.25982\n",
            "Epoch: 00 [10501/20884 ( 50%)], Train Loss: 0.25852\n",
            "Epoch: 00 [10751/20884 ( 51%)], Train Loss: 0.25788\n",
            "Epoch: 00 [11001/20884 ( 53%)], Train Loss: 0.25586\n",
            "Epoch: 00 [11251/20884 ( 54%)], Train Loss: 0.25386\n",
            "Epoch: 00 [11501/20884 ( 55%)], Train Loss: 0.25370\n",
            "Epoch: 00 [11751/20884 ( 56%)], Train Loss: 0.25341\n",
            "Epoch: 00 [12001/20884 ( 57%)], Train Loss: 0.25238\n",
            "Epoch: 00 [12251/20884 ( 59%)], Train Loss: 0.25133\n",
            "Epoch: 00 [12501/20884 ( 60%)], Train Loss: 0.25078\n",
            "Epoch: 00 [12751/20884 ( 61%)], Train Loss: 0.25018\n",
            "Epoch: 00 [13001/20884 ( 62%)], Train Loss: 0.24948\n",
            "Epoch: 00 [13251/20884 ( 63%)], Train Loss: 0.24847\n",
            "Epoch: 00 [13501/20884 ( 65%)], Train Loss: 0.24803\n",
            "Epoch: 00 [13751/20884 ( 66%)], Train Loss: 0.24779\n",
            "Epoch: 00 [14001/20884 ( 67%)], Train Loss: 0.24699\n",
            "Epoch: 00 [14251/20884 ( 68%)], Train Loss: 0.24593\n",
            "Epoch: 00 [14501/20884 ( 69%)], Train Loss: 0.24616\n",
            "Epoch: 00 [14751/20884 ( 71%)], Train Loss: 0.24524\n",
            "Epoch: 00 [15001/20884 ( 72%)], Train Loss: 0.24419\n",
            "Epoch: 00 [15251/20884 ( 73%)], Train Loss: 0.24343\n",
            "Epoch: 00 [15501/20884 ( 74%)], Train Loss: 0.24252\n",
            "Epoch: 00 [15751/20884 ( 75%)], Train Loss: 0.24202\n",
            "Epoch: 00 [16001/20884 ( 77%)], Train Loss: 0.24154\n",
            "Epoch: 00 [16251/20884 ( 78%)], Train Loss: 0.24073\n",
            "Epoch: 00 [16501/20884 ( 79%)], Train Loss: 0.24009\n",
            "Epoch: 00 [16751/20884 ( 80%)], Train Loss: 0.23977\n",
            "Epoch: 00 [17001/20884 ( 81%)], Train Loss: 0.23923\n",
            "Epoch: 00 [17251/20884 ( 83%)], Train Loss: 0.23876\n",
            "Epoch: 00 [17501/20884 ( 84%)], Train Loss: 0.23813\n",
            "Epoch: 00 [17751/20884 ( 85%)], Train Loss: 0.23758\n",
            "Epoch: 00 [18001/20884 ( 86%)], Train Loss: 0.23735\n",
            "Epoch: 00 [18251/20884 ( 87%)], Train Loss: 0.23674\n",
            "Epoch: 00 [18501/20884 ( 89%)], Train Loss: 0.23640\n",
            "Epoch: 00 [18751/20884 ( 90%)], Train Loss: 0.23643\n",
            "Epoch: 00 [19001/20884 ( 91%)], Train Loss: 0.23593\n",
            "Epoch: 00 [19251/20884 ( 92%)], Train Loss: 0.23564\n",
            "Epoch: 00 [19501/20884 ( 93%)], Train Loss: 0.23524\n",
            "Epoch: 00 [19751/20884 ( 95%)], Train Loss: 0.23460\n",
            "Epoch: 00 [20001/20884 ( 96%)], Train Loss: 0.23404\n",
            "Epoch: 00 [20251/20884 ( 97%)], Train Loss: 0.23340\n",
            "Epoch: 00 [20501/20884 ( 98%)], Train Loss: 0.23304\n",
            "Epoch: 00 [20751/20884 ( 99%)], Train Loss: 0.23266\n",
            "Epoch: 00 [20884/20884 (100%)], Train Loss: 0.23237\n",
            "----Validation Results Summary----\n",
            "Epoch: [0] Valid Loss: 0.20325\n",
            "0 Epoch, Best epoch was updated! Valid Loss: 0.20325\n",
            "Saving model checkpoint to output/checkpoint-fold-4.\n",
            "\n",
            "Total Training Time: 7968.6122670173645secs, Average Training Time per Epoch: 7968.6122670173645secs.\n",
            "Total Validation Time: 123.91180205345154secs, Average Validation Time per Epoch: 123.91180205345154secs.\n",
            "[0.2530554625445571, 0.27373010504284945, 0.20456079005861058, 0.28659096361988684, 0.20325152608371191]\n"
          ]
        }
      ]
    },
    {
      "cell_type": "code",
      "metadata": {
        "id": "BaDr_pFZGOQY",
        "colab": {
          "base_uri": "https://localhost:8080/"
        },
        "outputId": "f396f5be-44b3-480a-e867-e3a7b1ded67d"
      },
      "source": [
        "np.mean(np.array(best))"
      ],
      "id": "BaDr_pFZGOQY",
      "execution_count": 28,
      "outputs": [
        {
          "output_type": "execute_result",
          "data": {
            "text/plain": [
              "0.2442377694699232"
            ]
          },
          "metadata": {},
          "execution_count": 28
        }
      ]
    },
    {
      "cell_type": "markdown",
      "metadata": {
        "id": "c600bffd"
      },
      "source": [
        "## ここをチェック"
      ],
      "id": "c600bffd"
    },
    {
      "cell_type": "code",
      "metadata": {
        "id": "2lVx1gGZrn-q"
      },
      "source": [
        "# trainデータなし学習 valideデータはtrain.csvではないので注意\n",
        "#[1.2976857284959564, 1.3881498964859058, 1.3087206599546626, 1.2901440256843426, 1.1679372001281267]\n",
        "#[0.24349995289113208, 0.2663524366251205, 0.19786230920665912, 0.2553937918101003, 0.18950824988041495]\n",
        "\n",
        "# train & hindi xquad\n",
        "#[0.24965187649773146, 0.23444136391208764, 0.22017900116515676] 0.23475741385832527\n",
        "#[0.23096489540942408, 0.28216897352464915, 0.2203173596892458, 0.28736751974058533, 0.208414323353315] 0.2458466143434439\n",
        "#[0.22519750105769248, 0.25939778196668173, 0.20381177481000717, 0.2465142556059104, 0.17124023813670544] 0.22123231031539947\n",
        "#[0.2697170414320415, 0.3059851324188871, 0.2551263245063695, 0.3056244693620248, 0.21533218981467775] 0.2703570315068001\n",
        "#[0.22526602439154889, 0.26299701667625947, 0.20623224054625405, 0.26411216159941286, 0.182503771575793] 0.22822224295785362\n",
        "#[0.23691583103636119, 0.2686926209007856, 0.2075012739026476, 0.25571625346175986, 0.19657193895548936]\n",
        "#[0.23888897450804394, 0.26591575717939314, 0.19279731265472355, 0.275491834834653, 0.1854117791257561]\n",
        "#[0.2519814316728135, 0.26924624716331114, 0.19539388123118323, 0.27420934634778854, 0.184092709692541]\n",
        "#[0.2530554625445571, 0.27373010504284945, 0.20456079005861058, 0.28659096361988684, 0.20325152608371191]\n",
        "\n",
        "# ★★ここをベースに検討★★\n",
        "# hindi xsquid acc_step 2 lr 1e-05 wd 0.001 400-135 seed 42 msd 5\n",
        "# [0.2302274905697632, 0.27069914932622796, 0.21486875825171511, 0.2573498566401873, 0.18481068504706707] 0.23159118796699213 LB:0.768\n",
        "#-----------\n",
        "# hindi xsquid acc_step 2 lr 1e-05 wd 0.001 400-135 seed 42 msd 5 scheduler_step 2 FOLDデータが若干違う　10/12 chaii-1012\n",
        "#[0.24841012325690787, 0.26584840404003096, 0.2032461542127646, 0.2737542687907607, 0.22716575367217018] LB:0.776\n",
        "#-----------\n",
        "# hindi xsquid acc_step 2 lr 1.5e-05 wd 0.001 400-135 seed 42 msd 5 scheduler_step 2 FOLDデータが若干違う　10/13 chaii-1013\n",
        "# [0.24829580425794023, 0.2651147856025376, 0.21895726531102902, 5.991464610776605, 0.228712301645232] LB:0.778\n",
        "#      FOLD3 単独でやり直し（学習ミスのため）　1e-5 s-step3に変更 fold3=0.25424\n",
        "#-----------\n",
        "# hindi xsquid acc_step 2 lr 1e-05 wd 0.001 400-135 seed 42 msd 5 scheduler_step 3 FOLDデータが若干違う　※10/13が収束しなかったので変更\n",
        "# [0.23505390209724317, 0.2598879741057279, 0.20111809600251632, 0.2542404424046021, 0.18050300175809506] chaii-1014 LB:0.776\n",
        "\n",
        "# hindi xsquid acc_step 2 lr 9e-06 wd 0.001 400-135 seed 42 msd 5 scheduler_step 3 FOLDデータが若干違う　10/14\n",
        "# [0.23501111353810378, 0.2556940006469886, 0.19985474928692182, 0.256803787264871, 0.18670242301902526] chaii-2014-2 LB:0.765\n",
        "\n",
        "# hindi xsquid acc_step 2 lr 1.5e-05 wd 0.001 400-135 seed 923 msd 5 scheduler_step 2 FOLDデータが若干違う 10/14-2\n",
        "#[0.22942558399286914, 0.27648799994582035, 0.20045122814375774, 0.2518382845039409, 0.1895024780733636]\n",
        "\n",
        "\n",
        "\n"
      ],
      "id": "2lVx1gGZrn-q",
      "execution_count": 29,
      "outputs": []
    },
    {
      "cell_type": "code",
      "metadata": {
        "id": "zlNTCqWhlCkv"
      },
      "source": [
        "# [0.2639688412511144, 0.23578763837464295, 0.2082770317994482] tamil & hindi xsquad  lr = 1.5e-5 LB:0.758\n",
        "# [0.2692653296424045, 0.23645380146391437, 0.21420694968205684] hindi xsquad only  lr = 1.5e-5 LB:0.761\n",
        "# [0.3102661463084304, 0.23890210809797524, 0.22127942127638148] tamil hindi xsquad + hindi mlpa lr = 1.5e-5 LB:0.775 \n",
        "# [0.2616716774835217, 0.2830840063208972,  0.22212529014537136] train data only  lr = 1.5e-5\n",
        "\n",
        "# lr = 1.5e-5\n",
        "# [0.2720036358349279, 0.32137186476052365, 0.22517818749821006, 0.27430064060954523, 0.2065113527196303] LB:764\n",
        "\n",
        "# all acc_step 4 lr 1e-05 wd 0.001 400-135 seed 42 msd 8\n",
        "#[0.2674649548349373, 0.30405822478353256, 0.22417820907238017, 0.27306132025548135, 0.19995228248329291] chaii3-1006\n",
        "# hindi xsquid acc_step 2 lr 1e-05 wd 0.001 400-135 seed 42 msd 8\n",
        "#[0.2717109649169748, 0.29633474438177754, 0.22632861237664936, 0.2791072048015778, 0.19286308680928477]  LB: 0.758 ?\n",
        "\n"
      ],
      "id": "zlNTCqWhlCkv",
      "execution_count": 30,
      "outputs": []
    }
  ]
}