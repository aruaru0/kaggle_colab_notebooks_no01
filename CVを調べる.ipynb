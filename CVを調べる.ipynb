{
  "nbformat": 4,
  "nbformat_minor": 5,
  "metadata": {
    "kernelspec": {
      "display_name": "Python 3",
      "language": "python",
      "name": "python3"
    },
    "language_info": {
      "codemirror_mode": {
        "name": "ipython",
        "version": 3
      },
      "file_extension": ".py",
      "mimetype": "text/x-python",
      "name": "python",
      "nbconvert_exporter": "python",
      "pygments_lexer": "ipython3",
      "version": "3.7.10"
    },
    "papermill": {
      "default_parameters": {},
      "duration": 330.70854,
      "end_time": "2021-10-23T04:07:09.551561",
      "environment_variables": {},
      "exception": null,
      "input_path": "__notebook__.ipynb",
      "output_path": "__notebook__.ipynb",
      "parameters": {},
      "start_time": "2021-10-23T04:01:38.843021",
      "version": "2.3.3"
    },
    "colab": {
      "name": "CVを調べる.ipynb",
      "provenance": [],
      "collapsed_sections": [],
      "machine_shape": "hm",
      "include_colab_link": true
    },
    "accelerator": "GPU"
  },
  "cells": [
    {
      "cell_type": "markdown",
      "metadata": {
        "id": "view-in-github",
        "colab_type": "text"
      },
      "source": [
        "<a href=\"https://colab.research.google.com/github/aruaru0/colab_notebook/blob/main/CV%E3%82%92%E8%AA%BF%E3%81%B9%E3%82%8B.ipynb\" target=\"_parent\"><img src=\"https://colab.research.google.com/assets/colab-badge.svg\" alt=\"Open In Colab\"/></a>"
      ]
    },
    {
      "cell_type": "markdown",
      "metadata": {
        "id": "uDYqIjec1zpB"
      },
      "source": [
        "# for coalab"
      ],
      "id": "uDYqIjec1zpB"
    },
    {
      "cell_type": "code",
      "metadata": {
        "colab": {
          "base_uri": "https://localhost:8080/"
        },
        "id": "M4uLGdti14FA",
        "outputId": "614cd978-db0e-489e-ffd4-553fcf23b7f4"
      },
      "source": [
        "!nvidia-smi"
      ],
      "id": "M4uLGdti14FA",
      "execution_count": 1,
      "outputs": [
        {
          "output_type": "stream",
          "name": "stdout",
          "text": [
            "Sat Oct 23 22:15:40 2021       \n",
            "+-----------------------------------------------------------------------------+\n",
            "| NVIDIA-SMI 470.74       Driver Version: 460.32.03    CUDA Version: 11.2     |\n",
            "|-------------------------------+----------------------+----------------------+\n",
            "| GPU  Name        Persistence-M| Bus-Id        Disp.A | Volatile Uncorr. ECC |\n",
            "| Fan  Temp  Perf  Pwr:Usage/Cap|         Memory-Usage | GPU-Util  Compute M. |\n",
            "|                               |                      |               MIG M. |\n",
            "|===============================+======================+======================|\n",
            "|   0  Tesla P100-PCIE...  Off  | 00000000:00:04.0 Off |                    0 |\n",
            "| N/A   41C    P0    27W / 250W |      0MiB / 16280MiB |      0%      Default |\n",
            "|                               |                      |                  N/A |\n",
            "+-------------------------------+----------------------+----------------------+\n",
            "                                                                               \n",
            "+-----------------------------------------------------------------------------+\n",
            "| Processes:                                                                  |\n",
            "|  GPU   GI   CI        PID   Type   Process name                  GPU Memory |\n",
            "|        ID   ID                                                   Usage      |\n",
            "|=============================================================================|\n",
            "|  No running processes found                                                 |\n",
            "+-----------------------------------------------------------------------------+\n"
          ]
        }
      ]
    },
    {
      "cell_type": "code",
      "metadata": {
        "id": "RKoEHoPDPKcQ"
      },
      "source": [
        "check_only = True"
      ],
      "id": "RKoEHoPDPKcQ",
      "execution_count": 2,
      "outputs": []
    },
    {
      "cell_type": "code",
      "metadata": {
        "colab": {
          "base_uri": "https://localhost:8080/"
        },
        "id": "W-QkX1-_13rX",
        "outputId": "8e47dd34-d65a-495c-e0f8-46af125902ee"
      },
      "source": [
        "from google.colab import drive\n",
        "drive.mount('/content/drive')"
      ],
      "id": "W-QkX1-_13rX",
      "execution_count": 2,
      "outputs": [
        {
          "output_type": "stream",
          "name": "stdout",
          "text": [
            "Mounted at /content/drive\n"
          ]
        }
      ]
    },
    {
      "cell_type": "code",
      "metadata": {
        "id": "WNatvGcJ19zK"
      },
      "source": [
        "! pip install --upgrade --force-reinstall --no-deps  kaggle > /dev/null\n",
        "! mkdir /root/.kaggle\n",
        "! cp \"/content/drive/My Drive/Kaggle/kaggle.json\" /root/.kaggle/\n",
        "! chmod 600 /root/.kaggle/kaggle.json"
      ],
      "id": "WNatvGcJ19zK",
      "execution_count": 3,
      "outputs": []
    },
    {
      "cell_type": "code",
      "metadata": {
        "colab": {
          "base_uri": "https://localhost:8080/"
        },
        "id": "9X-BZzuF2DMB",
        "outputId": "86f05b20-063c-4fef-a3d8-f1037b9dfeeb"
      },
      "source": [
        "!kaggle competitions download -c chaii-hindi-and-tamil-question-answering\n",
        "!kaggle datasets download -d nguyenduongthanh/xlm-roberta-large-squad-v2\n",
        "!kaggle datasets download -d nbroad/xlm-roberta-squad2\n"
      ],
      "id": "9X-BZzuF2DMB",
      "execution_count": 1,
      "outputs": [
        {
          "output_type": "stream",
          "name": "stdout",
          "text": [
            "chaii-hindi-and-tamil-question-answering.zip: Skipping, found more recently modified local copy (use --force to force download)\n",
            "xlm-roberta-large-squad-v2.zip: Skipping, found more recently modified local copy (use --force to force download)\n",
            "Downloading xlm-roberta-squad2.zip to /content\n",
            "100% 2.53G/2.53G [01:13<00:00, 61.1MB/s]\n",
            "100% 2.53G/2.53G [01:13<00:00, 36.8MB/s]\n"
          ]
        }
      ]
    },
    {
      "cell_type": "code",
      "metadata": {
        "id": "68XWvC67OsCC"
      },
      "source": [
        "if not check_only : \n",
        "  !kaggle datasets download -d nguyenduongthanh/chaii-xlmr-5-fold\n",
        "  !kaggle datasets download -d aruaru0/chaii3-1002\n",
        "  !kaggle datasets download -d aruaru0/chaii-no006\n",
        "  !kaggle datasets download -d aruaru0/chaii-no010"
      ],
      "id": "68XWvC67OsCC",
      "execution_count": 4,
      "outputs": []
    },
    {
      "cell_type": "code",
      "metadata": {
        "colab": {
          "base_uri": "https://localhost:8080/"
        },
        "id": "XQcM035f2_Sd",
        "outputId": "e95396cc-84d6-4726-db4b-de4b13bd6f55"
      },
      "source": [
        "!apt install unzip\n",
        "!mkdir -p input output"
      ],
      "id": "XQcM035f2_Sd",
      "execution_count": 5,
      "outputs": [
        {
          "output_type": "stream",
          "name": "stdout",
          "text": [
            "Reading package lists... Done\n",
            "Building dependency tree       \n",
            "Reading state information... Done\n",
            "unzip is already the newest version (6.0-21ubuntu1.1).\n",
            "0 upgraded, 0 newly installed, 0 to remove and 37 not upgraded.\n"
          ]
        }
      ]
    },
    {
      "cell_type": "code",
      "metadata": {
        "colab": {
          "base_uri": "https://localhost:8080/"
        },
        "id": "dgYLi4JJ2C_v",
        "outputId": "5b188619-5c55-4cb6-ea26-f7b84daaf08e"
      },
      "source": [
        "!mkdir input/chaii-hindi-and-tamil-question-answering\n",
        "!unzip /content/chaii-hindi-and-tamil-question-answering.zip -d input/chaii-hindi-and-tamil-question-answering\n",
        "!mkdir input/xlm-roberta-large-squad-v2\n",
        "!unzip /content/xlm-roberta-large-squad-v2.zip -d input/xlm-roberta-large-squad-v2\n",
        "!mkdir input/xlm-roberta-squad2\n",
        "!unzip /content/xlm-roberta-squad2.zip -d input/xlm-roberta-squad2"
      ],
      "id": "dgYLi4JJ2C_v",
      "execution_count": 6,
      "outputs": [
        {
          "output_type": "stream",
          "name": "stdout",
          "text": [
            "Archive:  /content/chaii-hindi-and-tamil-question-answering.zip\n",
            "  inflating: input/chaii-hindi-and-tamil-question-answering/sample_submission.csv  \n",
            "  inflating: input/chaii-hindi-and-tamil-question-answering/test.csv  \n",
            "  inflating: input/chaii-hindi-and-tamil-question-answering/train.csv  \n",
            "Archive:  /content/xlm-roberta-large-squad-v2.zip\n",
            "  End-of-central-directory signature not found.  Either this file is not\n",
            "  a zipfile, or it constitutes one disk of a multi-part archive.  In the\n",
            "  latter case the central directory and zipfile comment will be found on\n",
            "  the last disk(s) of this archive.\n",
            "unzip:  cannot find zipfile directory in one of /content/xlm-roberta-large-squad-v2.zip or\n",
            "        /content/xlm-roberta-large-squad-v2.zip.zip, and cannot find /content/xlm-roberta-large-squad-v2.zip.ZIP, period.\n",
            "Archive:  /content/xlm-roberta-squad2.zip\n",
            "  inflating: input/xlm-roberta-squad2/deepset/xlm-roberta-base-squad2/config.json  \n",
            "  inflating: input/xlm-roberta-squad2/deepset/xlm-roberta-base-squad2/pytorch_model.bin  \n",
            "  inflating: input/xlm-roberta-squad2/deepset/xlm-roberta-base-squad2/sentencepiece.bpe.model  \n",
            "  inflating: input/xlm-roberta-squad2/deepset/xlm-roberta-base-squad2/special_tokens_map.json  \n",
            "  inflating: input/xlm-roberta-squad2/deepset/xlm-roberta-base-squad2/tokenizer.json  \n",
            "  inflating: input/xlm-roberta-squad2/deepset/xlm-roberta-base-squad2/tokenizer_config.json  \n",
            "  inflating: input/xlm-roberta-squad2/deepset/xlm-roberta-large-squad2/config.json  \n",
            "  inflating: input/xlm-roberta-squad2/deepset/xlm-roberta-large-squad2/pytorch_model.bin  \n",
            "  inflating: input/xlm-roberta-squad2/deepset/xlm-roberta-large-squad2/sentencepiece.bpe.model  \n",
            "  inflating: input/xlm-roberta-squad2/deepset/xlm-roberta-large-squad2/special_tokens_map.json  \n",
            "  inflating: input/xlm-roberta-squad2/deepset/xlm-roberta-large-squad2/tokenizer.json  \n",
            "  inflating: input/xlm-roberta-squad2/deepset/xlm-roberta-large-squad2/tokenizer_config.json  \n"
          ]
        }
      ]
    },
    {
      "cell_type": "code",
      "metadata": {
        "id": "WTWFoVRuOwda"
      },
      "source": [
        "if not check_only : \n",
        "  !mkdir input/chaii-xlmr-5-fold\n",
        "  !unzip /content/chaii-xlmr-5-fold.zip -d input/chaii-xlmr-5-fold\n",
        "  !rm /content/chaii-xlmr-5-fold.zip\n",
        "\n",
        "  !mkdir input/chaii3-1002\n",
        "  !unzip /content/chaii3-1002.zip -d input/chaii3-1002\n",
        "  !rm /content/chaii3-1002.zip\n",
        "\n",
        "  !mkdir input/chaii-no006\n",
        "  !unzip /content/chaii-no006.zip -d input/chaii-no006\n",
        "  !rm /content/chaii-no006.zip\n",
        "\n",
        "  !mkdir input/chaii-no010\n",
        "  !unzip /content/chaii-no010.zip -d input/chaii-no010\n",
        "  !rm /content/chaii-no010.zip"
      ],
      "id": "WTWFoVRuOwda",
      "execution_count": 7,
      "outputs": []
    },
    {
      "cell_type": "code",
      "metadata": {
        "id": "j8jIC7WV8hWW"
      },
      "source": [
        "!rm *.zip"
      ],
      "id": "j8jIC7WV8hWW",
      "execution_count": 8,
      "outputs": []
    },
    {
      "cell_type": "markdown",
      "metadata": {
        "id": "bf3v3HZR6F4Y"
      },
      "source": [
        "# restart here..."
      ],
      "id": "bf3v3HZR6F4Y"
    },
    {
      "cell_type": "code",
      "metadata": {
        "colab": {
          "base_uri": "https://localhost:8080/"
        },
        "id": "48_Na14M6InN",
        "outputId": "32b1a06f-078b-48f9-ff5e-6512e1bd93c5"
      },
      "source": [
        "%cd output"
      ],
      "id": "48_Na14M6InN",
      "execution_count": 9,
      "outputs": [
        {
          "output_type": "stream",
          "name": "stdout",
          "text": [
            "/content/output\n"
          ]
        }
      ]
    },
    {
      "cell_type": "code",
      "metadata": {
        "colab": {
          "base_uri": "https://localhost:8080/"
        },
        "id": "p5Af2SSN6OMf",
        "outputId": "e31cc314-58d1-457d-f2f8-e1f571c6f847"
      },
      "source": [
        "!pip install transformers\n",
        "!pip install optuna"
      ],
      "id": "p5Af2SSN6OMf",
      "execution_count": 30,
      "outputs": [
        {
          "output_type": "stream",
          "name": "stdout",
          "text": [
            "Requirement already satisfied: transformers in /usr/local/lib/python3.7/dist-packages (4.11.3)\n",
            "Requirement already satisfied: importlib-metadata in /usr/local/lib/python3.7/dist-packages (from transformers) (4.8.1)\n",
            "Requirement already satisfied: tokenizers<0.11,>=0.10.1 in /usr/local/lib/python3.7/dist-packages (from transformers) (0.10.3)\n",
            "Requirement already satisfied: tqdm>=4.27 in /usr/local/lib/python3.7/dist-packages (from transformers) (4.62.3)\n",
            "Requirement already satisfied: requests in /usr/local/lib/python3.7/dist-packages (from transformers) (2.23.0)\n",
            "Requirement already satisfied: filelock in /usr/local/lib/python3.7/dist-packages (from transformers) (3.3.0)\n",
            "Requirement already satisfied: sacremoses in /usr/local/lib/python3.7/dist-packages (from transformers) (0.0.46)\n",
            "Requirement already satisfied: huggingface-hub>=0.0.17 in /usr/local/lib/python3.7/dist-packages (from transformers) (0.0.19)\n",
            "Requirement already satisfied: regex!=2019.12.17 in /usr/local/lib/python3.7/dist-packages (from transformers) (2019.12.20)\n",
            "Requirement already satisfied: pyyaml>=5.1 in /usr/local/lib/python3.7/dist-packages (from transformers) (6.0)\n",
            "Requirement already satisfied: numpy>=1.17 in /usr/local/lib/python3.7/dist-packages (from transformers) (1.19.5)\n",
            "Requirement already satisfied: packaging>=20.0 in /usr/local/lib/python3.7/dist-packages (from transformers) (21.0)\n",
            "Requirement already satisfied: typing-extensions in /usr/local/lib/python3.7/dist-packages (from huggingface-hub>=0.0.17->transformers) (3.7.4.3)\n",
            "Requirement already satisfied: pyparsing>=2.0.2 in /usr/local/lib/python3.7/dist-packages (from packaging>=20.0->transformers) (2.4.7)\n",
            "Requirement already satisfied: zipp>=0.5 in /usr/local/lib/python3.7/dist-packages (from importlib-metadata->transformers) (3.6.0)\n",
            "Requirement already satisfied: certifi>=2017.4.17 in /usr/local/lib/python3.7/dist-packages (from requests->transformers) (2021.5.30)\n",
            "Requirement already satisfied: idna<3,>=2.5 in /usr/local/lib/python3.7/dist-packages (from requests->transformers) (2.10)\n",
            "Requirement already satisfied: chardet<4,>=3.0.2 in /usr/local/lib/python3.7/dist-packages (from requests->transformers) (3.0.4)\n",
            "Requirement already satisfied: urllib3!=1.25.0,!=1.25.1,<1.26,>=1.21.1 in /usr/local/lib/python3.7/dist-packages (from requests->transformers) (1.24.3)\n",
            "Requirement already satisfied: joblib in /usr/local/lib/python3.7/dist-packages (from sacremoses->transformers) (1.0.1)\n",
            "Requirement already satisfied: six in /usr/local/lib/python3.7/dist-packages (from sacremoses->transformers) (1.15.0)\n",
            "Requirement already satisfied: click in /usr/local/lib/python3.7/dist-packages (from sacremoses->transformers) (7.1.2)\n",
            "Collecting optuna\n",
            "  Downloading optuna-2.10.0-py3-none-any.whl (308 kB)\n",
            "\u001b[K     |████████████████████████████████| 308 kB 4.1 MB/s \n",
            "\u001b[?25hCollecting alembic\n",
            "  Downloading alembic-1.7.4-py3-none-any.whl (209 kB)\n",
            "\u001b[K     |████████████████████████████████| 209 kB 60.2 MB/s \n",
            "\u001b[?25hRequirement already satisfied: tqdm in /usr/local/lib/python3.7/dist-packages (from optuna) (4.62.3)\n",
            "Collecting cliff\n",
            "  Downloading cliff-3.9.0-py3-none-any.whl (80 kB)\n",
            "\u001b[K     |████████████████████████████████| 80 kB 10.1 MB/s \n",
            "\u001b[?25hRequirement already satisfied: PyYAML in /usr/local/lib/python3.7/dist-packages (from optuna) (6.0)\n",
            "Requirement already satisfied: scipy!=1.4.0 in /usr/local/lib/python3.7/dist-packages (from optuna) (1.4.1)\n",
            "Requirement already satisfied: sqlalchemy>=1.1.0 in /usr/local/lib/python3.7/dist-packages (from optuna) (1.4.25)\n",
            "Collecting cmaes>=0.8.2\n",
            "  Downloading cmaes-0.8.2-py3-none-any.whl (15 kB)\n",
            "Requirement already satisfied: packaging>=20.0 in /usr/local/lib/python3.7/dist-packages (from optuna) (21.0)\n",
            "Collecting colorlog\n",
            "  Downloading colorlog-6.5.0-py2.py3-none-any.whl (11 kB)\n",
            "Requirement already satisfied: numpy in /usr/local/lib/python3.7/dist-packages (from optuna) (1.19.5)\n",
            "Requirement already satisfied: pyparsing>=2.0.2 in /usr/local/lib/python3.7/dist-packages (from packaging>=20.0->optuna) (2.4.7)\n",
            "Requirement already satisfied: importlib-metadata in /usr/local/lib/python3.7/dist-packages (from sqlalchemy>=1.1.0->optuna) (4.8.1)\n",
            "Requirement already satisfied: greenlet!=0.4.17 in /usr/local/lib/python3.7/dist-packages (from sqlalchemy>=1.1.0->optuna) (1.1.2)\n",
            "Collecting Mako\n",
            "  Downloading Mako-1.1.5-py2.py3-none-any.whl (75 kB)\n",
            "\u001b[K     |████████████████████████████████| 75 kB 5.0 MB/s \n",
            "\u001b[?25hRequirement already satisfied: importlib-resources in /usr/local/lib/python3.7/dist-packages (from alembic->optuna) (5.2.2)\n",
            "Requirement already satisfied: PrettyTable>=0.7.2 in /usr/local/lib/python3.7/dist-packages (from cliff->optuna) (2.2.1)\n",
            "Collecting pbr!=2.1.0,>=2.0.0\n",
            "  Downloading pbr-5.6.0-py2.py3-none-any.whl (111 kB)\n",
            "\u001b[K     |████████████████████████████████| 111 kB 55.9 MB/s \n",
            "\u001b[?25hCollecting cmd2>=1.0.0\n",
            "  Downloading cmd2-2.2.0-py3-none-any.whl (144 kB)\n",
            "\u001b[K     |████████████████████████████████| 144 kB 49.3 MB/s \n",
            "\u001b[?25hCollecting autopage>=0.4.0\n",
            "  Downloading autopage-0.4.0-py3-none-any.whl (20 kB)\n",
            "Collecting stevedore>=2.0.1\n",
            "  Downloading stevedore-3.5.0-py3-none-any.whl (49 kB)\n",
            "\u001b[K     |████████████████████████████████| 49 kB 6.2 MB/s \n",
            "\u001b[?25hRequirement already satisfied: wcwidth>=0.1.7 in /usr/local/lib/python3.7/dist-packages (from cmd2>=1.0.0->cliff->optuna) (0.2.5)\n",
            "Collecting pyperclip>=1.6\n",
            "  Downloading pyperclip-1.8.2.tar.gz (20 kB)\n",
            "Requirement already satisfied: typing-extensions in /usr/local/lib/python3.7/dist-packages (from cmd2>=1.0.0->cliff->optuna) (3.7.4.3)\n",
            "Collecting colorama>=0.3.7\n",
            "  Downloading colorama-0.4.4-py2.py3-none-any.whl (16 kB)\n",
            "Requirement already satisfied: attrs>=16.3.0 in /usr/local/lib/python3.7/dist-packages (from cmd2>=1.0.0->cliff->optuna) (21.2.0)\n",
            "Requirement already satisfied: zipp>=0.5 in /usr/local/lib/python3.7/dist-packages (from importlib-metadata->sqlalchemy>=1.1.0->optuna) (3.6.0)\n",
            "Requirement already satisfied: MarkupSafe>=0.9.2 in /usr/local/lib/python3.7/dist-packages (from Mako->alembic->optuna) (2.0.1)\n",
            "Building wheels for collected packages: pyperclip\n",
            "  Building wheel for pyperclip (setup.py) ... \u001b[?25l\u001b[?25hdone\n",
            "  Created wheel for pyperclip: filename=pyperclip-1.8.2-py3-none-any.whl size=11136 sha256=a324429cbd1d7985fe9402d41974d0deeefbf7c8e9f76aadb6f122d48689abd2\n",
            "  Stored in directory: /root/.cache/pip/wheels/9f/18/84/8f69f8b08169c7bae2dde6bd7daf0c19fca8c8e500ee620a28\n",
            "Successfully built pyperclip\n",
            "Installing collected packages: pyperclip, pbr, colorama, stevedore, Mako, cmd2, autopage, colorlog, cmaes, cliff, alembic, optuna\n",
            "Successfully installed Mako-1.1.5 alembic-1.7.4 autopage-0.4.0 cliff-3.9.0 cmaes-0.8.2 cmd2-2.2.0 colorama-0.4.4 colorlog-6.5.0 optuna-2.10.0 pbr-5.6.0 pyperclip-1.8.2 stevedore-3.5.0\n"
          ]
        }
      ]
    },
    {
      "cell_type": "markdown",
      "metadata": {
        "papermill": {
          "duration": 0.013396,
          "end_time": "2021-10-23T04:01:45.445096",
          "exception": false,
          "start_time": "2021-10-23T04:01:45.431700",
          "status": "completed"
        },
        "tags": [],
        "id": "323d913e"
      },
      "source": [
        "# infer"
      ],
      "id": "323d913e"
    },
    {
      "cell_type": "code",
      "metadata": {
        "execution": {
          "iopub.execute_input": "2021-10-23T04:01:45.474321Z",
          "iopub.status.busy": "2021-10-23T04:01:45.472807Z",
          "iopub.status.idle": "2021-10-23T04:01:55.931545Z",
          "shell.execute_reply": "2021-10-23T04:01:55.930658Z",
          "shell.execute_reply.started": "2021-10-15T12:36:53.655629Z"
        },
        "papermill": {
          "duration": 10.474605,
          "end_time": "2021-10-23T04:01:55.931690",
          "exception": false,
          "start_time": "2021-10-23T04:01:45.457085",
          "status": "completed"
        },
        "tags": [],
        "colab": {
          "base_uri": "https://localhost:8080/"
        },
        "id": "462f2ed3",
        "outputId": "e42c0c9b-d729-4bca-9d25-b8adcbcfd313"
      },
      "source": [
        "import os\n",
        "os.environ[\"TOKENIZERS_PARALLELISM\"] = \"false\"\n",
        "import gc\n",
        "gc.enable()\n",
        "import math\n",
        "import json\n",
        "import time\n",
        "import random\n",
        "import multiprocessing\n",
        "import warnings\n",
        "warnings.filterwarnings(\"ignore\", category=UserWarning)\n",
        "\n",
        "import numpy as np\n",
        "import pandas as pd\n",
        "from tqdm import tqdm, trange\n",
        "from sklearn import model_selection\n",
        "from string import punctuation\n",
        "\n",
        "import torch\n",
        "import torch.nn as nn\n",
        "import torch.nn.functional as F\n",
        "from torch.nn import Parameter\n",
        "import torch.optim as optim\n",
        "from torch.utils.data import (\n",
        "    Dataset, DataLoader,\n",
        "    SequentialSampler, RandomSampler\n",
        ")\n",
        "from torch.utils.data.distributed import DistributedSampler\n",
        "\n",
        "try:\n",
        "    from apex import amp\n",
        "    APEX_INSTALLED = True\n",
        "except ImportError:\n",
        "    APEX_INSTALLED = False\n",
        "\n",
        "import transformers\n",
        "from transformers import (\n",
        "    WEIGHTS_NAME,\n",
        "    AdamW,\n",
        "    AutoConfig,\n",
        "    AutoModel,\n",
        "    AutoTokenizer,\n",
        "    get_cosine_schedule_with_warmup,\n",
        "    get_linear_schedule_with_warmup,\n",
        "    logging,\n",
        "    MODEL_FOR_QUESTION_ANSWERING_MAPPING,\n",
        ")\n",
        "logging.set_verbosity_warning()\n",
        "logging.set_verbosity_error()\n",
        "\n",
        "def fix_all_seeds(seed):\n",
        "    np.random.seed(seed)\n",
        "    random.seed(seed)\n",
        "    os.environ['PYTHONHASHSEED'] = str(seed)\n",
        "    torch.manual_seed(seed)\n",
        "    torch.cuda.manual_seed(seed)\n",
        "    torch.cuda.manual_seed_all(seed)\n",
        "\n",
        "def optimal_num_of_loader_workers():\n",
        "    num_cpus = multiprocessing.cpu_count()\n",
        "    num_gpus = torch.cuda.device_count()\n",
        "    optimal_value = min(num_cpus, num_gpus*4) if num_gpus else num_cpus - 1\n",
        "    return optimal_value\n",
        "\n",
        "print(f\"Apex AMP Installed :: {APEX_INSTALLED}\")\n",
        "MODEL_CONFIG_CLASSES = list(MODEL_FOR_QUESTION_ANSWERING_MAPPING.keys())\n",
        "MODEL_TYPES = tuple(conf.model_type for conf in MODEL_CONFIG_CLASSES)"
      ],
      "id": "462f2ed3",
      "execution_count": 11,
      "outputs": [
        {
          "output_type": "stream",
          "name": "stdout",
          "text": [
            "Apex AMP Installed :: False\n"
          ]
        }
      ]
    },
    {
      "cell_type": "code",
      "metadata": {
        "execution": {
          "iopub.execute_input": "2021-10-23T04:01:55.973796Z",
          "iopub.status.busy": "2021-10-23T04:01:55.973125Z",
          "iopub.status.idle": "2021-10-23T04:01:55.976120Z",
          "shell.execute_reply": "2021-10-23T04:01:55.975605Z",
          "shell.execute_reply.started": "2021-10-15T12:37:05.852127Z"
        },
        "papermill": {
          "duration": 0.031899,
          "end_time": "2021-10-23T04:01:55.976251",
          "exception": false,
          "start_time": "2021-10-23T04:01:55.944352",
          "status": "completed"
        },
        "tags": [],
        "id": "8ddeba46"
      },
      "source": [
        "class Config:\n",
        "    # model\n",
        "    model_type = 'xlm_roberta'\n",
        "#     model_name_or_path = \"../input/xlm-roberta-large-squad-v2\"\n",
        "#     config_name = \"../input/xlm-roberta-large-squad-v2\"\n",
        "    model_name_or_path = \"../input/xlm-roberta-squad2/deepset/xlm-roberta-large-squad2\"\n",
        "    config_name = \"../input/xlm-roberta-squad2/deepset/xlm-roberta-large-squad2\"\n",
        "    fp16 = True if APEX_INSTALLED else False\n",
        "    fp16_opt_level = \"O1\"\n",
        "    gradient_accumulation_steps = 2\n",
        "\n",
        "    # tokenizer\n",
        "    tokenizer_name = \"../input/xlm-roberta-squad2/deepset/xlm-roberta-large-squad2\"\n",
        "#     tokenizer_name = \"../input/xlm-roberta-large-squad-v2\"\n",
        "    max_seq_length = 400\n",
        "    doc_stride = 135\n",
        "\n",
        "    # train\n",
        "    epochs = 1\n",
        "    train_batch_size = 4\n",
        "    eval_batch_size = 135\n",
        "\n",
        "    # optimzer\n",
        "    optimizer_type = 'AdamW'\n",
        "    learning_rate = 1e-9\n",
        "    weight_decay = 1e-3\n",
        "    epsilon = 1e-8\n",
        "    max_grad_norm = 1.0\n",
        "\n",
        "    # scheduler\n",
        "    decay_name = 'linear-warmup'\n",
        "    warmup_ratio = 0.1\n",
        "\n",
        "    # logging\n",
        "    logging_steps = 10\n",
        "\n",
        "    # evaluate\n",
        "    output_dir = 'output'\n",
        "    seed = 2021"
      ],
      "id": "8ddeba46",
      "execution_count": 12,
      "outputs": []
    },
    {
      "cell_type": "code",
      "metadata": {
        "execution": {
          "iopub.execute_input": "2021-10-23T04:01:56.011696Z",
          "iopub.status.busy": "2021-10-23T04:01:56.010911Z",
          "iopub.status.idle": "2021-10-23T04:01:56.012913Z",
          "shell.execute_reply": "2021-10-23T04:01:56.013313Z",
          "shell.execute_reply.started": "2021-10-15T12:37:05.862737Z"
        },
        "papermill": {
          "duration": 0.023969,
          "end_time": "2021-10-23T04:01:56.013443",
          "exception": false,
          "start_time": "2021-10-23T04:01:55.989474",
          "status": "completed"
        },
        "tags": [],
        "id": "b722a700"
      },
      "source": [
        "class DatasetRetriever(Dataset):\n",
        "    def __init__(self, features, mode='train'):\n",
        "        super(DatasetRetriever, self).__init__()\n",
        "        self.features = features\n",
        "        self.mode = mode\n",
        "        \n",
        "    def __len__(self):\n",
        "        return len(self.features)\n",
        "    \n",
        "    def __getitem__(self, item):   \n",
        "        feature = self.features[item]\n",
        "        if self.mode == 'train':\n",
        "            return {\n",
        "                'input_ids':torch.tensor(feature['input_ids'], dtype=torch.long),\n",
        "                'attention_mask':torch.tensor(feature['attention_mask'], dtype=torch.long),\n",
        "                'offset_mapping':torch.tensor(feature['offset_mapping'], dtype=torch.long),\n",
        "                'start_position':torch.tensor(feature['start_position'], dtype=torch.long),\n",
        "                'end_position':torch.tensor(feature['end_position'], dtype=torch.long)\n",
        "            }\n",
        "        else:\n",
        "            return {\n",
        "                'input_ids':torch.tensor(feature['input_ids'], dtype=torch.long),\n",
        "                'attention_mask':torch.tensor(feature['attention_mask'], dtype=torch.long),\n",
        "                'offset_mapping':feature['offset_mapping'],\n",
        "                'sequence_ids':feature['sequence_ids'],\n",
        "                'id':feature['example_id'],\n",
        "                'context': feature['context'],\n",
        "                'question': feature['question']\n",
        "            }"
      ],
      "id": "b722a700",
      "execution_count": 13,
      "outputs": []
    },
    {
      "cell_type": "code",
      "metadata": {
        "execution": {
          "iopub.execute_input": "2021-10-23T04:01:56.046110Z",
          "iopub.status.busy": "2021-10-23T04:01:56.045266Z",
          "iopub.status.idle": "2021-10-23T04:01:56.048764Z",
          "shell.execute_reply": "2021-10-23T04:01:56.048327Z",
          "shell.execute_reply.started": "2021-10-15T12:37:05.883905Z"
        },
        "papermill": {
          "duration": 0.023076,
          "end_time": "2021-10-23T04:01:56.048874",
          "exception": false,
          "start_time": "2021-10-23T04:01:56.025798",
          "status": "completed"
        },
        "tags": [],
        "id": "c97b526f"
      },
      "source": [
        "class Model(nn.Module):\n",
        "    def __init__(self, modelname_or_path, config):\n",
        "        super(Model, self).__init__()\n",
        "        self.config = config\n",
        "        self.xlm_roberta = AutoModel.from_pretrained(modelname_or_path, config=config)\n",
        "        self.qa_outputs = nn.Linear(config.hidden_size, 2)\n",
        "        self.dropout = nn.Dropout(config.hidden_dropout_prob)\n",
        "        self._init_weights(self.qa_outputs)\n",
        "        \n",
        "    def _init_weights(self, module):\n",
        "        if isinstance(module, nn.Linear):\n",
        "            module.weight.data.normal_(mean=0.0, std=self.config.initializer_range)\n",
        "            if module.bias is not None:\n",
        "                module.bias.data.zero_()\n",
        "\n",
        "    def forward(\n",
        "        self, \n",
        "        input_ids, \n",
        "        attention_mask=None, \n",
        "    ):\n",
        "        outputs = self.xlm_roberta(\n",
        "            input_ids,\n",
        "            attention_mask=attention_mask,\n",
        "        )\n",
        "\n",
        "        sequence_output = outputs[0]\n",
        "        pooled_output = outputs[1]\n",
        "        \n",
        "        # sequence_output = self.dropout(sequence_output)\n",
        "        qa_logits = self.qa_outputs(sequence_output)\n",
        "        \n",
        "        start_logits, end_logits = qa_logits.split(1, dim=-1)\n",
        "        start_logits = start_logits.squeeze(-1)\n",
        "        end_logits = end_logits.squeeze(-1)\n",
        "    \n",
        "        return start_logits, end_logits"
      ],
      "id": "c97b526f",
      "execution_count": 14,
      "outputs": []
    },
    {
      "cell_type": "code",
      "metadata": {
        "execution": {
          "iopub.execute_input": "2021-10-23T04:01:56.077807Z",
          "iopub.status.busy": "2021-10-23T04:01:56.077050Z",
          "iopub.status.idle": "2021-10-23T04:01:56.079477Z",
          "shell.execute_reply": "2021-10-23T04:01:56.079049Z",
          "shell.execute_reply.started": "2021-10-15T12:37:05.901568Z"
        },
        "papermill": {
          "duration": 0.018595,
          "end_time": "2021-10-23T04:01:56.079581",
          "exception": false,
          "start_time": "2021-10-23T04:01:56.060986",
          "status": "completed"
        },
        "tags": [],
        "id": "d9c637ca"
      },
      "source": [
        "def make_model(args):\n",
        "    config = AutoConfig.from_pretrained(args.config_name)\n",
        "    tokenizer = AutoTokenizer.from_pretrained(args.tokenizer_name)\n",
        "    model = Model(args.model_name_or_path, config=config)\n",
        "    return config, tokenizer, model"
      ],
      "id": "d9c637ca",
      "execution_count": 15,
      "outputs": []
    },
    {
      "cell_type": "code",
      "metadata": {
        "execution": {
          "iopub.execute_input": "2021-10-23T04:01:56.111103Z",
          "iopub.status.busy": "2021-10-23T04:01:56.110360Z",
          "iopub.status.idle": "2021-10-23T04:01:56.112873Z",
          "shell.execute_reply": "2021-10-23T04:01:56.112376Z",
          "shell.execute_reply.started": "2021-10-15T12:37:15.471476Z"
        },
        "papermill": {
          "duration": 0.021414,
          "end_time": "2021-10-23T04:01:56.113001",
          "exception": false,
          "start_time": "2021-10-23T04:01:56.091587",
          "status": "completed"
        },
        "tags": [],
        "id": "5eb8fafa"
      },
      "source": [
        "def prepare_test_features(args, example, tokenizer):\n",
        "    example[\"question\"] = example[\"question\"].lstrip()\n",
        "    \n",
        "    tokenized_example = tokenizer(\n",
        "        example[\"question\"],\n",
        "        example[\"context\"],\n",
        "        truncation=\"only_second\",\n",
        "        max_length=args.max_seq_length,\n",
        "        stride=args.doc_stride,\n",
        "        return_overflowing_tokens=True,\n",
        "        return_offsets_mapping=True,\n",
        "        padding=\"max_length\",\n",
        "    )\n",
        "\n",
        "    features = []\n",
        "    for i in range(len(tokenized_example[\"input_ids\"])):\n",
        "        feature = {}\n",
        "        feature[\"example_id\"] = example['id']\n",
        "        feature['context'] = example['context']\n",
        "        feature['question'] = example['question']\n",
        "        feature['input_ids'] = tokenized_example['input_ids'][i]\n",
        "        feature['attention_mask'] = tokenized_example['attention_mask'][i]\n",
        "        feature['offset_mapping'] = tokenized_example['offset_mapping'][i]\n",
        "        feature['sequence_ids'] = [0 if i is None else i for i in tokenized_example.sequence_ids(i)]\n",
        "        features.append(feature)\n",
        "    return features"
      ],
      "id": "5eb8fafa",
      "execution_count": 16,
      "outputs": []
    },
    {
      "cell_type": "code",
      "metadata": {
        "execution": {
          "iopub.execute_input": "2021-10-23T04:01:56.153567Z",
          "iopub.status.busy": "2021-10-23T04:01:56.146032Z",
          "iopub.status.idle": "2021-10-23T04:01:56.155667Z",
          "shell.execute_reply": "2021-10-23T04:01:56.156119Z",
          "shell.execute_reply.started": "2021-10-15T12:37:17.012957Z"
        },
        "papermill": {
          "duration": 0.031252,
          "end_time": "2021-10-23T04:01:56.156245",
          "exception": false,
          "start_time": "2021-10-23T04:01:56.124993",
          "status": "completed"
        },
        "tags": [],
        "id": "423a8b9e"
      },
      "source": [
        "import collections\n",
        "\n",
        "def postprocess_qa_predictions(examples, features, raw_predictions, n_best_size = 20, max_answer_length = 30):\n",
        "    all_start_logits, all_end_logits = raw_predictions\n",
        "    \n",
        "    example_id_to_index = {k: i for i, k in enumerate(examples[\"id\"])}\n",
        "    features_per_example = collections.defaultdict(list)\n",
        "    for i, feature in enumerate(features):\n",
        "        features_per_example[example_id_to_index[feature[\"example_id\"]]].append(i)\n",
        "\n",
        "    predictions = collections.OrderedDict()\n",
        "\n",
        "    print(f\"Post-processing {len(examples)} example predictions split into {len(features)} features.\")\n",
        "\n",
        "    for example_index, example in examples.iterrows():\n",
        "        feature_indices = features_per_example[example_index]\n",
        "\n",
        "        min_null_score = None\n",
        "        valid_answers = []\n",
        "        \n",
        "        context = example[\"context\"]\n",
        "        for feature_index in feature_indices:\n",
        "            start_logits = all_start_logits[feature_index]\n",
        "            end_logits = all_end_logits[feature_index]\n",
        "\n",
        "            sequence_ids = features[feature_index][\"sequence_ids\"]\n",
        "            context_index = 1\n",
        "\n",
        "            features[feature_index][\"offset_mapping\"] = [\n",
        "                (o if sequence_ids[k] == context_index else None)\n",
        "                for k, o in enumerate(features[feature_index][\"offset_mapping\"])\n",
        "            ]\n",
        "            offset_mapping = features[feature_index][\"offset_mapping\"]\n",
        "            cls_index = features[feature_index][\"input_ids\"].index(tokenizer.cls_token_id)\n",
        "            feature_null_score = start_logits[cls_index] + end_logits[cls_index]\n",
        "            if min_null_score is None or min_null_score < feature_null_score:\n",
        "                min_null_score = feature_null_score\n",
        "\n",
        "            start_indexes = np.argsort(start_logits)[-1 : -n_best_size - 1 : -1].tolist()\n",
        "            end_indexes = np.argsort(end_logits)[-1 : -n_best_size - 1 : -1].tolist()\n",
        "            for start_index in start_indexes:\n",
        "                for end_index in end_indexes:\n",
        "                    if (\n",
        "                        start_index >= len(offset_mapping)\n",
        "                        or end_index >= len(offset_mapping)\n",
        "                        or offset_mapping[start_index] is None\n",
        "                        or offset_mapping[end_index] is None\n",
        "                    ):\n",
        "                        continue\n",
        "                    # Don't consider answers with a length that is either < 0 or > max_answer_length.\n",
        "                    if end_index < start_index or end_index - start_index + 1 > max_answer_length:\n",
        "                        continue\n",
        "\n",
        "                    start_char = offset_mapping[start_index][0]\n",
        "                    end_char = offset_mapping[end_index][1]\n",
        "                    valid_answers.append(\n",
        "                        {\n",
        "                            \"score\": start_logits[start_index] + end_logits[end_index],\n",
        "                            \"text\": context[start_char: end_char]\n",
        "                        }\n",
        "                    )\n",
        "        \n",
        "        if len(valid_answers) > 0:\n",
        "            best_answer = sorted(valid_answers, key=lambda x: x[\"score\"], reverse=True)[0]\n",
        "        else:\n",
        "            best_answer = {\"text\": \"\", \"score\": 0.0}\n",
        "        \n",
        "        predictions[example[\"id\"]] = best_answer[\"text\"]\n",
        "        \n",
        "        \n",
        "    return predictions"
      ],
      "id": "423a8b9e",
      "execution_count": 17,
      "outputs": []
    },
    {
      "cell_type": "code",
      "metadata": {
        "execution": {
          "iopub.execute_input": "2021-10-23T04:01:56.187712Z",
          "iopub.status.busy": "2021-10-23T04:01:56.187216Z",
          "iopub.status.idle": "2021-10-23T04:01:57.481899Z",
          "shell.execute_reply": "2021-10-23T04:01:57.481382Z",
          "shell.execute_reply.started": "2021-10-15T12:37:18.719206Z"
        },
        "papermill": {
          "duration": 1.313435,
          "end_time": "2021-10-23T04:01:57.482058",
          "exception": false,
          "start_time": "2021-10-23T04:01:56.168623",
          "status": "completed"
        },
        "tags": [],
        "id": "488dfa16"
      },
      "source": [
        "test = pd.read_csv('../input/chaii-hindi-and-tamil-question-answering/train.csv')\n",
        "\n",
        "test['context'] = test['context'].apply(lambda x: ' '.join(x.split()))\n",
        "test['question'] = test['question'].apply(lambda x: ' '.join(x.split()))\n",
        "\n",
        "#base_model_path = '../input/chaii-qa-5-fold-xlmroberta-torch-fit'\n",
        "# test=test[:10]\n",
        "#test=test[:10]\n",
        "tokenizer = AutoTokenizer.from_pretrained(Config().tokenizer_name)\n",
        "\n",
        "test_features = []\n",
        "for i, row in test.iterrows():\n",
        "    test_features += prepare_test_features(Config(), row, tokenizer)\n",
        "\n",
        "args = Config()\n",
        "test_dataset = DatasetRetriever(test_features, mode='test')\n",
        "test_dataloader = DataLoader(\n",
        "    test_dataset,\n",
        "    batch_size=args.eval_batch_size, \n",
        "    sampler=SequentialSampler(test_dataset),\n",
        "    num_workers=optimal_num_of_loader_workers(),\n",
        "    pin_memory=True, \n",
        "    drop_last=False\n",
        ")"
      ],
      "id": "488dfa16",
      "execution_count": 18,
      "outputs": []
    },
    {
      "cell_type": "code",
      "metadata": {
        "execution": {
          "iopub.execute_input": "2021-10-23T04:01:57.514285Z",
          "iopub.status.busy": "2021-10-23T04:01:57.513612Z",
          "iopub.status.idle": "2021-10-23T04:01:57.517131Z",
          "shell.execute_reply": "2021-10-23T04:01:57.516697Z",
          "shell.execute_reply.started": "2021-10-15T12:37:21.545517Z"
        },
        "papermill": {
          "duration": 0.022601,
          "end_time": "2021-10-23T04:01:57.517243",
          "exception": false,
          "start_time": "2021-10-23T04:01:57.494642",
          "status": "completed"
        },
        "tags": [],
        "id": "240cdcca"
      },
      "source": [
        "def get_predictions(checkpoint_path):\n",
        "    config, tokenizer, model = make_model(Config())\n",
        "    model.cuda();\n",
        "    model.load_state_dict(\n",
        "        torch.load(base_model + checkpoint_path)\n",
        "    );\n",
        "    \n",
        "    start_logits = []\n",
        "    end_logits = []\n",
        "    for batch in test_dataloader:\n",
        "        with torch.no_grad():\n",
        "            outputs_start, outputs_end = model(batch['input_ids'].cuda(), batch['attention_mask'].cuda())\n",
        "            start_logits.append(outputs_start.cpu().numpy().tolist())\n",
        "            end_logits.append(outputs_end.cpu().numpy().tolist())\n",
        "            del outputs_start, outputs_end\n",
        "    del model, tokenizer, config\n",
        "    gc.collect()\n",
        "    return np.vstack(start_logits), np.vstack(end_logits)"
      ],
      "id": "240cdcca",
      "execution_count": 19,
      "outputs": []
    },
    {
      "cell_type": "code",
      "metadata": {
        "execution": {
          "iopub.execute_input": "2021-10-23T04:01:57.547584Z",
          "iopub.status.busy": "2021-10-23T04:01:57.546715Z",
          "iopub.status.idle": "2021-10-23T04:04:45.600753Z",
          "shell.execute_reply": "2021-10-23T04:04:45.600249Z",
          "shell.execute_reply.started": "2021-10-15T12:38:13.08758Z"
        },
        "papermill": {
          "duration": 168.070768,
          "end_time": "2021-10-23T04:04:45.600925",
          "exception": false,
          "start_time": "2021-10-23T04:01:57.530157",
          "status": "completed"
        },
        "tags": [],
        "id": "b37f6071"
      },
      "source": [
        ""
      ],
      "id": "b37f6071",
      "execution_count": null,
      "outputs": []
    },
    {
      "cell_type": "code",
      "metadata": {
        "id": "EvdOI_93BxSn"
      },
      "source": [
        "if not check_only : \n",
        "  import pickle\n",
        "\n",
        "  x = [\"chaii-xlmr-5-fold\",\"chaii3-1002\",\"chaii-no006\",\"chaii-no010\"]\n",
        "  for e in x:\n",
        "    base_model = \"../input/{}/output/\".format(e)\n",
        "    print(base_model)\n",
        "    start_logits1, end_logits1 = get_predictions('checkpoint-fold-0/pytorch_model.bin')\n",
        "    start_logits2, end_logits2 = get_predictions('checkpoint-fold-1/pytorch_model.bin')\n",
        "    start_logits3, end_logits3 = get_predictions('checkpoint-fold-2/pytorch_model.bin')\n",
        "    start_logits4, end_logits4 = get_predictions('checkpoint-fold-3/pytorch_model.bin')\n",
        "    start_logits5, end_logits5 = get_predictions('checkpoint-fold-4/pytorch_model.bin')\n",
        "    file = \"{}.pkl\".format(e)\n",
        "    with open(file, 'wb') as f :\n",
        "      pickle.dump(start_logits1, f)\n",
        "      pickle.dump(end_logits1, f)\n",
        "      pickle.dump(start_logits2, f)\n",
        "      pickle.dump(end_logits2, f)\n",
        "      pickle.dump(start_logits3, f)\n",
        "      pickle.dump(end_logits3, f)\n",
        "      pickle.dump(start_logits4, f)\n",
        "      pickle.dump(end_logits4, f)\n",
        "      pickle.dump(start_logits5, f)\n",
        "      pickle.dump(end_logits5, f)\n"
      ],
      "id": "EvdOI_93BxSn",
      "execution_count": 20,
      "outputs": []
    },
    {
      "cell_type": "code",
      "metadata": {
        "execution": {
          "iopub.execute_input": "2021-10-23T04:04:45.632120Z",
          "iopub.status.busy": "2021-10-23T04:04:45.631232Z",
          "iopub.status.idle": "2021-10-23T04:07:05.897604Z",
          "shell.execute_reply": "2021-10-23T04:07:05.897106Z",
          "shell.execute_reply.started": "2021-10-15T12:41:06.178095Z"
        },
        "papermill": {
          "duration": 140.283193,
          "end_time": "2021-10-23T04:07:05.897759",
          "exception": false,
          "start_time": "2021-10-23T04:04:45.614566",
          "status": "completed"
        },
        "tags": [],
        "id": "f46ecca7"
      },
      "source": [
        "if not check_only : \n",
        "  !cp * /content/drive/MyDrive/datas/pkl"
      ],
      "id": "f46ecca7",
      "execution_count": 21,
      "outputs": []
    },
    {
      "cell_type": "markdown",
      "metadata": {
        "id": "aHYhIzcDLNw8"
      },
      "source": [
        "# read "
      ],
      "id": "aHYhIzcDLNw8"
    },
    {
      "cell_type": "code",
      "metadata": {
        "id": "INr2qqElqpei"
      },
      "source": [
        "!cp /content/drive/MyDrive/datas/pkl/* ."
      ],
      "id": "INr2qqElqpei",
      "execution_count": 22,
      "outputs": []
    },
    {
      "cell_type": "code",
      "metadata": {
        "papermill": {
          "duration": 0.012742,
          "end_time": "2021-10-23T04:07:06.150576",
          "exception": false,
          "start_time": "2021-10-23T04:07:06.137834",
          "status": "completed"
        },
        "tags": [],
        "id": "add6c9df"
      },
      "source": [
        "import pickle\n",
        "\n",
        "x = [\"chaii-xlmr-5-fold\",\"chaii3-1002\",\"chaii-no006\",\"chaii-no010\"]\n",
        "\n",
        "start = []\n",
        "end = []\n",
        "for e in x:\n",
        "  file = \"{}.pkl\".format(e)\n",
        "  with open(file, 'rb') as f :\n",
        "    for _ in range(5) :\n",
        "      start.append(pickle.load(f))\n",
        "      end.append(pickle.load(f))"
      ],
      "id": "add6c9df",
      "execution_count": 23,
      "outputs": []
    },
    {
      "cell_type": "code",
      "metadata": {
        "id": "FcS0mOSRLym6"
      },
      "source": [
        "test = pd.read_csv('../input/chaii-hindi-and-tamil-question-answering/train.csv')\n",
        "\n",
        "def get_predictions(checkpoint_path):\n",
        "    config, tokenizer, model = make_model(Config())\n",
        "    model.cuda();\n",
        "    model.load_state_dict(\n",
        "        torch.load( checkpoint_path)\n",
        "    );\n",
        "    \n",
        "    start_logits = []\n",
        "    end_logits = []\n",
        "    for batch in test_dataloader:\n",
        "        with torch.no_grad():\n",
        "            outputs_start, outputs_end = model(batch['input_ids'].cuda(), batch['attention_mask'].cuda())\n",
        "            start_logits.append(outputs_start.cpu().numpy().tolist())\n",
        "            end_logits.append(outputs_end.cpu().numpy().tolist())\n",
        "            del outputs_start, outputs_end\n",
        "    del model, tokenizer, config\n",
        "    gc.collect()\n",
        "    return np.vstack(start_logits), np.vstack(end_logits)"
      ],
      "id": "FcS0mOSRLym6",
      "execution_count": 24,
      "outputs": []
    },
    {
      "cell_type": "code",
      "metadata": {
        "id": "xnBLBXTCLzaB"
      },
      "source": [
        "def objective(trial):\n",
        "    n = len(start)\n",
        "    samples = [0.2]*n\n",
        "\n",
        "    for i in range(n):\n",
        "      samples[i] = trial.suggest_int(\"w{}\".format(i), 0, 1)\n",
        "\n",
        "    print(samples)\n",
        "    w = [samples[i]/sum(samples) for i in range(len(samples))]\n",
        "\n",
        "    start_logits = np.zeros(start[0].shape)\n",
        "    end_logits = np.zeros(start[0].shape)\n",
        "    for i in range(n) :\n",
        "      start_logits += w[i] * start[i]\n",
        "      end_logits += w[i] * end[i]\n",
        "\n",
        "    fin_preds = postprocess_qa_predictions(test, test_features, (start_logits, end_logits))\n",
        "\n",
        "    submission = []\n",
        "    for p1, p2 in fin_preds.items():\n",
        "        p2 = \" \".join(p2.split())\n",
        "        p2 = p2.strip(punctuation)\n",
        "        submission.append((p1, p2))\n",
        "\n",
        "    sample = pd.DataFrame(submission, columns=[\"id\", \"PredictionString\"])\n",
        "\n",
        "    test_data =pd.merge(left=test,right=sample,on='id')\n",
        "\n",
        "\n",
        "    bad_starts = [\".\", \",\", \"(\", \")\", \"-\", \"–\",  \",\", \";\"]\n",
        "    bad_endings = [\"...\", \"-\", \"(\", \")\", \"–\", \",\", \";\"]\n",
        "\n",
        "    tamil_ad = \"கி.பி\"\n",
        "    tamil_bc = \"கி.மு\"\n",
        "    tamil_km = \"கி.மீ\"\n",
        "    hindi_ad = \"ई\"\n",
        "    hindi_bc = \"ई.पू\"\n",
        "\n",
        "\n",
        "    cleaned_preds = []\n",
        "    for pred, context in test_data[[\"PredictionString\", \"context\"]].to_numpy():\n",
        "        if pred == \"\":\n",
        "            cleaned_preds.append(pred)\n",
        "            continue\n",
        "        while any([pred.startswith(y) for y in bad_starts]):\n",
        "            pred = pred[1:]\n",
        "        while any([pred.endswith(y) for y in bad_endings]):\n",
        "            if pred.endswith(\"...\"):\n",
        "                pred = pred[:-3]\n",
        "            else:\n",
        "                pred = pred[:-1]\n",
        "        if pred.endswith(\"...\"):\n",
        "                pred = pred[:-3]\n",
        "\n",
        "        if any([pred.endswith(tamil_ad), pred.endswith(tamil_bc), pred.endswith(tamil_km), pred.endswith(hindi_ad), pred.endswith(hindi_bc)]) and pred+\".\" in context:\n",
        "            pred = pred+\".\"\n",
        "\n",
        "        cleaned_preds.append(pred)\n",
        "\n",
        "    jac=[]    \n",
        "    def jaccard(str1, str2): \n",
        "        a = set(str1.lower().split()) \n",
        "        b = set(str2.lower().split())\n",
        "        c = a.intersection(b)\n",
        "        return float(len(c)) / (len(a) + len(b) - len(c))\n",
        "\n",
        "\n",
        "    for i in range(len(test)):\n",
        "        jac.append(jaccard(cleaned_preds[i], test.answer_text.values[i]))\n",
        "\n",
        "\n",
        "    return np.mean(jac)"
      ],
      "id": "xnBLBXTCLzaB",
      "execution_count": 39,
      "outputs": []
    },
    {
      "cell_type": "code",
      "metadata": {
        "id": "NKUyMYezM-r1",
        "colab": {
          "base_uri": "https://localhost:8080/"
        },
        "outputId": "b905ea2a-38c4-4d93-8cef-0c3640021970"
      },
      "source": [
        "import optuna\n",
        "study = optuna.create_study(direction='maximize')\n",
        "study.optimize(objective, n_trials=100)"
      ],
      "id": "NKUyMYezM-r1",
      "execution_count": null,
      "outputs": [
        {
          "output_type": "stream",
          "name": "stderr",
          "text": [
            "\u001b[32m[I 2021-10-23 22:33:32,408]\u001b[0m A new study created in memory with name: no-name-20c24737-3cf6-48ac-92ca-6ff84786f291\u001b[0m\n"
          ]
        },
        {
          "output_type": "stream",
          "name": "stdout",
          "text": [
            "[1, 1, 1, 1, 1, 0, 1, 0, 1, 0, 0, 0, 0, 1, 1, 1, 0, 0, 0, 0]\n",
            "Post-processing 1114 example predictions split into 14188 features.\n"
          ]
        },
        {
          "output_type": "stream",
          "name": "stderr",
          "text": [
            "\u001b[32m[I 2021-10-23 22:33:38,284]\u001b[0m Trial 0 finished with value: 0.5810711468364071 and parameters: {'w0': 1, 'w1': 1, 'w2': 1, 'w3': 1, 'w4': 1, 'w5': 0, 'w6': 1, 'w7': 0, 'w8': 1, 'w9': 0, 'w10': 0, 'w11': 0, 'w12': 0, 'w13': 1, 'w14': 1, 'w15': 1, 'w16': 0, 'w17': 0, 'w18': 0, 'w19': 0}. Best is trial 0 with value: 0.5810711468364071.\u001b[0m\n"
          ]
        },
        {
          "output_type": "stream",
          "name": "stdout",
          "text": [
            "[1, 1, 0, 1, 1, 0, 1, 1, 1, 0, 1, 1, 1, 0, 1, 1, 1, 0, 1, 1]\n",
            "Post-processing 1114 example predictions split into 14188 features.\n"
          ]
        },
        {
          "output_type": "stream",
          "name": "stderr",
          "text": [
            "\u001b[32m[I 2021-10-23 22:33:44,074]\u001b[0m Trial 1 finished with value: 0.5870391365566411 and parameters: {'w0': 1, 'w1': 1, 'w2': 0, 'w3': 1, 'w4': 1, 'w5': 0, 'w6': 1, 'w7': 1, 'w8': 1, 'w9': 0, 'w10': 1, 'w11': 1, 'w12': 1, 'w13': 0, 'w14': 1, 'w15': 1, 'w16': 1, 'w17': 0, 'w18': 1, 'w19': 1}. Best is trial 1 with value: 0.5870391365566411.\u001b[0m\n"
          ]
        },
        {
          "output_type": "stream",
          "name": "stdout",
          "text": [
            "[1, 0, 0, 0, 1, 1, 0, 1, 1, 1, 1, 1, 1, 1, 0, 1, 1, 0, 1, 0]\n",
            "Post-processing 1114 example predictions split into 14188 features.\n"
          ]
        },
        {
          "output_type": "stream",
          "name": "stderr",
          "text": [
            "\u001b[32m[I 2021-10-23 22:33:50,382]\u001b[0m Trial 2 finished with value: 0.591706643894705 and parameters: {'w0': 1, 'w1': 0, 'w2': 0, 'w3': 0, 'w4': 1, 'w5': 1, 'w6': 0, 'w7': 1, 'w8': 1, 'w9': 1, 'w10': 1, 'w11': 1, 'w12': 1, 'w13': 1, 'w14': 0, 'w15': 1, 'w16': 1, 'w17': 0, 'w18': 1, 'w19': 0}. Best is trial 2 with value: 0.591706643894705.\u001b[0m\n"
          ]
        },
        {
          "output_type": "stream",
          "name": "stdout",
          "text": [
            "[0, 1, 0, 0, 0, 0, 0, 1, 0, 1, 0, 1, 1, 0, 1, 0, 1, 1, 0, 0]\n",
            "Post-processing 1114 example predictions split into 14188 features.\n"
          ]
        },
        {
          "output_type": "stream",
          "name": "stderr",
          "text": [
            "\u001b[32m[I 2021-10-23 22:33:56,193]\u001b[0m Trial 3 finished with value: 0.5750275934594501 and parameters: {'w0': 0, 'w1': 1, 'w2': 0, 'w3': 0, 'w4': 0, 'w5': 0, 'w6': 0, 'w7': 1, 'w8': 0, 'w9': 1, 'w10': 0, 'w11': 1, 'w12': 1, 'w13': 0, 'w14': 1, 'w15': 0, 'w16': 1, 'w17': 1, 'w18': 0, 'w19': 0}. Best is trial 2 with value: 0.591706643894705.\u001b[0m\n"
          ]
        },
        {
          "output_type": "stream",
          "name": "stdout",
          "text": [
            "[1, 0, 1, 0, 0, 0, 0, 1, 1, 0, 1, 1, 0, 1, 0, 0, 1, 0, 0, 0]\n",
            "Post-processing 1114 example predictions split into 14188 features.\n"
          ]
        },
        {
          "output_type": "stream",
          "name": "stderr",
          "text": [
            "\u001b[32m[I 2021-10-23 22:34:01,994]\u001b[0m Trial 4 finished with value: 0.5878178262491548 and parameters: {'w0': 1, 'w1': 0, 'w2': 1, 'w3': 0, 'w4': 0, 'w5': 0, 'w6': 0, 'w7': 1, 'w8': 1, 'w9': 0, 'w10': 1, 'w11': 1, 'w12': 0, 'w13': 1, 'w14': 0, 'w15': 0, 'w16': 1, 'w17': 0, 'w18': 0, 'w19': 0}. Best is trial 2 with value: 0.591706643894705.\u001b[0m\n"
          ]
        },
        {
          "output_type": "stream",
          "name": "stdout",
          "text": [
            "[1, 0, 1, 1, 1, 0, 0, 1, 1, 1, 0, 0, 0, 1, 0, 0, 0, 1, 1, 1]\n",
            "Post-processing 1114 example predictions split into 14188 features.\n"
          ]
        },
        {
          "output_type": "stream",
          "name": "stderr",
          "text": [
            "\u001b[32m[I 2021-10-23 22:34:07,751]\u001b[0m Trial 5 finished with value: 0.5889072016652807 and parameters: {'w0': 1, 'w1': 0, 'w2': 1, 'w3': 1, 'w4': 1, 'w5': 0, 'w6': 0, 'w7': 1, 'w8': 1, 'w9': 1, 'w10': 0, 'w11': 0, 'w12': 0, 'w13': 1, 'w14': 0, 'w15': 0, 'w16': 0, 'w17': 1, 'w18': 1, 'w19': 1}. Best is trial 2 with value: 0.591706643894705.\u001b[0m\n"
          ]
        },
        {
          "output_type": "stream",
          "name": "stdout",
          "text": [
            "[0, 1, 1, 1, 1, 1, 1, 1, 1, 0, 0, 0, 1, 1, 1, 0, 0, 0, 0, 0]\n",
            "Post-processing 1114 example predictions split into 14188 features.\n"
          ]
        },
        {
          "output_type": "stream",
          "name": "stderr",
          "text": [
            "\u001b[32m[I 2021-10-23 22:34:13,593]\u001b[0m Trial 6 finished with value: 0.5823860721863415 and parameters: {'w0': 0, 'w1': 1, 'w2': 1, 'w3': 1, 'w4': 1, 'w5': 1, 'w6': 1, 'w7': 1, 'w8': 1, 'w9': 0, 'w10': 0, 'w11': 0, 'w12': 1, 'w13': 1, 'w14': 1, 'w15': 0, 'w16': 0, 'w17': 0, 'w18': 0, 'w19': 0}. Best is trial 2 with value: 0.591706643894705.\u001b[0m\n"
          ]
        },
        {
          "output_type": "stream",
          "name": "stdout",
          "text": [
            "[1, 0, 1, 0, 1, 1, 1, 0, 0, 1, 0, 1, 0, 1, 0, 0, 0, 1, 1, 0]\n",
            "Post-processing 1114 example predictions split into 14188 features.\n"
          ]
        },
        {
          "output_type": "stream",
          "name": "stderr",
          "text": [
            "\u001b[32m[I 2021-10-23 22:34:19,379]\u001b[0m Trial 7 finished with value: 0.5880187324644237 and parameters: {'w0': 1, 'w1': 0, 'w2': 1, 'w3': 0, 'w4': 1, 'w5': 1, 'w6': 1, 'w7': 0, 'w8': 0, 'w9': 1, 'w10': 0, 'w11': 1, 'w12': 0, 'w13': 1, 'w14': 0, 'w15': 0, 'w16': 0, 'w17': 1, 'w18': 1, 'w19': 0}. Best is trial 2 with value: 0.591706643894705.\u001b[0m\n"
          ]
        },
        {
          "output_type": "stream",
          "name": "stdout",
          "text": [
            "[1, 0, 1, 1, 0, 0, 0, 0, 0, 1, 0, 1, 1, 1, 0, 1, 1, 1, 0, 0]\n",
            "Post-processing 1114 example predictions split into 14188 features.\n"
          ]
        },
        {
          "output_type": "stream",
          "name": "stderr",
          "text": [
            "\u001b[32m[I 2021-10-23 22:34:25,156]\u001b[0m Trial 8 finished with value: 0.585534315325608 and parameters: {'w0': 1, 'w1': 0, 'w2': 1, 'w3': 1, 'w4': 0, 'w5': 0, 'w6': 0, 'w7': 0, 'w8': 0, 'w9': 1, 'w10': 0, 'w11': 1, 'w12': 1, 'w13': 1, 'w14': 0, 'w15': 1, 'w16': 1, 'w17': 1, 'w18': 0, 'w19': 0}. Best is trial 2 with value: 0.591706643894705.\u001b[0m\n"
          ]
        },
        {
          "output_type": "stream",
          "name": "stdout",
          "text": [
            "[0, 0, 0, 0, 1, 0, 0, 0, 0, 1, 0, 0, 1, 1, 0, 0, 1, 0, 1, 0]\n",
            "Post-processing 1114 example predictions split into 14188 features.\n"
          ]
        },
        {
          "output_type": "stream",
          "name": "stderr",
          "text": [
            "\u001b[32m[I 2021-10-23 22:34:30,925]\u001b[0m Trial 9 finished with value: 0.5876233643177091 and parameters: {'w0': 0, 'w1': 0, 'w2': 0, 'w3': 0, 'w4': 1, 'w5': 0, 'w6': 0, 'w7': 0, 'w8': 0, 'w9': 1, 'w10': 0, 'w11': 0, 'w12': 1, 'w13': 1, 'w14': 0, 'w15': 0, 'w16': 1, 'w17': 0, 'w18': 1, 'w19': 0}. Best is trial 2 with value: 0.591706643894705.\u001b[0m\n"
          ]
        },
        {
          "output_type": "stream",
          "name": "stdout",
          "text": [
            "[0, 0, 0, 0, 0, 1, 0, 1, 1, 1, 1, 1, 1, 0, 0, 1, 1, 0, 1, 1]\n",
            "Post-processing 1114 example predictions split into 14188 features.\n"
          ]
        },
        {
          "output_type": "stream",
          "name": "stderr",
          "text": [
            "\u001b[32m[I 2021-10-23 22:34:37,311]\u001b[0m Trial 10 finished with value: 0.5913202783153411 and parameters: {'w0': 0, 'w1': 0, 'w2': 0, 'w3': 0, 'w4': 0, 'w5': 1, 'w6': 0, 'w7': 1, 'w8': 1, 'w9': 1, 'w10': 1, 'w11': 1, 'w12': 1, 'w13': 0, 'w14': 0, 'w15': 1, 'w16': 1, 'w17': 0, 'w18': 1, 'w19': 1}. Best is trial 2 with value: 0.591706643894705.\u001b[0m\n"
          ]
        },
        {
          "output_type": "stream",
          "name": "stdout",
          "text": [
            "[0, 0, 0, 0, 0, 1, 0, 1, 1, 1, 1, 1, 1, 0, 0, 1, 1, 0, 1, 1]\n",
            "Post-processing 1114 example predictions split into 14188 features.\n"
          ]
        },
        {
          "output_type": "stream",
          "name": "stderr",
          "text": [
            "\u001b[32m[I 2021-10-23 22:34:43,122]\u001b[0m Trial 11 finished with value: 0.5913202783153411 and parameters: {'w0': 0, 'w1': 0, 'w2': 0, 'w3': 0, 'w4': 0, 'w5': 1, 'w6': 0, 'w7': 1, 'w8': 1, 'w9': 1, 'w10': 1, 'w11': 1, 'w12': 1, 'w13': 0, 'w14': 0, 'w15': 1, 'w16': 1, 'w17': 0, 'w18': 1, 'w19': 1}. Best is trial 2 with value: 0.591706643894705.\u001b[0m\n"
          ]
        },
        {
          "output_type": "stream",
          "name": "stdout",
          "text": [
            "[0, 0, 0, 0, 0, 1, 0, 1, 1, 1, 1, 1, 1, 0, 0, 1, 1, 0, 1, 1]\n",
            "Post-processing 1114 example predictions split into 14188 features.\n"
          ]
        },
        {
          "output_type": "stream",
          "name": "stderr",
          "text": [
            "\u001b[32m[I 2021-10-23 22:34:49,009]\u001b[0m Trial 12 finished with value: 0.5913202783153411 and parameters: {'w0': 0, 'w1': 0, 'w2': 0, 'w3': 0, 'w4': 0, 'w5': 1, 'w6': 0, 'w7': 1, 'w8': 1, 'w9': 1, 'w10': 1, 'w11': 1, 'w12': 1, 'w13': 0, 'w14': 0, 'w15': 1, 'w16': 1, 'w17': 0, 'w18': 1, 'w19': 1}. Best is trial 2 with value: 0.591706643894705.\u001b[0m\n"
          ]
        },
        {
          "output_type": "stream",
          "name": "stdout",
          "text": [
            "[0, 0, 0, 0, 0, 1, 0, 1, 1, 1, 1, 1, 1, 0, 0, 1, 1, 0, 1, 1]\n",
            "Post-processing 1114 example predictions split into 14188 features.\n"
          ]
        },
        {
          "output_type": "stream",
          "name": "stderr",
          "text": [
            "\u001b[32m[I 2021-10-23 22:34:54,802]\u001b[0m Trial 13 finished with value: 0.5913202783153411 and parameters: {'w0': 0, 'w1': 0, 'w2': 0, 'w3': 0, 'w4': 0, 'w5': 1, 'w6': 0, 'w7': 1, 'w8': 1, 'w9': 1, 'w10': 1, 'w11': 1, 'w12': 1, 'w13': 0, 'w14': 0, 'w15': 1, 'w16': 1, 'w17': 0, 'w18': 1, 'w19': 1}. Best is trial 2 with value: 0.591706643894705.\u001b[0m\n"
          ]
        },
        {
          "output_type": "stream",
          "name": "stdout",
          "text": [
            "[0, 0, 0, 0, 0, 1, 0, 1, 1, 1, 1, 1, 1, 0, 0, 1, 1, 0, 1, 1]\n",
            "Post-processing 1114 example predictions split into 14188 features.\n"
          ]
        },
        {
          "output_type": "stream",
          "name": "stderr",
          "text": [
            "\u001b[32m[I 2021-10-23 22:35:00,616]\u001b[0m Trial 14 finished with value: 0.5913202783153411 and parameters: {'w0': 0, 'w1': 0, 'w2': 0, 'w3': 0, 'w4': 0, 'w5': 1, 'w6': 0, 'w7': 1, 'w8': 1, 'w9': 1, 'w10': 1, 'w11': 1, 'w12': 1, 'w13': 0, 'w14': 0, 'w15': 1, 'w16': 1, 'w17': 0, 'w18': 1, 'w19': 1}. Best is trial 2 with value: 0.591706643894705.\u001b[0m\n"
          ]
        },
        {
          "output_type": "stream",
          "name": "stdout",
          "text": [
            "[1, 0, 0, 0, 1, 1, 0, 1, 1, 1, 1, 1, 1, 0, 0, 1, 1, 0, 1, 1]\n",
            "Post-processing 1114 example predictions split into 14188 features.\n"
          ]
        },
        {
          "output_type": "stream",
          "name": "stderr",
          "text": [
            "\u001b[32m[I 2021-10-23 22:35:06,479]\u001b[0m Trial 15 finished with value: 0.5901015314727164 and parameters: {'w0': 1, 'w1': 0, 'w2': 0, 'w3': 0, 'w4': 1, 'w5': 1, 'w6': 0, 'w7': 1, 'w8': 1, 'w9': 1, 'w10': 1, 'w11': 1, 'w12': 1, 'w13': 0, 'w14': 0, 'w15': 1, 'w16': 1, 'w17': 0, 'w18': 1, 'w19': 1}. Best is trial 2 with value: 0.591706643894705.\u001b[0m\n"
          ]
        },
        {
          "output_type": "stream",
          "name": "stdout",
          "text": [
            "[0, 0, 0, 0, 0, 1, 0, 1, 1, 1, 1, 1, 1, 0, 0, 1, 1, 0, 1, 0]\n",
            "Post-processing 1114 example predictions split into 14188 features.\n"
          ]
        },
        {
          "output_type": "stream",
          "name": "stderr",
          "text": [
            "\u001b[32m[I 2021-10-23 22:35:12,267]\u001b[0m Trial 16 finished with value: 0.5892177578555495 and parameters: {'w0': 0, 'w1': 0, 'w2': 0, 'w3': 0, 'w4': 0, 'w5': 1, 'w6': 0, 'w7': 1, 'w8': 1, 'w9': 1, 'w10': 1, 'w11': 1, 'w12': 1, 'w13': 0, 'w14': 0, 'w15': 1, 'w16': 1, 'w17': 0, 'w18': 1, 'w19': 0}. Best is trial 2 with value: 0.591706643894705.\u001b[0m\n"
          ]
        },
        {
          "output_type": "stream",
          "name": "stdout",
          "text": [
            "[1, 1, 0, 0, 1, 1, 1, 0, 0, 0, 1, 0, 0, 1, 1, 1, 0, 1, 1, 1]\n",
            "Post-processing 1114 example predictions split into 14188 features.\n"
          ]
        },
        {
          "output_type": "stream",
          "name": "stderr",
          "text": [
            "\u001b[32m[I 2021-10-23 22:35:18,606]\u001b[0m Trial 17 finished with value: 0.5871185728793449 and parameters: {'w0': 1, 'w1': 1, 'w2': 0, 'w3': 0, 'w4': 1, 'w5': 1, 'w6': 1, 'w7': 0, 'w8': 0, 'w9': 0, 'w10': 1, 'w11': 0, 'w12': 0, 'w13': 1, 'w14': 1, 'w15': 1, 'w16': 0, 'w17': 1, 'w18': 1, 'w19': 1}. Best is trial 2 with value: 0.591706643894705.\u001b[0m\n"
          ]
        },
        {
          "output_type": "stream",
          "name": "stdout",
          "text": [
            "[0, 0, 0, 0, 0, 1, 0, 1, 1, 1, 1, 1, 1, 0, 0, 1, 1, 0, 1, 1]\n",
            "Post-processing 1114 example predictions split into 14188 features.\n"
          ]
        },
        {
          "output_type": "stream",
          "name": "stderr",
          "text": [
            "\u001b[32m[I 2021-10-23 22:35:24,368]\u001b[0m Trial 18 finished with value: 0.5913202783153411 and parameters: {'w0': 0, 'w1': 0, 'w2': 0, 'w3': 0, 'w4': 0, 'w5': 1, 'w6': 0, 'w7': 1, 'w8': 1, 'w9': 1, 'w10': 1, 'w11': 1, 'w12': 1, 'w13': 0, 'w14': 0, 'w15': 1, 'w16': 1, 'w17': 0, 'w18': 1, 'w19': 1}. Best is trial 2 with value: 0.591706643894705.\u001b[0m\n"
          ]
        },
        {
          "output_type": "stream",
          "name": "stdout",
          "text": [
            "[1, 0, 0, 0, 1, 1, 0, 1, 1, 1, 1, 1, 1, 1, 0, 1, 1, 0, 1, 0]\n",
            "Post-processing 1114 example predictions split into 14188 features.\n"
          ]
        },
        {
          "output_type": "stream",
          "name": "stderr",
          "text": [
            "\u001b[32m[I 2021-10-23 22:35:30,187]\u001b[0m Trial 19 finished with value: 0.591706643894705 and parameters: {'w0': 1, 'w1': 0, 'w2': 0, 'w3': 0, 'w4': 1, 'w5': 1, 'w6': 0, 'w7': 1, 'w8': 1, 'w9': 1, 'w10': 1, 'w11': 1, 'w12': 1, 'w13': 1, 'w14': 0, 'w15': 1, 'w16': 1, 'w17': 0, 'w18': 1, 'w19': 0}. Best is trial 2 with value: 0.591706643894705.\u001b[0m\n"
          ]
        },
        {
          "output_type": "stream",
          "name": "stdout",
          "text": [
            "[1, 1, 0, 1, 1, 1, 1, 0, 0, 0, 1, 0, 0, 1, 1, 1, 0, 1, 0, 0]\n",
            "Post-processing 1114 example predictions split into 14188 features.\n"
          ]
        },
        {
          "output_type": "stream",
          "name": "stderr",
          "text": [
            "\u001b[32m[I 2021-10-23 22:35:36,047]\u001b[0m Trial 20 finished with value: 0.5875111236758453 and parameters: {'w0': 1, 'w1': 1, 'w2': 0, 'w3': 1, 'w4': 1, 'w5': 1, 'w6': 1, 'w7': 0, 'w8': 0, 'w9': 0, 'w10': 1, 'w11': 0, 'w12': 0, 'w13': 1, 'w14': 1, 'w15': 1, 'w16': 0, 'w17': 1, 'w18': 0, 'w19': 0}. Best is trial 2 with value: 0.591706643894705.\u001b[0m\n"
          ]
        },
        {
          "output_type": "stream",
          "name": "stdout",
          "text": [
            "[1, 0, 0, 0, 1, 1, 0, 1, 1, 1, 1, 1, 1, 1, 0, 1, 1, 0, 1, 0]\n",
            "Post-processing 1114 example predictions split into 14188 features.\n"
          ]
        },
        {
          "output_type": "stream",
          "name": "stderr",
          "text": [
            "\u001b[32m[I 2021-10-23 22:35:41,919]\u001b[0m Trial 21 finished with value: 0.591706643894705 and parameters: {'w0': 1, 'w1': 0, 'w2': 0, 'w3': 0, 'w4': 1, 'w5': 1, 'w6': 0, 'w7': 1, 'w8': 1, 'w9': 1, 'w10': 1, 'w11': 1, 'w12': 1, 'w13': 1, 'w14': 0, 'w15': 1, 'w16': 1, 'w17': 0, 'w18': 1, 'w19': 0}. Best is trial 2 with value: 0.591706643894705.\u001b[0m\n"
          ]
        },
        {
          "output_type": "stream",
          "name": "stdout",
          "text": [
            "[1, 0, 0, 0, 1, 1, 0, 1, 1, 1, 1, 1, 1, 1, 0, 1, 1, 0, 1, 0]\n",
            "Post-processing 1114 example predictions split into 14188 features.\n"
          ]
        },
        {
          "output_type": "stream",
          "name": "stderr",
          "text": [
            "\u001b[32m[I 2021-10-23 22:35:47,738]\u001b[0m Trial 22 finished with value: 0.591706643894705 and parameters: {'w0': 1, 'w1': 0, 'w2': 0, 'w3': 0, 'w4': 1, 'w5': 1, 'w6': 0, 'w7': 1, 'w8': 1, 'w9': 1, 'w10': 1, 'w11': 1, 'w12': 1, 'w13': 1, 'w14': 0, 'w15': 1, 'w16': 1, 'w17': 0, 'w18': 1, 'w19': 0}. Best is trial 2 with value: 0.591706643894705.\u001b[0m\n"
          ]
        },
        {
          "output_type": "stream",
          "name": "stdout",
          "text": [
            "[1, 0, 0, 0, 1, 1, 0, 1, 1, 1, 1, 1, 1, 1, 0, 1, 1, 0, 1, 0]\n",
            "Post-processing 1114 example predictions split into 14188 features.\n"
          ]
        },
        {
          "output_type": "stream",
          "name": "stderr",
          "text": [
            "\u001b[32m[I 2021-10-23 22:35:53,590]\u001b[0m Trial 23 finished with value: 0.591706643894705 and parameters: {'w0': 1, 'w1': 0, 'w2': 0, 'w3': 0, 'w4': 1, 'w5': 1, 'w6': 0, 'w7': 1, 'w8': 1, 'w9': 1, 'w10': 1, 'w11': 1, 'w12': 1, 'w13': 1, 'w14': 0, 'w15': 1, 'w16': 1, 'w17': 0, 'w18': 1, 'w19': 0}. Best is trial 2 with value: 0.591706643894705.\u001b[0m\n"
          ]
        },
        {
          "output_type": "stream",
          "name": "stdout",
          "text": [
            "[1, 0, 0, 0, 1, 1, 0, 1, 1, 1, 1, 1, 1, 1, 0, 1, 1, 0, 1, 0]\n",
            "Post-processing 1114 example predictions split into 14188 features.\n"
          ]
        },
        {
          "output_type": "stream",
          "name": "stderr",
          "text": [
            "\u001b[32m[I 2021-10-23 22:35:59,317]\u001b[0m Trial 24 finished with value: 0.591706643894705 and parameters: {'w0': 1, 'w1': 0, 'w2': 0, 'w3': 0, 'w4': 1, 'w5': 1, 'w6': 0, 'w7': 1, 'w8': 1, 'w9': 1, 'w10': 1, 'w11': 1, 'w12': 1, 'w13': 1, 'w14': 0, 'w15': 1, 'w16': 1, 'w17': 0, 'w18': 1, 'w19': 0}. Best is trial 2 with value: 0.591706643894705.\u001b[0m\n"
          ]
        },
        {
          "output_type": "stream",
          "name": "stdout",
          "text": [
            "[1, 0, 0, 0, 1, 1, 0, 1, 1, 1, 1, 1, 1, 1, 0, 1, 1, 0, 1, 0]\n",
            "Post-processing 1114 example predictions split into 14188 features.\n"
          ]
        },
        {
          "output_type": "stream",
          "name": "stderr",
          "text": [
            "\u001b[32m[I 2021-10-23 22:36:05,597]\u001b[0m Trial 25 finished with value: 0.591706643894705 and parameters: {'w0': 1, 'w1': 0, 'w2': 0, 'w3': 0, 'w4': 1, 'w5': 1, 'w6': 0, 'w7': 1, 'w8': 1, 'w9': 1, 'w10': 1, 'w11': 1, 'w12': 1, 'w13': 1, 'w14': 0, 'w15': 1, 'w16': 1, 'w17': 0, 'w18': 1, 'w19': 0}. Best is trial 2 with value: 0.591706643894705.\u001b[0m\n"
          ]
        },
        {
          "output_type": "stream",
          "name": "stdout",
          "text": [
            "[1, 0, 0, 0, 1, 1, 0, 1, 1, 1, 1, 1, 1, 1, 0, 1, 1, 0, 1, 0]\n",
            "Post-processing 1114 example predictions split into 14188 features.\n"
          ]
        },
        {
          "output_type": "stream",
          "name": "stderr",
          "text": [
            "\u001b[32m[I 2021-10-23 22:36:11,350]\u001b[0m Trial 26 finished with value: 0.591706643894705 and parameters: {'w0': 1, 'w1': 0, 'w2': 0, 'w3': 0, 'w4': 1, 'w5': 1, 'w6': 0, 'w7': 1, 'w8': 1, 'w9': 1, 'w10': 1, 'w11': 1, 'w12': 1, 'w13': 1, 'w14': 0, 'w15': 1, 'w16': 1, 'w17': 0, 'w18': 1, 'w19': 0}. Best is trial 2 with value: 0.591706643894705.\u001b[0m\n"
          ]
        },
        {
          "output_type": "stream",
          "name": "stdout",
          "text": [
            "[1, 0, 0, 0, 1, 1, 0, 1, 1, 1, 1, 1, 1, 1, 0, 1, 1, 0, 1, 0]\n",
            "Post-processing 1114 example predictions split into 14188 features.\n"
          ]
        },
        {
          "output_type": "stream",
          "name": "stderr",
          "text": [
            "\u001b[32m[I 2021-10-23 22:36:17,133]\u001b[0m Trial 27 finished with value: 0.591706643894705 and parameters: {'w0': 1, 'w1': 0, 'w2': 0, 'w3': 0, 'w4': 1, 'w5': 1, 'w6': 0, 'w7': 1, 'w8': 1, 'w9': 1, 'w10': 1, 'w11': 1, 'w12': 1, 'w13': 1, 'w14': 0, 'w15': 1, 'w16': 1, 'w17': 0, 'w18': 1, 'w19': 0}. Best is trial 2 with value: 0.591706643894705.\u001b[0m\n"
          ]
        },
        {
          "output_type": "stream",
          "name": "stdout",
          "text": [
            "[1, 0, 0, 0, 1, 1, 0, 1, 1, 1, 1, 1, 1, 1, 0, 1, 1, 0, 1, 0]\n",
            "Post-processing 1114 example predictions split into 14188 features.\n"
          ]
        },
        {
          "output_type": "stream",
          "name": "stderr",
          "text": [
            "\u001b[32m[I 2021-10-23 22:36:22,986]\u001b[0m Trial 28 finished with value: 0.591706643894705 and parameters: {'w0': 1, 'w1': 0, 'w2': 0, 'w3': 0, 'w4': 1, 'w5': 1, 'w6': 0, 'w7': 1, 'w8': 1, 'w9': 1, 'w10': 1, 'w11': 1, 'w12': 1, 'w13': 1, 'w14': 0, 'w15': 1, 'w16': 1, 'w17': 0, 'w18': 1, 'w19': 0}. Best is trial 2 with value: 0.591706643894705.\u001b[0m\n"
          ]
        },
        {
          "output_type": "stream",
          "name": "stdout",
          "text": [
            "[1, 1, 1, 1, 1, 1, 1, 0, 1, 0, 1, 0, 0, 1, 1, 1, 0, 0, 0, 0]\n",
            "Post-processing 1114 example predictions split into 14188 features.\n"
          ]
        },
        {
          "output_type": "stream",
          "name": "stderr",
          "text": [
            "\u001b[32m[I 2021-10-23 22:36:28,824]\u001b[0m Trial 29 finished with value: 0.5839974022088026 and parameters: {'w0': 1, 'w1': 1, 'w2': 1, 'w3': 1, 'w4': 1, 'w5': 1, 'w6': 1, 'w7': 0, 'w8': 1, 'w9': 0, 'w10': 1, 'w11': 0, 'w12': 0, 'w13': 1, 'w14': 1, 'w15': 1, 'w16': 0, 'w17': 0, 'w18': 0, 'w19': 0}. Best is trial 2 with value: 0.591706643894705.\u001b[0m\n"
          ]
        },
        {
          "output_type": "stream",
          "name": "stdout",
          "text": [
            "[1, 0, 0, 0, 1, 1, 0, 1, 1, 1, 1, 1, 1, 1, 0, 1, 1, 0, 1, 0]\n",
            "Post-processing 1114 example predictions split into 14188 features.\n"
          ]
        },
        {
          "output_type": "stream",
          "name": "stderr",
          "text": [
            "\u001b[32m[I 2021-10-23 22:36:34,565]\u001b[0m Trial 30 finished with value: 0.591706643894705 and parameters: {'w0': 1, 'w1': 0, 'w2': 0, 'w3': 0, 'w4': 1, 'w5': 1, 'w6': 0, 'w7': 1, 'w8': 1, 'w9': 1, 'w10': 1, 'w11': 1, 'w12': 1, 'w13': 1, 'w14': 0, 'w15': 1, 'w16': 1, 'w17': 0, 'w18': 1, 'w19': 0}. Best is trial 2 with value: 0.591706643894705.\u001b[0m\n"
          ]
        },
        {
          "output_type": "stream",
          "name": "stdout",
          "text": [
            "[1, 0, 0, 0, 1, 1, 0, 1, 1, 1, 1, 1, 1, 1, 0, 1, 1, 0, 1, 0]\n",
            "Post-processing 1114 example predictions split into 14188 features.\n"
          ]
        },
        {
          "output_type": "stream",
          "name": "stderr",
          "text": [
            "\u001b[32m[I 2021-10-23 22:36:40,419]\u001b[0m Trial 31 finished with value: 0.591706643894705 and parameters: {'w0': 1, 'w1': 0, 'w2': 0, 'w3': 0, 'w4': 1, 'w5': 1, 'w6': 0, 'w7': 1, 'w8': 1, 'w9': 1, 'w10': 1, 'w11': 1, 'w12': 1, 'w13': 1, 'w14': 0, 'w15': 1, 'w16': 1, 'w17': 0, 'w18': 1, 'w19': 0}. Best is trial 2 with value: 0.591706643894705.\u001b[0m\n"
          ]
        },
        {
          "output_type": "stream",
          "name": "stdout",
          "text": [
            "[1, 0, 0, 0, 1, 1, 0, 1, 1, 1, 1, 1, 1, 1, 0, 1, 1, 0, 1, 0]\n",
            "Post-processing 1114 example predictions split into 14188 features.\n"
          ]
        },
        {
          "output_type": "stream",
          "name": "stderr",
          "text": [
            "\u001b[32m[I 2021-10-23 22:36:46,794]\u001b[0m Trial 32 finished with value: 0.591706643894705 and parameters: {'w0': 1, 'w1': 0, 'w2': 0, 'w3': 0, 'w4': 1, 'w5': 1, 'w6': 0, 'w7': 1, 'w8': 1, 'w9': 1, 'w10': 1, 'w11': 1, 'w12': 1, 'w13': 1, 'w14': 0, 'w15': 1, 'w16': 1, 'w17': 0, 'w18': 1, 'w19': 0}. Best is trial 2 with value: 0.591706643894705.\u001b[0m\n"
          ]
        },
        {
          "output_type": "stream",
          "name": "stdout",
          "text": [
            "[1, 0, 0, 0, 1, 1, 0, 1, 1, 1, 1, 1, 1, 1, 0, 1, 1, 0, 1, 0]\n",
            "Post-processing 1114 example predictions split into 14188 features.\n"
          ]
        },
        {
          "output_type": "stream",
          "name": "stderr",
          "text": [
            "\u001b[32m[I 2021-10-23 22:36:52,700]\u001b[0m Trial 33 finished with value: 0.591706643894705 and parameters: {'w0': 1, 'w1': 0, 'w2': 0, 'w3': 0, 'w4': 1, 'w5': 1, 'w6': 0, 'w7': 1, 'w8': 1, 'w9': 1, 'w10': 1, 'w11': 1, 'w12': 1, 'w13': 1, 'w14': 0, 'w15': 1, 'w16': 1, 'w17': 0, 'w18': 1, 'w19': 0}. Best is trial 2 with value: 0.591706643894705.\u001b[0m\n"
          ]
        },
        {
          "output_type": "stream",
          "name": "stdout",
          "text": [
            "[1, 0, 0, 0, 1, 1, 0, 1, 1, 1, 1, 1, 1, 1, 0, 1, 1, 0, 1, 0]\n",
            "Post-processing 1114 example predictions split into 14188 features.\n"
          ]
        },
        {
          "output_type": "stream",
          "name": "stderr",
          "text": [
            "\u001b[32m[I 2021-10-23 22:36:58,523]\u001b[0m Trial 34 finished with value: 0.591706643894705 and parameters: {'w0': 1, 'w1': 0, 'w2': 0, 'w3': 0, 'w4': 1, 'w5': 1, 'w6': 0, 'w7': 1, 'w8': 1, 'w9': 1, 'w10': 1, 'w11': 1, 'w12': 1, 'w13': 1, 'w14': 0, 'w15': 1, 'w16': 1, 'w17': 0, 'w18': 1, 'w19': 0}. Best is trial 2 with value: 0.591706643894705.\u001b[0m\n"
          ]
        },
        {
          "output_type": "stream",
          "name": "stdout",
          "text": [
            "[1, 0, 0, 0, 1, 0, 0, 1, 1, 1, 1, 1, 1, 1, 0, 1, 1, 0, 1, 0]\n",
            "Post-processing 1114 example predictions split into 14188 features.\n"
          ]
        },
        {
          "output_type": "stream",
          "name": "stderr",
          "text": [
            "\u001b[32m[I 2021-10-23 22:37:04,290]\u001b[0m Trial 35 finished with value: 0.590595247810239 and parameters: {'w0': 1, 'w1': 0, 'w2': 0, 'w3': 0, 'w4': 1, 'w5': 0, 'w6': 0, 'w7': 1, 'w8': 1, 'w9': 1, 'w10': 1, 'w11': 1, 'w12': 1, 'w13': 1, 'w14': 0, 'w15': 1, 'w16': 1, 'w17': 0, 'w18': 1, 'w19': 0}. Best is trial 2 with value: 0.591706643894705.\u001b[0m\n"
          ]
        },
        {
          "output_type": "stream",
          "name": "stdout",
          "text": [
            "[1, 1, 0, 1, 1, 0, 0, 1, 1, 0, 0, 1, 1, 1, 1, 0, 1, 0, 0, 0]\n",
            "Post-processing 1114 example predictions split into 14188 features.\n"
          ]
        },
        {
          "output_type": "stream",
          "name": "stderr",
          "text": [
            "\u001b[32m[I 2021-10-23 22:37:10,128]\u001b[0m Trial 36 finished with value: 0.5792345907134956 and parameters: {'w0': 1, 'w1': 1, 'w2': 0, 'w3': 1, 'w4': 1, 'w5': 0, 'w6': 0, 'w7': 1, 'w8': 1, 'w9': 0, 'w10': 0, 'w11': 1, 'w12': 1, 'w13': 1, 'w14': 1, 'w15': 0, 'w16': 1, 'w17': 0, 'w18': 0, 'w19': 0}. Best is trial 2 with value: 0.591706643894705.\u001b[0m\n"
          ]
        },
        {
          "output_type": "stream",
          "name": "stdout",
          "text": [
            "[1, 0, 1, 0, 1, 1, 1, 1, 1, 1, 1, 1, 1, 1, 0, 0, 1, 1, 1, 0]\n",
            "Post-processing 1114 example predictions split into 14188 features.\n"
          ]
        },
        {
          "output_type": "stream",
          "name": "stderr",
          "text": [
            "\u001b[32m[I 2021-10-23 22:37:15,784]\u001b[0m Trial 37 finished with value: 0.5893139363628592 and parameters: {'w0': 1, 'w1': 0, 'w2': 1, 'w3': 0, 'w4': 1, 'w5': 1, 'w6': 1, 'w7': 1, 'w8': 1, 'w9': 1, 'w10': 1, 'w11': 1, 'w12': 1, 'w13': 1, 'w14': 0, 'w15': 0, 'w16': 1, 'w17': 1, 'w18': 1, 'w19': 0}. Best is trial 2 with value: 0.591706643894705.\u001b[0m\n"
          ]
        },
        {
          "output_type": "stream",
          "name": "stdout",
          "text": [
            "[1, 0, 0, 0, 1, 1, 0, 1, 0, 1, 1, 1, 0, 1, 0, 1, 0, 0, 1, 0]\n",
            "Post-processing 1114 example predictions split into 14188 features.\n"
          ]
        },
        {
          "output_type": "stream",
          "name": "stderr",
          "text": [
            "\u001b[32m[I 2021-10-23 22:37:21,619]\u001b[0m Trial 38 finished with value: 0.5875524448123193 and parameters: {'w0': 1, 'w1': 0, 'w2': 0, 'w3': 0, 'w4': 1, 'w5': 1, 'w6': 0, 'w7': 1, 'w8': 0, 'w9': 1, 'w10': 1, 'w11': 1, 'w12': 0, 'w13': 1, 'w14': 0, 'w15': 1, 'w16': 0, 'w17': 0, 'w18': 1, 'w19': 0}. Best is trial 2 with value: 0.591706643894705.\u001b[0m\n"
          ]
        },
        {
          "output_type": "stream",
          "name": "stdout",
          "text": [
            "[1, 0, 0, 0, 1, 1, 0, 1, 1, 1, 1, 1, 1, 1, 0, 1, 1, 0, 1, 0]\n",
            "Post-processing 1114 example predictions split into 14188 features.\n"
          ]
        },
        {
          "output_type": "stream",
          "name": "stderr",
          "text": [
            "\u001b[32m[I 2021-10-23 22:37:27,386]\u001b[0m Trial 39 finished with value: 0.591706643894705 and parameters: {'w0': 1, 'w1': 0, 'w2': 0, 'w3': 0, 'w4': 1, 'w5': 1, 'w6': 0, 'w7': 1, 'w8': 1, 'w9': 1, 'w10': 1, 'w11': 1, 'w12': 1, 'w13': 1, 'w14': 0, 'w15': 1, 'w16': 1, 'w17': 0, 'w18': 1, 'w19': 0}. Best is trial 2 with value: 0.591706643894705.\u001b[0m\n"
          ]
        },
        {
          "output_type": "stream",
          "name": "stdout",
          "text": [
            "[1, 1, 1, 1, 1, 0, 0, 1, 1, 0, 0, 0, 1, 1, 1, 1, 1, 0, 0, 0]\n",
            "Post-processing 1114 example predictions split into 14188 features.\n"
          ]
        },
        {
          "output_type": "stream",
          "name": "stderr",
          "text": [
            "\u001b[32m[I 2021-10-23 22:37:33,670]\u001b[0m Trial 40 finished with value: 0.5853899180313005 and parameters: {'w0': 1, 'w1': 1, 'w2': 1, 'w3': 1, 'w4': 1, 'w5': 0, 'w6': 0, 'w7': 1, 'w8': 1, 'w9': 0, 'w10': 0, 'w11': 0, 'w12': 1, 'w13': 1, 'w14': 1, 'w15': 1, 'w16': 1, 'w17': 0, 'w18': 0, 'w19': 0}. Best is trial 2 with value: 0.591706643894705.\u001b[0m\n"
          ]
        },
        {
          "output_type": "stream",
          "name": "stdout",
          "text": [
            "[1, 0, 0, 0, 1, 1, 0, 1, 1, 1, 1, 1, 1, 1, 0, 1, 1, 0, 1, 0]\n",
            "Post-processing 1114 example predictions split into 14188 features.\n"
          ]
        },
        {
          "output_type": "stream",
          "name": "stderr",
          "text": [
            "\u001b[32m[I 2021-10-23 22:37:39,369]\u001b[0m Trial 41 finished with value: 0.591706643894705 and parameters: {'w0': 1, 'w1': 0, 'w2': 0, 'w3': 0, 'w4': 1, 'w5': 1, 'w6': 0, 'w7': 1, 'w8': 1, 'w9': 1, 'w10': 1, 'w11': 1, 'w12': 1, 'w13': 1, 'w14': 0, 'w15': 1, 'w16': 1, 'w17': 0, 'w18': 1, 'w19': 0}. Best is trial 2 with value: 0.591706643894705.\u001b[0m\n"
          ]
        },
        {
          "output_type": "stream",
          "name": "stdout",
          "text": [
            "[1, 0, 0, 0, 1, 1, 0, 1, 1, 1, 1, 1, 1, 1, 0, 1, 1, 0, 1, 0]\n",
            "Post-processing 1114 example predictions split into 14188 features.\n"
          ]
        },
        {
          "output_type": "stream",
          "name": "stderr",
          "text": [
            "\u001b[32m[I 2021-10-23 22:37:45,166]\u001b[0m Trial 42 finished with value: 0.591706643894705 and parameters: {'w0': 1, 'w1': 0, 'w2': 0, 'w3': 0, 'w4': 1, 'w5': 1, 'w6': 0, 'w7': 1, 'w8': 1, 'w9': 1, 'w10': 1, 'w11': 1, 'w12': 1, 'w13': 1, 'w14': 0, 'w15': 1, 'w16': 1, 'w17': 0, 'w18': 1, 'w19': 0}. Best is trial 2 with value: 0.591706643894705.\u001b[0m\n"
          ]
        },
        {
          "output_type": "stream",
          "name": "stdout",
          "text": [
            "[1, 0, 0, 0, 1, 1, 0, 1, 1, 1, 1, 1, 1, 1, 0, 1, 1, 0, 1, 0]\n",
            "Post-processing 1114 example predictions split into 14188 features.\n"
          ]
        },
        {
          "output_type": "stream",
          "name": "stderr",
          "text": [
            "\u001b[32m[I 2021-10-23 22:37:50,848]\u001b[0m Trial 43 finished with value: 0.591706643894705 and parameters: {'w0': 1, 'w1': 0, 'w2': 0, 'w3': 0, 'w4': 1, 'w5': 1, 'w6': 0, 'w7': 1, 'w8': 1, 'w9': 1, 'w10': 1, 'w11': 1, 'w12': 1, 'w13': 1, 'w14': 0, 'w15': 1, 'w16': 1, 'w17': 0, 'w18': 1, 'w19': 0}. Best is trial 2 with value: 0.591706643894705.\u001b[0m\n"
          ]
        },
        {
          "output_type": "stream",
          "name": "stdout",
          "text": [
            "[1, 0, 0, 0, 1, 1, 0, 1, 1, 1, 1, 1, 1, 1, 0, 1, 1, 0, 1, 0]\n",
            "Post-processing 1114 example predictions split into 14188 features.\n"
          ]
        },
        {
          "output_type": "stream",
          "name": "stderr",
          "text": [
            "\u001b[32m[I 2021-10-23 22:37:56,590]\u001b[0m Trial 44 finished with value: 0.591706643894705 and parameters: {'w0': 1, 'w1': 0, 'w2': 0, 'w3': 0, 'w4': 1, 'w5': 1, 'w6': 0, 'w7': 1, 'w8': 1, 'w9': 1, 'w10': 1, 'w11': 1, 'w12': 1, 'w13': 1, 'w14': 0, 'w15': 1, 'w16': 1, 'w17': 0, 'w18': 1, 'w19': 0}. Best is trial 2 with value: 0.591706643894705.\u001b[0m\n"
          ]
        },
        {
          "output_type": "stream",
          "name": "stdout",
          "text": [
            "[1, 0, 0, 0, 1, 1, 0, 1, 1, 1, 1, 1, 1, 1, 0, 1, 1, 0, 1, 0]\n",
            "Post-processing 1114 example predictions split into 14188 features.\n"
          ]
        },
        {
          "output_type": "stream",
          "name": "stderr",
          "text": [
            "\u001b[32m[I 2021-10-23 22:38:02,335]\u001b[0m Trial 45 finished with value: 0.591706643894705 and parameters: {'w0': 1, 'w1': 0, 'w2': 0, 'w3': 0, 'w4': 1, 'w5': 1, 'w6': 0, 'w7': 1, 'w8': 1, 'w9': 1, 'w10': 1, 'w11': 1, 'w12': 1, 'w13': 1, 'w14': 0, 'w15': 1, 'w16': 1, 'w17': 0, 'w18': 1, 'w19': 0}. Best is trial 2 with value: 0.591706643894705.\u001b[0m\n"
          ]
        },
        {
          "output_type": "stream",
          "name": "stdout",
          "text": [
            "[1, 0, 0, 0, 1, 1, 0, 1, 1, 1, 1, 1, 1, 1, 0, 0, 1, 0, 1, 0]\n",
            "Post-processing 1114 example predictions split into 14188 features.\n"
          ]
        },
        {
          "output_type": "stream",
          "name": "stderr",
          "text": [
            "\u001b[32m[I 2021-10-23 22:38:08,172]\u001b[0m Trial 46 finished with value: 0.5896797709073293 and parameters: {'w0': 1, 'w1': 0, 'w2': 0, 'w3': 0, 'w4': 1, 'w5': 1, 'w6': 0, 'w7': 1, 'w8': 1, 'w9': 1, 'w10': 1, 'w11': 1, 'w12': 1, 'w13': 1, 'w14': 0, 'w15': 0, 'w16': 1, 'w17': 0, 'w18': 1, 'w19': 0}. Best is trial 2 with value: 0.591706643894705.\u001b[0m\n"
          ]
        },
        {
          "output_type": "stream",
          "name": "stdout",
          "text": [
            "[1, 0, 0, 0, 1, 1, 0, 1, 1, 1, 1, 1, 1, 1, 0, 1, 1, 0, 1, 0]\n",
            "Post-processing 1114 example predictions split into 14188 features.\n"
          ]
        },
        {
          "output_type": "stream",
          "name": "stderr",
          "text": [
            "\u001b[32m[I 2021-10-23 22:38:14,042]\u001b[0m Trial 47 finished with value: 0.591706643894705 and parameters: {'w0': 1, 'w1': 0, 'w2': 0, 'w3': 0, 'w4': 1, 'w5': 1, 'w6': 0, 'w7': 1, 'w8': 1, 'w9': 1, 'w10': 1, 'w11': 1, 'w12': 1, 'w13': 1, 'w14': 0, 'w15': 1, 'w16': 1, 'w17': 0, 'w18': 1, 'w19': 0}. Best is trial 2 with value: 0.591706643894705.\u001b[0m\n"
          ]
        },
        {
          "output_type": "stream",
          "name": "stdout",
          "text": [
            "[1, 0, 0, 0, 1, 1, 0, 0, 1, 1, 0, 1, 1, 1, 0, 1, 1, 1, 1, 0]\n",
            "Post-processing 1114 example predictions split into 14188 features.\n"
          ]
        },
        {
          "output_type": "stream",
          "name": "stderr",
          "text": [
            "\u001b[32m[I 2021-10-23 22:38:20,247]\u001b[0m Trial 48 finished with value: 0.5892416243740302 and parameters: {'w0': 1, 'w1': 0, 'w2': 0, 'w3': 0, 'w4': 1, 'w5': 1, 'w6': 0, 'w7': 0, 'w8': 1, 'w9': 1, 'w10': 0, 'w11': 1, 'w12': 1, 'w13': 1, 'w14': 0, 'w15': 1, 'w16': 1, 'w17': 1, 'w18': 1, 'w19': 0}. Best is trial 2 with value: 0.591706643894705.\u001b[0m\n"
          ]
        },
        {
          "output_type": "stream",
          "name": "stdout",
          "text": [
            "[1, 0, 0, 0, 1, 1, 0, 1, 0, 1, 1, 1, 1, 1, 0, 1, 1, 0, 1, 0]\n",
            "Post-processing 1114 example predictions split into 14188 features.\n"
          ]
        },
        {
          "output_type": "stream",
          "name": "stderr",
          "text": [
            "\u001b[32m[I 2021-10-23 22:38:25,897]\u001b[0m Trial 49 finished with value: 0.5919567080137098 and parameters: {'w0': 1, 'w1': 0, 'w2': 0, 'w3': 0, 'w4': 1, 'w5': 1, 'w6': 0, 'w7': 1, 'w8': 0, 'w9': 1, 'w10': 1, 'w11': 1, 'w12': 1, 'w13': 1, 'w14': 0, 'w15': 1, 'w16': 1, 'w17': 0, 'w18': 1, 'w19': 0}. Best is trial 49 with value: 0.5919567080137098.\u001b[0m\n"
          ]
        },
        {
          "output_type": "stream",
          "name": "stdout",
          "text": [
            "[1, 0, 0, 0, 1, 1, 0, 1, 0, 1, 1, 1, 1, 1, 0, 1, 1, 0, 1, 0]\n",
            "Post-processing 1114 example predictions split into 14188 features.\n"
          ]
        },
        {
          "output_type": "stream",
          "name": "stderr",
          "text": [
            "\u001b[32m[I 2021-10-23 22:38:31,622]\u001b[0m Trial 50 finished with value: 0.5919567080137098 and parameters: {'w0': 1, 'w1': 0, 'w2': 0, 'w3': 0, 'w4': 1, 'w5': 1, 'w6': 0, 'w7': 1, 'w8': 0, 'w9': 1, 'w10': 1, 'w11': 1, 'w12': 1, 'w13': 1, 'w14': 0, 'w15': 1, 'w16': 1, 'w17': 0, 'w18': 1, 'w19': 0}. Best is trial 49 with value: 0.5919567080137098.\u001b[0m\n"
          ]
        },
        {
          "output_type": "stream",
          "name": "stdout",
          "text": [
            "[1, 0, 0, 0, 1, 1, 0, 1, 0, 1, 1, 1, 1, 1, 0, 1, 1, 0, 1, 0]\n",
            "Post-processing 1114 example predictions split into 14188 features.\n"
          ]
        },
        {
          "output_type": "stream",
          "name": "stderr",
          "text": [
            "\u001b[32m[I 2021-10-23 22:38:37,321]\u001b[0m Trial 51 finished with value: 0.5919567080137098 and parameters: {'w0': 1, 'w1': 0, 'w2': 0, 'w3': 0, 'w4': 1, 'w5': 1, 'w6': 0, 'w7': 1, 'w8': 0, 'w9': 1, 'w10': 1, 'w11': 1, 'w12': 1, 'w13': 1, 'w14': 0, 'w15': 1, 'w16': 1, 'w17': 0, 'w18': 1, 'w19': 0}. Best is trial 49 with value: 0.5919567080137098.\u001b[0m\n"
          ]
        },
        {
          "output_type": "stream",
          "name": "stdout",
          "text": [
            "[1, 0, 0, 0, 1, 1, 0, 1, 0, 1, 1, 1, 1, 1, 0, 1, 1, 0, 1, 0]\n",
            "Post-processing 1114 example predictions split into 14188 features.\n"
          ]
        },
        {
          "output_type": "stream",
          "name": "stderr",
          "text": [
            "\u001b[32m[I 2021-10-23 22:38:43,030]\u001b[0m Trial 52 finished with value: 0.5919567080137098 and parameters: {'w0': 1, 'w1': 0, 'w2': 0, 'w3': 0, 'w4': 1, 'w5': 1, 'w6': 0, 'w7': 1, 'w8': 0, 'w9': 1, 'w10': 1, 'w11': 1, 'w12': 1, 'w13': 1, 'w14': 0, 'w15': 1, 'w16': 1, 'w17': 0, 'w18': 1, 'w19': 0}. Best is trial 49 with value: 0.5919567080137098.\u001b[0m\n"
          ]
        },
        {
          "output_type": "stream",
          "name": "stdout",
          "text": [
            "[1, 0, 0, 0, 1, 1, 0, 1, 0, 1, 1, 1, 1, 1, 0, 1, 1, 0, 1, 0]\n",
            "Post-processing 1114 example predictions split into 14188 features.\n"
          ]
        },
        {
          "output_type": "stream",
          "name": "stderr",
          "text": [
            "\u001b[32m[I 2021-10-23 22:38:48,741]\u001b[0m Trial 53 finished with value: 0.5919567080137098 and parameters: {'w0': 1, 'w1': 0, 'w2': 0, 'w3': 0, 'w4': 1, 'w5': 1, 'w6': 0, 'w7': 1, 'w8': 0, 'w9': 1, 'w10': 1, 'w11': 1, 'w12': 1, 'w13': 1, 'w14': 0, 'w15': 1, 'w16': 1, 'w17': 0, 'w18': 1, 'w19': 0}. Best is trial 49 with value: 0.5919567080137098.\u001b[0m\n"
          ]
        },
        {
          "output_type": "stream",
          "name": "stdout",
          "text": [
            "[1, 0, 0, 0, 1, 1, 0, 1, 0, 1, 1, 1, 1, 1, 0, 1, 1, 0, 1, 0]\n",
            "Post-processing 1114 example predictions split into 14188 features.\n"
          ]
        },
        {
          "output_type": "stream",
          "name": "stderr",
          "text": [
            "\u001b[32m[I 2021-10-23 22:38:54,505]\u001b[0m Trial 54 finished with value: 0.5919567080137098 and parameters: {'w0': 1, 'w1': 0, 'w2': 0, 'w3': 0, 'w4': 1, 'w5': 1, 'w6': 0, 'w7': 1, 'w8': 0, 'w9': 1, 'w10': 1, 'w11': 1, 'w12': 1, 'w13': 1, 'w14': 0, 'w15': 1, 'w16': 1, 'w17': 0, 'w18': 1, 'w19': 0}. Best is trial 49 with value: 0.5919567080137098.\u001b[0m\n"
          ]
        },
        {
          "output_type": "stream",
          "name": "stdout",
          "text": [
            "[1, 0, 0, 0, 1, 1, 0, 1, 0, 1, 1, 1, 1, 1, 0, 1, 1, 0, 1, 0]\n",
            "Post-processing 1114 example predictions split into 14188 features.\n"
          ]
        },
        {
          "output_type": "stream",
          "name": "stderr",
          "text": [
            "\u001b[32m[I 2021-10-23 22:39:00,723]\u001b[0m Trial 55 finished with value: 0.5919567080137098 and parameters: {'w0': 1, 'w1': 0, 'w2': 0, 'w3': 0, 'w4': 1, 'w5': 1, 'w6': 0, 'w7': 1, 'w8': 0, 'w9': 1, 'w10': 1, 'w11': 1, 'w12': 1, 'w13': 1, 'w14': 0, 'w15': 1, 'w16': 1, 'w17': 0, 'w18': 1, 'w19': 0}. Best is trial 49 with value: 0.5919567080137098.\u001b[0m\n"
          ]
        },
        {
          "output_type": "stream",
          "name": "stdout",
          "text": [
            "[1, 0, 0, 0, 1, 1, 0, 1, 0, 1, 1, 1, 1, 1, 0, 1, 1, 0, 1, 0]\n"
          ]
        }
      ]
    },
    {
      "cell_type": "code",
      "metadata": {
        "id": "Nrhb0FwPQgoY"
      },
      "source": [
        ""
      ],
      "id": "Nrhb0FwPQgoY",
      "execution_count": null,
      "outputs": []
    }
  ]
}