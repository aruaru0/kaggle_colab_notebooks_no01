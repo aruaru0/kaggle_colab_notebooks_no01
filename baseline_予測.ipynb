{
  "nbformat": 4,
  "nbformat_minor": 0,
  "metadata": {
    "colab": {
      "name": "baseline-予測.ipynb",
      "provenance": [],
      "collapsed_sections": [],
      "toc_visible": true,
      "mount_file_id": "1AleHdQJNa_Ab35U9Xelj1KXJ_2HSp1cQ",
      "authorship_tag": "ABX9TyO/oU0HSp4dYWXyTGWqSzfT",
      "include_colab_link": true
    },
    "kernelspec": {
      "name": "python3",
      "display_name": "Python 3"
    },
    "language_info": {
      "name": "python"
    },
    "accelerator": "GPU"
  },
  "cells": [
    {
      "cell_type": "markdown",
      "metadata": {
        "id": "view-in-github",
        "colab_type": "text"
      },
      "source": [
        "<a href=\"https://colab.research.google.com/github/aruaru0/colab_notebook/blob/main/baseline_%E4%BA%88%E6%B8%AC.ipynb\" target=\"_parent\"><img src=\"https://colab.research.google.com/assets/colab-badge.svg\" alt=\"Open In Colab\"/></a>"
      ]
    },
    {
      "cell_type": "code",
      "metadata": {
        "colab": {
          "base_uri": "https://localhost:8080/"
        },
        "id": "0drWlz5vq0uw",
        "outputId": "6a45d9dd-59eb-460e-ce1a-b470344c02ce"
      },
      "source": [
        "!nvidia-smi"
      ],
      "execution_count": 1,
      "outputs": [
        {
          "output_type": "stream",
          "text": [
            "Sat Aug 14 00:26:59 2021       \n",
            "+-----------------------------------------------------------------------------+\n",
            "| NVIDIA-SMI 470.42.01    Driver Version: 460.32.03    CUDA Version: 11.2     |\n",
            "|-------------------------------+----------------------+----------------------+\n",
            "| GPU  Name        Persistence-M| Bus-Id        Disp.A | Volatile Uncorr. ECC |\n",
            "| Fan  Temp  Perf  Pwr:Usage/Cap|         Memory-Usage | GPU-Util  Compute M. |\n",
            "|                               |                      |               MIG M. |\n",
            "|===============================+======================+======================|\n",
            "|   0  Tesla P100-PCIE...  Off  | 00000000:00:04.0 Off |                    0 |\n",
            "| N/A   38C    P0    27W / 250W |      0MiB / 16280MiB |      0%      Default |\n",
            "|                               |                      |                  N/A |\n",
            "+-------------------------------+----------------------+----------------------+\n",
            "                                                                               \n",
            "+-----------------------------------------------------------------------------+\n",
            "| Processes:                                                                  |\n",
            "|  GPU   GI   CI        PID   Type   Process name                  GPU Memory |\n",
            "|        ID   ID                                                   Usage      |\n",
            "|=============================================================================|\n",
            "|  No running processes found                                                 |\n",
            "+-----------------------------------------------------------------------------+\n"
          ],
          "name": "stdout"
        }
      ]
    },
    {
      "cell_type": "code",
      "metadata": {
        "colab": {
          "base_uri": "https://localhost:8080/"
        },
        "id": "tv5Le5GYq57_",
        "outputId": "f77280e8-4482-4fcd-9e24-88c19d9955f0"
      },
      "source": [
        "!tar xvf /content/drive/MyDrive/datas/data/Label.tar"
      ],
      "execution_count": 2,
      "outputs": [
        {
          "output_type": "stream",
          "text": [
            "label/\n",
            "label/val_finetune.txt\n",
            "label/train_finetune.txt\n"
          ],
          "name": "stdout"
        }
      ]
    },
    {
      "cell_type": "code",
      "metadata": {
        "id": "spBUyr77rEpm"
      },
      "source": [
        "!tar xf /content/drive/MyDrive/datas/data/Val.tar"
      ],
      "execution_count": 3,
      "outputs": []
    },
    {
      "cell_type": "markdown",
      "metadata": {
        "id": "PdiM1ChUrLSE"
      },
      "source": [
        "# restart"
      ]
    },
    {
      "cell_type": "code",
      "metadata": {
        "colab": {
          "base_uri": "https://localhost:8080/"
        },
        "id": "exrAyNGtrMTH",
        "outputId": "3e9d6e31-8a04-4561-e4a9-9fdc7ec420da"
      },
      "source": [
        "!pip install timm"
      ],
      "execution_count": 4,
      "outputs": [
        {
          "output_type": "stream",
          "text": [
            "Collecting timm\n",
            "  Downloading timm-0.4.12-py3-none-any.whl (376 kB)\n",
            "\u001b[?25l\r\u001b[K     |▉                               | 10 kB 39.3 MB/s eta 0:00:01\r\u001b[K     |█▊                              | 20 kB 33.6 MB/s eta 0:00:01\r\u001b[K     |██▋                             | 30 kB 19.2 MB/s eta 0:00:01\r\u001b[K     |███▌                            | 40 kB 16.5 MB/s eta 0:00:01\r\u001b[K     |████▍                           | 51 kB 8.9 MB/s eta 0:00:01\r\u001b[K     |█████▏                          | 61 kB 9.3 MB/s eta 0:00:01\r\u001b[K     |██████                          | 71 kB 9.1 MB/s eta 0:00:01\r\u001b[K     |███████                         | 81 kB 10.2 MB/s eta 0:00:01\r\u001b[K     |███████▉                        | 92 kB 10.4 MB/s eta 0:00:01\r\u001b[K     |████████▊                       | 102 kB 8.4 MB/s eta 0:00:01\r\u001b[K     |█████████▋                      | 112 kB 8.4 MB/s eta 0:00:01\r\u001b[K     |██████████▍                     | 122 kB 8.4 MB/s eta 0:00:01\r\u001b[K     |███████████▎                    | 133 kB 8.4 MB/s eta 0:00:01\r\u001b[K     |████████████▏                   | 143 kB 8.4 MB/s eta 0:00:01\r\u001b[K     |█████████████                   | 153 kB 8.4 MB/s eta 0:00:01\r\u001b[K     |██████████████                  | 163 kB 8.4 MB/s eta 0:00:01\r\u001b[K     |██████████████▊                 | 174 kB 8.4 MB/s eta 0:00:01\r\u001b[K     |███████████████▋                | 184 kB 8.4 MB/s eta 0:00:01\r\u001b[K     |████████████████▌               | 194 kB 8.4 MB/s eta 0:00:01\r\u001b[K     |█████████████████▍              | 204 kB 8.4 MB/s eta 0:00:01\r\u001b[K     |██████████████████▎             | 215 kB 8.4 MB/s eta 0:00:01\r\u001b[K     |███████████████████▏            | 225 kB 8.4 MB/s eta 0:00:01\r\u001b[K     |████████████████████            | 235 kB 8.4 MB/s eta 0:00:01\r\u001b[K     |████████████████████▉           | 245 kB 8.4 MB/s eta 0:00:01\r\u001b[K     |█████████████████████▊          | 256 kB 8.4 MB/s eta 0:00:01\r\u001b[K     |██████████████████████▋         | 266 kB 8.4 MB/s eta 0:00:01\r\u001b[K     |███████████████████████▌        | 276 kB 8.4 MB/s eta 0:00:01\r\u001b[K     |████████████████████████▍       | 286 kB 8.4 MB/s eta 0:00:01\r\u001b[K     |█████████████████████████▏      | 296 kB 8.4 MB/s eta 0:00:01\r\u001b[K     |██████████████████████████      | 307 kB 8.4 MB/s eta 0:00:01\r\u001b[K     |███████████████████████████     | 317 kB 8.4 MB/s eta 0:00:01\r\u001b[K     |███████████████████████████▉    | 327 kB 8.4 MB/s eta 0:00:01\r\u001b[K     |████████████████████████████▊   | 337 kB 8.4 MB/s eta 0:00:01\r\u001b[K     |█████████████████████████████▌  | 348 kB 8.4 MB/s eta 0:00:01\r\u001b[K     |██████████████████████████████▍ | 358 kB 8.4 MB/s eta 0:00:01\r\u001b[K     |███████████████████████████████▎| 368 kB 8.4 MB/s eta 0:00:01\r\u001b[K     |████████████████████████████████| 376 kB 8.4 MB/s \n",
            "\u001b[?25hRequirement already satisfied: torch>=1.4 in /usr/local/lib/python3.7/dist-packages (from timm) (1.9.0+cu102)\n",
            "Requirement already satisfied: torchvision in /usr/local/lib/python3.7/dist-packages (from timm) (0.10.0+cu102)\n",
            "Requirement already satisfied: typing-extensions in /usr/local/lib/python3.7/dist-packages (from torch>=1.4->timm) (3.7.4.3)\n",
            "Requirement already satisfied: numpy in /usr/local/lib/python3.7/dist-packages (from torchvision->timm) (1.19.5)\n",
            "Requirement already satisfied: pillow>=5.3.0 in /usr/local/lib/python3.7/dist-packages (from torchvision->timm) (7.1.2)\n",
            "Installing collected packages: timm\n",
            "Successfully installed timm-0.4.12\n"
          ],
          "name": "stdout"
        }
      ]
    },
    {
      "cell_type": "code",
      "metadata": {
        "colab": {
          "base_uri": "https://localhost:8080/"
        },
        "id": "mf4BjeNfx6kc",
        "outputId": "9fb9e246-1fe7-4432-d4cb-0113fc220b51"
      },
      "source": [
        "!pip install optuna"
      ],
      "execution_count": 5,
      "outputs": [
        {
          "output_type": "stream",
          "text": [
            "Collecting optuna\n",
            "  Downloading optuna-2.9.1-py3-none-any.whl (302 kB)\n",
            "\u001b[?25l\r\u001b[K     |█                               | 10 kB 30.4 MB/s eta 0:00:01\r\u001b[K     |██▏                             | 20 kB 33.8 MB/s eta 0:00:01\r\u001b[K     |███▎                            | 30 kB 20.1 MB/s eta 0:00:01\r\u001b[K     |████▎                           | 40 kB 17.2 MB/s eta 0:00:01\r\u001b[K     |█████▍                          | 51 kB 8.0 MB/s eta 0:00:01\r\u001b[K     |██████▌                         | 61 kB 8.4 MB/s eta 0:00:01\r\u001b[K     |███████▋                        | 71 kB 7.5 MB/s eta 0:00:01\r\u001b[K     |████████▋                       | 81 kB 8.4 MB/s eta 0:00:01\r\u001b[K     |█████████▊                      | 92 kB 8.5 MB/s eta 0:00:01\r\u001b[K     |██████████▉                     | 102 kB 7.6 MB/s eta 0:00:01\r\u001b[K     |████████████                    | 112 kB 7.6 MB/s eta 0:00:01\r\u001b[K     |█████████████                   | 122 kB 7.6 MB/s eta 0:00:01\r\u001b[K     |██████████████                  | 133 kB 7.6 MB/s eta 0:00:01\r\u001b[K     |███████████████▏                | 143 kB 7.6 MB/s eta 0:00:01\r\u001b[K     |████████████████▎               | 153 kB 7.6 MB/s eta 0:00:01\r\u001b[K     |█████████████████▎              | 163 kB 7.6 MB/s eta 0:00:01\r\u001b[K     |██████████████████▍             | 174 kB 7.6 MB/s eta 0:00:01\r\u001b[K     |███████████████████▌            | 184 kB 7.6 MB/s eta 0:00:01\r\u001b[K     |████████████████████▋           | 194 kB 7.6 MB/s eta 0:00:01\r\u001b[K     |█████████████████████▋          | 204 kB 7.6 MB/s eta 0:00:01\r\u001b[K     |██████████████████████▊         | 215 kB 7.6 MB/s eta 0:00:01\r\u001b[K     |███████████████████████▉        | 225 kB 7.6 MB/s eta 0:00:01\r\u001b[K     |█████████████████████████       | 235 kB 7.6 MB/s eta 0:00:01\r\u001b[K     |██████████████████████████      | 245 kB 7.6 MB/s eta 0:00:01\r\u001b[K     |███████████████████████████     | 256 kB 7.6 MB/s eta 0:00:01\r\u001b[K     |████████████████████████████▏   | 266 kB 7.6 MB/s eta 0:00:01\r\u001b[K     |█████████████████████████████▎  | 276 kB 7.6 MB/s eta 0:00:01\r\u001b[K     |██████████████████████████████▎ | 286 kB 7.6 MB/s eta 0:00:01\r\u001b[K     |███████████████████████████████▍| 296 kB 7.6 MB/s eta 0:00:01\r\u001b[K     |████████████████████████████████| 302 kB 7.6 MB/s \n",
            "\u001b[?25hRequirement already satisfied: sqlalchemy>=1.1.0 in /usr/local/lib/python3.7/dist-packages (from optuna) (1.4.22)\n",
            "Collecting colorlog\n",
            "  Downloading colorlog-5.0.1-py2.py3-none-any.whl (10 kB)\n",
            "Requirement already satisfied: scipy!=1.4.0 in /usr/local/lib/python3.7/dist-packages (from optuna) (1.4.1)\n",
            "Requirement already satisfied: tqdm in /usr/local/lib/python3.7/dist-packages (from optuna) (4.62.0)\n",
            "Requirement already satisfied: packaging>=20.0 in /usr/local/lib/python3.7/dist-packages (from optuna) (21.0)\n",
            "Requirement already satisfied: PyYAML in /usr/local/lib/python3.7/dist-packages (from optuna) (3.13)\n",
            "Collecting cmaes>=0.8.2\n",
            "  Downloading cmaes-0.8.2-py3-none-any.whl (15 kB)\n",
            "Collecting cliff\n",
            "  Downloading cliff-3.8.0-py3-none-any.whl (80 kB)\n",
            "\u001b[K     |████████████████████████████████| 80 kB 10.5 MB/s \n",
            "\u001b[?25hRequirement already satisfied: numpy in /usr/local/lib/python3.7/dist-packages (from optuna) (1.19.5)\n",
            "Collecting alembic\n",
            "  Downloading alembic-1.6.5-py2.py3-none-any.whl (164 kB)\n",
            "\u001b[K     |████████████████████████████████| 164 kB 71.8 MB/s \n",
            "\u001b[?25hRequirement already satisfied: pyparsing>=2.0.2 in /usr/local/lib/python3.7/dist-packages (from packaging>=20.0->optuna) (2.4.7)\n",
            "Requirement already satisfied: importlib-metadata in /usr/local/lib/python3.7/dist-packages (from sqlalchemy>=1.1.0->optuna) (4.6.3)\n",
            "Requirement already satisfied: greenlet!=0.4.17 in /usr/local/lib/python3.7/dist-packages (from sqlalchemy>=1.1.0->optuna) (1.1.1)\n",
            "Collecting python-editor>=0.3\n",
            "  Downloading python_editor-1.0.4-py3-none-any.whl (4.9 kB)\n",
            "Collecting Mako\n",
            "  Downloading Mako-1.1.4-py2.py3-none-any.whl (75 kB)\n",
            "\u001b[K     |████████████████████████████████| 75 kB 5.9 MB/s \n",
            "\u001b[?25hRequirement already satisfied: python-dateutil in /usr/local/lib/python3.7/dist-packages (from alembic->optuna) (2.8.2)\n",
            "Collecting stevedore>=2.0.1\n",
            "  Downloading stevedore-3.3.0-py3-none-any.whl (49 kB)\n",
            "\u001b[K     |████████████████████████████████| 49 kB 6.9 MB/s \n",
            "\u001b[?25hCollecting pbr!=2.1.0,>=2.0.0\n",
            "  Downloading pbr-5.6.0-py2.py3-none-any.whl (111 kB)\n",
            "\u001b[K     |████████████████████████████████| 111 kB 75.4 MB/s \n",
            "\u001b[?25hCollecting cmd2>=1.0.0\n",
            "  Downloading cmd2-2.1.2-py3-none-any.whl (141 kB)\n",
            "\u001b[K     |████████████████████████████████| 141 kB 70.7 MB/s \n",
            "\u001b[?25hRequirement already satisfied: PrettyTable>=0.7.2 in /usr/local/lib/python3.7/dist-packages (from cliff->optuna) (2.1.0)\n",
            "Collecting colorama>=0.3.7\n",
            "  Downloading colorama-0.4.4-py2.py3-none-any.whl (16 kB)\n",
            "Requirement already satisfied: wcwidth>=0.1.7 in /usr/local/lib/python3.7/dist-packages (from cmd2>=1.0.0->cliff->optuna) (0.2.5)\n",
            "Requirement already satisfied: typing-extensions in /usr/local/lib/python3.7/dist-packages (from cmd2>=1.0.0->cliff->optuna) (3.7.4.3)\n",
            "Collecting pyperclip>=1.6\n",
            "  Downloading pyperclip-1.8.2.tar.gz (20 kB)\n",
            "Requirement already satisfied: attrs>=16.3.0 in /usr/local/lib/python3.7/dist-packages (from cmd2>=1.0.0->cliff->optuna) (21.2.0)\n",
            "Requirement already satisfied: zipp>=0.5 in /usr/local/lib/python3.7/dist-packages (from importlib-metadata->sqlalchemy>=1.1.0->optuna) (3.5.0)\n",
            "Requirement already satisfied: MarkupSafe>=0.9.2 in /usr/local/lib/python3.7/dist-packages (from Mako->alembic->optuna) (2.0.1)\n",
            "Requirement already satisfied: six>=1.5 in /usr/local/lib/python3.7/dist-packages (from python-dateutil->alembic->optuna) (1.15.0)\n",
            "Building wheels for collected packages: pyperclip\n",
            "  Building wheel for pyperclip (setup.py) ... \u001b[?25l\u001b[?25hdone\n",
            "  Created wheel for pyperclip: filename=pyperclip-1.8.2-py3-none-any.whl size=11136 sha256=4bbd6b70cc251a4eb2f170d480cb7009e872260d81d9328f2788982e88369029\n",
            "  Stored in directory: /root/.cache/pip/wheels/9f/18/84/8f69f8b08169c7bae2dde6bd7daf0c19fca8c8e500ee620a28\n",
            "Successfully built pyperclip\n",
            "Installing collected packages: pyperclip, pbr, colorama, stevedore, python-editor, Mako, cmd2, colorlog, cmaes, cliff, alembic, optuna\n",
            "Successfully installed Mako-1.1.4 alembic-1.6.5 cliff-3.8.0 cmaes-0.8.2 cmd2-2.1.2 colorama-0.4.4 colorlog-5.0.1 optuna-2.9.1 pbr-5.6.0 pyperclip-1.8.2 python-editor-1.0.4 stevedore-3.3.0\n"
          ],
          "name": "stdout"
        }
      ]
    },
    {
      "cell_type": "code",
      "metadata": {
        "id": "OVluA6ShrOvy"
      },
      "source": [
        "import numpy as np\n",
        "import pandas as pd\n",
        "import timm\n",
        "import matplotlib.pyplot as plt\n",
        "\n",
        "import torch\n",
        "import torch.optim as optim\n",
        "import torch.nn as nn\n",
        "import torch.nn.functional as F\n",
        "from torch.utils.data import DataLoader, Dataset\n",
        "\n",
        "from PIL import Image\n",
        "from torchvision import transforms\n",
        "import torchvision\n",
        "\n",
        "import tqdm\n",
        "\n",
        "import optuna\n",
        "\n",
        "from PIL import Image"
      ],
      "execution_count": 6,
      "outputs": []
    },
    {
      "cell_type": "code",
      "metadata": {
        "colab": {
          "base_uri": "https://localhost:8080/"
        },
        "id": "hmIHxDMirSnK",
        "outputId": "22088241-191f-4fd5-9799-d7dc4726c843"
      },
      "source": [
        "device = torch.device(\"cuda:0\" if torch.cuda.is_available() else \"cpu\") #(1)\n",
        "print(device)"
      ],
      "execution_count": 7,
      "outputs": [
        {
          "output_type": "stream",
          "text": [
            "cuda:0\n"
          ],
          "name": "stdout"
        }
      ]
    },
    {
      "cell_type": "code",
      "metadata": {
        "id": "Fnfw-T-k4wHb"
      },
      "source": [
        "class LFFdataset(Dataset):\n",
        "    def __init__(self, path, df, transform = None):\n",
        "        self.transform = transform\n",
        "        self.df = df\n",
        "        self.path = path\n",
        "    def __len__(self):\n",
        "        return len(self.df)\n",
        "\n",
        "    def __getitem__(self, idx):\n",
        "        file = self.path + self.df['file'][idx] \n",
        "        #画像読み込み。\n",
        "        img = Image.open(file)\n",
        "\n",
        "        #transform事前処理実施\n",
        "        if self.transform is not None:\n",
        "            img = self.transform(img)\n",
        "        label=0 #self.df['class'][idx]\n",
        "\n",
        "        return img,label\n",
        " \n",
        "class LFFmodel(nn.Module):\n",
        "  global CONFIG\n",
        "  def __init__(self):\n",
        "      super(LFFmodel, self).__init__()\n",
        "      \n",
        "      self.net = timm.create_model(CONFIG.base_model, pretrained=True)\n",
        "\n",
        "  def forward(self, x):\n",
        "      x = self.net(x)\n",
        "      return x"
      ],
      "execution_count": 8,
      "outputs": []
    },
    {
      "cell_type": "markdown",
      "metadata": {
        "id": "XAnjRcXsr9G2"
      },
      "source": [
        "# model1 efficientnet_b7"
      ]
    },
    {
      "cell_type": "code",
      "metadata": {
        "id": "If-veJ1frXL7"
      },
      "source": [
        "class CONFIG :\n",
        "  VALID = '/content/label/val_finetune.txt'\n",
        "  num_of_worker = 2\n",
        "  base_model = 'tf_efficientnet_b7_ns'\n",
        "  batch_size = 4"
      ],
      "execution_count": null,
      "outputs": []
    },
    {
      "cell_type": "code",
      "metadata": {
        "colab": {
          "base_uri": "https://localhost:8080/"
        },
        "id": "hNm0U_ZurW4S",
        "outputId": "5b582936-7cef-4d26-9106-3ca628476191"
      },
      "source": [
        "df_valid = pd.read_table(CONFIG.VALID, sep=' ', header=None, names=['file','class'])\n",
        "\n",
        "size = 320\n",
        "transform_valid = transforms.Compose([transforms.Resize((size, size)), transforms.ToTensor()])\n",
        "\n",
        "dataset_valid = LFFdataset('./Val/', df_valid, transform_valid)\n",
        "dataloader = DataLoader(dataset_valid, batch_size=CONFIG.batch_size, shuffle=False, num_workers=CONFIG.num_of_worker)\n",
        "\n",
        "\n",
        "model = LFFmodel().to(device)\n",
        "PATH = '/content/drive/MyDrive/datas/last.pth'\n",
        "model.load_state_dict(torch.load(PATH))"
      ],
      "execution_count": null,
      "outputs": [
        {
          "output_type": "execute_result",
          "data": {
            "text/plain": [
              "<All keys matched successfully>"
            ]
          },
          "metadata": {
            "tags": []
          },
          "execution_count": 38
        }
      ]
    },
    {
      "cell_type": "code",
      "metadata": {
        "colab": {
          "base_uri": "https://localhost:8080/"
        },
        "id": "mMQEk4NnsYBm",
        "outputId": "8703749e-073d-4b69-a1f7-372c7ab5b4f8"
      },
      "source": [
        "# DataLoaderからデータをバッチごとに取り出す\n",
        "N = len(df_valid)//CONFIG.batch_size\n",
        "\n",
        "model.eval()\n",
        "pred = np.array([])\n",
        "\n",
        "for inputs, labels in tqdm.tqdm(dataloader, total = N) :\n",
        "    inputs = inputs.to(device)\n",
        "    labels = labels.to(device)\n",
        "    with torch.no_grad():\n",
        "      outputs = model(inputs)\n",
        "      outputs = outputs.detach().cpu().numpy()\n",
        "      if len(pred) == 0 :\n",
        "        pred = outputs\n",
        "      else :\n",
        "        pred = np.concatenate([pred, outputs], axis=0)\n"
      ],
      "execution_count": 39,
      "outputs": [
        {
          "output_type": "stream",
          "text": [
            "13366it [25:32,  8.72it/s]\n"
          ],
          "name": "stderr"
        }
      ]
    },
    {
      "cell_type": "code",
      "metadata": {
        "id": "gbZzwayjDM16"
      },
      "source": [
        "pred1 = pred"
      ],
      "execution_count": 40,
      "outputs": []
    },
    {
      "cell_type": "markdown",
      "metadata": {
        "id": "0n5uGwVtC8ed"
      },
      "source": [
        "# efficientnet_b7 TTA"
      ]
    },
    {
      "cell_type": "code",
      "metadata": {
        "id": "QUTurx6SC_Jn",
        "colab": {
          "base_uri": "https://localhost:8080/"
        },
        "outputId": "5a44ebe4-04b1-45ee-ce7e-0c295e5be2ca"
      },
      "source": [
        "df_valid = pd.read_table(CONFIG.VALID, sep=' ', header=None, names=['file','class'])\n",
        "\n",
        "size = 320\n",
        "transform_valid = transforms.Compose([transforms.CenterCrop(size), transforms.ToTensor()])\n",
        "\n",
        "dataset_valid = LFFdataset('./Val/', df_valid, transform_valid)\n",
        "dataloader = DataLoader(dataset_valid, batch_size=CONFIG.batch_size, shuffle=False, num_workers=CONFIG.num_of_worker)\n",
        "\n",
        "\n",
        "model = LFFmodel().to(device)\n",
        "PATH = '/content/drive/MyDrive/datas/last.pth'\n",
        "model.load_state_dict(torch.load(PATH))"
      ],
      "execution_count": 41,
      "outputs": [
        {
          "output_type": "execute_result",
          "data": {
            "text/plain": [
              "<All keys matched successfully>"
            ]
          },
          "metadata": {
            "tags": []
          },
          "execution_count": 41
        }
      ]
    },
    {
      "cell_type": "code",
      "metadata": {
        "id": "DkzA-1GlC_FG",
        "colab": {
          "base_uri": "https://localhost:8080/"
        },
        "outputId": "c3f007a2-66c2-48af-b576-dcfe51aeb118"
      },
      "source": [
        "# DataLoaderからデータをバッチごとに取り出す\n",
        "N = len(df_valid)//CONFIG.batch_size\n",
        "\n",
        "model.eval()\n",
        "pred = np.array([])\n",
        "\n",
        "for inputs, labels in tqdm.tqdm(dataloader, total = N) :\n",
        "    inputs = inputs.to(device)\n",
        "    labels = labels.to(device)\n",
        "    with torch.no_grad():\n",
        "      outputs = model(inputs)\n",
        "      outputs = outputs.detach().cpu().numpy()\n",
        "      if len(pred) == 0 :\n",
        "        pred = outputs\n",
        "      else :\n",
        "        pred = np.concatenate([pred, outputs], axis=0)\n"
      ],
      "execution_count": 42,
      "outputs": [
        {
          "output_type": "stream",
          "text": [
            "13366it [25:21,  8.79it/s]\n"
          ],
          "name": "stderr"
        }
      ]
    },
    {
      "cell_type": "code",
      "metadata": {
        "id": "jFx1DFYmC--F"
      },
      "source": [
        "pred2 = pred"
      ],
      "execution_count": null,
      "outputs": []
    },
    {
      "cell_type": "markdown",
      "metadata": {
        "id": "D5vj2pS8SLPX"
      },
      "source": [
        "# efficientnet b7 flip"
      ]
    },
    {
      "cell_type": "code",
      "metadata": {
        "id": "xMS-kcnJSK8O",
        "colab": {
          "base_uri": "https://localhost:8080/"
        },
        "outputId": "731e7040-3b59-480e-8423-65861e754ca6"
      },
      "source": [
        "df_valid = pd.read_table(CONFIG.VALID, sep=' ', header=None, names=['file','class'])\n",
        "\n",
        "size = 320\n",
        "transform_valid = transforms.Compose([transforms.CenterCrop(size), transforms.ToTensor()])\n",
        "\n",
        "dataset_valid = LFFdataset('./Val/', df_valid, transform_valid)\n",
        "dataloader = DataLoader(dataset_valid, batch_size=CONFIG.batch_size, shuffle=False, num_workers=CONFIG.num_of_worker)\n",
        "\n",
        "\n",
        "model = LFFmodel().to(device)\n",
        "PATH = '/content/drive/MyDrive/datas/last.pth'\n",
        "model.load_state_dict(torch.load(PATH))"
      ],
      "execution_count": 44,
      "outputs": [
        {
          "output_type": "execute_result",
          "data": {
            "text/plain": [
              "<All keys matched successfully>"
            ]
          },
          "metadata": {
            "tags": []
          },
          "execution_count": 44
        }
      ]
    },
    {
      "cell_type": "code",
      "metadata": {
        "id": "Ngttv3I2SKv_",
        "colab": {
          "base_uri": "https://localhost:8080/"
        },
        "outputId": "6e1e269e-0b6e-47e9-fea2-95e2c5db8a31"
      },
      "source": [
        "# DataLoaderからデータをバッチごとに取り出す\n",
        "N = len(df_valid)//CONFIG.batch_size\n",
        "\n",
        "model.eval()\n",
        "pred = np.array([])\n",
        "\n",
        "for inputs, labels in tqdm.tqdm(dataloader, total = N) :\n",
        "    inputs = inputs.to(device)\n",
        "    labels = labels.to(device)\n",
        "    with torch.no_grad():\n",
        "      outputs = model(inputs)\n",
        "      outputs = outputs.detach().cpu().numpy()\n",
        "      if len(pred) == 0 :\n",
        "        pred = outputs\n",
        "      else :\n",
        "        pred = np.concatenate([pred, outputs], axis=0)\n"
      ],
      "execution_count": 45,
      "outputs": [
        {
          "output_type": "stream",
          "text": [
            "13366it [25:16,  8.81it/s]\n"
          ],
          "name": "stderr"
        }
      ]
    },
    {
      "cell_type": "code",
      "metadata": {
        "id": "bDGVXueySSVt"
      },
      "source": [
        "pred3 = pred"
      ],
      "execution_count": 46,
      "outputs": []
    },
    {
      "cell_type": "markdown",
      "metadata": {
        "id": "Q4hVQMG5Jc9o"
      },
      "source": [
        "# resnetRS152"
      ]
    },
    {
      "cell_type": "code",
      "metadata": {
        "id": "xzQ5DOKVJijY"
      },
      "source": [
        "class CONFIG :\n",
        "  VALID = '/content/label/val_finetune.txt'\n",
        "  num_of_worker = 2\n",
        "  base_model = 'resnetrs152'\n",
        "  batch_size = 4"
      ],
      "execution_count": 47,
      "outputs": []
    },
    {
      "cell_type": "code",
      "metadata": {
        "id": "q1VPTZovJrok",
        "colab": {
          "base_uri": "https://localhost:8080/"
        },
        "outputId": "7687a12b-d40b-47fa-fe3e-f0441724e579"
      },
      "source": [
        "df_valid = pd.read_table(CONFIG.VALID, sep=' ', header=None, names=['file','class'])\n",
        "\n",
        "size = 320\n",
        "transform_valid = transforms.Compose([transforms.Resize((size, size)), transforms.ToTensor()])\n",
        "\n",
        "dataset_valid = LFFdataset('./Val/', df_valid, transform_valid)\n",
        "dataloader = DataLoader(dataset_valid, batch_size=CONFIG.batch_size, shuffle=False, num_workers=CONFIG.num_of_worker)\n",
        "\n",
        "\n",
        "model = LFFmodel().to(device)\n",
        "PATH = '/content/drive/MyDrive/datas/last_resnetrs152.pth'\n",
        "checkpoint = torch.load(PATH)\n",
        "#model, optimizer = amp.initialize(model, optimizer, opt_level=opt_level)\n",
        "model.load_state_dict(checkpoint['model'])"
      ],
      "execution_count": 48,
      "outputs": [
        {
          "output_type": "execute_result",
          "data": {
            "text/plain": [
              "<All keys matched successfully>"
            ]
          },
          "metadata": {
            "tags": []
          },
          "execution_count": 48
        }
      ]
    },
    {
      "cell_type": "code",
      "metadata": {
        "id": "aDAAe6Q8J90B",
        "colab": {
          "base_uri": "https://localhost:8080/"
        },
        "outputId": "06983be4-bebc-4dc8-ddae-8a71fb7cb5f4"
      },
      "source": [
        "# DataLoaderからデータをバッチごとに取り出す\n",
        "N = len(df_valid)//CONFIG.batch_size\n",
        "\n",
        "model.eval()\n",
        "pred = np.array([])\n",
        "\n",
        "for inputs, labels in tqdm.tqdm(dataloader, total = N) :\n",
        "    inputs = inputs.to(device)\n",
        "    labels = labels.to(device)\n",
        "    with torch.no_grad():\n",
        "      outputs = model(inputs)\n",
        "      outputs = outputs.detach().cpu().numpy()\n",
        "      if len(pred) == 0 :\n",
        "        pred = outputs\n",
        "      else :\n",
        "        pred = np.concatenate([pred, outputs], axis=0)\n"
      ],
      "execution_count": 49,
      "outputs": [
        {
          "output_type": "stream",
          "text": [
            "13366it [22:44,  9.79it/s]\n"
          ],
          "name": "stderr"
        }
      ]
    },
    {
      "cell_type": "code",
      "metadata": {
        "id": "VMXtI9rlKATA"
      },
      "source": [
        "pred4 = pred"
      ],
      "execution_count": 50,
      "outputs": []
    },
    {
      "cell_type": "markdown",
      "metadata": {
        "id": "ZKVIFUyBPvJv"
      },
      "source": [
        "# resnet152 tta"
      ]
    },
    {
      "cell_type": "code",
      "metadata": {
        "id": "LYK3_lksPujg",
        "colab": {
          "base_uri": "https://localhost:8080/"
        },
        "outputId": "cb6eefc9-36ac-41fb-be2a-2012d223d8f6"
      },
      "source": [
        "df_valid = pd.read_table(CONFIG.VALID, sep=' ', header=None, names=['file','class'])\n",
        "\n",
        "size = 320\n",
        "transform_valid = transforms.Compose([transforms.CenterCrop(size), transforms.ToTensor()])\n",
        "\n",
        "dataset_valid = LFFdataset('./Val/', df_valid, transform_valid)\n",
        "dataloader = DataLoader(dataset_valid, batch_size=CONFIG.batch_size, shuffle=False, num_workers=CONFIG.num_of_worker)\n",
        "\n",
        "model = LFFmodel().to(device)\n",
        "PATH = '/content/drive/MyDrive/datas/last_resnetrs152.pth'\n",
        "checkpoint = torch.load(PATH)\n",
        "#model, optimizer = amp.initialize(model, optimizer, opt_level=opt_level)\n",
        "model.load_state_dict(checkpoint['model'])"
      ],
      "execution_count": 51,
      "outputs": [
        {
          "output_type": "execute_result",
          "data": {
            "text/plain": [
              "<All keys matched successfully>"
            ]
          },
          "metadata": {
            "tags": []
          },
          "execution_count": 51
        }
      ]
    },
    {
      "cell_type": "code",
      "metadata": {
        "id": "JeKxbsYAQCxs",
        "colab": {
          "base_uri": "https://localhost:8080/"
        },
        "outputId": "70b84454-f089-4dd1-8f14-b19a91b793aa"
      },
      "source": [
        "# DataLoaderからデータをバッチごとに取り出す\n",
        "N = len(df_valid)//CONFIG.batch_size\n",
        "\n",
        "model.eval()\n",
        "pred = np.array([])\n",
        "\n",
        "for inputs, labels in tqdm.tqdm(dataloader, total = N) :\n",
        "    inputs = inputs.to(device)\n",
        "    labels = labels.to(device)\n",
        "    with torch.no_grad():\n",
        "      outputs = model(inputs)\n",
        "      outputs = outputs.detach().cpu().numpy()\n",
        "      if len(pred) == 0 :\n",
        "        pred = outputs\n",
        "      else :\n",
        "        pred = np.concatenate([pred, outputs], axis=0)\n"
      ],
      "execution_count": 52,
      "outputs": [
        {
          "output_type": "stream",
          "text": [
            "13366it [23:08,  9.63it/s]\n"
          ],
          "name": "stderr"
        }
      ]
    },
    {
      "cell_type": "code",
      "metadata": {
        "id": "A6fJ1bV9WSpi"
      },
      "source": [
        "pred5 = pred"
      ],
      "execution_count": 53,
      "outputs": []
    },
    {
      "cell_type": "markdown",
      "metadata": {
        "id": "xTiY6jjyWOUu"
      },
      "source": [
        "# resnetrs 152 - horizontal flip"
      ]
    },
    {
      "cell_type": "code",
      "metadata": {
        "id": "p8IY7-xXQEqT",
        "colab": {
          "base_uri": "https://localhost:8080/"
        },
        "outputId": "0cb0ef9e-2aaf-45f1-ac62-e40c44482d74"
      },
      "source": [
        "df_valid = pd.read_table(CONFIG.VALID, sep=' ', header=None, names=['file','class'])\n",
        "\n",
        "size = 320\n",
        "transform_valid = transforms.Compose([transforms.Resize((size, size)), \n",
        "                                      transforms.ToTensor(),\n",
        "                                      torchvision.transforms.RandomHorizontalFlip(p=1.0)])\n",
        "\n",
        "dataset_valid = LFFdataset('./Val/', df_valid, transform_valid)\n",
        "dataloader = DataLoader(dataset_valid, batch_size=CONFIG.batch_size, shuffle=False, num_workers=CONFIG.num_of_worker)\n",
        "\n",
        "\n",
        "model = LFFmodel().to(device)\n",
        "PATH = '/content/drive/MyDrive/datas/last_resnetrs152.pth'\n",
        "checkpoint = torch.load(PATH)\n",
        "#model, optimizer = amp.initialize(model, optimizer, opt_level=opt_level)\n",
        "model.load_state_dict(checkpoint['model'])"
      ],
      "execution_count": 54,
      "outputs": [
        {
          "output_type": "execute_result",
          "data": {
            "text/plain": [
              "<All keys matched successfully>"
            ]
          },
          "metadata": {
            "tags": []
          },
          "execution_count": 54
        }
      ]
    },
    {
      "cell_type": "code",
      "metadata": {
        "id": "tzAgGwwnWW4e",
        "colab": {
          "base_uri": "https://localhost:8080/"
        },
        "outputId": "9dc19681-2670-4b39-9983-a263449b8e41"
      },
      "source": [
        "# DataLoaderからデータをバッチごとに取り出す\n",
        "N = len(df_valid)//CONFIG.batch_size\n",
        "\n",
        "model.eval()\n",
        "pred = np.array([])\n",
        "\n",
        "for inputs, labels in tqdm.tqdm(dataloader, total = N) :\n",
        "    inputs = inputs.to(device)\n",
        "    labels = labels.to(device)\n",
        "    with torch.no_grad():\n",
        "      outputs = model(inputs)\n",
        "      outputs = outputs.detach().cpu().numpy()\n",
        "      if len(pred) == 0 :\n",
        "        pred = outputs\n",
        "      else :\n",
        "        pred = np.concatenate([pred, outputs], axis=0)\n"
      ],
      "execution_count": 55,
      "outputs": [
        {
          "output_type": "stream",
          "text": [
            "13366it [22:50,  9.75it/s]\n"
          ],
          "name": "stderr"
        }
      ]
    },
    {
      "cell_type": "code",
      "metadata": {
        "id": "QTZZOEJmR6nK"
      },
      "source": [
        "pred6 = pred"
      ],
      "execution_count": 56,
      "outputs": []
    },
    {
      "cell_type": "markdown",
      "metadata": {
        "id": "6ja1HtIAY_SC"
      },
      "source": [
        "# resnetrs50"
      ]
    },
    {
      "cell_type": "code",
      "metadata": {
        "id": "x9inyBgBZTO-"
      },
      "source": [
        "class CONFIG :\n",
        "  VALID = '/content/label/val_finetune.txt'\n",
        "  num_of_worker = 2\n",
        "  base_model = 'resnetrs50'\n",
        "  batch_size = 8"
      ],
      "execution_count": 28,
      "outputs": []
    },
    {
      "cell_type": "code",
      "metadata": {
        "colab": {
          "base_uri": "https://localhost:8080/"
        },
        "id": "mrW8jOmoY-_1",
        "outputId": "8fc69ee3-f4af-4caf-cf39-15a7f9cfac9f"
      },
      "source": [
        "df_valid = pd.read_table(CONFIG.VALID, sep=' ', header=None, names=['file','class'])\n",
        "\n",
        "size = 320\n",
        "transform_valid = transforms.Compose([\n",
        "                                      transforms.Resize((size, size)), \n",
        "                                      transforms.ToTensor(),\n",
        "                                      transforms.Normalize(\n",
        "                                          mean=[0.485, 0.456, 0.406],\n",
        "                                          std=[0.229, 0.224, 0.225]\n",
        "                                      ),\n",
        "                                      ])\n",
        "\n",
        "dataset_valid = LFFdataset('./Val/', df_valid, transform_valid)\n",
        "dataloader = DataLoader(dataset_valid, batch_size=CONFIG.batch_size, shuffle=False, num_workers=CONFIG.num_of_worker)\n",
        "\n",
        "\n",
        "model = LFFmodel().to(device)\n",
        "PATH = '/content/drive/MyDrive/datas/last_resnetrs50.pth'\n",
        "checkpoint = torch.load(PATH)\n",
        "#model, optimizer = amp.initialize(model, optimizer, opt_level=opt_level)\n",
        "model.load_state_dict(checkpoint['model'])"
      ],
      "execution_count": 39,
      "outputs": [
        {
          "output_type": "execute_result",
          "data": {
            "text/plain": [
              "<All keys matched successfully>"
            ]
          },
          "metadata": {
            "tags": []
          },
          "execution_count": 39
        }
      ]
    },
    {
      "cell_type": "code",
      "metadata": {
        "colab": {
          "base_uri": "https://localhost:8080/"
        },
        "id": "9Bt6ME4kZEon",
        "outputId": "669facfb-1e23-4869-c12b-2a82b2c1dfa7"
      },
      "source": [
        "# DataLoaderからデータをバッチごとに取り出す\n",
        "N = len(df_valid)//CONFIG.batch_size\n",
        "\n",
        "model.eval()\n",
        "pred = np.array([])\n",
        "\n",
        "for inputs, labels in tqdm.tqdm(dataloader, total = N) :\n",
        "    inputs = inputs.to(device)\n",
        "    labels = labels.to(device)\n",
        "    with torch.no_grad():\n",
        "      outputs = model(inputs)\n",
        "      outputs = outputs.detach().cpu().numpy()\n",
        "      if len(pred) == 0 :\n",
        "        pred = outputs\n",
        "      else :\n",
        "        pred = np.concatenate([pred, outputs], axis=0)\n"
      ],
      "execution_count": 40,
      "outputs": [
        {
          "output_type": "stream",
          "text": [
            "6683it [10:15, 10.87it/s]\n"
          ],
          "name": "stderr"
        }
      ]
    },
    {
      "cell_type": "code",
      "metadata": {
        "id": "elUHcpf1ZHIG"
      },
      "source": [
        "pred7 = pred"
      ],
      "execution_count": 41,
      "outputs": []
    },
    {
      "cell_type": "markdown",
      "metadata": {
        "id": "Nto8Qul7eA4o"
      },
      "source": [
        "# resnet50 tta"
      ]
    },
    {
      "cell_type": "code",
      "metadata": {
        "colab": {
          "base_uri": "https://localhost:8080/"
        },
        "id": "wcmT7hKGeDt0",
        "outputId": "8a85b858-2dac-44a5-a3cf-791da68436a8"
      },
      "source": [
        "df_valid = pd.read_table(CONFIG.VALID, sep=' ', header=None, names=['file','class'])\n",
        "\n",
        "size = 320\n",
        "transform_valid = transforms.Compose([\n",
        "                                      transforms.CenterCrop(size), \n",
        "                                      transforms.ToTensor(),\n",
        "                                      transforms.Normalize(\n",
        "                                          mean=[0.485, 0.456, 0.406],\n",
        "                                          std=[0.229, 0.224, 0.225]\n",
        "                                      ),\n",
        "                                      ])\n",
        "\n",
        "dataset_valid = LFFdataset('./Val/', df_valid, transform_valid)\n",
        "dataloader = DataLoader(dataset_valid, batch_size=CONFIG.batch_size, shuffle=False, num_workers=CONFIG.num_of_worker)\n",
        "\n",
        "model = LFFmodel().to(device)\n",
        "PATH = '/content/drive/MyDrive/datas/last_resnetrs50.pth'\n",
        "checkpoint = torch.load(PATH)\n",
        "#model, optimizer = amp.initialize(model, optimizer, opt_level=opt_level)\n",
        "model.load_state_dict(checkpoint['model'])"
      ],
      "execution_count": 44,
      "outputs": [
        {
          "output_type": "execute_result",
          "data": {
            "text/plain": [
              "<All keys matched successfully>"
            ]
          },
          "metadata": {
            "tags": []
          },
          "execution_count": 44
        }
      ]
    },
    {
      "cell_type": "code",
      "metadata": {
        "colab": {
          "base_uri": "https://localhost:8080/"
        },
        "id": "hsb1RYyfeDae",
        "outputId": "28cbc70a-82bb-44cb-e818-18e8d35be4b5"
      },
      "source": [
        "# DataLoaderからデータをバッチごとに取り出す\n",
        "N = len(df_valid)//CONFIG.batch_size\n",
        "\n",
        "model.eval()\n",
        "pred = np.array([])\n",
        "\n",
        "for inputs, labels in tqdm.tqdm(dataloader, total = N) :\n",
        "    inputs = inputs.to(device)\n",
        "    labels = labels.to(device)\n",
        "    with torch.no_grad():\n",
        "      outputs = model(inputs)\n",
        "      outputs = outputs.detach().cpu().numpy()\n",
        "      if len(pred) == 0 :\n",
        "        pred = outputs\n",
        "      else :\n",
        "        pred = np.concatenate([pred, outputs], axis=0)\n"
      ],
      "execution_count": 45,
      "outputs": [
        {
          "output_type": "stream",
          "text": [
            "6683it [09:33, 11.66it/s]\n"
          ],
          "name": "stderr"
        }
      ]
    },
    {
      "cell_type": "code",
      "metadata": {
        "id": "Qx-26n9xedFn"
      },
      "source": [
        "pred8 = pred"
      ],
      "execution_count": 46,
      "outputs": []
    },
    {
      "cell_type": "markdown",
      "metadata": {
        "id": "qHeyFBh1DJhM"
      },
      "source": [
        "# resnet 270"
      ]
    },
    {
      "cell_type": "code",
      "metadata": {
        "id": "tbYGhB40DIlH"
      },
      "source": [
        "class CONFIG :\n",
        "  VALID = '/content/label/val_finetune.txt'\n",
        "  num_of_worker = 2\n",
        "  base_model = 'resnetrs270'\n",
        "  batch_size = 8"
      ],
      "execution_count": 11,
      "outputs": []
    },
    {
      "cell_type": "code",
      "metadata": {
        "colab": {
          "base_uri": "https://localhost:8080/"
        },
        "id": "IA4T3xTmDQI5",
        "outputId": "cb922005-bd2b-4753-a3f0-d966218ac548"
      },
      "source": [
        "df_valid = pd.read_table(CONFIG.VALID, sep=' ', header=None, names=['file','class'])\n",
        "\n",
        "size = 320\n",
        "transform_valid = transforms.Compose([\n",
        "                                      transforms.Resize((size, size)), \n",
        "                                      transforms.ToTensor(),\n",
        "                                      transforms.Normalize(\n",
        "                                          mean=[0.485, 0.456, 0.406],\n",
        "                                          std=[0.229, 0.224, 0.225]\n",
        "                                      ),\n",
        "                                      ])\n",
        "\n",
        "dataset_valid = LFFdataset('./Val/', df_valid, transform_valid)\n",
        "dataloader = DataLoader(dataset_valid, batch_size=CONFIG.batch_size, shuffle=False, num_workers=CONFIG.num_of_worker)\n",
        "\n",
        "\n",
        "model = LFFmodel().to(device)\n",
        "PATH = '/content/drive/MyDrive/datas/best_resnetrs270.pth'\n",
        "checkpoint = torch.load(PATH)\n",
        "#model, optimizer = amp.initialize(model, optimizer, opt_level=opt_level)\n",
        "model.load_state_dict(checkpoint['model'])"
      ],
      "execution_count": 12,
      "outputs": [
        {
          "output_type": "stream",
          "text": [
            "Downloading: \"https://github.com/rwightman/pytorch-image-models/releases/download/v0.1-rs-weights/resnetrs270_ema-b40e674c.pth\" to /root/.cache/torch/hub/checkpoints/resnetrs270_ema-b40e674c.pth\n"
          ],
          "name": "stderr"
        },
        {
          "output_type": "execute_result",
          "data": {
            "text/plain": [
              "<All keys matched successfully>"
            ]
          },
          "metadata": {
            "tags": []
          },
          "execution_count": 12
        }
      ]
    },
    {
      "cell_type": "code",
      "metadata": {
        "colab": {
          "base_uri": "https://localhost:8080/"
        },
        "id": "IKkRjCffDP5Y",
        "outputId": "8fbf8c2c-85a4-4813-c0f0-7851349108a0"
      },
      "source": [
        "# DataLoaderからデータをバッチごとに取り出す\n",
        "N = len(df_valid)//CONFIG.batch_size\n",
        "\n",
        "model.eval()\n",
        "pred = np.array([])\n",
        "\n",
        "for inputs, labels in tqdm.tqdm(dataloader, total = N) :\n",
        "    inputs = inputs.to(device)\n",
        "    labels = labels.to(device)\n",
        "    with torch.no_grad():\n",
        "      outputs = model(inputs)\n",
        "      outputs = outputs.detach().cpu().numpy()\n",
        "      if len(pred) == 0 :\n",
        "        pred = outputs\n",
        "      else :\n",
        "        pred = np.concatenate([pred, outputs], axis=0)\n"
      ],
      "execution_count": 13,
      "outputs": [
        {
          "output_type": "stream",
          "text": [
            "6683it [22:21,  4.98it/s]\n"
          ],
          "name": "stderr"
        }
      ]
    },
    {
      "cell_type": "code",
      "metadata": {
        "id": "12Xexp6VDPq8"
      },
      "source": [
        "pred9 = pred"
      ],
      "execution_count": 14,
      "outputs": []
    },
    {
      "cell_type": "markdown",
      "metadata": {
        "id": "uDcTguFnPH_6"
      },
      "source": [
        "# resnet270 tta"
      ]
    },
    {
      "cell_type": "code",
      "metadata": {
        "colab": {
          "base_uri": "https://localhost:8080/"
        },
        "id": "S9t0v6qdPI23",
        "outputId": "f584cbab-0833-4fb0-bf86-5c1c18565fb3"
      },
      "source": [
        "df_valid = pd.read_table(CONFIG.VALID, sep=' ', header=None, names=['file','class'])\n",
        "\n",
        "size = 320\n",
        "transform_valid = transforms.Compose([\n",
        "                                      transforms.CenterCrop(size), \n",
        "                                      transforms.ToTensor(),\n",
        "                                      transforms.Normalize(\n",
        "                                          mean=[0.485, 0.456, 0.406],\n",
        "                                          std=[0.229, 0.224, 0.225]\n",
        "                                      ),\n",
        "                                      ])\n",
        "\n",
        "dataset_valid = LFFdataset('./Val/', df_valid, transform_valid)\n",
        "dataloader = DataLoader(dataset_valid, batch_size=CONFIG.batch_size, shuffle=False, num_workers=CONFIG.num_of_worker)\n",
        "\n",
        "\n",
        "model = LFFmodel().to(device)\n",
        "PATH = '/content/drive/MyDrive/datas/best_resnetrs270.pth'\n",
        "checkpoint = torch.load(PATH)\n",
        "#model, optimizer = amp.initialize(model, optimizer, opt_level=opt_level)\n",
        "model.load_state_dict(checkpoint['model'])"
      ],
      "execution_count": 20,
      "outputs": [
        {
          "output_type": "execute_result",
          "data": {
            "text/plain": [
              "<All keys matched successfully>"
            ]
          },
          "metadata": {
            "tags": []
          },
          "execution_count": 20
        }
      ]
    },
    {
      "cell_type": "code",
      "metadata": {
        "colab": {
          "base_uri": "https://localhost:8080/"
        },
        "id": "fochi1dVPJmK",
        "outputId": "fded6ae1-b438-45d5-8c5b-e15f1e42f42b"
      },
      "source": [
        "# DataLoaderからデータをバッチごとに取り出す\n",
        "N = len(df_valid)//CONFIG.batch_size\n",
        "\n",
        "model.eval()\n",
        "pred = np.array([])\n",
        "\n",
        "for inputs, labels in tqdm.tqdm(dataloader, total = N) :\n",
        "    inputs = inputs.to(device)\n",
        "    labels = labels.to(device)\n",
        "    with torch.no_grad():\n",
        "      outputs = model(inputs)\n",
        "      outputs = outputs.detach().cpu().numpy()\n",
        "      if len(pred) == 0 :\n",
        "        pred = outputs\n",
        "      else :\n",
        "        pred = np.concatenate([pred, outputs], axis=0)\n"
      ],
      "execution_count": 21,
      "outputs": [
        {
          "output_type": "stream",
          "text": [
            "6683it [22:22,  4.98it/s]\n"
          ],
          "name": "stderr"
        }
      ]
    },
    {
      "cell_type": "code",
      "metadata": {
        "id": "Cg2Eo5RMPKUA"
      },
      "source": [
        "pred10 = pred"
      ],
      "execution_count": 22,
      "outputs": []
    },
    {
      "cell_type": "markdown",
      "metadata": {
        "id": "R4vAyxukxY5L"
      },
      "source": [
        "# アンサンブル optuna"
      ]
    },
    {
      "cell_type": "code",
      "metadata": {
        "id": "203ibEDRyUGr",
        "colab": {
          "base_uri": "https://localhost:8080/"
        },
        "outputId": "79c018a5-cd89-4130-ef06-f62806f3f43b"
      },
      "source": [
        "def objective(trial):\n",
        "    x1 = trial.suggest_uniform(\"x1\", 0, 1)\n",
        "    x2 = trial.suggest_uniform(\"x2\", 0, 1)\n",
        "    x3 = trial.suggest_uniform(\"x3\", 0, 1)\n",
        "    x4 = trial.suggest_uniform(\"x4\", 0, 1)\n",
        "    x5 = trial.suggest_uniform(\"x5\", 0, 1)\n",
        "    x6 = trial.suggest_uniform(\"x6\", 0, 1)\n",
        "    x7 = trial.suggest_uniform(\"x7\", 0, 1)\n",
        "    x8 = trial.suggest_uniform(\"x8\", 0, 1)\n",
        "    x9 = trial.suggest_uniform(\"x9\", 0, 1)\n",
        "    x10 = trial.suggest_uniform(\"x10\", 0, 1)\n",
        "    tot = x1 + x2 + x3 + x4 + x5 + x6 + x7 + x8 + x9 + x10\n",
        "    pred = x1*pred1 + x2*pred2 + x3*pred3 + x4*pred4 + x5*pred5 + x6*pred6 + x7*pred7 + x8*pred8 + x9*pred9 + x10*pred10\n",
        "    #ret = pred / tot\n",
        "    df = df_valid\n",
        "    df['pred1'] = np.argmax(pred, axis=1) \n",
        "    ret = sum(df['class']==df['pred1'])/len(df)\n",
        "    return ret\n",
        "\n",
        "study = optuna.create_study(direction=\"maximize\")\n",
        "study.optimize(objective, n_trials=100)\n",
        "\n",
        "# 探索後の最良値\n",
        "print(study.best_value) \n",
        "print(study.best_params) \n"
      ],
      "execution_count": 25,
      "outputs": [
        {
          "output_type": "stream",
          "text": [
            "\u001b[32m[I 2021-08-14 01:56:47,553]\u001b[0m A new study created in memory with name: no-name-2f60e6b4-3b98-46a1-8086-3c80824a96d5\u001b[0m\n",
            "\u001b[32m[I 2021-08-14 01:56:48,667]\u001b[0m Trial 0 finished with value: 0.8859937899816692 and parameters: {'x1': 0.5977429767181637, 'x2': 0.4228889927629924, 'x3': 0.4907897135467515, 'x4': 0.3168823169550675, 'x5': 0.4579734957983038, 'x6': 0.6576673006233527, 'x7': 0.22955340113243794, 'x8': 0.43937113836502173, 'x9': 0.21823235165829968, 'x10': 0.5956208212509834}. Best is trial 0 with value: 0.8859937899816692.\u001b[0m\n",
            "\u001b[32m[I 2021-08-14 01:56:49,580]\u001b[0m Trial 1 finished with value: 0.8842355317795818 and parameters: {'x1': 0.6652797213423173, 'x2': 0.1933457571739935, 'x3': 0.2363490736036995, 'x4': 0.8996700198064049, 'x5': 0.3996415095680472, 'x6': 0.8825829180475909, 'x7': 0.9046352365437823, 'x8': 0.45184048669338195, 'x9': 0.8059821206938713, 'x10': 0.06976622216859096}. Best is trial 0 with value: 0.8859937899816692.\u001b[0m\n",
            "\u001b[32m[I 2021-08-14 01:56:50,483]\u001b[0m Trial 2 finished with value: 0.880662900751936 and parameters: {'x1': 0.46973464116161223, 'x2': 0.711257640381242, 'x3': 0.8876353066180064, 'x4': 0.2866325593449136, 'x5': 0.7959249424687093, 'x6': 0.7421435228749821, 'x7': 0.09443195156542483, 'x8': 0.5968153675588602, 'x9': 0.0036516752098553207, 'x10': 0.08660679216267719}. Best is trial 0 with value: 0.8859937899816692.\u001b[0m\n",
            "\u001b[32m[I 2021-08-14 01:56:51,385]\u001b[0m Trial 3 finished with value: 0.8839549586622274 and parameters: {'x1': 0.4643315211245942, 'x2': 0.32421255924899006, 'x3': 0.022313584517986484, 'x4': 0.3690090218033343, 'x5': 0.730028064313147, 'x6': 0.511166394461237, 'x7': 0.8028916215727335, 'x8': 0.7830559026075126, 'x9': 0.5827790649865872, 'x10': 0.16183325793956427}. Best is trial 0 with value: 0.8859937899816692.\u001b[0m\n",
            "\u001b[32m[I 2021-08-14 01:56:52,291]\u001b[0m Trial 4 finished with value: 0.8855261681194119 and parameters: {'x1': 0.21833401335711566, 'x2': 0.15706525430253837, 'x3': 0.24338358383920067, 'x4': 0.126236714879015, 'x5': 0.8800810353422492, 'x6': 0.235379297746397, 'x7': 0.58404441271949, 'x8': 0.4224699235392204, 'x9': 0.9859175109299855, 'x10': 0.22789184605075363}. Best is trial 0 with value: 0.8859937899816692.\u001b[0m\n",
            "\u001b[32m[I 2021-08-14 01:56:53,188]\u001b[0m Trial 5 finished with value: 0.8846283341438779 and parameters: {'x1': 0.019348859642530636, 'x2': 0.6441647286940044, 'x3': 0.15241066465876496, 'x4': 0.5673111636581266, 'x5': 0.5967568092563393, 'x6': 0.11362339233954355, 'x7': 0.11901650223008786, 'x8': 0.23046177081901043, 'x9': 0.827068091391735, 'x10': 0.9984296760496624}. Best is trial 0 with value: 0.8859937899816692.\u001b[0m\n",
            "\u001b[32m[I 2021-08-14 01:56:54,095]\u001b[0m Trial 6 finished with value: 0.8822341102091205 and parameters: {'x1': 0.2732154379290651, 'x2': 0.4195860452011849, 'x3': 0.8517232650539732, 'x4': 0.49988625804395703, 'x5': 0.13897895214682954, 'x6': 0.22486827519734043, 'x7': 0.8669713970153065, 'x8': 0.13975590329519705, 'x9': 0.013054509127854441, 'x10': 0.2685444457368088}. Best is trial 0 with value: 0.8859937899816692.\u001b[0m\n",
            "\u001b[32m[I 2021-08-14 01:56:54,981]\u001b[0m Trial 7 finished with value: 0.8838801391642662 and parameters: {'x1': 0.8080616045940113, 'x2': 0.5993718720658466, 'x3': 0.9777524319875247, 'x4': 0.6313901323173526, 'x5': 0.27105599963380456, 'x6': 0.052050951874026974, 'x7': 0.9360480673314265, 'x8': 0.19466916207140783, 'x9': 0.9513687637057369, 'x10': 0.3862653145512299}. Best is trial 0 with value: 0.8859937899816692.\u001b[0m\n",
            "\u001b[32m[I 2021-08-14 01:56:55,880]\u001b[0m Trial 8 finished with value: 0.8817851932213535 and parameters: {'x1': 0.6173016423944997, 'x2': 0.8033416935283091, 'x3': 0.971172496219234, 'x4': 0.687585871412689, 'x5': 0.44945979643056055, 'x6': 0.5711397840718734, 'x7': 0.20455898917895898, 'x8': 0.6249450925211103, 'x9': 0.15114509521973907, 'x10': 0.17482549122421764}. Best is trial 0 with value: 0.8859937899816692.\u001b[0m\n",
            "\u001b[32m[I 2021-08-14 01:56:56,777]\u001b[0m Trial 9 finished with value: 0.8865362313418877 and parameters: {'x1': 0.20747686623595485, 'x2': 0.2305994981574968, 'x3': 0.7818484236522364, 'x4': 0.8692062223639865, 'x5': 0.2125751553365155, 'x6': 0.31577154080422654, 'x7': 0.25775222307802725, 'x8': 0.4422357501246811, 'x9': 0.7869693596045838, 'x10': 0.654482812636631}. Best is trial 9 with value: 0.8865362313418877.\u001b[0m\n",
            "\u001b[32m[I 2021-08-14 01:56:57,680]\u001b[0m Trial 10 finished with value: 0.8851707755040964 and parameters: {'x1': 0.05764887668398755, 'x2': 0.9993507657153727, 'x3': 0.625262662551223, 'x4': 0.9536086006374109, 'x5': 0.08623931071083962, 'x6': 0.36971329512083495, 'x7': 0.42748264105841144, 'x8': 0.9718910941748559, 'x9': 0.5465069470078588, 'x10': 0.7038848377973744}. Best is trial 9 with value: 0.8865362313418877.\u001b[0m\n",
            "\u001b[32m[I 2021-08-14 01:56:58,594]\u001b[0m Trial 11 finished with value: 0.8867980995847518 and parameters: {'x1': 0.3064844298597633, 'x2': 0.034001321984623245, 'x3': 0.5593979989778002, 'x4': 0.07452572391422618, 'x5': 0.27944314343893556, 'x6': 0.6691135193252764, 'x7': 0.31702115651529106, 'x8': 0.3412162353856856, 'x9': 0.32061387816136233, 'x10': 0.6405003032132537}. Best is trial 11 with value: 0.8867980995847518.\u001b[0m\n",
            "\u001b[32m[I 2021-08-14 01:56:59,502]\u001b[0m Trial 12 finished with value: 0.8863491825969848 and parameters: {'x1': 0.2676119470098715, 'x2': 0.0005998009506407234, 'x3': 0.6480559806360513, 'x4': 0.005607581697009784, 'x5': 0.25013552950700396, 'x6': 0.394563667378014, 'x7': 0.37894442485613233, 'x8': 0.3281269944088192, 'x9': 0.3812821336101081, 'x10': 0.7940709161492462}. Best is trial 11 with value: 0.8867980995847518.\u001b[0m\n",
            "\u001b[32m[I 2021-08-14 01:57:00,416]\u001b[0m Trial 13 finished with value: 0.8840484830346789 and parameters: {'x1': 0.9983870727949244, 'x2': 0.014985445488463922, 'x3': 0.4683838267455524, 'x4': 0.7583891771795764, 'x5': 0.019155056392366587, 'x6': 0.9882569052011203, 'x7': 0.5979153163524679, 'x8': 0.04000737530675075, 'x9': 0.4097167675956815, 'x10': 0.48874780907477006}. Best is trial 11 with value: 0.8867980995847518.\u001b[0m\n",
            "\u001b[32m[I 2021-08-14 01:57:01,332]\u001b[0m Trial 14 finished with value: 0.8859937899816692 and parameters: {'x1': 0.18195430312330027, 'x2': 0.20479937783771412, 'x3': 0.7084056128222675, 'x4': 0.8478139368647318, 'x5': 0.2559906711204016, 'x6': 0.7695324671249459, 'x7': 0.31788703104456784, 'x8': 0.635473034533538, 'x9': 0.6641955248686362, 'x10': 0.8636655321985399}. Best is trial 11 with value: 0.8867980995847518.\u001b[0m\n",
            "\u001b[32m[I 2021-08-14 01:57:02,244]\u001b[0m Trial 15 finished with value: 0.8867793947102615 and parameters: {'x1': 0.3680483155140807, 'x2': 0.11768131305400743, 'x3': 0.38625281545956797, 'x4': 0.16023342072788208, 'x5': 0.33867675819979504, 'x6': 0.4129221569035947, 'x7': 0.5149346741965529, 'x8': 0.32746920268480095, 'x9': 0.2814667697807677, 'x10': 0.6081521975015141}. Best is trial 11 with value: 0.8867980995847518.\u001b[0m\n",
            "\u001b[32m[I 2021-08-14 01:57:03,182]\u001b[0m Trial 16 finished with value: 0.886236953350043 and parameters: {'x1': 0.43519332248310444, 'x2': 0.08812714899015109, 'x3': 0.36441306568758314, 'x4': 0.1553697612742507, 'x5': 0.6060908656312, 'x6': 0.6098211307735718, 'x7': 0.7082327160394588, 'x8': 0.31059381859207685, 'x9': 0.27983570894534293, 'x10': 0.4948242427371946}. Best is trial 11 with value: 0.8867980995847518.\u001b[0m\n",
            "\u001b[32m[I 2021-08-14 01:57:04,105]\u001b[0m Trial 17 finished with value: 0.8849837267591935 and parameters: {'x1': 0.3314767840081425, 'x2': 0.33964853117247584, 'x3': 0.38029160755867225, 'x4': 0.003655916890289157, 'x5': 0.3477080372972766, 'x6': 0.4298581181247736, 'x7': 0.01532752125488801, 'x8': 0.05370200746500031, 'x9': 0.4085028391701432, 'x10': 0.8002720158289507}. Best is trial 11 with value: 0.8867980995847518.\u001b[0m\n",
            "\u001b[32m[I 2021-08-14 01:57:05,009]\u001b[0m Trial 18 finished with value: 0.8863491825969848 and parameters: {'x1': 0.3738580976536066, 'x2': 0.0842656646001218, 'x3': 0.5931435014190741, 'x4': 0.18313775922897468, 'x5': 0.5960779364572171, 'x6': 0.7307438377248922, 'x7': 0.5239620224064273, 'x8': 0.33612985751542473, 'x9': 0.3050880140881812, 'x10': 0.400328583284537}. Best is trial 11 with value: 0.8867980995847518.\u001b[0m\n",
            "\u001b[32m[I 2021-08-14 01:57:05,927]\u001b[0m Trial 19 finished with value: 0.885600987617373 and parameters: {'x1': 0.11464797807228155, 'x2': 0.29067995448083317, 'x3': 0.3988817148726303, 'x4': 0.42739708252371367, 'x5': 0.35868298391372266, 'x6': 0.5214956449752747, 'x7': 0.4443367166752322, 'x8': 0.5475698855006289, 'x9': 0.14838939165861895, 'x10': 0.5989632995406355}. Best is trial 11 with value: 0.8867980995847518.\u001b[0m\n",
            "\u001b[32m[I 2021-08-14 01:57:06,837]\u001b[0m Trial 20 finished with value: 0.8870225580786353 and parameters: {'x1': 0.5524491768983634, 'x2': 0.45977850158467937, 'x3': 0.5605124947597377, 'x4': 0.2148886748168166, 'x5': 0.9813385834678505, 'x6': 0.8574530498467011, 'x7': 0.6571404812230961, 'x8': 0.24696984335625957, 'x9': 0.47659071228471456, 'x10': 0.9339083330287066}. Best is trial 20 with value: 0.8870225580786353.\u001b[0m\n",
            "\u001b[32m[I 2021-08-14 01:57:07,745]\u001b[0m Trial 21 finished with value: 0.8869851483296547 and parameters: {'x1': 0.5471275378250278, 'x2': 0.4621852350105978, 'x3': 0.5184244409125031, 'x4': 0.21682077809309017, 'x5': 0.9819048206417881, 'x6': 0.8838856985373669, 'x7': 0.6818690247616404, 'x8': 0.25445878443725406, 'x9': 0.4799267610150734, 'x10': 0.97475252283203}. Best is trial 20 with value: 0.8870225580786353.\u001b[0m\n",
            "\u001b[32m[I 2021-08-14 01:57:08,659]\u001b[0m Trial 22 finished with value: 0.8874340653174217 and parameters: {'x1': 0.7224452505430647, 'x2': 0.519841155623221, 'x3': 0.5553915202771808, 'x4': 0.24566150741053216, 'x5': 0.9804098501293537, 'x6': 0.8696547650749282, 'x7': 0.7053558239358727, 'x8': 0.14707771739576012, 'x9': 0.48528990550635165, 'x10': 0.9700417047512258}. Best is trial 22 with value: 0.8874340653174217.\u001b[0m\n",
            "\u001b[32m[I 2021-08-14 01:57:09,570]\u001b[0m Trial 23 finished with value: 0.8869664434551644 and parameters: {'x1': 0.7378212897402752, 'x2': 0.5036938013833345, 'x3': 0.72269745902992, 'x4': 0.25647925601992877, 'x5': 0.9871770128877634, 'x6': 0.8886390591076021, 'x7': 0.7657756501712009, 'x8': 0.12695650839850064, 'x9': 0.47969204087554235, 'x10': 0.9944194068453465}. Best is trial 22 with value: 0.8874340653174217.\u001b[0m\n",
            "\u001b[32m[I 2021-08-14 01:57:10,486]\u001b[0m Trial 24 finished with value: 0.8872470165725188 and parameters: {'x1': 0.847853514016507, 'x2': 0.519625703908597, 'x3': 0.5388270785716096, 'x4': 0.2374197475360117, 'x5': 0.9531348214126077, 'x6': 0.8733844954897948, 'x7': 0.6877188072844818, 'x8': 0.19570192224514454, 'x9': 0.6617820680245193, 'x10': 0.9007483981956502}. Best is trial 22 with value: 0.8874340653174217.\u001b[0m\n",
            "\u001b[32m[I 2021-08-14 01:57:11,411]\u001b[0m Trial 25 finished with value: 0.8869477385806741 and parameters: {'x1': 0.8779434634163733, 'x2': 0.5496391168977992, 'x3': 0.4683359770306747, 'x4': 0.4382981578556895, 'x5': 0.8990852968625767, 'x6': 0.9702488787437984, 'x7': 0.6139522955895049, 'x8': 0.12681785734289971, 'x9': 0.6557760728398037, 'x10': 0.9011316658055504}. Best is trial 22 with value: 0.8874340653174217.\u001b[0m\n",
            "\u001b[32m[I 2021-08-14 01:57:12,324]\u001b[0m Trial 26 finished with value: 0.886424002094946 and parameters: {'x1': 0.8896398377793124, 'x2': 0.6587838467244386, 'x3': 0.673951534693631, 'x4': 0.3344707815691302, 'x5': 0.741163517847852, 'x6': 0.8130499586043907, 'x7': 0.6900450451898731, 'x8': 0.026483074528312583, 'x9': 0.6593939716493232, 'x10': 0.8991376912652115}. Best is trial 22 with value: 0.8874340653174217.\u001b[0m\n",
            "\u001b[32m[I 2021-08-14 01:57:13,229]\u001b[0m Trial 27 finished with value: 0.8859376753581983 and parameters: {'x1': 0.7210853063391419, 'x2': 0.7676219758805981, 'x3': 0.7745484103622304, 'x4': 0.09059128430771744, 'x5': 0.8916445196798961, 'x6': 0.8107104110676697, 'x7': 0.7975077142133189, 'x8': 0.18350747278678403, 'x9': 0.5783313234527343, 'x10': 0.7621826490381531}. Best is trial 22 with value: 0.8874340653174217.\u001b[0m\n",
            "\u001b[32m[I 2021-08-14 01:57:14,153]\u001b[0m Trial 28 finished with value: 0.8871534922000673 and parameters: {'x1': 0.7953954409635245, 'x2': 0.5434848958152847, 'x3': 0.574676993333592, 'x4': 0.39171713028235333, 'x5': 0.8122597725195179, 'x6': 0.9407081400623583, 'x7': 0.645637780398193, 'x8': 0.26085707215864273, 'x9': 0.720671175412295, 'x10': 0.8587224810090993}. Best is trial 22 with value: 0.8874340653174217.\u001b[0m\n",
            "\u001b[32m[I 2021-08-14 01:57:15,074]\u001b[0m Trial 29 finished with value: 0.8866110508398488 and parameters: {'x1': 0.9641661077143767, 'x2': 0.38369132573147513, 'x3': 0.29902840081701, 'x4': 0.379432446475582, 'x5': 0.8210869933775157, 'x6': 0.9444980144059774, 'x7': 0.7351577823059191, 'x8': 0.0759994648045518, 'x9': 0.7324656960134811, 'x10': 0.7327397881075082}. Best is trial 22 with value: 0.8874340653174217.\u001b[0m\n",
            "\u001b[32m[I 2021-08-14 01:57:16,001]\u001b[0m Trial 30 finished with value: 0.8871721970745576 and parameters: {'x1': 0.8170763144605765, 'x2': 0.5717543316679093, 'x3': 0.4797520640046186, 'x4': 0.5116003306069978, 'x5': 0.6708854412059041, 'x6': 0.6819244757327984, 'x7': 0.9891740960363686, 'x8': 0.7435045878576776, 'x9': 0.7360211258673809, 'x10': 0.7970503082075908}. Best is trial 22 with value: 0.8874340653174217.\u001b[0m\n",
            "\u001b[32m[I 2021-08-14 01:57:16,929]\u001b[0m Trial 31 finished with value: 0.8870599678276159 and parameters: {'x1': 0.7949793010017121, 'x2': 0.5730164046143422, 'x3': 0.4985491845510637, 'x4': 0.5266765866045489, 'x5': 0.7312313924136833, 'x6': 0.6463960920786223, 'x7': 0.9974659313617074, 'x8': 0.7846575582485817, 'x9': 0.8988263839752495, 'x10': 0.8489821493081389}. Best is trial 22 with value: 0.8874340653174217.\u001b[0m\n",
            "\u001b[32m[I 2021-08-14 01:57:17,850]\u001b[0m Trial 32 finished with value: 0.88668587033781 and parameters: {'x1': 0.8800071276367017, 'x2': 0.5162141776051666, 'x3': 0.44237773532518565, 'x4': 0.28405491449790626, 'x5': 0.8257665494744469, 'x6': 0.9186152380652015, 'x7': 0.85781405401409, 'x8': 0.7216197418901003, 'x9': 0.7617726784096073, 'x10': 0.8322852813374009}. Best is trial 22 with value: 0.8874340653174217.\u001b[0m\n",
            "\u001b[32m[I 2021-08-14 01:57:18,775]\u001b[0m Trial 33 finished with value: 0.887003853204145 and parameters: {'x1': 0.6568738280630011, 'x2': 0.635780474582667, 'x3': 0.5661241745859179, 'x4': 0.4545966860169157, 'x5': 0.6711708371336448, 'x6': 0.696841744063112, 'x7': 0.9933017801126566, 'x8': 0.9380887484761411, 'x9': 0.8678628640568447, 'x10': 0.9198256910015788}. Best is trial 22 with value: 0.8874340653174217.\u001b[0m\n",
            "\u001b[32m[I 2021-08-14 01:57:19,690]\u001b[0m Trial 34 finished with value: 0.8867045752123003 and parameters: {'x1': 0.8052170967789795, 'x2': 0.8416693181248819, 'x3': 0.3008145542737737, 'x4': 0.34642083549702474, 'x5': 0.9260859895411916, 'x6': 0.7961108786654091, 'x7': 0.833660885395224, 'x8': 0.8998491999304243, 'x9': 0.7163155199327624, 'x10': 0.690731382822026}. Best is trial 22 with value: 0.8874340653174217.\u001b[0m\n",
            "\u001b[32m[I 2021-08-14 01:57:20,611]\u001b[0m Trial 35 finished with value: 0.8869664434551644 and parameters: {'x1': 0.726186910458458, 'x2': 0.7148257685928954, 'x3': 0.6205564854470458, 'x4': 0.5760732693294237, 'x5': 0.7766333750415101, 'x6': 0.8488090296257418, 'x7': 0.5477271901014485, 'x8': 0.3980356774079213, 'x9': 0.6500999401280045, 'x10': 0.9427612939401437}. Best is trial 22 with value: 0.8874340653174217.\u001b[0m\n",
            "\u001b[32m[I 2021-08-14 01:57:21,536]\u001b[0m Trial 36 finished with value: 0.8873592458194606 and parameters: {'x1': 0.9386623869618733, 'x2': 0.6973263666166303, 'x3': 0.5111964294383434, 'x4': 0.39943841973605654, 'x5': 0.8461330201344833, 'x6': 0.7305594094906476, 'x7': 0.9202919494028925, 'x8': 0.5129202633350873, 'x9': 0.5630683040342399, 'x10': 0.8516367954823745}. Best is trial 22 with value: 0.8874340653174217.\u001b[0m\n",
            "\u001b[32m[I 2021-08-14 01:57:22,457]\u001b[0m Trial 37 finished with value: 0.8856945119898245 and parameters: {'x1': 0.9282943157673963, 'x2': 0.892571485457275, 'x3': 0.1764444686016367, 'x4': 0.28714098119336917, 'x5': 0.936808780776095, 'x6': 0.72406501975605, 'x7': 0.9241960419829485, 'x8': 0.5148417493966712, 'x9': 0.5538237361294198, 'x10': 0.0029702158685254165}. Best is trial 22 with value: 0.8874340653174217.\u001b[0m\n",
            "\u001b[32m[I 2021-08-14 01:57:23,379]\u001b[0m Trial 38 finished with value: 0.8866671654633197 and parameters: {'x1': 0.8505607336921623, 'x2': 0.7052860123826888, 'x3': 0.513635800612577, 'x4': 0.4914349241271053, 'x5': 0.6479341955598273, 'x6': 0.5857400810882957, 'x7': 0.8972211110159062, 'x8': 0.838711993585565, 'x9': 0.5172555583096516, 'x10': 0.7534142029942679}. Best is trial 22 with value: 0.8874340653174217.\u001b[0m\n",
            "\u001b[32m[I 2021-08-14 01:57:24,303]\u001b[0m Trial 39 finished with value: 0.8861995436010625 and parameters: {'x1': 0.9250058146518494, 'x2': 0.6095295611650067, 'x3': 0.04588405710371729, 'x4': 0.644225515516135, 'x5': 0.8557157573410299, 'x6': 0.7588992949717708, 'x7': 0.9553094115261553, 'x8': 0.7014404349021414, 'x9': 0.633099042988784, 'x10': 0.5578868030457182}. Best is trial 22 with value: 0.8874340653174217.\u001b[0m\n",
            "\u001b[32m[I 2021-08-14 01:57:25,219]\u001b[0m Trial 40 finished with value: 0.8867793947102615 and parameters: {'x1': 0.681012006760628, 'x2': 0.6858392557823603, 'x3': 0.43591011518143746, 'x4': 0.23824516872744061, 'x5': 0.5334919584527159, 'x6': 0.6284050309871176, 'x7': 0.791122581005047, 'x8': 0.5688575549534712, 'x9': 0.614039093432893, 'x10': 0.8200004342394804}. Best is trial 22 with value: 0.8874340653174217.\u001b[0m\n",
            "\u001b[32m[I 2021-08-14 01:57:26,122]\u001b[0m Trial 41 finished with value: 0.8872096068235382 and parameters: {'x1': 0.8241260278522129, 'x2': 0.5494663583845281, 'x3': 0.5300743868657232, 'x4': 0.3992597933614431, 'x5': 0.7887566372561037, 'x6': 0.920807611639216, 'x7': 0.6414326292565075, 'x8': 0.49048106782645584, 'x9': 0.7111735932752229, 'x10': 0.8791298077185682}. Best is trial 22 with value: 0.8874340653174217.\u001b[0m\n",
            "\u001b[32m[I 2021-08-14 01:57:27,026]\u001b[0m Trial 42 finished with value: 0.8868355093337323 and parameters: {'x1': 0.8422364058651799, 'x2': 0.4403491811450563, 'x3': 0.3185194381868134, 'x4': 0.3083323175805798, 'x5': 0.7711687578052264, 'x6': 0.8384491362267726, 'x7': 0.7514615118493639, 'x8': 0.678058096264804, 'x9': 0.835620150064254, 'x10': 0.9577700432898871}. Best is trial 22 with value: 0.8874340653174217.\u001b[0m\n",
            "\u001b[32m[I 2021-08-14 01:57:27,935]\u001b[0m Trial 43 finished with value: 0.8872096068235382 and parameters: {'x1': 0.7602915298806538, 'x2': 0.7511608716624494, 'x3': 0.5096204830260139, 'x4': 0.5843327459769727, 'x5': 0.6765262713353319, 'x6': 0.9103734665025598, 'x7': 0.8372828337220047, 'x8': 0.49657045051697496, 'x9': 0.7654134375406949, 'x10': 0.8849829249704521}. Best is trial 22 with value: 0.8874340653174217.\u001b[0m\n",
            "\u001b[32m[I 2021-08-14 01:57:28,849]\u001b[0m Trial 44 finished with value: 0.88732183607048 and parameters: {'x1': 0.763093038168674, 'x2': 0.757342847336996, 'x3': 0.6667966466606384, 'x4': 0.5873653231498375, 'x5': 0.8784047401348365, 'x6': 0.8823920873899055, 'x7': 0.7234259429877161, 'x8': 0.4627241123845484, 'x9': 0.7906644516620329, 'x10': 0.9059173869928743}. Best is trial 22 with value: 0.8874340653174217.\u001b[0m\n",
            "\u001b[32m[I 2021-08-14 01:57:29,757]\u001b[0m Trial 45 finished with value: 0.8863117728480042 and parameters: {'x1': 0.6634271574265048, 'x2': 0.8934151566435384, 'x3': 0.7808708120932102, 'x4': 0.7094780297310052, 'x5': 0.9418467429893665, 'x6': 0.9998090231492281, 'x7': 0.5643270959879332, 'x8': 0.3804549151367098, 'x9': 0.8110041370634746, 'x10': 0.992927744942802}. Best is trial 22 with value: 0.8874340653174217.\u001b[0m\n",
            "\u001b[32m[I 2021-08-14 01:57:30,676]\u001b[0m Trial 46 finished with value: 0.8876211140623247 and parameters: {'x1': 0.7493393178067067, 'x2': 0.7957041108672764, 'x3': 0.6822722272783655, 'x4': 0.5954120740811615, 'x5': 0.8588400258772443, 'x6': 0.9117123576927785, 'x7': 0.836568514913059, 'x8': 0.465532925254744, 'x9': 0.9581591759438299, 'x10': 0.9167355392622901}. Best is trial 46 with value: 0.8876211140623247.\u001b[0m\n",
            "\u001b[32m[I 2021-08-14 01:57:31,603]\u001b[0m Trial 47 finished with value: 0.8870599678276159 and parameters: {'x1': 0.6018266858467363, 'x2': 0.8358775835519561, 'x3': 0.9085270207439906, 'x4': 0.6526399144099825, 'x5': 0.8570122031553801, 'x6': 0.7707798681180397, 'x7': 0.8917786998893736, 'x8': 0.4310803014069309, 'x9': 0.9632931547395641, 'x10': 0.9441463283090709}. Best is trial 46 with value: 0.8876211140623247.\u001b[0m\n",
            "\u001b[32m[I 2021-08-14 01:57:32,538]\u001b[0m Trial 48 finished with value: 0.8857132168643148 and parameters: {'x1': 0.9803446695259226, 'x2': 0.9178142961880824, 'x3': 0.6994741626303039, 'x4': 0.7540046145880757, 'x5': 0.9260395281602168, 'x6': 0.8759400226167631, 'x7': 0.7326611598824578, 'x8': 0.1837162492528528, 'x9': 0.9223303124928122, 'x10': 0.32267116568654086}. Best is trial 46 with value: 0.8876211140623247.\u001b[0m\n",
            "\u001b[32m[I 2021-08-14 01:57:33,465]\u001b[0m Trial 49 finished with value: 0.8863678874714751 and parameters: {'x1': 0.7645214150837429, 'x2': 0.7769004010737321, 'x3': 0.7418598847785093, 'x4': 0.5645728910436902, 'x5': 0.8596138608886671, 'x6': 0.8175627947325822, 'x7': 0.8463505921889003, 'x8': 0.45253972597037556, 'x9': 0.4365349431936214, 'x10': 0.691839274612873}. Best is trial 46 with value: 0.8876211140623247.\u001b[0m\n",
            "\u001b[32m[I 2021-08-14 01:57:34,380]\u001b[0m Trial 50 finished with value: 0.8866110508398488 and parameters: {'x1': 0.6984509706651881, 'x2': 0.9510053913965016, 'x3': 0.8343226706884062, 'x4': 0.6026043210967192, 'x5': 0.9967591552681508, 'x6': 0.9602519554334737, 'x7': 0.801852037247041, 'x8': 0.628928014258465, 'x9': 0.8464848238426786, 'x10': 0.7637703217894416}. Best is trial 46 with value: 0.8876211140623247.\u001b[0m\n",
            "\u001b[32m[I 2021-08-14 01:57:35,304]\u001b[0m Trial 51 finished with value: 0.8874153604429315 and parameters: {'x1': 0.7666449563800508, 'x2': 0.7362705254367337, 'x3': 0.6471991490486706, 'x4': 0.6940385521315063, 'x5': 0.9054058069853792, 'x6': 0.915338711219851, 'x7': 0.8301185710771344, 'x8': 0.48575180601485257, 'x9': 0.7975337504644506, 'x10': 0.8855851681499488}. Best is trial 46 with value: 0.8876211140623247.\u001b[0m\n",
            "\u001b[32m[I 2021-08-14 01:57:36,235]\u001b[0m Trial 52 finished with value: 0.8873966555684412 and parameters: {'x1': 0.6302383932200512, 'x2': 0.8115885745494729, 'x3': 0.6544957616381519, 'x4': 0.824579605296786, 'x5': 0.8989747398313469, 'x6': 0.8682076653525421, 'x7': 0.8809651653057299, 'x8': 0.5873893687842762, 'x9': 0.8817804594644344, 'x10': 0.9122992657286414}. Best is trial 46 with value: 0.8876211140623247.\u001b[0m\n",
            "\u001b[32m[I 2021-08-14 01:57:37,156]\u001b[0m Trial 53 finished with value: 0.8872657214470091 and parameters: {'x1': 0.5634904207173955, 'x2': 0.8271874450144536, 'x3': 0.6398395572897216, 'x4': 0.838431455378618, 'x5': 0.8910801598855533, 'x6': 0.999440806696619, 'x7': 0.943149781182925, 'x8': 0.5833396767220733, 'x9': 0.9908415379854252, 'x10': 0.844056910931127}. Best is trial 46 with value: 0.8876211140623247.\u001b[0m\n",
            "\u001b[32m[I 2021-08-14 01:57:38,070]\u001b[0m Trial 54 finished with value: 0.8868729190827129 and parameters: {'x1': 0.5238452610066983, 'x2': 0.7319110561620303, 'x3': 0.670963510660458, 'x4': 0.7945153364683996, 'x5': 0.8388721117973815, 'x6': 0.23080751858341464, 'x7': 0.8851085195024073, 'x8': 0.5396773645575277, 'x9': 0.9164736148737309, 'x10': 0.9464090387462389}. Best is trial 46 with value: 0.8876211140623247.\u001b[0m\n",
            "\u001b[32m[I 2021-08-14 01:57:38,990]\u001b[0m Trial 55 finished with value: 0.8870599678276159 and parameters: {'x1': 0.6497999010620507, 'x2': 0.808543462088958, 'x3': 0.601586469843415, 'x4': 0.9868838266823937, 'x5': 0.9000744409542384, 'x6': 0.9091672604772866, 'x7': 0.8351661488085164, 'x8': 0.4838866099711009, 'x9': 0.8795157145731614, 'x10': 0.9953376789023411}. Best is trial 46 with value: 0.8876211140623247.\u001b[0m\n",
            "\u001b[32m[I 2021-08-14 01:57:39,892]\u001b[0m Trial 56 finished with value: 0.8869103288316935 and parameters: {'x1': 0.7030737004801326, 'x2': 0.6814112754796868, 'x3': 0.8257674984019141, 'x4': 0.6957532016763869, 'x5': 0.7564204484919621, 'x6': 0.7791328289912329, 'x7': 0.9559786703469602, 'x8': 0.3881729197654649, 'x9': 0.7910309247070526, 'x10': 0.8158823323755058}. Best is trial 46 with value: 0.8876211140623247.\u001b[0m\n",
            "\u001b[32m[I 2021-08-14 01:57:40,802]\u001b[0m Trial 57 finished with value: 0.8869851483296547 and parameters: {'x1': 0.47205000254208973, 'x2': 0.7802020123467408, 'x3': 0.658246250448052, 'x4': 0.9368400184843639, 'x5': 0.9584283550079827, 'x6': 0.1641654529096115, 'x7': 0.7668092595772533, 'x8': 0.6530507820374731, 'x9': 0.944800164485243, 'x10': 0.918490086722769}. Best is trial 46 with value: 0.8876211140623247.\u001b[0m\n",
            "\u001b[32m[I 2021-08-14 01:57:41,729]\u001b[0m Trial 58 finished with value: 0.8868542142082226 and parameters: {'x1': 0.7475832069528281, 'x2': 0.8627829087529012, 'x3': 0.7524440046289482, 'x4': 0.743508331271729, 'x5': 0.44746618229201257, 'x6': 0.46661699651655303, 'x7': 0.8680264356966396, 'x8': 0.6054338287239919, 'x9': 0.860021679536962, 'x10': 0.8666179021651617}. Best is trial 46 with value: 0.8876211140623247.\u001b[0m\n",
            "\u001b[32m[I 2021-08-14 01:57:42,659]\u001b[0m Trial 59 finished with value: 0.8869477385806741 and parameters: {'x1': 0.6121548373268672, 'x2': 0.6360828342859434, 'x3': 0.7040773298745764, 'x4': 0.8042676063923712, 'x5': 0.7185470767044023, 'x6': 0.7219727678338856, 'x7': 0.9171506163168444, 'x8': 0.28817093574457375, 'x9': 0.35496308625530926, 'x10': 0.9639775348075218}. Best is trial 46 with value: 0.8876211140623247.\u001b[0m\n",
            "\u001b[32m[I 2021-08-14 01:57:43,591]\u001b[0m Trial 60 finished with value: 0.8850772511316449 and parameters: {'x1': 0.7754755923943158, 'x2': 0.7395772886323102, 'x3': 0.6064203446092665, 'x4': 0.897013123399268, 'x5': 0.8678873270097668, 'x6': 0.8435966428677143, 'x7': 0.7196838441752924, 'x8': 0.5359820972047404, 'x9': 0.23326296921348616, 'x10': 0.16229198834455322}. Best is trial 46 with value: 0.8876211140623247.\u001b[0m\n",
            "\u001b[32m[I 2021-08-14 01:57:44,525]\u001b[0m Trial 61 finished with value: 0.8871534922000673 and parameters: {'x1': 0.5635131827223783, 'x2': 0.9854385657303528, 'x3': 0.6434828940510794, 'x4': 0.8553530575769118, 'x5': 0.9058959812383489, 'x6': 0.9860826018450566, 'x7': 0.9522177731016753, 'x8': 0.5783308199593802, 'x9': 0.987430691084545, 'x10': 0.8442785514343043}. Best is trial 46 with value: 0.8876211140623247.\u001b[0m\n",
            "\u001b[32m[I 2021-08-14 01:57:45,448]\u001b[0m Trial 62 finished with value: 0.8873592458194606 and parameters: {'x1': 0.6314151089960841, 'x2': 0.8107122078977153, 'x3': 0.6374098895788002, 'x4': 0.8065763983424056, 'x5': 0.8932060547780809, 'x6': 0.932094009820259, 'x7': 0.923373035206351, 'x8': 0.4581537101952102, 'x9': 0.9884356522497809, 'x10': 0.9114226075486789}. Best is trial 46 with value: 0.8876211140623247.\u001b[0m\n",
            "\u001b[32m[I 2021-08-14 01:57:46,381]\u001b[0m Trial 63 finished with value: 0.887452770191912 and parameters: {'x1': 0.6278596169469991, 'x2': 0.8693725907511061, 'x3': 0.5781232547966121, 'x4': 0.6580955903246095, 'x5': 0.9649102746666821, 'x6': 0.9350390636842428, 'x7': 0.8123878670021739, 'x8': 0.4612654817602377, 'x9': 0.9611083847241868, 'x10': 0.9040783531899762}. Best is trial 46 with value: 0.8876211140623247.\u001b[0m\n",
            "\u001b[32m[I 2021-08-14 01:57:47,310]\u001b[0m Trial 64 finished with value: 0.886816804459242 and parameters: {'x1': 0.6421735450851607, 'x2': 0.941669225215171, 'x3': 0.584795759968403, 'x4': 0.7242638141063027, 'x5': 0.9594432404591254, 'x6': 0.9511786768218838, 'x7': 0.8134474643396503, 'x8': 0.3724018234098765, 'x9': 0.951562950653192, 'x10': 0.7750202361099742}. Best is trial 46 with value: 0.8876211140623247.\u001b[0m\n",
            "\u001b[32m[I 2021-08-14 01:57:48,222]\u001b[0m Trial 65 finished with value: 0.887134787325577 and parameters: {'x1': 0.6243520873719932, 'x2': 0.8705725084144074, 'x3': 0.5516792734403246, 'x4': 0.7954935504821388, 'x5': 0.8107275085915131, 'x6': 0.9158209055929756, 'x7': 0.7758044924758316, 'x8': 0.4258209801805425, 'x9': 0.9051782223887209, 'x10': 0.7228470159088186}. Best is trial 46 with value: 0.8876211140623247.\u001b[0m\n",
            "\u001b[32m[I 2021-08-14 01:57:49,141]\u001b[0m Trial 66 finished with value: 0.8869664434551644 and parameters: {'x1': 0.5063433819166088, 'x2': 0.8004510676075949, 'x3': 0.6928423683044395, 'x4': 0.6689533898243909, 'x5': 0.9168378779853328, 'x6': 0.021563346672647477, 'x7': 0.8702626718944998, 'x8': 0.5181215659452278, 'x9': 0.9963433455494476, 'x10': 0.966625645041209}. Best is trial 46 with value: 0.8876211140623247.\u001b[0m\n",
            "\u001b[32m[I 2021-08-14 01:57:50,070]\u001b[0m Trial 67 finished with value: 0.8868729190827129 and parameters: {'x1': 0.5848643043695476, 'x2': 0.797482417385329, 'x3': 0.7304344650197184, 'x4': 0.7692635060683592, 'x5': 0.9697855937257508, 'x6': 0.9507015437520674, 'x7': 0.46489061470204496, 'x8': 0.46563005663999923, 'x9': 0.9314146373169554, 'x10': 0.8845375288224414}. Best is trial 46 with value: 0.8876211140623247.\u001b[0m\n",
            "\u001b[32m[I 2021-08-14 01:57:50,995]\u001b[0m Trial 68 finished with value: 0.8867045752123003 and parameters: {'x1': 0.42332811332220116, 'x2': 0.8456166265187327, 'x3': 0.8057420460926978, 'x4': 0.6197538628242439, 'x5': 0.9999360874590779, 'x6': 0.3377514881653513, 'x7': 0.9031613262251396, 'x8': 0.41687918239304234, 'x9': 0.8913090540398289, 'x10': 0.439080892823967}. Best is trial 46 with value: 0.8876211140623247.\u001b[0m\n",
            "\u001b[32m[I 2021-08-14 01:57:51,925]\u001b[0m Trial 69 finished with value: 0.8873966555684412 and parameters: {'x1': 0.6888684567800936, 'x2': 0.667611640214832, 'x3': 0.4377586783966101, 'x4': 0.5402677207095665, 'x5': 0.8456377190111284, 'x6': 0.8298039568361861, 'x7': 0.8158334599963607, 'x8': 0.5617194584637437, 'x9': 0.960193324586585, 'x10': 0.9185822097992409}. Best is trial 46 with value: 0.8876211140623247.\u001b[0m\n",
            "\u001b[32m[I 2021-08-14 01:57:52,853]\u001b[0m Trial 70 finished with value: 0.887452770191912 and parameters: {'x1': 0.7015385159754741, 'x2': 0.61008842578193, 'x3': 0.6238709635118752, 'x4': 0.5405133673756084, 'x5': 0.9440682994506371, 'x6': 0.8336638059196564, 'x7': 0.8179390049767881, 'x8': 0.5564775055005503, 'x9': 0.9627983258822436, 'x10': 0.9181247212219914}. Best is trial 46 with value: 0.8876211140623247.\u001b[0m\n",
            "\u001b[32m[I 2021-08-14 01:57:53,775]\u001b[0m Trial 71 finished with value: 0.8875088848153829 and parameters: {'x1': 0.6907024318960895, 'x2': 0.6043662816373405, 'x3': 0.6015802035715183, 'x4': 0.5506993650661258, 'x5': 0.9426599862956387, 'x6': 0.8176549669752204, 'x7': 0.8154929872770318, 'x8': 0.6068252787572068, 'x9': 0.9682988063099692, 'x10': 0.9232930040173059}. Best is trial 46 with value: 0.8876211140623247.\u001b[0m\n",
            "\u001b[32m[I 2021-08-14 01:57:54,692]\u001b[0m Trial 72 finished with value: 0.88732183607048 and parameters: {'x1': 0.7108970048615021, 'x2': 0.6027248697972362, 'x3': 0.4213896240343028, 'x4': 0.5461660640649376, 'x5': 0.9482940813539531, 'x6': 0.8408358122801765, 'x7': 0.8248594268924117, 'x8': 0.6674076894626394, 'x9': 0.9634056070098577, 'x10': 0.9235689734571486}. Best is trial 46 with value: 0.8876211140623247.\u001b[0m\n",
            "\u001b[32m[I 2021-08-14 01:57:55,602]\u001b[0m Trial 73 finished with value: 0.88732183607048 and parameters: {'x1': 0.6807811614431516, 'x2': 0.6610141646675494, 'x3': 0.47369697184040577, 'x4': 0.526606616098301, 'x5': 0.929462280751603, 'x6': 0.8071606194712733, 'x7': 0.7927926860498776, 'x8': 0.610940694452474, 'x9': 0.9639885231453815, 'x10': 0.9760130447040536}. Best is trial 46 with value: 0.8876211140623247.\u001b[0m\n",
            "\u001b[32m[I 2021-08-14 01:57:56,517]\u001b[0m Trial 74 finished with value: 0.8869290337061838 and parameters: {'x1': 0.737077301731981, 'x2': 0.4788969381145126, 'x3': 0.6158434466062926, 'x4': 0.48948796409066336, 'x5': 0.9721436180154104, 'x6': 0.8903569993405495, 'x7': 0.16652782897079632, 'x8': 0.6413723434439123, 'x9': 0.8229845499839373, 'x10': 0.9372331784497023}. Best is trial 46 with value: 0.8876211140623247.\u001b[0m\n",
            "\u001b[32m[I 2021-08-14 01:57:57,445]\u001b[0m Trial 75 finished with value: 0.8873779506939509 and parameters: {'x1': 0.6808663731023676, 'x2': 0.6191250460033302, 'x3': 0.5526469647215395, 'x4': 0.6191365200869793, 'x5': 0.9147165978683425, 'x6': 0.8621114875075827, 'x7': 0.7571268349923448, 'x8': 0.5503576136120214, 'x9': 0.8789097361408442, 'x10': 0.878512322985951}. Best is trial 46 with value: 0.8876211140623247.\u001b[0m\n",
            "\u001b[32m[I 2021-08-14 01:57:58,370]\u001b[0m Trial 76 finished with value: 0.8873031311959897 and parameters: {'x1': 0.5971644978280258, 'x2': 0.5868997268377978, 'x3': 0.5801653074784475, 'x4': 0.4598953749714957, 'x5': 0.8021646551123561, 'x6': 0.823692786386191, 'x7': 0.6790942362153537, 'x8': 0.5647127822612585, 'x9': 0.9275288564832165, 'x10': 0.7914657817920127}. Best is trial 46 with value: 0.8876211140623247.\u001b[0m\n",
            "\u001b[32m[I 2021-08-14 01:57:59,297]\u001b[0m Trial 77 finished with value: 0.8864801167184169 and parameters: {'x1': 0.7251603499393439, 'x2': 0.6642198877326375, 'x3': 0.6880860839338926, 'x4': 0.5527206359639179, 'x5': 0.19406228139358256, 'x6': 0.7854676257747546, 'x7': 0.8599472556070467, 'x8': 0.7629415296145886, 'x9': 0.9019999098816424, 'x10': 0.8241970160265693}. Best is trial 46 with value: 0.8876211140623247.\u001b[0m\n",
            "\u001b[32m[I 2021-08-14 01:58:00,220]\u001b[0m Trial 78 finished with value: 0.8867606898357712 and parameters: {'x1': 0.6976118573908308, 'x2': 0.7265324709637382, 'x3': 0.45559134025929277, 'x4': 0.6729251048859803, 'x5': 0.8334041057577631, 'x6': 0.7488678358124748, 'x7': 0.8168426899552406, 'x8': 0.6951706545896916, 'x9': 0.8538440376027584, 'x10': 0.5492463354173355}. Best is trial 46 with value: 0.8876211140623247.\u001b[0m\n",
            "\u001b[32m[I 2021-08-14 01:58:01,129]\u001b[0m Trial 79 finished with value: 0.8859376753581983 and parameters: {'x1': 0.7747133891305086, 'x2': 0.4116652997290108, 'x3': 0.35559161964323216, 'x4': 0.6374087431002126, 'x5': 0.9718063639608818, 'x6': 0.8914526771994463, 'x7': 0.6126312634601176, 'x8': 0.6005642627966574, 'x9': 0.08973690703770698, 'x10': 0.6484508325395739}. Best is trial 46 with value: 0.8876211140623247.\u001b[0m\n",
            "\u001b[32m[I 2021-08-14 01:58:02,036]\u001b[0m Trial 80 finished with value: 0.8873966555684412 and parameters: {'x1': 0.7922801331169259, 'x2': 0.5667354153492314, 'x3': 0.4146492490321, 'x4': 0.48798435306000676, 'x5': 0.8729061198856272, 'x6': 0.7015431338065263, 'x7': 0.7858461054111442, 'x8': 0.5206734429933113, 'x9': 0.5251370985687547, 'x10': 0.8973349043882358}. Best is trial 46 with value: 0.8876211140623247.\u001b[0m\n",
            "\u001b[32m[I 2021-08-14 01:58:02,958]\u001b[0m Trial 81 finished with value: 0.8872657214470091 and parameters: {'x1': 0.793702525588734, 'x2': 0.5224568679532421, 'x3': 0.4097875391351184, 'x4': 0.4929036953490223, 'x5': 0.8694243115086757, 'x6': 0.8596639339924941, 'x7': 0.78499313190879, 'x8': 0.5260299071265476, 'x9': 0.530890926715893, 'x10': 0.8944178990060115}. Best is trial 46 with value: 0.8876211140623247.\u001b[0m\n",
            "\u001b[32m[I 2021-08-14 01:58:03,864]\u001b[0m Trial 82 finished with value: 0.88668587033781 and parameters: {'x1': 0.6635563580812159, 'x2': 0.5572883411944424, 'x3': 0.5376919354005906, 'x4': 0.6113131147557394, 'x5': 0.9363250085770085, 'x6': 0.9698609636359958, 'x7': 0.7469574966585164, 'x8': 0.00817804508901257, 'x9': 0.43835403948116713, 'x10': 0.9748910708793588}. Best is trial 46 with value: 0.8876211140623247.\u001b[0m\n",
            "\u001b[32m[I 2021-08-14 01:58:04,772]\u001b[0m Trial 83 finished with value: 0.8874340653174217 and parameters: {'x1': 0.8276860893631162, 'x2': 0.6253870822302764, 'x3': 0.591734152118427, 'x4': 0.4665599476672934, 'x5': 0.9995102996093158, 'x6': 0.698256826255613, 'x7': 0.8799732988428276, 'x8': 0.5542300697460322, 'x9': 0.9651746978249962, 'x10': 0.9262247655850901}. Best is trial 46 with value: 0.8876211140623247.\u001b[0m\n",
            "\u001b[32m[I 2021-08-14 01:58:05,685]\u001b[0m Trial 84 finished with value: 0.8870225580786353 and parameters: {'x1': 0.8305004051560976, 'x2': 0.4907141200368947, 'x3': 0.3457465932085629, 'x4': 0.42324525077910813, 'x5': 0.9798277533802268, 'x6': 0.526572211372409, 'x7': 0.6924829607707237, 'x8': 0.49391005860612386, 'x9': 0.9600282520449864, 'x10': 0.99718272470372}. Best is trial 46 with value: 0.8876211140623247.\u001b[0m\n",
            "\u001b[32m[I 2021-08-14 01:58:06,603]\u001b[0m Trial 85 finished with value: 0.8865175264673975 and parameters: {'x1': 0.8686721638671604, 'x2': 0.626653860310689, 'x3': 0.4899359115657655, 'x4': 0.5201792434388428, 'x5': 0.9989391545606586, 'x6': 0.7027376756360366, 'x7': 0.8512551582991106, 'x8': 0.35724363189061603, 'x9': 0.9709385519810964, 'x10': 0.12180227702971225}. Best is trial 46 with value: 0.8876211140623247.\u001b[0m\n",
            "\u001b[32m[I 2021-08-14 01:58:07,513]\u001b[0m Trial 86 finished with value: 0.8873592458194606 and parameters: {'x1': 0.7874521444740665, 'x2': 0.5776711562593385, 'x3': 0.6135992975750929, 'x4': 0.4705470777343004, 'x5': 0.9471263177135005, 'x6': 0.6482248303217789, 'x7': 0.8216703353642407, 'x8': 0.5495662045789315, 'x9': 0.6048557237244745, 'x10': 0.8681798809704613}. Best is trial 46 with value: 0.8876211140623247.\u001b[0m\n",
            "\u001b[32m[I 2021-08-14 01:58:08,440]\u001b[0m Trial 87 finished with value: 0.8873592458194606 and parameters: {'x1': 0.7431593497467575, 'x2': 0.6846967451947699, 'x3': 0.5877968245591092, 'x4': 0.5523558254196561, 'x5': 0.9135275780674751, 'x6': 0.8245594734264928, 'x7': 0.878419732488487, 'x8': 0.5787258734968256, 'x9': 0.9321308103160098, 'x10': 0.9314883339674664}. Best is trial 46 with value: 0.8876211140623247.\u001b[0m\n",
            "\u001b[32m[I 2021-08-14 01:58:09,357]\u001b[0m Trial 88 finished with value: 0.8875275896898732 and parameters: {'x1': 0.8073474364393145, 'x2': 0.6517096653219026, 'x3': 0.5254726202316036, 'x4': 0.594331167487159, 'x5': 0.8774116364385518, 'x6': 0.6027775135471998, 'x7': 0.7829058482796861, 'x8': 0.47684692422212693, 'x9': 0.6948480343578085, 'x10': 0.9543479323664287}. Best is trial 46 with value: 0.8876211140623247.\u001b[0m\n",
            "\u001b[32m[I 2021-08-14 01:58:10,280]\u001b[0m Trial 89 finished with value: 0.8876959335602859 and parameters: {'x1': 0.8042727675822595, 'x2': 0.5317776493054536, 'x3': 0.5670412768073269, 'x4': 0.649086896709438, 'x5': 0.8752888940008074, 'x6': 0.5573150385007948, 'x7': 0.7717965497804117, 'x8': 0.4801557161845649, 'x9': 0.6965793453602516, 'x10': 0.9530145237044476}. Best is trial 89 with value: 0.8876959335602859.\u001b[0m\n",
            "\u001b[32m[I 2021-08-14 01:58:11,200]\u001b[0m Trial 90 finished with value: 0.887134787325577 and parameters: {'x1': 0.8918803120178808, 'x2': 0.5317762266456804, 'x3': 0.5698459257901192, 'x4': 0.6703826675687204, 'x5': 0.558422596893019, 'x6': 0.5534132615780435, 'x7': 0.7466472773882681, 'x8': 0.09367811847929147, 'x9': 0.7579370988635314, 'x10': 0.9536361971337056}. Best is trial 89 with value: 0.8876959335602859.\u001b[0m\n",
            "\u001b[32m[I 2021-08-14 01:58:12,102]\u001b[0m Trial 91 finished with value: 0.8875088848153829 and parameters: {'x1': 0.8558807367679968, 'x2': 0.6492357229919493, 'x3': 0.5308187731336057, 'x4': 0.5934079072062196, 'x5': 0.8386253369662565, 'x6': 0.60497460362489, 'x7': 0.7097218708943241, 'x8': 0.4723775046895995, 'x9': 0.6732751980087357, 'x10': 0.9702168308241695}. Best is trial 89 with value: 0.8876959335602859.\u001b[0m\n",
            "\u001b[32m[I 2021-08-14 01:58:13,036]\u001b[0m Trial 92 finished with value: 0.8874340653174217 and parameters: {'x1': 0.8586389439789404, 'x2': 0.6481690648694692, 'x3': 0.5325267128466306, 'x4': 0.5965536211415778, 'x5': 0.9506523073234925, 'x6': 0.6075713093617345, 'x7': 0.7232127139171849, 'x8': 0.47635002440050817, 'x9': 0.6925896593853927, 'x10': 0.9625658355631087}. Best is trial 89 with value: 0.8876959335602859.\u001b[0m\n",
            "\u001b[32m[I 2021-08-14 01:58:13,959]\u001b[0m Trial 93 finished with value: 0.8874714750664023 and parameters: {'x1': 0.8596068439055161, 'x2': 0.6007757445028279, 'x3': 0.5292083534316724, 'x4': 0.5892090095444085, 'x5': 0.956203343643783, 'x6': 0.6102064997637416, 'x7': 0.7024807897158774, 'x8': 0.4625327435685963, 'x9': 0.6865706660698695, 'x10': 0.9651987589527115}. Best is trial 89 with value: 0.8876959335602859.\u001b[0m\n",
            "\u001b[32m[I 2021-08-14 01:58:14,884]\u001b[0m Trial 94 finished with value: 0.8875275896898732 and parameters: {'x1': 0.8969782131868465, 'x2': 0.5899915289731429, 'x3': 0.5265773080785306, 'x4': 0.6047577779567992, 'x5': 0.9502755893335904, 'x6': 0.5990051072561288, 'x7': 0.6632035754450786, 'x8': 0.4053397022560899, 'x9': 0.6885218176655803, 'x10': 0.9618711547308814}. Best is trial 89 with value: 0.8876959335602859.\u001b[0m\n",
            "\u001b[32m[I 2021-08-14 01:58:15,806]\u001b[0m Trial 95 finished with value: 0.8873966555684412 and parameters: {'x1': 0.9084886343770597, 'x2': 0.5889952259799616, 'x3': 0.5349205933439539, 'x4': 0.5949490634719892, 'x5': 0.935748617112311, 'x6': 0.5978821603846691, 'x7': 0.6683540552633045, 'x8': 0.41412185308268956, 'x9': 0.6933778916923161, 'x10': 0.9684174010556236}. Best is trial 89 with value: 0.8876959335602859.\u001b[0m\n",
            "\u001b[32m[I 2021-08-14 01:58:16,726]\u001b[0m Trial 96 finished with value: 0.8875088848153829 and parameters: {'x1': 0.9513512182323249, 'x2': 0.6487400660428576, 'x3': 0.49118868369525176, 'x4': 0.6463588783936883, 'x5': 0.8799557596702529, 'x6': 0.623558447766315, 'x7': 0.6380960931090152, 'x8': 0.4725990663720495, 'x9': 0.6845021861112187, 'x10': 0.9929832086527738}. Best is trial 89 with value: 0.8876959335602859.\u001b[0m\n",
            "\u001b[32m[I 2021-08-14 01:58:17,650]\u001b[0m Trial 97 finished with value: 0.8873405409449703 and parameters: {'x1': 0.9532438349450979, 'x2': 0.5003719648381919, 'x3': 0.49958053378940437, 'x4': 0.6505479933264375, 'x5': 0.823274258086095, 'x6': 0.5585524904416459, 'x7': 0.6352841944739728, 'x8': 0.4336253131017956, 'x9': 0.6964101900938666, 'x10': 0.9926723995930375}. Best is trial 89 with value: 0.8876959335602859.\u001b[0m\n",
            "\u001b[32m[I 2021-08-14 01:58:18,575]\u001b[0m Trial 98 finished with value: 0.887639818936815 and parameters: {'x1': 0.9994538833352197, 'x2': 0.6130645589109311, 'x3': 0.46530389626093394, 'x4': 0.5639732996694009, 'x5': 0.88321821941732, 'x6': 0.4806553493698466, 'x7': 0.7017999400026276, 'x8': 0.3952324431304781, 'x9': 0.6575912663788085, 'x10': 0.9438992160986426}. Best is trial 89 with value: 0.8876959335602859.\u001b[0m\n",
            "\u001b[32m[I 2021-08-14 01:58:19,501]\u001b[0m Trial 99 finished with value: 0.8874901799408926 and parameters: {'x1': 0.9930090369528705, 'x2': 0.45800123891143346, 'x3': 0.4537243962028403, 'x4': 0.5747580895059129, 'x5': 0.8753815384162403, 'x6': 0.5084367958438829, 'x7': 0.6003989451092449, 'x8': 0.30863937103254935, 'x9': 0.6292816202281599, 'x10': 0.9465454187802433}. Best is trial 89 with value: 0.8876959335602859.\u001b[0m\n"
          ],
          "name": "stderr"
        },
        {
          "output_type": "stream",
          "text": [
            "0.8876959335602859\n",
            "{'x1': 0.8042727675822595, 'x2': 0.5317776493054536, 'x3': 0.5670412768073269, 'x4': 0.649086896709438, 'x5': 0.8752888940008074, 'x6': 0.5573150385007948, 'x7': 0.7717965497804117, 'x8': 0.4801557161845649, 'x9': 0.6965793453602516, 'x10': 0.9530145237044476}\n"
          ],
          "name": "stdout"
        }
      ]
    },
    {
      "cell_type": "markdown",
      "metadata": {
        "id": "Pk8HoHWx4o-t"
      },
      "source": [
        "# 単体チェック"
      ]
    },
    {
      "cell_type": "code",
      "metadata": {
        "id": "s_5goGh56YYY"
      },
      "source": [
        "df = df_valid\n",
        "df['pred1'] = np.argmax(pred, axis=1)"
      ],
      "execution_count": 23,
      "outputs": []
    },
    {
      "cell_type": "code",
      "metadata": {
        "id": "M7S-e7T_CZix",
        "colab": {
          "base_uri": "https://localhost:8080/"
        },
        "outputId": "6d9d65cc-ed00-406d-aca7-19e952450843"
      },
      "source": [
        "sum(df['class']==df['pred1'])/len(df)"
      ],
      "execution_count": 24,
      "outputs": [
        {
          "output_type": "execute_result",
          "data": {
            "text/plain": [
              "0.8316748344618607"
            ]
          },
          "metadata": {
            "tags": []
          },
          "execution_count": 24
        }
      ]
    },
    {
      "cell_type": "code",
      "metadata": {
        "id": "TobkerV_CbFt"
      },
      "source": [
        "# 0.8208260072574913 org b7 320\n",
        "# 0.8299165762597733 tta b7 320\n",
        "# 0.8460401780704051 mix b7 320\n",
        "# 0.8481538288878082 org res152 320\n",
        "# 0.8459653585724439 tta res152 320\n",
        "# 0.8623134188769593 mix res152 320\n",
        "# 0.8714601025027122 mix b7 b7tta res152 320\n",
        "# 0.8793909692865961 mix b7 b7tta res152 res152tta 320\n",
        "# 0.8796902472784408 min b7 b7tta res152 res152tta res152flip 320\n",
        "# 0.8801765740151883\n",
        "# 0.880475852007033\n",
        "# 0.8817103737233923\n",
        "# 0.8818974224682953\n",
        "# 0.8849837267591935\n",
        "# 0.8876959335602859"
      ],
      "execution_count": 62,
      "outputs": []
    },
    {
      "cell_type": "code",
      "metadata": {
        "id": "lUsiJz0IvCOH"
      },
      "source": [
        "import pickle\n",
        "with open('/content/drive/MyDrive/datas/dump.pkl', 'wb') as wr:\n",
        "  pickle.dump(pred1, wr)\n",
        "  pickle.dump(pred2, wr)\n",
        "  pickle.dump(pred3, wr)\n",
        "  pickle.dump(pred4, wr)\n",
        "  pickle.dump(pred5, wr)\n",
        "  pickle.dump(pred6, wr)\n",
        "  pickle.dump(pred7, wr)\n",
        "  pickle.dump(pred8, wr)"
      ],
      "execution_count": 50,
      "outputs": []
    },
    {
      "cell_type": "code",
      "metadata": {
        "id": "2U2FGaLBvxN1"
      },
      "source": [
        "import pickle\n",
        "with open('/content/drive/MyDrive/datas/dump.pkl', 'rb') as rd:\n",
        "  pred1 = pickle.load(rd)\n",
        "  pred2 = pickle.load(rd)\n",
        "  pred3 = pickle.load(rd)\n",
        "  pred4 = pickle.load(rd)\n",
        "  pred5 = pickle.load(rd)\n",
        "  pred6 = pickle.load(rd)\n",
        "  pred7 = pickle.load(rd)\n",
        "  pred8 = pickle.load(rd)\n"
      ],
      "execution_count": 17,
      "outputs": []
    },
    {
      "cell_type": "code",
      "metadata": {
        "id": "zGNX0sdf9miR"
      },
      "source": [
        ""
      ],
      "execution_count": 64,
      "outputs": []
    }
  ]
}